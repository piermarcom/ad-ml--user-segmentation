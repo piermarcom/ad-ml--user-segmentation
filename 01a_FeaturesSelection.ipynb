{
 "cells": [
  {
   "cell_type": "code",
   "execution_count": 1,
   "metadata": {},
   "outputs": [],
   "source": [
    "import pandas as pd\n",
    "import sys\n",
    "import adobe_analytics as aa\n",
    "from adobe_analytics import Client, ReportDefinition\n",
    "import numpy as np\n",
    "import matplotlib.pyplot as plt"
   ]
  },
  {
   "cell_type": "markdown",
   "metadata": {},
   "source": [
    "# 0. Authentication, Metrics, and Segments"
   ]
  },
  {
   "cell_type": "code",
   "execution_count": 2,
   "metadata": {},
   "outputs": [],
   "source": [
    "# authenticate and obtain all report suites\n",
    "client = Client('piermarco.milione@adevinta.com:Schibsted Spain', '89c7a04782709c99eb9b78df2eff5044')\n",
    "suites = client.suites()"
   ]
  },
  {
   "cell_type": "code",
   "execution_count": 3,
   "metadata": {
    "scrolled": true
   },
   "outputs": [
    {
     "name": "stdout",
     "output_type": "stream",
     "text": [
      "Choosen RS:\n",
      "(RAW) RealEstate Fotocasa (schibstedspainrefotocasaprod)\n"
     ]
    }
   ],
   "source": [
    "print('Choosen RS:')\n",
    "print(suites['schibstedspainrefotocasaprod'])"
   ]
  },
  {
   "cell_type": "code",
   "execution_count": 4,
   "metadata": {},
   "outputs": [],
   "source": [
    "# select the report suite and create dataframe for metrics and segments\n",
    "suite = suites[\"schibstedspainrefotocasaprod\"]\n",
    "df_metrics = pd.DataFrame(suite.metrics()).T\n",
    "df_metrics = df_metrics.reset_index(drop=True)\n",
    "df_segments = pd.DataFrame(suite.segments()).T\n",
    "df_segments = df_segments.reset_index(drop=True)\n",
    "df_dimensions = pd.DataFrame(suite.dimensions()).T\n",
    "df_dimensions = df_dimensions.reset_index(drop=True)\n",
    "all_metrics = list(df_metrics.id)\n",
    "all_dim = list(df_dimensions.id)\n",
    "lista_de_eventos = df_metrics[df_metrics.id.str.startswith('event')]"
   ]
  },
  {
   "cell_type": "code",
   "execution_count": 5,
   "metadata": {},
   "outputs": [
    {
     "data": {
      "text/html": [
       "<div>\n",
       "<style scoped>\n",
       "    .dataframe tbody tr th:only-of-type {\n",
       "        vertical-align: middle;\n",
       "    }\n",
       "\n",
       "    .dataframe tbody tr th {\n",
       "        vertical-align: top;\n",
       "    }\n",
       "\n",
       "    .dataframe thead th {\n",
       "        text-align: right;\n",
       "    }\n",
       "</style>\n",
       "<table border=\"1\" class=\"dataframe\">\n",
       "  <thead>\n",
       "    <tr style=\"text-align: right;\">\n",
       "      <th></th>\n",
       "      <th>name</th>\n",
       "      <th>id</th>\n",
       "    </tr>\n",
       "  </thead>\n",
       "  <tbody>\n",
       "    <tr>\n",
       "      <th>0</th>\n",
       "      <td>Device: Mobile</td>\n",
       "      <td>s2165_57a07fade4b08d1648f6dd1d</td>\n",
       "    </tr>\n",
       "    <tr>\n",
       "      <th>1</th>\n",
       "      <td>Exclude Out of Spain and 0 Seconds</td>\n",
       "      <td>s2165_5e14600684a5013f91a387b4</td>\n",
       "    </tr>\n",
       "    <tr>\n",
       "      <th>2</th>\n",
       "      <td>CCAA Navarra</td>\n",
       "      <td>s2165_5ee7690ff4886e6b8fdb71aa</td>\n",
       "    </tr>\n",
       "    <tr>\n",
       "      <th>3</th>\n",
       "      <td>CCAA País Vasco</td>\n",
       "      <td>s2165_5ee76a2b1c252a31a7606f61</td>\n",
       "    </tr>\n",
       "    <tr>\n",
       "      <th>4</th>\n",
       "      <td>CCAA Ceuta y Melilla</td>\n",
       "      <td>s2165_5ee76ada96a3e319aee613be</td>\n",
       "    </tr>\n",
       "    <tr>\n",
       "      <th>5</th>\n",
       "      <td>Visits without pages</td>\n",
       "      <td>s2165_5ef07ead84a50140b07f7d89</td>\n",
       "    </tr>\n",
       "    <tr>\n",
       "      <th>6</th>\n",
       "      <td>Pisos para Comprar</td>\n",
       "      <td>s2165_5d6541dec2645611d677472a</td>\n",
       "    </tr>\n",
       "    <tr>\n",
       "      <th>7</th>\n",
       "      <td>Test Anunciante Frecuente - Grupo A</td>\n",
       "      <td>s2165_5de689eff4886e016fe09e11</td>\n",
       "    </tr>\n",
       "    <tr>\n",
       "      <th>8</th>\n",
       "      <td>Has an address</td>\n",
       "      <td>s2165_5e732781e9eaeb705a3f3748</td>\n",
       "    </tr>\n",
       "    <tr>\n",
       "      <th>9</th>\n",
       "      <td>CCAA Madrid</td>\n",
       "      <td>s2165_5ee768ec34ab6a2375a23f1b</td>\n",
       "    </tr>\n",
       "    <tr>\n",
       "      <th>10</th>\n",
       "      <td>First 6 Positions</td>\n",
       "      <td>s2165_5e73d51534ab6a69a41b147d</td>\n",
       "    </tr>\n",
       "    <tr>\n",
       "      <th>11</th>\n",
       "      <td>Custom Test AB Segment - Original</td>\n",
       "      <td>s2165_5e8dda15d6f7510aa878f064</td>\n",
       "    </tr>\n",
       "    <tr>\n",
       "      <th>12</th>\n",
       "      <td>Custom Test AB Segment - Variation</td>\n",
       "      <td>s2165_5e8de51c2b1c172db5735949</td>\n",
       "    </tr>\n",
       "    <tr>\n",
       "      <th>13</th>\n",
       "      <td>Visits with Ad Favorited</td>\n",
       "      <td>s2165_5e9f577363b02a2d0df6776f</td>\n",
       "    </tr>\n",
       "    <tr>\n",
       "      <th>14</th>\n",
       "      <td>Visit with Alert Added</td>\n",
       "      <td>s2165_5e9f5fa78d55e546d8f81a1b</td>\n",
       "    </tr>\n",
       "    <tr>\n",
       "      <th>15</th>\n",
       "      <td>Segmento Renters (Listado)</td>\n",
       "      <td>s2165_5ea03c20bed663190a8b3610</td>\n",
       "    </tr>\n",
       "    <tr>\n",
       "      <th>16</th>\n",
       "      <td>CCAA Murcia</td>\n",
       "      <td>s2165_5ee7690041bd55193a6d1be1</td>\n",
       "    </tr>\n",
       "    <tr>\n",
       "      <th>17</th>\n",
       "      <td>CCAA La Rioja</td>\n",
       "      <td>s2165_5ee768d4f4886e6b8fdb71a9</td>\n",
       "    </tr>\n",
       "    <tr>\n",
       "      <th>18</th>\n",
       "      <td>Visits with leads SH</td>\n",
       "      <td>s2165_5ea0607ef6454c2bd0d474c6</td>\n",
       "    </tr>\n",
       "    <tr>\n",
       "      <th>19</th>\n",
       "      <td>CCAA Asturias</td>\n",
       "      <td>s2165_5ee765fa1c252a31a7606f55</td>\n",
       "    </tr>\n",
       "    <tr>\n",
       "      <th>20</th>\n",
       "      <td>Candidatos (push one shoot Mercadona)</td>\n",
       "      <td>s2165_5eb5547bbed663512aae70ed</td>\n",
       "    </tr>\n",
       "    <tr>\n",
       "      <th>21</th>\n",
       "      <td>CCAA Cataluña</td>\n",
       "      <td>s2165_5ec6802c34ab6a3325630c82</td>\n",
       "    </tr>\n",
       "    <tr>\n",
       "      <th>22</th>\n",
       "      <td>CCAA Andalucia</td>\n",
       "      <td>s2165_5ec680d1d6f75133ed7760df</td>\n",
       "    </tr>\n",
       "    <tr>\n",
       "      <th>23</th>\n",
       "      <td>Traffic Source Paid</td>\n",
       "      <td>s2165_5ee09de71c252a6da28bf41d</td>\n",
       "    </tr>\n",
       "    <tr>\n",
       "      <th>24</th>\n",
       "      <td>Traffic Source No Paid</td>\n",
       "      <td>s2165_5ee09e3af6454c1edaf770c3</td>\n",
       "    </tr>\n",
       "    <tr>\n",
       "      <th>25</th>\n",
       "      <td>CCAA Aragon</td>\n",
       "      <td>s2165_5ee765a2f4886e6b8fdb71a0</td>\n",
       "    </tr>\n",
       "    <tr>\n",
       "      <th>26</th>\n",
       "      <td>CCAA Baleares</td>\n",
       "      <td>s2165_5ee7662941bd55193a6d1bdb</td>\n",
       "    </tr>\n",
       "    <tr>\n",
       "      <th>27</th>\n",
       "      <td>CCAA Galicia</td>\n",
       "      <td>s2165_5ee768b163b02a599e411517</td>\n",
       "    </tr>\n",
       "    <tr>\n",
       "      <th>28</th>\n",
       "      <td>CCAA Canarias</td>\n",
       "      <td>s2165_5ee7667e8907f83c7d62f99b</td>\n",
       "    </tr>\n",
       "    <tr>\n",
       "      <th>29</th>\n",
       "      <td>CCAA Cantabria</td>\n",
       "      <td>s2165_5ee766bdbed6633037931235</td>\n",
       "    </tr>\n",
       "    <tr>\n",
       "      <th>30</th>\n",
       "      <td>CCAA Castilla la Mancha</td>\n",
       "      <td>s2165_5ee7679084a501335c9b2bd4</td>\n",
       "    </tr>\n",
       "    <tr>\n",
       "      <th>31</th>\n",
       "      <td>CCAA Castilla y León</td>\n",
       "      <td>s2165_5ee7680a8907f83c7d62f9a3</td>\n",
       "    </tr>\n",
       "    <tr>\n",
       "      <th>32</th>\n",
       "      <td>CCAA Valencia</td>\n",
       "      <td>s2165_5ee768332b1c1726438ff287</td>\n",
       "    </tr>\n",
       "    <tr>\n",
       "      <th>33</th>\n",
       "      <td>CCAA Extremadura</td>\n",
       "      <td>s2165_5ee768758cb6945dbb6b8d91</td>\n",
       "    </tr>\n",
       "    <tr>\n",
       "      <th>34</th>\n",
       "      <td>SH</td>\n",
       "      <td>s2165_5ea0601d41bd552e6f4977a0</td>\n",
       "    </tr>\n",
       "    <tr>\n",
       "      <th>35</th>\n",
       "      <td>Visits with Ad Favorited - HIT</td>\n",
       "      <td>s2165_5ea06be98cb6944b9b1259ad</td>\n",
       "    </tr>\n",
       "    <tr>\n",
       "      <th>36</th>\n",
       "      <td>Email IJ Push (old version) (atribución visita)</td>\n",
       "      <td>s2165_5eb54154bed663512aae70cb</td>\n",
       "    </tr>\n",
       "    <tr>\n",
       "      <th>37</th>\n",
       "      <td>Test Anunciante Frecuente - Grupo B</td>\n",
       "      <td>s2165_5de689ca0aa5c334d03dc69d</td>\n",
       "    </tr>\n",
       "    <tr>\n",
       "      <th>38</th>\n",
       "      <td>All alerts (Push + email)</td>\n",
       "      <td>s2165_5d8884a696a3e3082ca02c81</td>\n",
       "    </tr>\n",
       "    <tr>\n",
       "      <th>39</th>\n",
       "      <td>Exclude Visit page Account Your Properties</td>\n",
       "      <td>s2165_5d949efe9da6950b0e1fb652</td>\n",
       "    </tr>\n",
       "    <tr>\n",
       "      <th>40</th>\n",
       "      <td>filter by \"product catalog to cart\"</td>\n",
       "      <td>s2165_5da44eb71c252a437a4349cc</td>\n",
       "    </tr>\n",
       "    <tr>\n",
       "      <th>41</th>\n",
       "      <td>Product TOP Viewed</td>\n",
       "      <td>s2165_5da836e363b02a7d9adc7ce7</td>\n",
       "    </tr>\n",
       "    <tr>\n",
       "      <th>42</th>\n",
       "      <td>Saw TOP and click through</td>\n",
       "      <td>s2165_5da839ef7e678d6840e4f4f1</td>\n",
       "    </tr>\n",
       "    <tr>\n",
       "      <th>43</th>\n",
       "      <td>Saw other than TOP and click through</td>\n",
       "      <td>s2165_5da89ce1f4886e0ab40fcacd</td>\n",
       "    </tr>\n",
       "    <tr>\n",
       "      <th>44</th>\n",
       "      <td>[EATM] - Todos los envíos</td>\n",
       "      <td>s2165_5e67b126f4886e03307cc6d9</td>\n",
       "    </tr>\n",
       "    <tr>\n",
       "      <th>45</th>\n",
       "      <td>Visit with Ad Engagement (Q2 definition)</td>\n",
       "      <td>s2165_5ef0b4ce41bd5539f5f142a8</td>\n",
       "    </tr>\n",
       "    <tr>\n",
       "      <th>46</th>\n",
       "      <td>Address informed</td>\n",
       "      <td>s2165_5e73255e22803d793fd034bb</td>\n",
       "    </tr>\n",
       "    <tr>\n",
       "      <th>47</th>\n",
       "      <td>Visits with Alert Added Button Clicked (App's)</td>\n",
       "      <td>s2165_5e9f5ff32b1c1754d376dbbe</td>\n",
       "    </tr>\n",
       "    <tr>\n",
       "      <th>48</th>\n",
       "      <td>Visitors with Mortage Button Clicked</td>\n",
       "      <td>s2165_5ea198d3bed663190a8b37e6</td>\n",
       "    </tr>\n",
       "    <tr>\n",
       "      <th>49</th>\n",
       "      <td>Filter Balcony</td>\n",
       "      <td>s2165_5eb03d1f41bd5554ac733e43</td>\n",
       "    </tr>\n",
       "    <tr>\n",
       "      <th>50</th>\n",
       "      <td>UU with Leads in List</td>\n",
       "      <td>s2165_5ebc023c9da6956cf21a5b72</td>\n",
       "    </tr>\n",
       "    <tr>\n",
       "      <th>51</th>\n",
       "      <td>Renters List</td>\n",
       "      <td>s2165_5ed7a96b7e678d02afc35c94</td>\n",
       "    </tr>\n",
       "    <tr>\n",
       "      <th>52</th>\n",
       "      <td>Visits which are leads (call phone + email)</td>\n",
       "      <td>s2165_5d6fca96b6905b4052927fd3</td>\n",
       "    </tr>\n",
       "    <tr>\n",
       "      <th>53</th>\n",
       "      <td>Users with more than 10 visits</td>\n",
       "      <td>s2165_5ee08b3f9da6953941777a77</td>\n",
       "    </tr>\n",
       "    <tr>\n",
       "      <th>54</th>\n",
       "      <td>Ad Favourited exists AND Page Name = list</td>\n",
       "      <td>s2165_5ea06d4784a5017b60812340</td>\n",
       "    </tr>\n",
       "    <tr>\n",
       "      <th>55</th>\n",
       "      <td>Exclude Fresh Content</td>\n",
       "      <td>s2165_5eb132da9da6953578d77ea8</td>\n",
       "    </tr>\n",
       "    <tr>\n",
       "      <th>56</th>\n",
       "      <td>UU with Ad Favorited in List</td>\n",
       "      <td>s2165_5ea06e888907f832ad45ee61</td>\n",
       "    </tr>\n",
       "    <tr>\n",
       "      <th>57</th>\n",
       "      <td>PS</td>\n",
       "      <td>s2165_5ea2ae9a63b02a56d1f635b8</td>\n",
       "    </tr>\n",
       "    <tr>\n",
       "      <th>58</th>\n",
       "      <td>Wrong SharedAd tracking codes</td>\n",
       "      <td>s2165_5ea7e9b9bed663190a8b3c21</td>\n",
       "    </tr>\n",
       "    <tr>\n",
       "      <th>59</th>\n",
       "      <td>Premium variable exists</td>\n",
       "      <td>s2165_5eaa72ba7e678d6081780b60</td>\n",
       "    </tr>\n",
       "    <tr>\n",
       "      <th>60</th>\n",
       "      <td>Filter Garden</td>\n",
       "      <td>s2165_5eb0401784a50170994198f2</td>\n",
       "    </tr>\n",
       "    <tr>\n",
       "      <th>61</th>\n",
       "      <td>Filter Piscina</td>\n",
       "      <td>s2165_5eb0415090f904110637c158</td>\n",
       "    </tr>\n",
       "    <tr>\n",
       "      <th>62</th>\n",
       "      <td>UU with Ad Discarded in List</td>\n",
       "      <td>s2165_5ebc0164e9eaeb7a6ec85f10</td>\n",
       "    </tr>\n",
       "    <tr>\n",
       "      <th>63</th>\n",
       "      <td>Users with 5-10 visits</td>\n",
       "      <td>s2165_5ee08b25f4886e482923d195</td>\n",
       "    </tr>\n",
       "    <tr>\n",
       "      <th>64</th>\n",
       "      <td>Filter Piscina, Terraza o Jardín</td>\n",
       "      <td>s2165_5ecbe42a8cb6943311ac652b</td>\n",
       "    </tr>\n",
       "    <tr>\n",
       "      <th>65</th>\n",
       "      <td>Renters List</td>\n",
       "      <td>s2165_5ed7aecb2b1c173cbfa6749b</td>\n",
       "    </tr>\n",
       "    <tr>\n",
       "      <th>66</th>\n",
       "      <td>Visits with Alert Added Button Clicked (App's)</td>\n",
       "      <td>s2165_5edcb50cd6f751460466d490</td>\n",
       "    </tr>\n",
       "    <tr>\n",
       "      <th>67</th>\n",
       "      <td>Users with 1 visits</td>\n",
       "      <td>s2165_5ee089ee0aa5c347cf4f6006</td>\n",
       "    </tr>\n",
       "    <tr>\n",
       "      <th>68</th>\n",
       "      <td>Users with 2 visits</td>\n",
       "      <td>s2165_5ee08a641c252a6da28bf3dc</td>\n",
       "    </tr>\n",
       "    <tr>\n",
       "      <th>69</th>\n",
       "      <td>Users with 2-5 visits</td>\n",
       "      <td>s2165_5ee08a9a90f90419a437b89b</td>\n",
       "    </tr>\n",
       "    <tr>\n",
       "      <th>70</th>\n",
       "      <td>Email IJ Push (version Offer Searcher) (atribu...</td>\n",
       "      <td>s2165_5eb541b1e9eaeb180a448dd4</td>\n",
       "    </tr>\n",
       "    <tr>\n",
       "      <th>71</th>\n",
       "      <td>[EATM]-24x7_Email-Categoria_TourVirtual</td>\n",
       "      <td>s2165_5ea950ab8d55e56b0e268091</td>\n",
       "    </tr>\n",
       "    <tr>\n",
       "      <th>72</th>\n",
       "      <td>Device: Desktop</td>\n",
       "      <td>s2165_57a07fc2e4b05abb155d0a1a</td>\n",
       "    </tr>\n",
       "    <tr>\n",
       "      <th>73</th>\n",
       "      <td>tracking code fotocasa</td>\n",
       "      <td>s2165_5be420818907f823ceb109e4</td>\n",
       "    </tr>\n",
       "    <tr>\n",
       "      <th>74</th>\n",
       "      <td>IOS App</td>\n",
       "      <td>s2165_5b212966e395c23c99a48d84</td>\n",
       "    </tr>\n",
       "    <tr>\n",
       "      <th>75</th>\n",
       "      <td>adviews</td>\n",
       "      <td>s2165_5b3f4c79de89ede88a8e4c55</td>\n",
       "    </tr>\n",
       "    <tr>\n",
       "      <th>76</th>\n",
       "      <td>[EATM]-24x7_Email-Categoria_Nuevo</td>\n",
       "      <td>s2165_5b84faa601c1eb7b39eb214b</td>\n",
       "    </tr>\n",
       "    <tr>\n",
       "      <th>77</th>\n",
       "      <td>[EATM]-24x7_Email-Categoria_Descubrelo</td>\n",
       "      <td>s2165_5b84fabd7a877dac5375b0a7</td>\n",
       "    </tr>\n",
       "    <tr>\n",
       "      <th>78</th>\n",
       "      <td>[EATM]-24x7_Email-Categoria_BajadaPrecio</td>\n",
       "      <td>s2165_5b84fb047245ec53dcded1ca</td>\n",
       "    </tr>\n",
       "    <tr>\n",
       "      <th>79</th>\n",
       "      <td>[EATM]-24x7_Email-Categoria_Recomedado</td>\n",
       "      <td>s2165_5bae275141bd55199612e84c</td>\n",
       "    </tr>\n",
       "    <tr>\n",
       "      <th>80</th>\n",
       "      <td>ivan  23-2019 a las 7 y url</td>\n",
       "      <td>s2165_5c9a1b1822803d439d0093e9</td>\n",
       "    </tr>\n",
       "    <tr>\n",
       "      <th>81</th>\n",
       "      <td>Visitas que no generan Páginas Vistas</td>\n",
       "      <td>s2165_5b16977ede89eda60af1f69e</td>\n",
       "    </tr>\n",
       "    <tr>\n",
       "      <th>82</th>\n",
       "      <td>[EATM]-24x7_Email-Categoria_FreshContent</td>\n",
       "      <td>s2165_5cab36cc96a3e33cdffd5cb0</td>\n",
       "    </tr>\n",
       "    <tr>\n",
       "      <th>83</th>\n",
       "      <td>Web (web mobile)</td>\n",
       "      <td>s2165_5cde5de1b32e156579908ac0</td>\n",
       "    </tr>\n",
       "    <tr>\n",
       "      <th>84</th>\n",
       "      <td>App (Android)</td>\n",
       "      <td>s2165_5cde5f0ba29770078b4eb8cd</td>\n",
       "    </tr>\n",
       "    <tr>\n",
       "      <th>85</th>\n",
       "      <td>Web (desktop+web mobile)</td>\n",
       "      <td>s2165_5cde6044c7d8da23d87a253d</td>\n",
       "    </tr>\n",
       "    <tr>\n",
       "      <th>86</th>\n",
       "      <td>Web (desktop)</td>\n",
       "      <td>s2165_5cde610e3629f0737e08a648</td>\n",
       "    </tr>\n",
       "    <tr>\n",
       "      <th>87</th>\n",
       "      <td>App (iOS + Android)</td>\n",
       "      <td>s2165_5cde614fd6617c67f2d8eb6d</td>\n",
       "    </tr>\n",
       "    <tr>\n",
       "      <th>88</th>\n",
       "      <td>Android App</td>\n",
       "      <td>s2165_5b212956dd0ab160306db24c</td>\n",
       "    </tr>\n",
       "    <tr>\n",
       "      <th>89</th>\n",
       "      <td>[MARIN] Only Last Touch Channel = PAID SEARCH</td>\n",
       "      <td>s2165_5a8d598d373fa844f3d1d08f</td>\n",
       "    </tr>\n",
       "    <tr>\n",
       "      <th>90</th>\n",
       "      <td>Platform App Android</td>\n",
       "      <td>s2165_5ce2a951f0f34a6c7c320948</td>\n",
       "    </tr>\n",
       "    <tr>\n",
       "      <th>91</th>\n",
       "      <td>[EATM] - All EMAIL Engage</td>\n",
       "      <td>s2165_58824940e4b0839e91bef296</td>\n",
       "    </tr>\n",
       "    <tr>\n",
       "      <th>92</th>\n",
       "      <td>Tablet</td>\n",
       "      <td>s2165_57a07fe2e4b08d1648f6dd1e</td>\n",
       "    </tr>\n",
       "    <tr>\n",
       "      <th>93</th>\n",
       "      <td>Msite navigation</td>\n",
       "      <td>s2165_57c93279e4b03d52a6eb26bc</td>\n",
       "    </tr>\n",
       "    <tr>\n",
       "      <th>94</th>\n",
       "      <td>Entry Page List</td>\n",
       "      <td>s2165_57ee45f9e4b0e6eab02e2f5a</td>\n",
       "    </tr>\n",
       "    <tr>\n",
       "      <th>95</th>\n",
       "      <td>Entry Page Detail</td>\n",
       "      <td>s2165_57f24cc1e4b0e6eab02e3045</td>\n",
       "    </tr>\n",
       "    <tr>\n",
       "      <th>96</th>\n",
       "      <td>[DI] 6. Entry Page Home</td>\n",
       "      <td>s2165_57f24d60e4b0d7f204619aaf</td>\n",
       "    </tr>\n",
       "    <tr>\n",
       "      <th>97</th>\n",
       "      <td>[DI-Motor] visit trying to contact seller</td>\n",
       "      <td>s2165_58457e6de4b02d9990e8cd5e</td>\n",
       "    </tr>\n",
       "    <tr>\n",
       "      <th>98</th>\n",
       "      <td>EntryPage ALL list</td>\n",
       "      <td>s2165_58c13149e4b0ef3441717e60</td>\n",
       "    </tr>\n",
       "    <tr>\n",
       "      <th>99</th>\n",
       "      <td>[MARIN] v62-MarinSW without Unspecified</td>\n",
       "      <td>s2165_5a70549b7245ec60b484105d</td>\n",
       "    </tr>\n",
       "    <tr>\n",
       "      <th>100</th>\n",
       "      <td>[DI] 4. Other Visits (device type)</td>\n",
       "      <td>s2165_58f737eee4b09846a2fc1448</td>\n",
       "    </tr>\n",
       "    <tr>\n",
       "      <th>101</th>\n",
       "      <td>[DI-Jobs] Web (mobile + desktop)</td>\n",
       "      <td>s2165_5a5ccdb35fb23e642ec548c3</td>\n",
       "    </tr>\n",
       "    <tr>\n",
       "      <th>102</th>\n",
       "      <td>[EATM] - All PUSH Engage</td>\n",
       "      <td>s2165_5a5cf9a3d829376ca8af76fc</td>\n",
       "    </tr>\n",
       "    <tr>\n",
       "      <th>103</th>\n",
       "      <td>[DI-Jobs] Android App (Visits)</td>\n",
       "      <td>s2165_5a5de4eb366e5b07c21181db</td>\n",
       "    </tr>\n",
       "    <tr>\n",
       "      <th>104</th>\n",
       "      <td>[DI-Jobs] IOS App</td>\n",
       "      <td>s2165_5a5de535de89edf2ca9247a0</td>\n",
       "    </tr>\n",
       "    <tr>\n",
       "      <th>105</th>\n",
       "      <td>CAT-v20</td>\n",
       "      <td>s2165_5a6074ecdd0ab15248e429af</td>\n",
       "    </tr>\n",
       "    <tr>\n",
       "      <th>106</th>\n",
       "      <td>Platform App iOS</td>\n",
       "      <td>s2165_5ce2a75f5d3c0b0671203160</td>\n",
       "    </tr>\n",
       "    <tr>\n",
       "      <th>107</th>\n",
       "      <td>Platform Web</td>\n",
       "      <td>s2165_5ce2aa77c0fdcb1990ad2326</td>\n",
       "    </tr>\n",
       "    <tr>\n",
       "      <th>108</th>\n",
       "      <td>Visits with leads PSH</td>\n",
       "      <td>s2165_5e7a217940ef8272f52902a7</td>\n",
       "    </tr>\n",
       "    <tr>\n",
       "      <th>109</th>\n",
       "      <td>Visits with &gt;= 1 lead</td>\n",
       "      <td>s2165_5daec977bed66376f3de331b</td>\n",
       "    </tr>\n",
       "    <tr>\n",
       "      <th>110</th>\n",
       "      <td>Device: Desktop excluding Provinces with Comma</td>\n",
       "      <td>s2165_5da02250f4886e2c8033840d</td>\n",
       "    </tr>\n",
       "    <tr>\n",
       "      <th>111</th>\n",
       "      <td>Device: Mobile excluding Provinces with Comma</td>\n",
       "      <td>s2165_5da04c6b22803d053a8a3284</td>\n",
       "    </tr>\n",
       "    <tr>\n",
       "      <th>112</th>\n",
       "      <td>Device: Tablet excluding Provinces with Comma</td>\n",
       "      <td>s2165_5da04d0040ef825ec4b4c081</td>\n",
       "    </tr>\n",
       "    <tr>\n",
       "      <th>113</th>\n",
       "      <td>SELL Visits excluding Provinces with Comma</td>\n",
       "      <td>s2165_5da05d9d41bd554fcebebb4b</td>\n",
       "    </tr>\n",
       "    <tr>\n",
       "      <th>114</th>\n",
       "      <td>RENT Visits excluding Provinces with Comma</td>\n",
       "      <td>s2165_5da05dd12b1c17083d4381a6</td>\n",
       "    </tr>\n",
       "    <tr>\n",
       "      <th>115</th>\n",
       "      <td>[EATM] - TOTAL PUSH+EMAIL Engage</td>\n",
       "      <td>s2165_5da984082b1c17394e981c5c</td>\n",
       "    </tr>\n",
       "    <tr>\n",
       "      <th>116</th>\n",
       "      <td>Logged Users</td>\n",
       "      <td>s2165_5dd797601c252a4ad8d0205c</td>\n",
       "    </tr>\n",
       "    <tr>\n",
       "      <th>117</th>\n",
       "      <td>[EATM] - Alertas PUSH Engage</td>\n",
       "      <td>s2165_5d96ffb622803d2e16a58532</td>\n",
       "    </tr>\n",
       "    <tr>\n",
       "      <th>118</th>\n",
       "      <td>[EATM] - Alertas PUSH Engage - BRAZE</td>\n",
       "      <td>s2165_5e1de2e31c252a6b691800ab</td>\n",
       "    </tr>\n",
       "    <tr>\n",
       "      <th>119</th>\n",
       "      <td>[EATM] - Alertas PUSH Engage - AMAZON SNS</td>\n",
       "      <td>s2165_5e1de3148d55e5583df696cc</td>\n",
       "    </tr>\n",
       "    <tr>\n",
       "      <th>120</th>\n",
       "      <td>[EATM] - Product PUSH Engage</td>\n",
       "      <td>s2165_5e413d1563b02a3dfc65f363</td>\n",
       "    </tr>\n",
       "    <tr>\n",
       "      <th>121</th>\n",
       "      <td>MA - Alertas STC Empleo</td>\n",
       "      <td>s2165_5e4eaa049da6957f58f0688e</td>\n",
       "    </tr>\n",
       "    <tr>\n",
       "      <th>122</th>\n",
       "      <td>MA- Segmento Alertas STC coches</td>\n",
       "      <td>s2165_5e4f9f898cb6947dd5049dc1</td>\n",
       "    </tr>\n",
       "    <tr>\n",
       "      <th>123</th>\n",
       "      <td>Visit with Ad Engagement</td>\n",
       "      <td>s2165_5e69d54684a5011593171015</td>\n",
       "    </tr>\n",
       "    <tr>\n",
       "      <th>124</th>\n",
       "      <td>[EATM] - Marketing PUSH Engage</td>\n",
       "      <td>s2165_5d97026941bd550667a570fb</td>\n",
       "    </tr>\n",
       "    <tr>\n",
       "      <th>125</th>\n",
       "      <td>[EATM] - Product EMAIL Engage</td>\n",
       "      <td>s2165_5d9613cc22803d2e16a5849e</td>\n",
       "    </tr>\n",
       "    <tr>\n",
       "      <th>126</th>\n",
       "      <td>Return Visits</td>\n",
       "      <td>s2165_5ce7bb3eb32e1565799094a8</td>\n",
       "    </tr>\n",
       "    <tr>\n",
       "      <th>127</th>\n",
       "      <td>Custom Link does not equal ADBINTERNAL:Lifecycle</td>\n",
       "      <td>s2165_5d1a5d4288955735b2ea496b</td>\n",
       "    </tr>\n",
       "    <tr>\n",
       "      <th>128</th>\n",
       "      <td>New Visits</td>\n",
       "      <td>s2165_5ce7bb6a3629f0737e08af2d</td>\n",
       "    </tr>\n",
       "    <tr>\n",
       "      <th>129</th>\n",
       "      <td>Platform Web Mobile</td>\n",
       "      <td>s2165_5cef8aeca29770078b4ec98e</td>\n",
       "    </tr>\n",
       "    <tr>\n",
       "      <th>130</th>\n",
       "      <td>Platform Web Tablet</td>\n",
       "      <td>s2165_5cef8dfdb32e156579909afa</td>\n",
       "    </tr>\n",
       "    <tr>\n",
       "      <th>131</th>\n",
       "      <td>Platform Web Desktop</td>\n",
       "      <td>s2165_5cef913a53af7237b5b95d35</td>\n",
       "    </tr>\n",
       "    <tr>\n",
       "      <th>132</th>\n",
       "      <td>Platform Web Others</td>\n",
       "      <td>s2165_5cefe229c65b4819cde30b7e</td>\n",
       "    </tr>\n",
       "    <tr>\n",
       "      <th>133</th>\n",
       "      <td>Pushes MKT Braze</td>\n",
       "      <td>s2165_5cf6b2df0f47c76f4e45d541</td>\n",
       "    </tr>\n",
       "    <tr>\n",
       "      <th>134</th>\n",
       "      <td>Exclude United States Traffic</td>\n",
       "      <td>s2165_5d357a3b20fc66414907a984</td>\n",
       "    </tr>\n",
       "    <tr>\n",
       "      <th>135</th>\n",
       "      <td>[EATM] - Alertas EMAIL Engage</td>\n",
       "      <td>s2165_5d9612f390f90474e7834cac</td>\n",
       "    </tr>\n",
       "    <tr>\n",
       "      <th>136</th>\n",
       "      <td>Only Pages Tagged in Segment</td>\n",
       "      <td>s2165_5d385fd240720406a24488a0</td>\n",
       "    </tr>\n",
       "    <tr>\n",
       "      <th>137</th>\n",
       "      <td>Exclude Visits with Tracking Code</td>\n",
       "      <td>s2165_5d52852294d2602bf7f25627</td>\n",
       "    </tr>\n",
       "    <tr>\n",
       "      <th>138</th>\n",
       "      <td>Visits with lead(s) (Coches.net)</td>\n",
       "      <td>s2165_5d7760cc84a501421919d7f1</td>\n",
       "    </tr>\n",
       "    <tr>\n",
       "      <th>139</th>\n",
       "      <td>MA Búsquedas</td>\n",
       "      <td>s2165_5d8394df90f9046a35154fc7</td>\n",
       "    </tr>\n",
       "    <tr>\n",
       "      <th>140</th>\n",
       "      <td>SELL Visit</td>\n",
       "      <td>s2165_5d8c7cc0e9eaeb259e2500f0</td>\n",
       "    </tr>\n",
       "    <tr>\n",
       "      <th>141</th>\n",
       "      <td>RENT Visit</td>\n",
       "      <td>s2165_5d8c7d4396a3e3082ca0324a</td>\n",
       "    </tr>\n",
       "    <tr>\n",
       "      <th>142</th>\n",
       "      <td>UU with Alert Added from map</td>\n",
       "      <td>s2165_5ef069ba84a50140b07f7d49</td>\n",
       "    </tr>\n",
       "  </tbody>\n",
       "</table>\n",
       "</div>"
      ],
      "text/plain": [
       "                                                  name  \\\n",
       "0                                       Device: Mobile   \n",
       "1                   Exclude Out of Spain and 0 Seconds   \n",
       "2                                         CCAA Navarra   \n",
       "3                                      CCAA País Vasco   \n",
       "4                                 CCAA Ceuta y Melilla   \n",
       "5                                 Visits without pages   \n",
       "6                                   Pisos para Comprar   \n",
       "7                  Test Anunciante Frecuente - Grupo A   \n",
       "8                                       Has an address   \n",
       "9                                          CCAA Madrid   \n",
       "10                                   First 6 Positions   \n",
       "11                   Custom Test AB Segment - Original   \n",
       "12                  Custom Test AB Segment - Variation   \n",
       "13                            Visits with Ad Favorited   \n",
       "14                              Visit with Alert Added   \n",
       "15                          Segmento Renters (Listado)   \n",
       "16                                         CCAA Murcia   \n",
       "17                                       CCAA La Rioja   \n",
       "18                                Visits with leads SH   \n",
       "19                                       CCAA Asturias   \n",
       "20               Candidatos (push one shoot Mercadona)   \n",
       "21                                       CCAA Cataluña   \n",
       "22                                      CCAA Andalucia   \n",
       "23                                 Traffic Source Paid   \n",
       "24                              Traffic Source No Paid   \n",
       "25                                         CCAA Aragon   \n",
       "26                                       CCAA Baleares   \n",
       "27                                        CCAA Galicia   \n",
       "28                                       CCAA Canarias   \n",
       "29                                      CCAA Cantabria   \n",
       "30                             CCAA Castilla la Mancha   \n",
       "31                                CCAA Castilla y León   \n",
       "32                                       CCAA Valencia   \n",
       "33                                    CCAA Extremadura   \n",
       "34                                                  SH   \n",
       "35                      Visits with Ad Favorited - HIT   \n",
       "36     Email IJ Push (old version) (atribución visita)   \n",
       "37                 Test Anunciante Frecuente - Grupo B   \n",
       "38                           All alerts (Push + email)   \n",
       "39          Exclude Visit page Account Your Properties   \n",
       "40                 filter by \"product catalog to cart\"   \n",
       "41                                  Product TOP Viewed   \n",
       "42                           Saw TOP and click through   \n",
       "43                Saw other than TOP and click through   \n",
       "44                           [EATM] - Todos los envíos   \n",
       "45            Visit with Ad Engagement (Q2 definition)   \n",
       "46                                    Address informed   \n",
       "47     Visits with Alert Added Button Clicked (App's)    \n",
       "48                Visitors with Mortage Button Clicked   \n",
       "49                                      Filter Balcony   \n",
       "50                               UU with Leads in List   \n",
       "51                                        Renters List   \n",
       "52         Visits which are leads (call phone + email)   \n",
       "53                      Users with more than 10 visits   \n",
       "54           Ad Favourited exists AND Page Name = list   \n",
       "55                               Exclude Fresh Content   \n",
       "56                        UU with Ad Favorited in List   \n",
       "57                                                  PS   \n",
       "58                       Wrong SharedAd tracking codes   \n",
       "59                             Premium variable exists   \n",
       "60                                       Filter Garden   \n",
       "61                                      Filter Piscina   \n",
       "62                        UU with Ad Discarded in List   \n",
       "63                              Users with 5-10 visits   \n",
       "64                    Filter Piscina, Terraza o Jardín   \n",
       "65                                        Renters List   \n",
       "66     Visits with Alert Added Button Clicked (App's)    \n",
       "67                                 Users with 1 visits   \n",
       "68                                 Users with 2 visits   \n",
       "69                               Users with 2-5 visits   \n",
       "70   Email IJ Push (version Offer Searcher) (atribu...   \n",
       "71             [EATM]-24x7_Email-Categoria_TourVirtual   \n",
       "72                                     Device: Desktop   \n",
       "73                              tracking code fotocasa   \n",
       "74                                             IOS App   \n",
       "75                                             adviews   \n",
       "76                   [EATM]-24x7_Email-Categoria_Nuevo   \n",
       "77              [EATM]-24x7_Email-Categoria_Descubrelo   \n",
       "78            [EATM]-24x7_Email-Categoria_BajadaPrecio   \n",
       "79              [EATM]-24x7_Email-Categoria_Recomedado   \n",
       "80                         ivan  23-2019 a las 7 y url   \n",
       "81               Visitas que no generan Páginas Vistas   \n",
       "82            [EATM]-24x7_Email-Categoria_FreshContent   \n",
       "83                                    Web (web mobile)   \n",
       "84                                       App (Android)   \n",
       "85                            Web (desktop+web mobile)   \n",
       "86                                       Web (desktop)   \n",
       "87                                 App (iOS + Android)   \n",
       "88                                         Android App   \n",
       "89       [MARIN] Only Last Touch Channel = PAID SEARCH   \n",
       "90                                Platform App Android   \n",
       "91                           [EATM] - All EMAIL Engage   \n",
       "92                                              Tablet   \n",
       "93                                    Msite navigation   \n",
       "94                                     Entry Page List   \n",
       "95                                   Entry Page Detail   \n",
       "96                             [DI] 6. Entry Page Home   \n",
       "97           [DI-Motor] visit trying to contact seller   \n",
       "98                                  EntryPage ALL list   \n",
       "99             [MARIN] v62-MarinSW without Unspecified   \n",
       "100                 [DI] 4. Other Visits (device type)   \n",
       "101                   [DI-Jobs] Web (mobile + desktop)   \n",
       "102                           [EATM] - All PUSH Engage   \n",
       "103                     [DI-Jobs] Android App (Visits)   \n",
       "104                                  [DI-Jobs] IOS App   \n",
       "105                                            CAT-v20   \n",
       "106                                   Platform App iOS   \n",
       "107                                       Platform Web   \n",
       "108                              Visits with leads PSH   \n",
       "109                             Visits with >= 1 lead    \n",
       "110     Device: Desktop excluding Provinces with Comma   \n",
       "111      Device: Mobile excluding Provinces with Comma   \n",
       "112      Device: Tablet excluding Provinces with Comma   \n",
       "113         SELL Visits excluding Provinces with Comma   \n",
       "114        RENT Visits excluding Provinces with Comma    \n",
       "115                   [EATM] - TOTAL PUSH+EMAIL Engage   \n",
       "116                                       Logged Users   \n",
       "117                       [EATM] - Alertas PUSH Engage   \n",
       "118               [EATM] - Alertas PUSH Engage - BRAZE   \n",
       "119          [EATM] - Alertas PUSH Engage - AMAZON SNS   \n",
       "120                       [EATM] - Product PUSH Engage   \n",
       "121                            MA - Alertas STC Empleo   \n",
       "122                    MA- Segmento Alertas STC coches   \n",
       "123                           Visit with Ad Engagement   \n",
       "124                     [EATM] - Marketing PUSH Engage   \n",
       "125                      [EATM] - Product EMAIL Engage   \n",
       "126                                      Return Visits   \n",
       "127   Custom Link does not equal ADBINTERNAL:Lifecycle   \n",
       "128                                         New Visits   \n",
       "129                                Platform Web Mobile   \n",
       "130                                Platform Web Tablet   \n",
       "131                               Platform Web Desktop   \n",
       "132                                Platform Web Others   \n",
       "133                                   Pushes MKT Braze   \n",
       "134                     Exclude United States Traffic    \n",
       "135                      [EATM] - Alertas EMAIL Engage   \n",
       "136                       Only Pages Tagged in Segment   \n",
       "137                  Exclude Visits with Tracking Code   \n",
       "138                   Visits with lead(s) (Coches.net)   \n",
       "139                                       MA Búsquedas   \n",
       "140                                         SELL Visit   \n",
       "141                                         RENT Visit   \n",
       "142                       UU with Alert Added from map   \n",
       "\n",
       "                                 id  \n",
       "0    s2165_57a07fade4b08d1648f6dd1d  \n",
       "1    s2165_5e14600684a5013f91a387b4  \n",
       "2    s2165_5ee7690ff4886e6b8fdb71aa  \n",
       "3    s2165_5ee76a2b1c252a31a7606f61  \n",
       "4    s2165_5ee76ada96a3e319aee613be  \n",
       "5    s2165_5ef07ead84a50140b07f7d89  \n",
       "6    s2165_5d6541dec2645611d677472a  \n",
       "7    s2165_5de689eff4886e016fe09e11  \n",
       "8    s2165_5e732781e9eaeb705a3f3748  \n",
       "9    s2165_5ee768ec34ab6a2375a23f1b  \n",
       "10   s2165_5e73d51534ab6a69a41b147d  \n",
       "11   s2165_5e8dda15d6f7510aa878f064  \n",
       "12   s2165_5e8de51c2b1c172db5735949  \n",
       "13   s2165_5e9f577363b02a2d0df6776f  \n",
       "14   s2165_5e9f5fa78d55e546d8f81a1b  \n",
       "15   s2165_5ea03c20bed663190a8b3610  \n",
       "16   s2165_5ee7690041bd55193a6d1be1  \n",
       "17   s2165_5ee768d4f4886e6b8fdb71a9  \n",
       "18   s2165_5ea0607ef6454c2bd0d474c6  \n",
       "19   s2165_5ee765fa1c252a31a7606f55  \n",
       "20   s2165_5eb5547bbed663512aae70ed  \n",
       "21   s2165_5ec6802c34ab6a3325630c82  \n",
       "22   s2165_5ec680d1d6f75133ed7760df  \n",
       "23   s2165_5ee09de71c252a6da28bf41d  \n",
       "24   s2165_5ee09e3af6454c1edaf770c3  \n",
       "25   s2165_5ee765a2f4886e6b8fdb71a0  \n",
       "26   s2165_5ee7662941bd55193a6d1bdb  \n",
       "27   s2165_5ee768b163b02a599e411517  \n",
       "28   s2165_5ee7667e8907f83c7d62f99b  \n",
       "29   s2165_5ee766bdbed6633037931235  \n",
       "30   s2165_5ee7679084a501335c9b2bd4  \n",
       "31   s2165_5ee7680a8907f83c7d62f9a3  \n",
       "32   s2165_5ee768332b1c1726438ff287  \n",
       "33   s2165_5ee768758cb6945dbb6b8d91  \n",
       "34   s2165_5ea0601d41bd552e6f4977a0  \n",
       "35   s2165_5ea06be98cb6944b9b1259ad  \n",
       "36   s2165_5eb54154bed663512aae70cb  \n",
       "37   s2165_5de689ca0aa5c334d03dc69d  \n",
       "38   s2165_5d8884a696a3e3082ca02c81  \n",
       "39   s2165_5d949efe9da6950b0e1fb652  \n",
       "40   s2165_5da44eb71c252a437a4349cc  \n",
       "41   s2165_5da836e363b02a7d9adc7ce7  \n",
       "42   s2165_5da839ef7e678d6840e4f4f1  \n",
       "43   s2165_5da89ce1f4886e0ab40fcacd  \n",
       "44   s2165_5e67b126f4886e03307cc6d9  \n",
       "45   s2165_5ef0b4ce41bd5539f5f142a8  \n",
       "46   s2165_5e73255e22803d793fd034bb  \n",
       "47   s2165_5e9f5ff32b1c1754d376dbbe  \n",
       "48   s2165_5ea198d3bed663190a8b37e6  \n",
       "49   s2165_5eb03d1f41bd5554ac733e43  \n",
       "50   s2165_5ebc023c9da6956cf21a5b72  \n",
       "51   s2165_5ed7a96b7e678d02afc35c94  \n",
       "52   s2165_5d6fca96b6905b4052927fd3  \n",
       "53   s2165_5ee08b3f9da6953941777a77  \n",
       "54   s2165_5ea06d4784a5017b60812340  \n",
       "55   s2165_5eb132da9da6953578d77ea8  \n",
       "56   s2165_5ea06e888907f832ad45ee61  \n",
       "57   s2165_5ea2ae9a63b02a56d1f635b8  \n",
       "58   s2165_5ea7e9b9bed663190a8b3c21  \n",
       "59   s2165_5eaa72ba7e678d6081780b60  \n",
       "60   s2165_5eb0401784a50170994198f2  \n",
       "61   s2165_5eb0415090f904110637c158  \n",
       "62   s2165_5ebc0164e9eaeb7a6ec85f10  \n",
       "63   s2165_5ee08b25f4886e482923d195  \n",
       "64   s2165_5ecbe42a8cb6943311ac652b  \n",
       "65   s2165_5ed7aecb2b1c173cbfa6749b  \n",
       "66   s2165_5edcb50cd6f751460466d490  \n",
       "67   s2165_5ee089ee0aa5c347cf4f6006  \n",
       "68   s2165_5ee08a641c252a6da28bf3dc  \n",
       "69   s2165_5ee08a9a90f90419a437b89b  \n",
       "70   s2165_5eb541b1e9eaeb180a448dd4  \n",
       "71   s2165_5ea950ab8d55e56b0e268091  \n",
       "72   s2165_57a07fc2e4b05abb155d0a1a  \n",
       "73   s2165_5be420818907f823ceb109e4  \n",
       "74   s2165_5b212966e395c23c99a48d84  \n",
       "75   s2165_5b3f4c79de89ede88a8e4c55  \n",
       "76   s2165_5b84faa601c1eb7b39eb214b  \n",
       "77   s2165_5b84fabd7a877dac5375b0a7  \n",
       "78   s2165_5b84fb047245ec53dcded1ca  \n",
       "79   s2165_5bae275141bd55199612e84c  \n",
       "80   s2165_5c9a1b1822803d439d0093e9  \n",
       "81   s2165_5b16977ede89eda60af1f69e  \n",
       "82   s2165_5cab36cc96a3e33cdffd5cb0  \n",
       "83   s2165_5cde5de1b32e156579908ac0  \n",
       "84   s2165_5cde5f0ba29770078b4eb8cd  \n",
       "85   s2165_5cde6044c7d8da23d87a253d  \n",
       "86   s2165_5cde610e3629f0737e08a648  \n",
       "87   s2165_5cde614fd6617c67f2d8eb6d  \n",
       "88   s2165_5b212956dd0ab160306db24c  \n",
       "89   s2165_5a8d598d373fa844f3d1d08f  \n",
       "90   s2165_5ce2a951f0f34a6c7c320948  \n",
       "91   s2165_58824940e4b0839e91bef296  \n",
       "92   s2165_57a07fe2e4b08d1648f6dd1e  \n",
       "93   s2165_57c93279e4b03d52a6eb26bc  \n",
       "94   s2165_57ee45f9e4b0e6eab02e2f5a  \n",
       "95   s2165_57f24cc1e4b0e6eab02e3045  \n",
       "96   s2165_57f24d60e4b0d7f204619aaf  \n",
       "97   s2165_58457e6de4b02d9990e8cd5e  \n",
       "98   s2165_58c13149e4b0ef3441717e60  \n",
       "99   s2165_5a70549b7245ec60b484105d  \n",
       "100  s2165_58f737eee4b09846a2fc1448  \n",
       "101  s2165_5a5ccdb35fb23e642ec548c3  \n",
       "102  s2165_5a5cf9a3d829376ca8af76fc  \n",
       "103  s2165_5a5de4eb366e5b07c21181db  \n",
       "104  s2165_5a5de535de89edf2ca9247a0  \n",
       "105  s2165_5a6074ecdd0ab15248e429af  \n",
       "106  s2165_5ce2a75f5d3c0b0671203160  \n",
       "107  s2165_5ce2aa77c0fdcb1990ad2326  \n",
       "108  s2165_5e7a217940ef8272f52902a7  \n",
       "109  s2165_5daec977bed66376f3de331b  \n",
       "110  s2165_5da02250f4886e2c8033840d  \n",
       "111  s2165_5da04c6b22803d053a8a3284  \n",
       "112  s2165_5da04d0040ef825ec4b4c081  \n",
       "113  s2165_5da05d9d41bd554fcebebb4b  \n",
       "114  s2165_5da05dd12b1c17083d4381a6  \n",
       "115  s2165_5da984082b1c17394e981c5c  \n",
       "116  s2165_5dd797601c252a4ad8d0205c  \n",
       "117  s2165_5d96ffb622803d2e16a58532  \n",
       "118  s2165_5e1de2e31c252a6b691800ab  \n",
       "119  s2165_5e1de3148d55e5583df696cc  \n",
       "120  s2165_5e413d1563b02a3dfc65f363  \n",
       "121  s2165_5e4eaa049da6957f58f0688e  \n",
       "122  s2165_5e4f9f898cb6947dd5049dc1  \n",
       "123  s2165_5e69d54684a5011593171015  \n",
       "124  s2165_5d97026941bd550667a570fb  \n",
       "125  s2165_5d9613cc22803d2e16a5849e  \n",
       "126  s2165_5ce7bb3eb32e1565799094a8  \n",
       "127  s2165_5d1a5d4288955735b2ea496b  \n",
       "128  s2165_5ce7bb6a3629f0737e08af2d  \n",
       "129  s2165_5cef8aeca29770078b4ec98e  \n",
       "130  s2165_5cef8dfdb32e156579909afa  \n",
       "131  s2165_5cef913a53af7237b5b95d35  \n",
       "132  s2165_5cefe229c65b4819cde30b7e  \n",
       "133  s2165_5cf6b2df0f47c76f4e45d541  \n",
       "134  s2165_5d357a3b20fc66414907a984  \n",
       "135  s2165_5d9612f390f90474e7834cac  \n",
       "136  s2165_5d385fd240720406a24488a0  \n",
       "137  s2165_5d52852294d2602bf7f25627  \n",
       "138  s2165_5d7760cc84a501421919d7f1  \n",
       "139  s2165_5d8394df90f9046a35154fc7  \n",
       "140  s2165_5d8c7cc0e9eaeb259e2500f0  \n",
       "141  s2165_5d8c7d4396a3e3082ca0324a  \n",
       "142  s2165_5ef069ba84a50140b07f7d49  "
      ]
     },
     "metadata": {},
     "output_type": "display_data"
    }
   ],
   "source": [
    "with pd.option_context('display.max_rows', None, 'display.max_columns', None):  # more options can be specified also\n",
    "    display(df_segments)"
   ]
  },
  {
   "cell_type": "code",
   "execution_count": 10,
   "metadata": {
    "collapsed": true
   },
   "outputs": [
    {
     "data": {
      "text/html": [
       "<div>\n",
       "<style scoped>\n",
       "    .dataframe tbody tr th:only-of-type {\n",
       "        vertical-align: middle;\n",
       "    }\n",
       "\n",
       "    .dataframe tbody tr th {\n",
       "        vertical-align: top;\n",
       "    }\n",
       "\n",
       "    .dataframe thead th {\n",
       "        text-align: right;\n",
       "    }\n",
       "</style>\n",
       "<table border=\"1\" class=\"dataframe\">\n",
       "  <thead>\n",
       "    <tr style=\"text-align: right;\">\n",
       "      <th></th>\n",
       "      <th>name</th>\n",
       "      <th>id</th>\n",
       "    </tr>\n",
       "  </thead>\n",
       "  <tbody>\n",
       "    <tr>\n",
       "      <th>44</th>\n",
       "      <td>[EATM] - Todos los envíos</td>\n",
       "      <td>s2165_5e67b126f4886e03307cc6d9</td>\n",
       "    </tr>\n",
       "    <tr>\n",
       "      <th>71</th>\n",
       "      <td>[EATM]-24x7_Email-Categoria_TourVirtual</td>\n",
       "      <td>s2165_5ea950ab8d55e56b0e268091</td>\n",
       "    </tr>\n",
       "    <tr>\n",
       "      <th>76</th>\n",
       "      <td>[EATM]-24x7_Email-Categoria_Nuevo</td>\n",
       "      <td>s2165_5b84faa601c1eb7b39eb214b</td>\n",
       "    </tr>\n",
       "    <tr>\n",
       "      <th>77</th>\n",
       "      <td>[EATM]-24x7_Email-Categoria_Descubrelo</td>\n",
       "      <td>s2165_5b84fabd7a877dac5375b0a7</td>\n",
       "    </tr>\n",
       "    <tr>\n",
       "      <th>78</th>\n",
       "      <td>[EATM]-24x7_Email-Categoria_BajadaPrecio</td>\n",
       "      <td>s2165_5b84fb047245ec53dcded1ca</td>\n",
       "    </tr>\n",
       "    <tr>\n",
       "      <th>79</th>\n",
       "      <td>[EATM]-24x7_Email-Categoria_Recomedado</td>\n",
       "      <td>s2165_5bae275141bd55199612e84c</td>\n",
       "    </tr>\n",
       "    <tr>\n",
       "      <th>82</th>\n",
       "      <td>[EATM]-24x7_Email-Categoria_FreshContent</td>\n",
       "      <td>s2165_5cab36cc96a3e33cdffd5cb0</td>\n",
       "    </tr>\n",
       "    <tr>\n",
       "      <th>91</th>\n",
       "      <td>[EATM] - All EMAIL Engage</td>\n",
       "      <td>s2165_58824940e4b0839e91bef296</td>\n",
       "    </tr>\n",
       "    <tr>\n",
       "      <th>102</th>\n",
       "      <td>[EATM] - All PUSH Engage</td>\n",
       "      <td>s2165_5a5cf9a3d829376ca8af76fc</td>\n",
       "    </tr>\n",
       "    <tr>\n",
       "      <th>115</th>\n",
       "      <td>[EATM] - TOTAL PUSH+EMAIL Engage</td>\n",
       "      <td>s2165_5da984082b1c17394e981c5c</td>\n",
       "    </tr>\n",
       "    <tr>\n",
       "      <th>117</th>\n",
       "      <td>[EATM] - Alertas PUSH Engage</td>\n",
       "      <td>s2165_5d96ffb622803d2e16a58532</td>\n",
       "    </tr>\n",
       "    <tr>\n",
       "      <th>118</th>\n",
       "      <td>[EATM] - Alertas PUSH Engage - BRAZE</td>\n",
       "      <td>s2165_5e1de2e31c252a6b691800ab</td>\n",
       "    </tr>\n",
       "    <tr>\n",
       "      <th>119</th>\n",
       "      <td>[EATM] - Alertas PUSH Engage - AMAZON SNS</td>\n",
       "      <td>s2165_5e1de3148d55e5583df696cc</td>\n",
       "    </tr>\n",
       "    <tr>\n",
       "      <th>120</th>\n",
       "      <td>[EATM] - Product PUSH Engage</td>\n",
       "      <td>s2165_5e413d1563b02a3dfc65f363</td>\n",
       "    </tr>\n",
       "    <tr>\n",
       "      <th>124</th>\n",
       "      <td>[EATM] - Marketing PUSH Engage</td>\n",
       "      <td>s2165_5d97026941bd550667a570fb</td>\n",
       "    </tr>\n",
       "    <tr>\n",
       "      <th>125</th>\n",
       "      <td>[EATM] - Product EMAIL Engage</td>\n",
       "      <td>s2165_5d9613cc22803d2e16a5849e</td>\n",
       "    </tr>\n",
       "    <tr>\n",
       "      <th>135</th>\n",
       "      <td>[EATM] - Alertas EMAIL Engage</td>\n",
       "      <td>s2165_5d9612f390f90474e7834cac</td>\n",
       "    </tr>\n",
       "  </tbody>\n",
       "</table>\n",
       "</div>"
      ],
      "text/plain": [
       "                                          name                              id\n",
       "44                   [EATM] - Todos los envíos  s2165_5e67b126f4886e03307cc6d9\n",
       "71     [EATM]-24x7_Email-Categoria_TourVirtual  s2165_5ea950ab8d55e56b0e268091\n",
       "76           [EATM]-24x7_Email-Categoria_Nuevo  s2165_5b84faa601c1eb7b39eb214b\n",
       "77      [EATM]-24x7_Email-Categoria_Descubrelo  s2165_5b84fabd7a877dac5375b0a7\n",
       "78    [EATM]-24x7_Email-Categoria_BajadaPrecio  s2165_5b84fb047245ec53dcded1ca\n",
       "79      [EATM]-24x7_Email-Categoria_Recomedado  s2165_5bae275141bd55199612e84c\n",
       "82    [EATM]-24x7_Email-Categoria_FreshContent  s2165_5cab36cc96a3e33cdffd5cb0\n",
       "91                   [EATM] - All EMAIL Engage  s2165_58824940e4b0839e91bef296\n",
       "102                   [EATM] - All PUSH Engage  s2165_5a5cf9a3d829376ca8af76fc\n",
       "115           [EATM] - TOTAL PUSH+EMAIL Engage  s2165_5da984082b1c17394e981c5c\n",
       "117               [EATM] - Alertas PUSH Engage  s2165_5d96ffb622803d2e16a58532\n",
       "118       [EATM] - Alertas PUSH Engage - BRAZE  s2165_5e1de2e31c252a6b691800ab\n",
       "119  [EATM] - Alertas PUSH Engage - AMAZON SNS  s2165_5e1de3148d55e5583df696cc\n",
       "120               [EATM] - Product PUSH Engage  s2165_5e413d1563b02a3dfc65f363\n",
       "124             [EATM] - Marketing PUSH Engage  s2165_5d97026941bd550667a570fb\n",
       "125              [EATM] - Product EMAIL Engage  s2165_5d9613cc22803d2e16a5849e\n",
       "135              [EATM] - Alertas EMAIL Engage  s2165_5d9612f390f90474e7834cac"
      ]
     },
     "execution_count": 10,
     "metadata": {},
     "output_type": "execute_result"
    }
   ],
   "source": [
    "# select segments/metrics/dimensions containing a word\n",
    "#df_segments[df_segments.name.str.contains('EATM')]"
   ]
  },
  {
   "cell_type": "code",
   "execution_count": 6,
   "metadata": {},
   "outputs": [],
   "source": [
    "seg_ios = list(df_segments[df_segments.name=='Platform App iOS']['id'])\n",
    "seg_android = list(df_segments[df_segments.name=='Platform App Android']['id'])\n",
    "seg_web = list(df_segments[df_segments.name=='Platform Web']['id'])"
   ]
  },
  {
   "cell_type": "markdown",
   "metadata": {},
   "source": [
    "# 1. API Requests"
   ]
  },
  {
   "cell_type": "markdown",
   "metadata": {},
   "source": [
    "## 1.1 Page views of all pages "
   ]
  },
  {
   "cell_type": "code",
   "execution_count": 7,
   "metadata": {
    "collapsed": true
   },
   "outputs": [
    {
     "ename": "Exception",
     "evalue": "Warehouse request failed",
     "output_type": "error",
     "traceback": [
      "\u001b[0;31m---------------------------------------------------------------------------\u001b[0m",
      "\u001b[0;31mException\u001b[0m                                 Traceback (most recent call last)",
      "\u001b[0;32m<timed exec>\u001b[0m in \u001b[0;36m<module>\u001b[0;34m\u001b[0m\n",
      "\u001b[0;32m~/opt/anaconda3/envs/fotocasa_env/lib/python3.7/site-packages/adobe_analytics/reports/suite.py\u001b[0m in \u001b[0;36mdownload\u001b[0;34m(self, obj)\u001b[0m\n\u001b[1;32m     16\u001b[0m     \u001b[0;32mdef\u001b[0m \u001b[0mdownload\u001b[0m\u001b[0;34m(\u001b[0m\u001b[0mself\u001b[0m\u001b[0;34m,\u001b[0m \u001b[0mobj\u001b[0m\u001b[0;34m)\u001b[0m\u001b[0;34m:\u001b[0m\u001b[0;34m\u001b[0m\u001b[0;34m\u001b[0m\u001b[0m\n\u001b[1;32m     17\u001b[0m         \u001b[0;34m\"\"\" obj can be ReportDefinition, report_id (int or float) \"\"\"\u001b[0m\u001b[0;34m\u001b[0m\u001b[0;34m\u001b[0m\u001b[0m\n\u001b[0;32m---> 18\u001b[0;31m         \u001b[0;32mreturn\u001b[0m \u001b[0mself\u001b[0m\u001b[0;34m.\u001b[0m\u001b[0m_downloader\u001b[0m\u001b[0;34m.\u001b[0m\u001b[0mdownload\u001b[0m\u001b[0;34m(\u001b[0m\u001b[0mobj\u001b[0m\u001b[0;34m)\u001b[0m\u001b[0;34m\u001b[0m\u001b[0;34m\u001b[0m\u001b[0m\n\u001b[0m\u001b[1;32m     19\u001b[0m \u001b[0;34m\u001b[0m\u001b[0m\n\u001b[1;32m     20\u001b[0m     \u001b[0;32mdef\u001b[0m \u001b[0mqueue\u001b[0m\u001b[0;34m(\u001b[0m\u001b[0mself\u001b[0m\u001b[0;34m,\u001b[0m \u001b[0mdefinition\u001b[0m\u001b[0;34m)\u001b[0m\u001b[0;34m:\u001b[0m\u001b[0;34m\u001b[0m\u001b[0;34m\u001b[0m\u001b[0m\n",
      "\u001b[0;32m~/opt/anaconda3/envs/fotocasa_env/lib/python3.7/site-packages/adobe_analytics/reports/report_downloader.py\u001b[0m in \u001b[0;36mdownload\u001b[0;34m(self, obj)\u001b[0m\n\u001b[1;32m     18\u001b[0m     \u001b[0;32mdef\u001b[0m \u001b[0mdownload\u001b[0m\u001b[0;34m(\u001b[0m\u001b[0mself\u001b[0m\u001b[0;34m,\u001b[0m \u001b[0mobj\u001b[0m\u001b[0;34m)\u001b[0m\u001b[0;34m:\u001b[0m\u001b[0;34m\u001b[0m\u001b[0;34m\u001b[0m\u001b[0m\n\u001b[1;32m     19\u001b[0m         \u001b[0mreport_id\u001b[0m \u001b[0;34m=\u001b[0m \u001b[0mself\u001b[0m\u001b[0;34m.\u001b[0m\u001b[0m_to_report_id\u001b[0m\u001b[0;34m(\u001b[0m\u001b[0mobj\u001b[0m\u001b[0;34m)\u001b[0m\u001b[0;34m\u001b[0m\u001b[0;34m\u001b[0m\u001b[0m\n\u001b[0;32m---> 20\u001b[0;31m         \u001b[0mfirst_response\u001b[0m \u001b[0;34m=\u001b[0m \u001b[0mself\u001b[0m\u001b[0;34m.\u001b[0m\u001b[0mget_report\u001b[0m\u001b[0;34m(\u001b[0m\u001b[0mreport_id\u001b[0m\u001b[0;34m)\u001b[0m\u001b[0;34m\u001b[0m\u001b[0;34m\u001b[0m\u001b[0m\n\u001b[0m\u001b[1;32m     21\u001b[0m         \u001b[0mraw_responses\u001b[0m \u001b[0;34m=\u001b[0m \u001b[0;34m[\u001b[0m\u001b[0mfirst_response\u001b[0m\u001b[0;34m]\u001b[0m\u001b[0;34m\u001b[0m\u001b[0;34m\u001b[0m\u001b[0m\n\u001b[1;32m     22\u001b[0m \u001b[0;34m\u001b[0m\u001b[0m\n",
      "\u001b[0;32m~/opt/anaconda3/envs/fotocasa_env/lib/python3.7/site-packages/retrying.py\u001b[0m in \u001b[0;36mwrapped_f\u001b[0;34m(*args, **kw)\u001b[0m\n\u001b[1;32m     47\u001b[0m             \u001b[0;34m@\u001b[0m\u001b[0msix\u001b[0m\u001b[0;34m.\u001b[0m\u001b[0mwraps\u001b[0m\u001b[0;34m(\u001b[0m\u001b[0mf\u001b[0m\u001b[0;34m)\u001b[0m\u001b[0;34m\u001b[0m\u001b[0;34m\u001b[0m\u001b[0m\n\u001b[1;32m     48\u001b[0m             \u001b[0;32mdef\u001b[0m \u001b[0mwrapped_f\u001b[0m\u001b[0;34m(\u001b[0m\u001b[0;34m*\u001b[0m\u001b[0margs\u001b[0m\u001b[0;34m,\u001b[0m \u001b[0;34m**\u001b[0m\u001b[0mkw\u001b[0m\u001b[0;34m)\u001b[0m\u001b[0;34m:\u001b[0m\u001b[0;34m\u001b[0m\u001b[0;34m\u001b[0m\u001b[0m\n\u001b[0;32m---> 49\u001b[0;31m                 \u001b[0;32mreturn\u001b[0m \u001b[0mRetrying\u001b[0m\u001b[0;34m(\u001b[0m\u001b[0;34m*\u001b[0m\u001b[0mdargs\u001b[0m\u001b[0;34m,\u001b[0m \u001b[0;34m**\u001b[0m\u001b[0mdkw\u001b[0m\u001b[0;34m)\u001b[0m\u001b[0;34m.\u001b[0m\u001b[0mcall\u001b[0m\u001b[0;34m(\u001b[0m\u001b[0mf\u001b[0m\u001b[0;34m,\u001b[0m \u001b[0;34m*\u001b[0m\u001b[0margs\u001b[0m\u001b[0;34m,\u001b[0m \u001b[0;34m**\u001b[0m\u001b[0mkw\u001b[0m\u001b[0;34m)\u001b[0m\u001b[0;34m\u001b[0m\u001b[0;34m\u001b[0m\u001b[0m\n\u001b[0m\u001b[1;32m     50\u001b[0m \u001b[0;34m\u001b[0m\u001b[0m\n\u001b[1;32m     51\u001b[0m             \u001b[0;32mreturn\u001b[0m \u001b[0mwrapped_f\u001b[0m\u001b[0;34m\u001b[0m\u001b[0;34m\u001b[0m\u001b[0m\n",
      "\u001b[0;32m~/opt/anaconda3/envs/fotocasa_env/lib/python3.7/site-packages/retrying.py\u001b[0m in \u001b[0;36mcall\u001b[0;34m(self, fn, *args, **kwargs)\u001b[0m\n\u001b[1;32m    204\u001b[0m \u001b[0;34m\u001b[0m\u001b[0m\n\u001b[1;32m    205\u001b[0m             \u001b[0;32mif\u001b[0m \u001b[0;32mnot\u001b[0m \u001b[0mself\u001b[0m\u001b[0;34m.\u001b[0m\u001b[0mshould_reject\u001b[0m\u001b[0;34m(\u001b[0m\u001b[0mattempt\u001b[0m\u001b[0;34m)\u001b[0m\u001b[0;34m:\u001b[0m\u001b[0;34m\u001b[0m\u001b[0;34m\u001b[0m\u001b[0m\n\u001b[0;32m--> 206\u001b[0;31m                 \u001b[0;32mreturn\u001b[0m \u001b[0mattempt\u001b[0m\u001b[0;34m.\u001b[0m\u001b[0mget\u001b[0m\u001b[0;34m(\u001b[0m\u001b[0mself\u001b[0m\u001b[0;34m.\u001b[0m\u001b[0m_wrap_exception\u001b[0m\u001b[0;34m)\u001b[0m\u001b[0;34m\u001b[0m\u001b[0;34m\u001b[0m\u001b[0m\n\u001b[0m\u001b[1;32m    207\u001b[0m \u001b[0;34m\u001b[0m\u001b[0m\n\u001b[1;32m    208\u001b[0m             \u001b[0mdelay_since_first_attempt_ms\u001b[0m \u001b[0;34m=\u001b[0m \u001b[0mint\u001b[0m\u001b[0;34m(\u001b[0m\u001b[0mround\u001b[0m\u001b[0;34m(\u001b[0m\u001b[0mtime\u001b[0m\u001b[0;34m.\u001b[0m\u001b[0mtime\u001b[0m\u001b[0;34m(\u001b[0m\u001b[0;34m)\u001b[0m \u001b[0;34m*\u001b[0m \u001b[0;36m1000\u001b[0m\u001b[0;34m)\u001b[0m\u001b[0;34m)\u001b[0m \u001b[0;34m-\u001b[0m \u001b[0mstart_time\u001b[0m\u001b[0;34m\u001b[0m\u001b[0;34m\u001b[0m\u001b[0m\n",
      "\u001b[0;32m~/opt/anaconda3/envs/fotocasa_env/lib/python3.7/site-packages/retrying.py\u001b[0m in \u001b[0;36mget\u001b[0;34m(self, wrap_exception)\u001b[0m\n\u001b[1;32m    245\u001b[0m                 \u001b[0;32mraise\u001b[0m \u001b[0mRetryError\u001b[0m\u001b[0;34m(\u001b[0m\u001b[0mself\u001b[0m\u001b[0;34m)\u001b[0m\u001b[0;34m\u001b[0m\u001b[0;34m\u001b[0m\u001b[0m\n\u001b[1;32m    246\u001b[0m             \u001b[0;32melse\u001b[0m\u001b[0;34m:\u001b[0m\u001b[0;34m\u001b[0m\u001b[0;34m\u001b[0m\u001b[0m\n\u001b[0;32m--> 247\u001b[0;31m                 \u001b[0msix\u001b[0m\u001b[0;34m.\u001b[0m\u001b[0mreraise\u001b[0m\u001b[0;34m(\u001b[0m\u001b[0mself\u001b[0m\u001b[0;34m.\u001b[0m\u001b[0mvalue\u001b[0m\u001b[0;34m[\u001b[0m\u001b[0;36m0\u001b[0m\u001b[0;34m]\u001b[0m\u001b[0;34m,\u001b[0m \u001b[0mself\u001b[0m\u001b[0;34m.\u001b[0m\u001b[0mvalue\u001b[0m\u001b[0;34m[\u001b[0m\u001b[0;36m1\u001b[0m\u001b[0;34m]\u001b[0m\u001b[0;34m,\u001b[0m \u001b[0mself\u001b[0m\u001b[0;34m.\u001b[0m\u001b[0mvalue\u001b[0m\u001b[0;34m[\u001b[0m\u001b[0;36m2\u001b[0m\u001b[0;34m]\u001b[0m\u001b[0;34m)\u001b[0m\u001b[0;34m\u001b[0m\u001b[0;34m\u001b[0m\u001b[0m\n\u001b[0m\u001b[1;32m    248\u001b[0m         \u001b[0;32melse\u001b[0m\u001b[0;34m:\u001b[0m\u001b[0;34m\u001b[0m\u001b[0;34m\u001b[0m\u001b[0m\n\u001b[1;32m    249\u001b[0m             \u001b[0;32mreturn\u001b[0m \u001b[0mself\u001b[0m\u001b[0;34m.\u001b[0m\u001b[0mvalue\u001b[0m\u001b[0;34m\u001b[0m\u001b[0;34m\u001b[0m\u001b[0m\n",
      "\u001b[0;32m~/opt/anaconda3/envs/fotocasa_env/lib/python3.7/site-packages/six.py\u001b[0m in \u001b[0;36mreraise\u001b[0;34m(tp, value, tb)\u001b[0m\n\u001b[1;32m    694\u001b[0m             \u001b[0;32mif\u001b[0m \u001b[0mvalue\u001b[0m\u001b[0;34m.\u001b[0m\u001b[0m__traceback__\u001b[0m \u001b[0;32mis\u001b[0m \u001b[0;32mnot\u001b[0m \u001b[0mtb\u001b[0m\u001b[0;34m:\u001b[0m\u001b[0;34m\u001b[0m\u001b[0;34m\u001b[0m\u001b[0m\n\u001b[1;32m    695\u001b[0m                 \u001b[0;32mraise\u001b[0m \u001b[0mvalue\u001b[0m\u001b[0;34m.\u001b[0m\u001b[0mwith_traceback\u001b[0m\u001b[0;34m(\u001b[0m\u001b[0mtb\u001b[0m\u001b[0;34m)\u001b[0m\u001b[0;34m\u001b[0m\u001b[0;34m\u001b[0m\u001b[0m\n\u001b[0;32m--> 696\u001b[0;31m             \u001b[0;32mraise\u001b[0m \u001b[0mvalue\u001b[0m\u001b[0;34m\u001b[0m\u001b[0;34m\u001b[0m\u001b[0m\n\u001b[0m\u001b[1;32m    697\u001b[0m         \u001b[0;32mfinally\u001b[0m\u001b[0;34m:\u001b[0m\u001b[0;34m\u001b[0m\u001b[0;34m\u001b[0m\u001b[0m\n\u001b[1;32m    698\u001b[0m             \u001b[0mvalue\u001b[0m \u001b[0;34m=\u001b[0m \u001b[0;32mNone\u001b[0m\u001b[0;34m\u001b[0m\u001b[0;34m\u001b[0m\u001b[0m\n",
      "\u001b[0;32m~/opt/anaconda3/envs/fotocasa_env/lib/python3.7/site-packages/retrying.py\u001b[0m in \u001b[0;36mcall\u001b[0;34m(self, fn, *args, **kwargs)\u001b[0m\n\u001b[1;32m    198\u001b[0m         \u001b[0;32mwhile\u001b[0m \u001b[0;32mTrue\u001b[0m\u001b[0;34m:\u001b[0m\u001b[0;34m\u001b[0m\u001b[0;34m\u001b[0m\u001b[0m\n\u001b[1;32m    199\u001b[0m             \u001b[0;32mtry\u001b[0m\u001b[0;34m:\u001b[0m\u001b[0;34m\u001b[0m\u001b[0;34m\u001b[0m\u001b[0m\n\u001b[0;32m--> 200\u001b[0;31m                 \u001b[0mattempt\u001b[0m \u001b[0;34m=\u001b[0m \u001b[0mAttempt\u001b[0m\u001b[0;34m(\u001b[0m\u001b[0mfn\u001b[0m\u001b[0;34m(\u001b[0m\u001b[0;34m*\u001b[0m\u001b[0margs\u001b[0m\u001b[0;34m,\u001b[0m \u001b[0;34m**\u001b[0m\u001b[0mkwargs\u001b[0m\u001b[0;34m)\u001b[0m\u001b[0;34m,\u001b[0m \u001b[0mattempt_number\u001b[0m\u001b[0;34m,\u001b[0m \u001b[0;32mFalse\u001b[0m\u001b[0;34m)\u001b[0m\u001b[0;34m\u001b[0m\u001b[0;34m\u001b[0m\u001b[0m\n\u001b[0m\u001b[1;32m    201\u001b[0m             \u001b[0;32mexcept\u001b[0m\u001b[0;34m:\u001b[0m\u001b[0;34m\u001b[0m\u001b[0;34m\u001b[0m\u001b[0m\n\u001b[1;32m    202\u001b[0m                 \u001b[0mtb\u001b[0m \u001b[0;34m=\u001b[0m \u001b[0msys\u001b[0m\u001b[0;34m.\u001b[0m\u001b[0mexc_info\u001b[0m\u001b[0;34m(\u001b[0m\u001b[0;34m)\u001b[0m\u001b[0;34m\u001b[0m\u001b[0;34m\u001b[0m\u001b[0m\n",
      "\u001b[0;32m~/opt/anaconda3/envs/fotocasa_env/lib/python3.7/site-packages/adobe_analytics/reports/report_downloader.py\u001b[0m in \u001b[0;36mget_report\u001b[0;34m(self, report_id, page_number)\u001b[0m\n\u001b[1;32m     62\u001b[0m             data={\n\u001b[1;32m     63\u001b[0m                 \u001b[0;34m\"reportID\"\u001b[0m\u001b[0;34m:\u001b[0m \u001b[0mreport_id\u001b[0m\u001b[0;34m,\u001b[0m\u001b[0;34m\u001b[0m\u001b[0;34m\u001b[0m\u001b[0m\n\u001b[0;32m---> 64\u001b[0;31m                 \u001b[0;34m\"page\"\u001b[0m\u001b[0;34m:\u001b[0m \u001b[0mpage_number\u001b[0m\u001b[0;34m\u001b[0m\u001b[0;34m\u001b[0m\u001b[0m\n\u001b[0m\u001b[1;32m     65\u001b[0m             }\n\u001b[1;32m     66\u001b[0m         )\n",
      "\u001b[0;32m~/opt/anaconda3/envs/fotocasa_env/lib/python3.7/site-packages/retrying.py\u001b[0m in \u001b[0;36mwrapped_f\u001b[0;34m(*args, **kw)\u001b[0m\n\u001b[1;32m     47\u001b[0m             \u001b[0;34m@\u001b[0m\u001b[0msix\u001b[0m\u001b[0;34m.\u001b[0m\u001b[0mwraps\u001b[0m\u001b[0;34m(\u001b[0m\u001b[0mf\u001b[0m\u001b[0;34m)\u001b[0m\u001b[0;34m\u001b[0m\u001b[0;34m\u001b[0m\u001b[0m\n\u001b[1;32m     48\u001b[0m             \u001b[0;32mdef\u001b[0m \u001b[0mwrapped_f\u001b[0m\u001b[0;34m(\u001b[0m\u001b[0;34m*\u001b[0m\u001b[0margs\u001b[0m\u001b[0;34m,\u001b[0m \u001b[0;34m**\u001b[0m\u001b[0mkw\u001b[0m\u001b[0;34m)\u001b[0m\u001b[0;34m:\u001b[0m\u001b[0;34m\u001b[0m\u001b[0;34m\u001b[0m\u001b[0m\n\u001b[0;32m---> 49\u001b[0;31m                 \u001b[0;32mreturn\u001b[0m \u001b[0mRetrying\u001b[0m\u001b[0;34m(\u001b[0m\u001b[0;34m*\u001b[0m\u001b[0mdargs\u001b[0m\u001b[0;34m,\u001b[0m \u001b[0;34m**\u001b[0m\u001b[0mdkw\u001b[0m\u001b[0;34m)\u001b[0m\u001b[0;34m.\u001b[0m\u001b[0mcall\u001b[0m\u001b[0;34m(\u001b[0m\u001b[0mf\u001b[0m\u001b[0;34m,\u001b[0m \u001b[0;34m*\u001b[0m\u001b[0margs\u001b[0m\u001b[0;34m,\u001b[0m \u001b[0;34m**\u001b[0m\u001b[0mkw\u001b[0m\u001b[0;34m)\u001b[0m\u001b[0;34m\u001b[0m\u001b[0;34m\u001b[0m\u001b[0m\n\u001b[0m\u001b[1;32m     50\u001b[0m \u001b[0;34m\u001b[0m\u001b[0m\n\u001b[1;32m     51\u001b[0m             \u001b[0;32mreturn\u001b[0m \u001b[0mwrapped_f\u001b[0m\u001b[0;34m\u001b[0m\u001b[0;34m\u001b[0m\u001b[0m\n",
      "\u001b[0;32m~/opt/anaconda3/envs/fotocasa_env/lib/python3.7/site-packages/retrying.py\u001b[0m in \u001b[0;36mcall\u001b[0;34m(self, fn, *args, **kwargs)\u001b[0m\n\u001b[1;32m    210\u001b[0m                 \u001b[0;32mif\u001b[0m \u001b[0;32mnot\u001b[0m \u001b[0mself\u001b[0m\u001b[0;34m.\u001b[0m\u001b[0m_wrap_exception\u001b[0m \u001b[0;32mand\u001b[0m \u001b[0mattempt\u001b[0m\u001b[0;34m.\u001b[0m\u001b[0mhas_exception\u001b[0m\u001b[0;34m:\u001b[0m\u001b[0;34m\u001b[0m\u001b[0;34m\u001b[0m\u001b[0m\n\u001b[1;32m    211\u001b[0m                     \u001b[0;31m# get() on an attempt with an exception should cause it to be raised, but raise just in case\u001b[0m\u001b[0;34m\u001b[0m\u001b[0;34m\u001b[0m\u001b[0;34m\u001b[0m\u001b[0m\n\u001b[0;32m--> 212\u001b[0;31m                     \u001b[0;32mraise\u001b[0m \u001b[0mattempt\u001b[0m\u001b[0;34m.\u001b[0m\u001b[0mget\u001b[0m\u001b[0;34m(\u001b[0m\u001b[0;34m)\u001b[0m\u001b[0;34m\u001b[0m\u001b[0;34m\u001b[0m\u001b[0m\n\u001b[0m\u001b[1;32m    213\u001b[0m                 \u001b[0;32melse\u001b[0m\u001b[0;34m:\u001b[0m\u001b[0;34m\u001b[0m\u001b[0;34m\u001b[0m\u001b[0m\n\u001b[1;32m    214\u001b[0m                     \u001b[0;32mraise\u001b[0m \u001b[0mRetryError\u001b[0m\u001b[0;34m(\u001b[0m\u001b[0mattempt\u001b[0m\u001b[0;34m)\u001b[0m\u001b[0;34m\u001b[0m\u001b[0;34m\u001b[0m\u001b[0m\n",
      "\u001b[0;32m~/opt/anaconda3/envs/fotocasa_env/lib/python3.7/site-packages/retrying.py\u001b[0m in \u001b[0;36mget\u001b[0;34m(self, wrap_exception)\u001b[0m\n\u001b[1;32m    245\u001b[0m                 \u001b[0;32mraise\u001b[0m \u001b[0mRetryError\u001b[0m\u001b[0;34m(\u001b[0m\u001b[0mself\u001b[0m\u001b[0;34m)\u001b[0m\u001b[0;34m\u001b[0m\u001b[0;34m\u001b[0m\u001b[0m\n\u001b[1;32m    246\u001b[0m             \u001b[0;32melse\u001b[0m\u001b[0;34m:\u001b[0m\u001b[0;34m\u001b[0m\u001b[0;34m\u001b[0m\u001b[0m\n\u001b[0;32m--> 247\u001b[0;31m                 \u001b[0msix\u001b[0m\u001b[0;34m.\u001b[0m\u001b[0mreraise\u001b[0m\u001b[0;34m(\u001b[0m\u001b[0mself\u001b[0m\u001b[0;34m.\u001b[0m\u001b[0mvalue\u001b[0m\u001b[0;34m[\u001b[0m\u001b[0;36m0\u001b[0m\u001b[0;34m]\u001b[0m\u001b[0;34m,\u001b[0m \u001b[0mself\u001b[0m\u001b[0;34m.\u001b[0m\u001b[0mvalue\u001b[0m\u001b[0;34m[\u001b[0m\u001b[0;36m1\u001b[0m\u001b[0;34m]\u001b[0m\u001b[0;34m,\u001b[0m \u001b[0mself\u001b[0m\u001b[0;34m.\u001b[0m\u001b[0mvalue\u001b[0m\u001b[0;34m[\u001b[0m\u001b[0;36m2\u001b[0m\u001b[0;34m]\u001b[0m\u001b[0;34m)\u001b[0m\u001b[0;34m\u001b[0m\u001b[0;34m\u001b[0m\u001b[0m\n\u001b[0m\u001b[1;32m    248\u001b[0m         \u001b[0;32melse\u001b[0m\u001b[0;34m:\u001b[0m\u001b[0;34m\u001b[0m\u001b[0;34m\u001b[0m\u001b[0m\n\u001b[1;32m    249\u001b[0m             \u001b[0;32mreturn\u001b[0m \u001b[0mself\u001b[0m\u001b[0;34m.\u001b[0m\u001b[0mvalue\u001b[0m\u001b[0;34m\u001b[0m\u001b[0;34m\u001b[0m\u001b[0m\n",
      "\u001b[0;32m~/opt/anaconda3/envs/fotocasa_env/lib/python3.7/site-packages/six.py\u001b[0m in \u001b[0;36mreraise\u001b[0;34m(tp, value, tb)\u001b[0m\n\u001b[1;32m    694\u001b[0m             \u001b[0;32mif\u001b[0m \u001b[0mvalue\u001b[0m\u001b[0;34m.\u001b[0m\u001b[0m__traceback__\u001b[0m \u001b[0;32mis\u001b[0m \u001b[0;32mnot\u001b[0m \u001b[0mtb\u001b[0m\u001b[0;34m:\u001b[0m\u001b[0;34m\u001b[0m\u001b[0;34m\u001b[0m\u001b[0m\n\u001b[1;32m    695\u001b[0m                 \u001b[0;32mraise\u001b[0m \u001b[0mvalue\u001b[0m\u001b[0;34m.\u001b[0m\u001b[0mwith_traceback\u001b[0m\u001b[0;34m(\u001b[0m\u001b[0mtb\u001b[0m\u001b[0;34m)\u001b[0m\u001b[0;34m\u001b[0m\u001b[0;34m\u001b[0m\u001b[0m\n\u001b[0;32m--> 696\u001b[0;31m             \u001b[0;32mraise\u001b[0m \u001b[0mvalue\u001b[0m\u001b[0;34m\u001b[0m\u001b[0;34m\u001b[0m\u001b[0m\n\u001b[0m\u001b[1;32m    697\u001b[0m         \u001b[0;32mfinally\u001b[0m\u001b[0;34m:\u001b[0m\u001b[0;34m\u001b[0m\u001b[0;34m\u001b[0m\u001b[0m\n\u001b[1;32m    698\u001b[0m             \u001b[0mvalue\u001b[0m \u001b[0;34m=\u001b[0m \u001b[0;32mNone\u001b[0m\u001b[0;34m\u001b[0m\u001b[0;34m\u001b[0m\u001b[0m\n",
      "\u001b[0;32m~/opt/anaconda3/envs/fotocasa_env/lib/python3.7/site-packages/retrying.py\u001b[0m in \u001b[0;36mcall\u001b[0;34m(self, fn, *args, **kwargs)\u001b[0m\n\u001b[1;32m    198\u001b[0m         \u001b[0;32mwhile\u001b[0m \u001b[0;32mTrue\u001b[0m\u001b[0;34m:\u001b[0m\u001b[0;34m\u001b[0m\u001b[0;34m\u001b[0m\u001b[0m\n\u001b[1;32m    199\u001b[0m             \u001b[0;32mtry\u001b[0m\u001b[0;34m:\u001b[0m\u001b[0;34m\u001b[0m\u001b[0;34m\u001b[0m\u001b[0m\n\u001b[0;32m--> 200\u001b[0;31m                 \u001b[0mattempt\u001b[0m \u001b[0;34m=\u001b[0m \u001b[0mAttempt\u001b[0m\u001b[0;34m(\u001b[0m\u001b[0mfn\u001b[0m\u001b[0;34m(\u001b[0m\u001b[0;34m*\u001b[0m\u001b[0margs\u001b[0m\u001b[0;34m,\u001b[0m \u001b[0;34m**\u001b[0m\u001b[0mkwargs\u001b[0m\u001b[0;34m)\u001b[0m\u001b[0;34m,\u001b[0m \u001b[0mattempt_number\u001b[0m\u001b[0;34m,\u001b[0m \u001b[0;32mFalse\u001b[0m\u001b[0;34m)\u001b[0m\u001b[0;34m\u001b[0m\u001b[0;34m\u001b[0m\u001b[0m\n\u001b[0m\u001b[1;32m    201\u001b[0m             \u001b[0;32mexcept\u001b[0m\u001b[0;34m:\u001b[0m\u001b[0;34m\u001b[0m\u001b[0;34m\u001b[0m\u001b[0m\n\u001b[1;32m    202\u001b[0m                 \u001b[0mtb\u001b[0m \u001b[0;34m=\u001b[0m \u001b[0msys\u001b[0m\u001b[0;34m.\u001b[0m\u001b[0mexc_info\u001b[0m\u001b[0;34m(\u001b[0m\u001b[0;34m)\u001b[0m\u001b[0;34m\u001b[0m\u001b[0;34m\u001b[0m\u001b[0m\n",
      "\u001b[0;32m~/opt/anaconda3/envs/fotocasa_env/lib/python3.7/site-packages/adobe_analytics/client.py\u001b[0m in \u001b[0;36mrequest\u001b[0;34m(self, api, method, data)\u001b[0m\n\u001b[1;32m     55\u001b[0m         \u001b[0mlogger\u001b[0m\u001b[0;34m.\u001b[0m\u001b[0mdebug\u001b[0m\u001b[0;34m(\u001b[0m\u001b[0;34m\"Response: {}\"\u001b[0m\u001b[0;34m.\u001b[0m\u001b[0mformat\u001b[0m\u001b[0;34m(\u001b[0m\u001b[0mjson_response\u001b[0m\u001b[0;34m)\u001b[0m\u001b[0;34m)\u001b[0m\u001b[0;34m\u001b[0m\u001b[0;34m\u001b[0m\u001b[0m\n\u001b[1;32m     56\u001b[0m         \u001b[0;32mif\u001b[0m \u001b[0misinstance\u001b[0m\u001b[0;34m(\u001b[0m\u001b[0mjson_response\u001b[0m\u001b[0;34m,\u001b[0m \u001b[0mdict\u001b[0m\u001b[0;34m)\u001b[0m \u001b[0;32mand\u001b[0m \u001b[0;34m(\u001b[0m\u001b[0;34m\"error\"\u001b[0m \u001b[0;32min\u001b[0m \u001b[0mjson_response\u001b[0m\u001b[0;34m)\u001b[0m\u001b[0;34m:\u001b[0m\u001b[0;34m\u001b[0m\u001b[0;34m\u001b[0m\u001b[0m\n\u001b[0;32m---> 57\u001b[0;31m             \u001b[0mself\u001b[0m\u001b[0;34m.\u001b[0m\u001b[0mraise_error\u001b[0m\u001b[0;34m(\u001b[0m\u001b[0mjson_response\u001b[0m\u001b[0;34m)\u001b[0m\u001b[0;34m\u001b[0m\u001b[0;34m\u001b[0m\u001b[0m\n\u001b[0m\u001b[1;32m     58\u001b[0m         \u001b[0;32mreturn\u001b[0m \u001b[0mjson_response\u001b[0m\u001b[0;34m\u001b[0m\u001b[0;34m\u001b[0m\u001b[0m\n\u001b[1;32m     59\u001b[0m \u001b[0;34m\u001b[0m\u001b[0m\n",
      "\u001b[0;32m~/opt/anaconda3/envs/fotocasa_env/lib/python3.7/site-packages/adobe_analytics/client.py\u001b[0m in \u001b[0;36mraise_error\u001b[0;34m(response)\u001b[0m\n\u001b[1;32m     87\u001b[0m             \u001b[0;32mraise\u001b[0m \u001b[0mFileNotFoundError\u001b[0m\u001b[0;34m(\u001b[0m\u001b[0merror_description\u001b[0m\u001b[0;34m)\u001b[0m\u001b[0;34m\u001b[0m\u001b[0;34m\u001b[0m\u001b[0m\n\u001b[1;32m     88\u001b[0m         \u001b[0;32melse\u001b[0m\u001b[0;34m:\u001b[0m\u001b[0;34m\u001b[0m\u001b[0;34m\u001b[0m\u001b[0m\n\u001b[0;32m---> 89\u001b[0;31m             \u001b[0;32mraise\u001b[0m \u001b[0mException\u001b[0m\u001b[0;34m(\u001b[0m\u001b[0merror_description\u001b[0m\u001b[0;34m)\u001b[0m\u001b[0;34m\u001b[0m\u001b[0;34m\u001b[0m\u001b[0m\n\u001b[0m\u001b[1;32m     90\u001b[0m \u001b[0;34m\u001b[0m\u001b[0m\n\u001b[1;32m     91\u001b[0m     \u001b[0;32mdef\u001b[0m \u001b[0m__repr__\u001b[0m\u001b[0;34m(\u001b[0m\u001b[0mself\u001b[0m\u001b[0;34m)\u001b[0m\u001b[0;34m:\u001b[0m\u001b[0;34m\u001b[0m\u001b[0;34m\u001b[0m\u001b[0m\n",
      "\u001b[0;31mException\u001b[0m: Warehouse request failed"
     ]
    }
   ],
   "source": [
    "# Request to Adobe Analystics Warehouse\n",
    "report_def = ReportDefinition(\n",
    "    dimensions=['marketingcloudvisitorid','page'],\n",
    "    metrics=['pageviews'],\n",
    "    segments=seg_android,\n",
    "    date_from=\"2020-01-01\",\n",
    "    date_to=\"2020-01-31\",\n",
    "    #granularity='day',\n",
    "    source=\"warehouse\"\n",
    ")\n",
    "# send the request\n",
    "%time dataframe = suite.download(report_def)"
   ]
  },
  {
   "cell_type": "code",
   "execution_count": 19,
   "metadata": {
    "scrolled": true
   },
   "outputs": [
    {
     "data": {
      "text/plain": [
       "(5205748, 3)"
      ]
     },
     "execution_count": 19,
     "metadata": {},
     "output_type": "execute_result"
    }
   ],
   "source": [
    "dataframe.head"
   ]
  },
  {
   "cell_type": "code",
   "execution_count": 20,
   "metadata": {},
   "outputs": [],
   "source": [
    "# remove spaces in columns names\n",
    "dataframe.columns = dataframe.columns.str.replace(' ', '_')\n",
    "dataframe.columns = dataframe.columns.str.replace('(', '_')\n",
    "dataframe.columns = dataframe.columns.str.replace(')', '_')\n",
    "dataframe = dataframe[dataframe.Marketing_Cloud_Visitor_ID!='00000000000000000000000000000000000000']\n",
    "dataframe.Page_Views = dataframe.Page_Views.astype(int)\n",
    "# dcast of the dataframe\n",
    "df = dataframe.pivot_table(index=['Marketing_Cloud_Visitor_ID'], columns='Page',\n",
    "                     values='Page_Views').reset_index()"
   ]
  },
  {
   "cell_type": "code",
   "execution_count": null,
   "metadata": {},
   "outputs": [],
   "source": [
    "# drop list views, as this will included in list type and list view requests\n",
    "del df['list']"
   ]
  },
  {
   "cell_type": "code",
   "execution_count": 22,
   "metadata": {},
   "outputs": [
    {
     "data": {
      "text/plain": [
       "(1064495, 23)"
      ]
     },
     "execution_count": 22,
     "metadata": {},
     "output_type": "execute_result"
    }
   ],
   "source": [
    "df.shape"
   ]
  },
  {
   "cell_type": "code",
   "execution_count": 23,
   "metadata": {},
   "outputs": [],
   "source": [
    "df.to_csv('Data/202001_android_page_views.csv', index=False)"
   ]
  },
  {
   "cell_type": "markdown",
   "metadata": {},
   "source": [
    "## 1.2 Page views por tipo de transacción"
   ]
  },
  {
   "cell_type": "code",
   "execution_count": null,
   "metadata": {},
   "outputs": [],
   "source": [
    "# Request to Adobe Analystics Warehouse\n",
    "report_def = ReportDefinition(\n",
    "    dimensions=['marketingcloudvisitorid','page','evar169'],\n",
    "    metrics=['pageviews'],\n",
    "    segments=seg_android,\n",
    "    date_from=\"2020-01-01\",\n",
    "    date_to=\"2020-01-02\",\n",
    "    #granularity='day',\n",
    "    source=\"warehouse\"\n",
    ")\n",
    "# send the request\n",
    "%time dataframe = suite.download(report_def)"
   ]
  },
  {
   "cell_type": "code",
   "execution_count": 21,
   "metadata": {},
   "outputs": [],
   "source": [
    "# remove spaces in columns names\n",
    "dataframe.columns = dataframe.columns.str.replace(' ', '_')\n",
    "dataframe.columns = dataframe.columns.str.replace('(', '_')\n",
    "dataframe.columns = dataframe.columns.str.replace(')', '_')\n",
    "dataframe = dataframe[dataframe.Marketing_Cloud_Visitor_ID!='00000000000000000000000000000000000000']\n",
    "# select pages\n",
    "dataframe = dataframe[dataframe['Page'].isin(['detail','detail_map', 'homepage','my_alerts_list'])]\n",
    "dataframe.Page_Views = dataframe.Page_Views.astype(int)"
   ]
  },
  {
   "cell_type": "code",
   "execution_count": 22,
   "metadata": {},
   "outputs": [],
   "source": [
    "df = dataframe[dataframe['Transaction'].isin(['SALE','RENT'])]\n",
    "# dcast of the dataframe\n",
    "df = df.pivot_table(index=['Marketing_Cloud_Visitor_ID'], columns=['Page','Transaction'],\n",
    "                     values='Page_Views').reset_index()"
   ]
  },
  {
   "cell_type": "code",
   "execution_count": 25,
   "metadata": {},
   "outputs": [
    {
     "name": "stdout",
     "output_type": "stream",
     "text": [
      "Should be true:\n",
      "True\n"
     ]
    }
   ],
   "source": [
    "cols = pd.Series(df.columns.tolist()).apply(pd.Series).sum(axis=1)\n",
    "df.columns = cols\n",
    "# check before saving into Excel\n",
    "print('Should be true:')\n",
    "print(df.shape[0]==len(list(df.Marketing_Cloud_Visitor_ID.unique())))"
   ]
  },
  {
   "cell_type": "code",
   "execution_count": 27,
   "metadata": {},
   "outputs": [],
   "source": [
    "df.to_csv('Data/202001_android_page_views_per_transaction.csv', index=False)"
   ]
  },
  {
   "cell_type": "markdown",
   "metadata": {},
   "source": [
    "1.3 List views and list types por tipo de transacción"
   ]
  },
  {
   "cell_type": "code",
   "execution_count": 7,
   "metadata": {
    "collapsed": true
   },
   "outputs": [
    {
     "name": "stdout",
     "output_type": "stream",
     "text": [
      "total page count: 8\n",
      "page number: 2\n",
      "page number: 3\n",
      "page number: 4\n",
      "page number: 5\n",
      "page number: 6\n",
      "page number: 7\n",
      "page number: 8\n",
      "CPU times: user 43 s, sys: 1.81 s, total: 44.8 s\n",
      "Wall time: 2h 49min 48s\n"
     ]
    }
   ],
   "source": [
    "# Request to Adobe Analystics Warehouse\n",
    "report_def = ReportDefinition(\n",
    "    dimensions=['marketingcloudvisitorid','evar126', 'evar169'],\n",
    "    metrics=['pageviews'],\n",
    "    segments=seg_android,\n",
    "    date_from=\"2020-01-01\",\n",
    "    date_to=\"2020-01-31\",\n",
    "    #granularity='day',\n",
    "    source=\"warehouse\"\n",
    ")\n",
    "# send the request\n",
    "%time dataframe1 = suite.download(report_def)"
   ]
  },
  {
   "cell_type": "code",
   "execution_count": 10,
   "metadata": {},
   "outputs": [
    {
     "name": "stdout",
     "output_type": "stream",
     "text": [
      "total page count: 7\n",
      "page number: 2\n",
      "page number: 3\n",
      "page number: 4\n",
      "page number: 5\n",
      "page number: 6\n",
      "page number: 7\n",
      "CPU times: user 39 s, sys: 1.01 s, total: 40 s\n",
      "Wall time: 1h 3min 10s\n"
     ]
    }
   ],
   "source": [
    "report_def = ReportDefinition(\n",
    "    dimensions=['marketingcloudvisitorid','evar125', 'evar169'],\n",
    "    metrics=['pageviews'],\n",
    "    segments=seg_android,\n",
    "    date_from=\"2020-01-01\",\n",
    "    date_to=\"2020-01-31\",\n",
    "    #granularity='day',\n",
    "    source=\"warehouse\"\n",
    ")\n",
    "# send the request\n",
    "%time dataframe2 = suite.download(report_def)"
   ]
  },
  {
   "cell_type": "code",
   "execution_count": 58,
   "metadata": {},
   "outputs": [],
   "source": [
    "# remove spaces in columns names\n",
    "dataframe1.columns = dataframe1.columns.str.replace(' ', '_')\n",
    "dataframe1.columns = dataframe1.columns.str.replace('(', '_')\n",
    "dataframe1.columns = dataframe1.columns.str.replace(')', '_')\n",
    "dataframe1 = dataframe1[dataframe1.Marketing_Cloud_Visitor_ID!='00000000000000000000000000000000000000']"
   ]
  },
  {
   "cell_type": "code",
   "execution_count": 59,
   "metadata": {},
   "outputs": [],
   "source": [
    "# remove spaces in columns names\n",
    "dataframe2.columns = dataframe2.columns.str.replace(' ', '_')\n",
    "dataframe2.columns = dataframe2.columns.str.replace('(', '_')\n",
    "dataframe2.columns = dataframe2.columns.str.replace(')', '_')\n",
    "dataframe2 = dataframe2[dataframe2.Marketing_Cloud_Visitor_ID!='00000000000000000000000000000000000000']\n",
    "dataframe1.Page_Views = dataframe1.Page_Views.astype(int)\n",
    "dataframe2.Page_Views = dataframe2.Page_Views.astype(int)"
   ]
  },
  {
   "cell_type": "code",
   "execution_count": 60,
   "metadata": {},
   "outputs": [
    {
     "name": "stdout",
     "output_type": "stream",
     "text": [
      "Número de usuarios en el perídodo seleccionado: 1091931\n",
      "Número de usuarios en el perídodo seleccionado: 1091949\n"
     ]
    }
   ],
   "source": [
    "n = len(list(dataframe1.Marketing_Cloud_Visitor_ID.unique()))\n",
    "print('Número de usuarios en el perídodo seleccionado:', n)\n",
    "n = len(list(dataframe2.Marketing_Cloud_Visitor_ID.unique()))\n",
    "print('Número de usuarios en el perídodo seleccionado:', n)"
   ]
  },
  {
   "cell_type": "code",
   "execution_count": 61,
   "metadata": {
    "scrolled": true
   },
   "outputs": [],
   "source": [
    "# exclude list_type = list because we have the 'list' variable in the list_view\n",
    "dataframe1 = dataframe1[dataframe1.List_Type!='list']"
   ]
  },
  {
   "cell_type": "code",
   "execution_count": 47,
   "metadata": {},
   "outputs": [],
   "source": [
    "df1 = dataframe1[dataframe1['Transaction'].isin(['SALE','RENT'])]\n",
    "# dcast of the dataframe\n",
    "df1 = df1.pivot_table(index=['Marketing_Cloud_Visitor_ID'], columns=['List_Type','Transaction'],\n",
    "                     values='Page_Views').reset_index()\n",
    "df2 = dataframe2[dataframe2['Transaction'].isin(['SALE','RENT'])]\n",
    "# dcast of the dataframe\n",
    "df2 = df2.pivot_table(index=['Marketing_Cloud_Visitor_ID'], columns=['List_View','Transaction'],\n",
    "                     values='Page_Views').reset_index()"
   ]
  },
  {
   "cell_type": "code",
   "execution_count": 49,
   "metadata": {},
   "outputs": [
    {
     "name": "stdout",
     "output_type": "stream",
     "text": [
      "Should be true:\n",
      "True\n",
      "677998\n"
     ]
    }
   ],
   "source": [
    "cols = pd.Series(df2.columns.tolist()).apply(pd.Series).sum(axis=1)\n",
    "df2.columns = cols\n",
    "# check before saving into Excel\n",
    "print('Should be true:')\n",
    "print(df2.shape[0]==len(list(df2.Marketing_Cloud_Visitor_ID.unique())))\n",
    "print(df2.shape[0])"
   ]
  },
  {
   "cell_type": "code",
   "execution_count": 51,
   "metadata": {},
   "outputs": [
    {
     "name": "stdout",
     "output_type": "stream",
     "text": [
      "Should be true:\n",
      "True\n",
      "260040\n"
     ]
    }
   ],
   "source": [
    "cols = pd.Series(df1.columns.tolist()).apply(pd.Series).sum(axis=1)\n",
    "df1.columns = cols\n",
    "# check before saving into Excel\n",
    "print('Should be true:')\n",
    "print(df1.shape[0]==len(list(df1.Marketing_Cloud_Visitor_ID.unique())))\n",
    "print(df1.shape[0])"
   ]
  },
  {
   "cell_type": "code",
   "execution_count": 52,
   "metadata": {},
   "outputs": [
    {
     "name": "stdout",
     "output_type": "stream",
     "text": [
      "(679057, 15)\n"
     ]
    }
   ],
   "source": [
    "df = pd.merge(df1, df2, on='Marketing_Cloud_Visitor_ID', how='outer')\n",
    "print(df.shape)"
   ]
  },
  {
   "cell_type": "code",
   "execution_count": 55,
   "metadata": {},
   "outputs": [],
   "source": [
    "df.to_csv('Data/202001_android_list_views_per_transaction.csv', index=False)"
   ]
  },
  {
   "cell_type": "markdown",
   "metadata": {},
   "source": [
    "1.4 All list view and list type"
   ]
  },
  {
   "cell_type": "code",
   "execution_count": 56,
   "metadata": {},
   "outputs": [
    {
     "name": "stdout",
     "output_type": "stream",
     "text": [
      "total page count: 5\n",
      "page number: 2\n",
      "page number: 3\n",
      "page number: 4\n",
      "page number: 5\n",
      "CPU times: user 21.5 s, sys: 729 ms, total: 22.2 s\n",
      "Wall time: 1h 1min 24s\n"
     ]
    }
   ],
   "source": [
    "# Request to Adobe Analystics Warehouse\n",
    "report_def = ReportDefinition(\n",
    "    dimensions=['marketingcloudvisitorid','evar126'],\n",
    "    metrics=['pageviews'],\n",
    "    segments=seg_android,\n",
    "    date_from=\"2020-01-01\",\n",
    "    date_to=\"2020-01-31\",\n",
    "    #granularity='day',\n",
    "    source=\"warehouse\"\n",
    ")\n",
    "# send the request\n",
    "%time dataframe1 = suite.download(report_def)"
   ]
  },
  {
   "cell_type": "code",
   "execution_count": 57,
   "metadata": {},
   "outputs": [
    {
     "name": "stdout",
     "output_type": "stream",
     "text": [
      "total page count: 5\n",
      "page number: 2\n",
      "page number: 3\n",
      "page number: 4\n",
      "page number: 5\n",
      "CPU times: user 2 µs, sys: 0 ns, total: 2 µs\n",
      "Wall time: 4.77 µs\n"
     ]
    }
   ],
   "source": [
    "report_def = ReportDefinition(\n",
    "    dimensions=['marketingcloudvisitorid','evar125'],\n",
    "    metrics=['pageviews'],\n",
    "    segments=seg_android,\n",
    "    date_from=\"2020-01-01\",\n",
    "    date_to=\"2020-01-31\",\n",
    "    #granularity='day',\n",
    "    source=\"warehouse\"\n",
    ")\n",
    "# send the request\n",
    "dataframe2 = suite.download(report_def)\n",
    "%time"
   ]
  },
  {
   "cell_type": "code",
   "execution_count": 228,
   "metadata": {
    "collapsed": true
   },
   "outputs": [
    {
     "name": "stderr",
     "output_type": "stream",
     "text": [
      "/Users/piermarco.milione/opt/anaconda3/envs/fotocasa_env/lib/python3.7/site-packages/pandas/core/generic.py:5208: SettingWithCopyWarning: \n",
      "A value is trying to be set on a copy of a slice from a DataFrame.\n",
      "Try using .loc[row_indexer,col_indexer] = value instead\n",
      "\n",
      "See the caveats in the documentation: http://pandas.pydata.org/pandas-docs/stable/user_guide/indexing.html#returning-a-view-versus-a-copy\n",
      "  self[name] = value\n"
     ]
    }
   ],
   "source": [
    "# remove spaces in columns names\n",
    "dataframe1.columns = dataframe1.columns.str.replace(' ', '_')\n",
    "dataframe1.columns = dataframe1.columns.str.replace('(', '_')\n",
    "dataframe1.columns = dataframe1.columns.str.replace(')', '_')\n",
    "dataframe1 = dataframe1[dataframe1.Marketing_Cloud_Visitor_ID!='00000000000000000000000000000000000000']\n",
    "# remove spaces in columns names\n",
    "dataframe2.columns = dataframe2.columns.str.replace(' ', '_')\n",
    "dataframe2.columns = dataframe2.columns.str.replace('(', '_')\n",
    "dataframe2.columns = dataframe2.columns.str.replace(')', '_')\n",
    "dataframe2 = dataframe2[dataframe2.Marketing_Cloud_Visitor_ID!='00000000000000000000000000000000000000']\n",
    "dataframe1.Page_Views = dataframe1.Page_Views.astype(int)\n",
    "dataframe2.Page_Views = dataframe2.Page_Views.astype(int)"
   ]
  },
  {
   "cell_type": "code",
   "execution_count": 65,
   "metadata": {},
   "outputs": [
    {
     "name": "stdout",
     "output_type": "stream",
     "text": [
      "Número de usuarios en el perídodo seleccionado: 1091498\n",
      "Número de usuarios en el perídodo seleccionado: 1091949\n"
     ]
    }
   ],
   "source": [
    "n = len(list(dataframe1.Marketing_Cloud_Visitor_ID.unique()))\n",
    "print('Número de usuarios en el perídodo seleccionado:', n)\n",
    "n = len(list(dataframe2.Marketing_Cloud_Visitor_ID.unique()))\n",
    "print('Número de usuarios en el perídodo seleccionado:', n)"
   ]
  },
  {
   "cell_type": "code",
   "execution_count": 232,
   "metadata": {},
   "outputs": [],
   "source": [
    "# exclude list_type = list because we have the 'list' variable in the list_view\n",
    "dataframe1 = dataframe1[dataframe1.List_Type!='list']"
   ]
  },
  {
   "cell_type": "code",
   "execution_count": 66,
   "metadata": {},
   "outputs": [],
   "source": [
    "# dcast of the dataframe\n",
    "df1 = dataframe1.pivot_table(index=['Marketing_Cloud_Visitor_ID'], columns=['List_Type'],\n",
    "                     values='Page_Views').reset_index()\n",
    "# dcast of the dataframe\n",
    "df2 = dataframe2.pivot_table(index=['Marketing_Cloud_Visitor_ID'], columns=['List_View'],\n",
    "                     values='Page_Views').reset_index()"
   ]
  },
  {
   "cell_type": "code",
   "execution_count": 69,
   "metadata": {
    "scrolled": true
   },
   "outputs": [
    {
     "name": "stdout",
     "output_type": "stream",
     "text": [
      "Should be true:\n",
      "265202\n",
      "True\n",
      "Should be true:\n",
      "681778\n",
      "True\n",
      "(683262, 8)\n"
     ]
    }
   ],
   "source": [
    "## check before saving into Excel\n",
    "print('Should be true:')\n",
    "print(df1.shape[0])\n",
    "print(df1.shape[0]==len(list(df1.Marketing_Cloud_Visitor_ID.unique())))\n",
    "print('Should be true:')\n",
    "print(df2.shape[0])\n",
    "print(df2.shape[0]==len(list(df2.Marketing_Cloud_Visitor_ID.unique())))\n",
    "df = pd.merge(df1, df2, on='Marketing_Cloud_Visitor_ID', how='outer')\n",
    "print(df.shape)"
   ]
  },
  {
   "cell_type": "code",
   "execution_count": 70,
   "metadata": {},
   "outputs": [],
   "source": [
    "df.to_csv('Data/202001_android_list_views.csv', index=False)"
   ]
  },
  {
   "cell_type": "markdown",
   "metadata": {},
   "source": [
    "1.5 All events"
   ]
  },
  {
   "cell_type": "code",
   "execution_count": 6,
   "metadata": {},
   "outputs": [
    {
     "name": "stdout",
     "output_type": "stream",
     "text": [
      "total page count: 7\n",
      "page number: 2\n",
      "page number: 3\n",
      "page number: 4\n",
      "page number: 5\n",
      "page number: 6\n",
      "page number: 7\n",
      "CPU times: user 20.4 s, sys: 1.4 s, total: 21.8 s\n",
      "Wall time: 3h 13min 25s\n"
     ]
    }
   ],
   "source": [
    "# Request to Adobe Analystics Warehouse\n",
    "all_events = list(lista_de_eventos.id)\n",
    "report_def = ReportDefinition(\n",
    "    dimensions=['marketingcloudvisitorid'],\n",
    "    metrics=all_events,\n",
    "    segments=seg_android,\n",
    "    date_from=\"2020-01-01\",\n",
    "    date_to=\"2020-01-31\",\n",
    "    #granularity='day',\n",
    "    source=\"warehouse\"\n",
    ")\n",
    "# send the request\n",
    "%time dataframe = suite.download(report_def)"
   ]
  },
  {
   "cell_type": "code",
   "execution_count": 11,
   "metadata": {},
   "outputs": [],
   "source": [
    "# remove spaces in columns names\n",
    "dataframe.columns = dataframe.columns.str.replace(' ', '_')\n",
    "dataframe.columns = dataframe.columns.str.replace('(', '_')\n",
    "dataframe.columns = dataframe.columns.str.replace(')', '_')\n",
    "dataframe = dataframe[dataframe.Marketing_Cloud_Visitor_ID!='00000000000000000000000000000000000000']"
   ]
  },
  {
   "cell_type": "code",
   "execution_count": 12,
   "metadata": {},
   "outputs": [
    {
     "name": "stdout",
     "output_type": "stream",
     "text": [
      "Número de usuarios en el perídodo seleccionado: 1091816\n"
     ]
    }
   ],
   "source": [
    "n = len(list(dataframe.Marketing_Cloud_Visitor_ID.unique()))\n",
    "print('Número de usuarios en el perídodo seleccionado:', n)"
   ]
  },
  {
   "cell_type": "code",
   "execution_count": 13,
   "metadata": {
    "scrolled": true
   },
   "outputs": [
    {
     "name": "stdout",
     "output_type": "stream",
     "text": [
      "Número de usuarios en el perídodo seleccionado: 1091816\n",
      "Check must be True:\n",
      "True\n"
     ]
    }
   ],
   "source": [
    "n = len(list(dataframe.Marketing_Cloud_Visitor_ID.unique()))\n",
    "print('Número de usuarios en el perídodo seleccionado:', n)\n",
    "print('Check must be True:')\n",
    "print(dataframe.shape[0]==len(list(dataframe.Marketing_Cloud_Visitor_ID.unique())))"
   ]
  },
  {
   "cell_type": "code",
   "execution_count": 19,
   "metadata": {},
   "outputs": [],
   "source": [
    "dataframe.to_csv('Data/202001_android_events.csv', index=False)"
   ]
  },
  {
   "cell_type": "markdown",
   "metadata": {},
   "source": [
    "1.6 Selected events per transaction"
   ]
  },
  {
   "cell_type": "code",
   "execution_count": 151,
   "metadata": {},
   "outputs": [
    {
     "name": "stdout",
     "output_type": "stream",
     "text": [
      "total page count: 7\n",
      "page number: 2\n",
      "page number: 3\n",
      "page number: 4\n",
      "page number: 5\n",
      "page number: 6\n",
      "page number: 7\n",
      "CPU times: user 28.4 s, sys: 1.4 s, total: 29.8 s\n",
      "Wall time: 1h 4min 8s\n"
     ]
    }
   ],
   "source": [
    "# Request to Adobe Analystics Warehouse\n",
    "report_def = ReportDefinition(\n",
    "    dimensions=['marketingcloudvisitorid','evar169'],\n",
    "    metrics=['event1','event2','event7','event107','event31','event40'],\n",
    "    segments=seg_android,\n",
    "    date_from=\"2020-01-01\",\n",
    "    date_to=\"2020-01-31\",\n",
    "    #granularity='day',\n",
    "    source=\"warehouse\"\n",
    ")\n",
    "# send the request\n",
    "%time dataframe = suite.download(report_def)"
   ]
  },
  {
   "cell_type": "code",
   "execution_count": 152,
   "metadata": {},
   "outputs": [],
   "source": [
    "# remove spaces in columns names\n",
    "dataframe.columns = dataframe.columns.str.replace(' ', '_')\n",
    "dataframe.columns = dataframe.columns.str.replace('(', '_')\n",
    "dataframe.columns = dataframe.columns.str.replace(')', '_')\n",
    "dataframe = dataframe[dataframe.Marketing_Cloud_Visitor_ID!='00000000000000000000000000000000000000']"
   ]
  },
  {
   "cell_type": "code",
   "execution_count": 153,
   "metadata": {
    "scrolled": true
   },
   "outputs": [
    {
     "name": "stdout",
     "output_type": "stream",
     "text": [
      "Número de usuarios en el perídodo seleccionado: 1093027\n"
     ]
    }
   ],
   "source": [
    "n = len(list(dataframe.Marketing_Cloud_Visitor_ID.unique()))\n",
    "print('Número de usuarios en el perídodo seleccionado:', n)"
   ]
  },
  {
   "cell_type": "code",
   "execution_count": 155,
   "metadata": {},
   "outputs": [],
   "source": [
    "df = dataframe[dataframe['Transaction'].isin(['SALE','RENT'])]"
   ]
  },
  {
   "cell_type": "code",
   "execution_count": 156,
   "metadata": {},
   "outputs": [
    {
     "data": {
      "text/plain": [
       "Index(['Marketing_Cloud_Visitor_ID', 'Transaction', 'Lead_Confirmation_eMail',\n",
       "       'Lead_Callphone', 'Lead_View_Phone', 'Lead_Counteroffer_eMail',\n",
       "       'Alert_Added', 'Ad_Favourited'],\n",
       "      dtype='object')"
      ]
     },
     "execution_count": 156,
     "metadata": {},
     "output_type": "execute_result"
    }
   ],
   "source": [
    "dataframe.columns"
   ]
  },
  {
   "cell_type": "code",
   "execution_count": 158,
   "metadata": {},
   "outputs": [
    {
     "name": "stderr",
     "output_type": "stream",
     "text": [
      "/Users/piermarco.milione/opt/anaconda3/envs/fotocasa_env/lib/python3.7/site-packages/pandas/core/indexing.py:576: SettingWithCopyWarning: \n",
      "A value is trying to be set on a copy of a slice from a DataFrame.\n",
      "Try using .loc[row_indexer,col_indexer] = value instead\n",
      "\n",
      "See the caveats in the documentation: http://pandas.pydata.org/pandas-docs/stable/user_guide/indexing.html#returning-a-view-versus-a-copy\n",
      "  self.obj[item_labels[indexer[info_axis]]] = value\n",
      "/Users/piermarco.milione/opt/anaconda3/envs/fotocasa_env/lib/python3.7/site-packages/pandas/core/indexing.py:494: SettingWithCopyWarning: \n",
      "A value is trying to be set on a copy of a slice from a DataFrame.\n",
      "Try using .loc[row_indexer,col_indexer] = value instead\n",
      "\n",
      "See the caveats in the documentation: http://pandas.pydata.org/pandas-docs/stable/user_guide/indexing.html#returning-a-view-versus-a-copy\n",
      "  self.obj[item] = s\n"
     ]
    }
   ],
   "source": [
    "# change datatype to all events columns in dataframe\n",
    "selected_cols = df.columns.str.contains(\"Lead\")\n",
    "selected_cols = list(df.columns[selected_cols])\n",
    "selected_cols = list(set().union(selected_cols, ['Alert_Added','Ad_Favourited']))\n",
    "for col in selected_cols:\n",
    "    df.loc[:,(col)] = df[col].astype('int')"
   ]
  },
  {
   "cell_type": "code",
   "execution_count": 160,
   "metadata": {},
   "outputs": [],
   "source": [
    "# dcast of the dataframe\n",
    "df = df.pivot_table(index=['Marketing_Cloud_Visitor_ID'], columns=['Transaction'],\n",
    "                     values=selected_cols).reset_index()"
   ]
  },
  {
   "cell_type": "code",
   "execution_count": 162,
   "metadata": {},
   "outputs": [],
   "source": [
    "# create new names for columns after pivot\n",
    "cols = pd.Series(df.columns.tolist()).apply(pd.Series).sum(axis=1)\n",
    "df.columns = cols"
   ]
  },
  {
   "cell_type": "code",
   "execution_count": 163,
   "metadata": {
    "scrolled": true
   },
   "outputs": [
    {
     "name": "stdout",
     "output_type": "stream",
     "text": [
      "Número de usuarios en el perídodo seleccionado: 1022253\n",
      "Check must be True:\n",
      "True\n"
     ]
    }
   ],
   "source": [
    "n = len(list(df.Marketing_Cloud_Visitor_ID.unique()))\n",
    "print('Número de usuarios en el perídodo seleccionado:', n)\n",
    "print('Check must be True:')\n",
    "print(df.shape[0]==len(list(df.Marketing_Cloud_Visitor_ID.unique())))"
   ]
  },
  {
   "cell_type": "code",
   "execution_count": 166,
   "metadata": {},
   "outputs": [],
   "source": [
    "df.to_csv('Data/202001_android_events_per_transaction.csv', index=False)"
   ]
  },
  {
   "cell_type": "markdown",
   "metadata": {},
   "source": [
    "1.5 Lead events per province"
   ]
  },
  {
   "cell_type": "code",
   "execution_count": 1,
   "metadata": {},
   "outputs": [
    {
     "ename": "NameError",
     "evalue": "name 'lista_de_eventos' is not defined",
     "output_type": "error",
     "traceback": [
      "\u001b[0;31m---------------------------------------------------------------------------\u001b[0m",
      "\u001b[0;31mNameError\u001b[0m                                 Traceback (most recent call last)",
      "\u001b[0;32m<ipython-input-1-209fe646676f>\u001b[0m in \u001b[0;36m<module>\u001b[0;34m\u001b[0m\n\u001b[1;32m      1\u001b[0m \u001b[0;31m# Request to Adobe Analystics Warehouse\u001b[0m\u001b[0;34m\u001b[0m\u001b[0;34m\u001b[0m\u001b[0;34m\u001b[0m\u001b[0m\n\u001b[0;32m----> 2\u001b[0;31m \u001b[0mall_events\u001b[0m \u001b[0;34m=\u001b[0m \u001b[0mlist\u001b[0m\u001b[0;34m(\u001b[0m\u001b[0mlista_de_eventos\u001b[0m\u001b[0;34m.\u001b[0m\u001b[0mid\u001b[0m\u001b[0;34m)\u001b[0m\u001b[0;34m\u001b[0m\u001b[0;34m\u001b[0m\u001b[0m\n\u001b[0m\u001b[1;32m      3\u001b[0m report_def = ReportDefinition(\n\u001b[1;32m      4\u001b[0m     \u001b[0mdimensions\u001b[0m\u001b[0;34m=\u001b[0m\u001b[0;34m[\u001b[0m\u001b[0;34m'marketingcloudvisitorid'\u001b[0m\u001b[0;34m,\u001b[0m\u001b[0;34m'evar57'\u001b[0m\u001b[0;34m]\u001b[0m\u001b[0;34m,\u001b[0m\u001b[0;34m\u001b[0m\u001b[0;34m\u001b[0m\u001b[0m\n\u001b[1;32m      5\u001b[0m     \u001b[0mmetrics\u001b[0m\u001b[0;34m=\u001b[0m\u001b[0;34m[\u001b[0m\u001b[0;34m'event1'\u001b[0m\u001b[0;34m,\u001b[0m\u001b[0;34m'event2'\u001b[0m\u001b[0;34m,\u001b[0m\u001b[0;34m'event7'\u001b[0m\u001b[0;34m,\u001b[0m\u001b[0;34m'event107'\u001b[0m\u001b[0;34m]\u001b[0m\u001b[0;34m,\u001b[0m\u001b[0;34m\u001b[0m\u001b[0;34m\u001b[0m\u001b[0m\n",
      "\u001b[0;31mNameError\u001b[0m: name 'lista_de_eventos' is not defined"
     ]
    }
   ],
   "source": [
    "# Request to Adobe Analystics Warehouse\n",
    "all_events = list(lista_de_eventos.id)\n",
    "report_def = ReportDefinition(\n",
    "    dimensions=['marketingcloudvisitorid','evar57'],\n",
    "    metrics=['event1','event2','event7','event107'],\n",
    "    segments=seg_android,\n",
    "    date_from=\"2020-01-01\",\n",
    "    date_to=\"2020-01-31\",\n",
    "    #granularity='day',\n",
    "    source=\"warehouse\"\n",
    ")\n",
    "# send the request\n",
    "%time dataframe = suite.download(report_def)"
   ]
  },
  {
   "cell_type": "code",
   "execution_count": 9,
   "metadata": {},
   "outputs": [],
   "source": [
    "# remove spaces in columns names\n",
    "dataframe.columns = dataframe.columns.str.replace(' ', '_')\n",
    "dataframe.columns = dataframe.columns.str.replace('(', '_')\n",
    "dataframe.columns = dataframe.columns.str.replace(')', '_')\n",
    "dataframe = dataframe[dataframe.Marketing_Cloud_Visitor_ID!='00000000000000000000000000000000000000']"
   ]
  },
  {
   "cell_type": "code",
   "execution_count": 33,
   "metadata": {
    "scrolled": true
   },
   "outputs": [
    {
     "data": {
      "text/plain": [
       "1092319"
      ]
     },
     "execution_count": 33,
     "metadata": {},
     "output_type": "execute_result"
    }
   ],
   "source": [
    "len(list(dataframe.Marketing_Cloud_Visitor_ID.unique()))"
   ]
  },
  {
   "cell_type": "code",
   "execution_count": 13,
   "metadata": {
    "scrolled": true
   },
   "outputs": [],
   "source": [
    "#prov = pd.DataFrame(dataframe.province.unique())\n",
    "#prov.to_excel('Data/province_list.xlsx', index=False)"
   ]
  },
  {
   "cell_type": "markdown",
   "metadata": {},
   "source": [
    "prov = pd.read_excel('province_list.xlsx')\n",
    "PIB = pd.read_excel('PIB_provincias.xlsx',index=True)\n",
    "PIB = PIB[['prov','Peso PIB']]\n",
    "prov = prov.rename(columns={'Nombre':'prov'})\n",
    "prov.prov = [str(x).lower() for x in prov.prov]\n",
    "PIB.prov = [str(x).lower() for x in PIB.prov]\n",
    "prov1 = pd.merge(prov, PIB, on='prov', how='left')\n",
    "prov1.to_excel('province_list.xlsx', index=False)"
   ]
  },
  {
   "cell_type": "code",
   "execution_count": 34,
   "metadata": {},
   "outputs": [],
   "source": [
    "prov = pd.read_excel('Data/province_list.xlsx')\n",
    "prov['peso_pib'] = round(prov['peso_pib']*100,2)\n",
    "prov = prov.sort_values('peso_pib', axis=0, ascending=False, inplace=False, \n",
    "                        kind='quicksort', na_position='last').reset_index(drop=True)"
   ]
  },
  {
   "cell_type": "code",
   "execution_count": 35,
   "metadata": {
    "collapsed": true
   },
   "outputs": [
    {
     "data": {
      "text/html": [
       "<div>\n",
       "<style scoped>\n",
       "    .dataframe tbody tr th:only-of-type {\n",
       "        vertical-align: middle;\n",
       "    }\n",
       "\n",
       "    .dataframe tbody tr th {\n",
       "        vertical-align: top;\n",
       "    }\n",
       "\n",
       "    .dataframe thead th {\n",
       "        text-align: right;\n",
       "    }\n",
       "</style>\n",
       "<table border=\"1\" class=\"dataframe\">\n",
       "  <thead>\n",
       "    <tr style=\"text-align: right;\">\n",
       "      <th></th>\n",
       "      <th>prov</th>\n",
       "      <th>peso_pib</th>\n",
       "    </tr>\n",
       "  </thead>\n",
       "  <tbody>\n",
       "    <tr>\n",
       "      <th>0</th>\n",
       "      <td>madrid</td>\n",
       "      <td>18.87</td>\n",
       "    </tr>\n",
       "    <tr>\n",
       "      <th>1</th>\n",
       "      <td>barcelona</td>\n",
       "      <td>14.01</td>\n",
       "    </tr>\n",
       "    <tr>\n",
       "      <th>2</th>\n",
       "      <td>valencia</td>\n",
       "      <td>5.01</td>\n",
       "    </tr>\n",
       "    <tr>\n",
       "      <th>3</th>\n",
       "      <td>sevilla</td>\n",
       "      <td>3.32</td>\n",
       "    </tr>\n",
       "    <tr>\n",
       "      <th>4</th>\n",
       "      <td>bizkaia</td>\n",
       "      <td>3.10</td>\n",
       "    </tr>\n",
       "    <tr>\n",
       "      <th>5</th>\n",
       "      <td>alicante</td>\n",
       "      <td>3.10</td>\n",
       "    </tr>\n",
       "    <tr>\n",
       "      <th>6</th>\n",
       "      <td>murcia</td>\n",
       "      <td>2.61</td>\n",
       "    </tr>\n",
       "    <tr>\n",
       "      <th>7</th>\n",
       "      <td>m??laga</td>\n",
       "      <td>2.60</td>\n",
       "    </tr>\n",
       "    <tr>\n",
       "      <th>8</th>\n",
       "      <td>illes balears</td>\n",
       "      <td>2.53</td>\n",
       "    </tr>\n",
       "    <tr>\n",
       "      <th>9</th>\n",
       "      <td>a coru??a</td>\n",
       "      <td>2.30</td>\n",
       "    </tr>\n",
       "    <tr>\n",
       "      <th>10</th>\n",
       "      <td>zaragoza</td>\n",
       "      <td>2.27</td>\n",
       "    </tr>\n",
       "    <tr>\n",
       "      <th>11</th>\n",
       "      <td>tarragona</td>\n",
       "      <td>2.06</td>\n",
       "    </tr>\n",
       "    <tr>\n",
       "      <th>12</th>\n",
       "      <td>gipuzkoa</td>\n",
       "      <td>2.00</td>\n",
       "    </tr>\n",
       "    <tr>\n",
       "      <th>13</th>\n",
       "      <td>las palmas</td>\n",
       "      <td>1.98</td>\n",
       "    </tr>\n",
       "    <tr>\n",
       "      <th>14</th>\n",
       "      <td>asturias</td>\n",
       "      <td>1.97</td>\n",
       "    </tr>\n",
       "    <tr>\n",
       "      <th>15</th>\n",
       "      <td>girona</td>\n",
       "      <td>1.85</td>\n",
       "    </tr>\n",
       "    <tr>\n",
       "      <th>16</th>\n",
       "      <td>c??diz</td>\n",
       "      <td>1.80</td>\n",
       "    </tr>\n",
       "    <tr>\n",
       "      <th>17</th>\n",
       "      <td>santa cruz de tenerife</td>\n",
       "      <td>1.80</td>\n",
       "    </tr>\n",
       "    <tr>\n",
       "      <th>18</th>\n",
       "      <td>pontevedra</td>\n",
       "      <td>1.73</td>\n",
       "    </tr>\n",
       "    <tr>\n",
       "      <th>19</th>\n",
       "      <td>navarra</td>\n",
       "      <td>1.72</td>\n",
       "    </tr>\n",
       "    <tr>\n",
       "      <th>20</th>\n",
       "      <td>granada</td>\n",
       "      <td>1.44</td>\n",
       "    </tr>\n",
       "    <tr>\n",
       "      <th>21</th>\n",
       "      <td>castell??n</td>\n",
       "      <td>1.20</td>\n",
       "    </tr>\n",
       "    <tr>\n",
       "      <th>22</th>\n",
       "      <td>c??rdoba</td>\n",
       "      <td>1.20</td>\n",
       "    </tr>\n",
       "    <tr>\n",
       "      <th>23</th>\n",
       "      <td>valladolid</td>\n",
       "      <td>1.15</td>\n",
       "    </tr>\n",
       "    <tr>\n",
       "      <th>24</th>\n",
       "      <td>cantabria</td>\n",
       "      <td>1.13</td>\n",
       "    </tr>\n",
       "    <tr>\n",
       "      <th>25</th>\n",
       "      <td>lleida</td>\n",
       "      <td>1.13</td>\n",
       "    </tr>\n",
       "    <tr>\n",
       "      <th>26</th>\n",
       "      <td>toledo</td>\n",
       "      <td>1.10</td>\n",
       "    </tr>\n",
       "    <tr>\n",
       "      <th>27</th>\n",
       "      <td>ja??n</td>\n",
       "      <td>1.00</td>\n",
       "    </tr>\n",
       "    <tr>\n",
       "      <th>28</th>\n",
       "      <td>almer??a</td>\n",
       "      <td>1.00</td>\n",
       "    </tr>\n",
       "    <tr>\n",
       "      <th>29</th>\n",
       "      <td>badajoz</td>\n",
       "      <td>1.00</td>\n",
       "    </tr>\n",
       "    <tr>\n",
       "      <th>30</th>\n",
       "      <td>le??n</td>\n",
       "      <td>0.90</td>\n",
       "    </tr>\n",
       "    <tr>\n",
       "      <th>31</th>\n",
       "      <td>ciudad real</td>\n",
       "      <td>0.90</td>\n",
       "    </tr>\n",
       "    <tr>\n",
       "      <th>32</th>\n",
       "      <td>burgos</td>\n",
       "      <td>0.87</td>\n",
       "    </tr>\n",
       "    <tr>\n",
       "      <th>33</th>\n",
       "      <td>huelva</td>\n",
       "      <td>0.84</td>\n",
       "    </tr>\n",
       "    <tr>\n",
       "      <th>34</th>\n",
       "      <td>la rioja</td>\n",
       "      <td>0.73</td>\n",
       "    </tr>\n",
       "    <tr>\n",
       "      <th>35</th>\n",
       "      <td>albacete</td>\n",
       "      <td>0.67</td>\n",
       "    </tr>\n",
       "    <tr>\n",
       "      <th>36</th>\n",
       "      <td>lugo</td>\n",
       "      <td>0.66</td>\n",
       "    </tr>\n",
       "    <tr>\n",
       "      <th>37</th>\n",
       "      <td>salamanca</td>\n",
       "      <td>0.61</td>\n",
       "    </tr>\n",
       "    <tr>\n",
       "      <th>38</th>\n",
       "      <td>c??ceres</td>\n",
       "      <td>0.60</td>\n",
       "    </tr>\n",
       "    <tr>\n",
       "      <th>39</th>\n",
       "      <td>ourense</td>\n",
       "      <td>0.57</td>\n",
       "    </tr>\n",
       "    <tr>\n",
       "      <th>40</th>\n",
       "      <td>huesca</td>\n",
       "      <td>0.52</td>\n",
       "    </tr>\n",
       "    <tr>\n",
       "      <th>41</th>\n",
       "      <td>guadalajara</td>\n",
       "      <td>0.43</td>\n",
       "    </tr>\n",
       "    <tr>\n",
       "      <th>42</th>\n",
       "      <td>cuenca</td>\n",
       "      <td>0.38</td>\n",
       "    </tr>\n",
       "    <tr>\n",
       "      <th>43</th>\n",
       "      <td>palencia</td>\n",
       "      <td>0.37</td>\n",
       "    </tr>\n",
       "    <tr>\n",
       "      <th>44</th>\n",
       "      <td>segovia</td>\n",
       "      <td>0.31</td>\n",
       "    </tr>\n",
       "    <tr>\n",
       "      <th>45</th>\n",
       "      <td>teruel</td>\n",
       "      <td>0.31</td>\n",
       "    </tr>\n",
       "    <tr>\n",
       "      <th>46</th>\n",
       "      <td>zamora</td>\n",
       "      <td>0.31</td>\n",
       "    </tr>\n",
       "    <tr>\n",
       "      <th>47</th>\n",
       "      <td>??vila</td>\n",
       "      <td>0.30</td>\n",
       "    </tr>\n",
       "    <tr>\n",
       "      <th>48</th>\n",
       "      <td>soria</td>\n",
       "      <td>0.20</td>\n",
       "    </tr>\n",
       "    <tr>\n",
       "      <th>49</th>\n",
       "      <td>ceuta</td>\n",
       "      <td>0.15</td>\n",
       "    </tr>\n",
       "    <tr>\n",
       "      <th>50</th>\n",
       "      <td>melilla</td>\n",
       "      <td>0.13</td>\n",
       "    </tr>\n",
       "    <tr>\n",
       "      <th>51</th>\n",
       "      <td>multiples provincias</td>\n",
       "      <td>NaN</td>\n",
       "    </tr>\n",
       "    <tr>\n",
       "      <th>52</th>\n",
       "      <td>araba - ??lava</td>\n",
       "      <td>NaN</td>\n",
       "    </tr>\n",
       "    <tr>\n",
       "      <th>53</th>\n",
       "      <td>andorra</td>\n",
       "      <td>NaN</td>\n",
       "    </tr>\n",
       "    <tr>\n",
       "      <th>54</th>\n",
       "      <td>cerdanya francesa</td>\n",
       "      <td>NaN</td>\n",
       "    </tr>\n",
       "    <tr>\n",
       "      <th>55</th>\n",
       "      <td>pa??s vasco franc??s</td>\n",
       "      <td>NaN</td>\n",
       "    </tr>\n",
       "  </tbody>\n",
       "</table>\n",
       "</div>"
      ],
      "text/plain": [
       "                      prov  peso_pib\n",
       "0                   madrid     18.87\n",
       "1                barcelona     14.01\n",
       "2                 valencia      5.01\n",
       "3                  sevilla      3.32\n",
       "4                  bizkaia      3.10\n",
       "5                 alicante      3.10\n",
       "6                   murcia      2.61\n",
       "7                  m??laga      2.60\n",
       "8            illes balears      2.53\n",
       "9                a coru??a      2.30\n",
       "10                zaragoza      2.27\n",
       "11               tarragona      2.06\n",
       "12                gipuzkoa      2.00\n",
       "13              las palmas      1.98\n",
       "14                asturias      1.97\n",
       "15                  girona      1.85\n",
       "16                  c??diz      1.80\n",
       "17  santa cruz de tenerife      1.80\n",
       "18              pontevedra      1.73\n",
       "19                 navarra      1.72\n",
       "20                 granada      1.44\n",
       "21              castell??n      1.20\n",
       "22                c??rdoba      1.20\n",
       "23              valladolid      1.15\n",
       "24               cantabria      1.13\n",
       "25                  lleida      1.13\n",
       "26                  toledo      1.10\n",
       "27                   ja??n      1.00\n",
       "28                almer??a      1.00\n",
       "29                 badajoz      1.00\n",
       "30                   le??n      0.90\n",
       "31             ciudad real      0.90\n",
       "32                  burgos      0.87\n",
       "33                  huelva      0.84\n",
       "34                la rioja      0.73\n",
       "35                albacete      0.67\n",
       "36                    lugo      0.66\n",
       "37               salamanca      0.61\n",
       "38                c??ceres      0.60\n",
       "39                 ourense      0.57\n",
       "40                  huesca      0.52\n",
       "41             guadalajara      0.43\n",
       "42                  cuenca      0.38\n",
       "43                palencia      0.37\n",
       "44                 segovia      0.31\n",
       "45                  teruel      0.31\n",
       "46                  zamora      0.31\n",
       "47                  ??vila      0.30\n",
       "48                   soria      0.20\n",
       "49                   ceuta      0.15\n",
       "50                 melilla      0.13\n",
       "51    multiples provincias       NaN\n",
       "52          araba - ??lava       NaN\n",
       "53                 andorra       NaN\n",
       "54       cerdanya francesa       NaN\n",
       "55    pa??s vasco franc??s       NaN"
      ]
     },
     "execution_count": 35,
     "metadata": {},
     "output_type": "execute_result"
    }
   ],
   "source": [
    "prov"
   ]
  },
  {
   "cell_type": "code",
   "execution_count": 36,
   "metadata": {},
   "outputs": [],
   "source": [
    "prov.loc[prov['prov'].isin(prov[0:2].prov) , 'city_size'] = prov.prov\n",
    "prov.loc[prov['prov'].isin(prov[2:6].prov) , 'city_size'] = 'big'\n",
    "prov.loc[prov['prov'].isin(prov[6:].prov) , 'city_size'] = 'little'\n",
    "prov = prov.rename(columns={'prov':'Province'})"
   ]
  },
  {
   "cell_type": "code",
   "execution_count": 42,
   "metadata": {},
   "outputs": [
    {
     "data": {
      "text/plain": [
       "array(['madrid', 'barcelona', 'valencia', 'sevilla', 'bizkaia',\n",
       "       'alicante', 'murcia', 'm??laga', 'illes balears', 'a coru??a',\n",
       "       'zaragoza', 'tarragona', 'gipuzkoa', 'las palmas', 'asturias',\n",
       "       'girona', 'c??diz', 'santa cruz de tenerife', 'pontevedra',\n",
       "       'navarra', 'granada', 'castell??n', 'c??rdoba', 'valladolid',\n",
       "       'cantabria', 'lleida', 'toledo', 'ja??n', 'almer??a', 'badajoz',\n",
       "       'le??n', 'ciudad real', 'burgos', 'huelva', 'la rioja', 'albacete',\n",
       "       'lugo', 'salamanca', 'c??ceres', 'ourense', 'huesca',\n",
       "       'guadalajara', 'cuenca', 'palencia', 'segovia', 'teruel', 'zamora',\n",
       "       '??vila', 'soria', 'ceuta', 'melilla', 'multiples provincias',\n",
       "       'araba - ??lava', 'andorra', 'cerdanya francesa',\n",
       "       'pa??s vasco franc??s'], dtype=object)"
      ]
     },
     "execution_count": 42,
     "metadata": {},
     "output_type": "execute_result"
    }
   ],
   "source": [
    "prov.Province.unique()"
   ]
  },
  {
   "cell_type": "code",
   "execution_count": 43,
   "metadata": {
    "scrolled": true
   },
   "outputs": [],
   "source": [
    "dataframe.Province = [str(x).lower() for x in dataframe.Province]"
   ]
  },
  {
   "cell_type": "code",
   "execution_count": 52,
   "metadata": {},
   "outputs": [],
   "source": [
    "dataframe1 = dataframe[dataframe.Province!='nan']"
   ]
  },
  {
   "cell_type": "code",
   "execution_count": 56,
   "metadata": {},
   "outputs": [
    {
     "name": "stdout",
     "output_type": "stream",
     "text": [
      "Usuarios con todos los leads sin provincia\n",
      "6.63084684968402\n"
     ]
    }
   ],
   "source": [
    "n = len(list(dataframe.Marketing_Cloud_Visitor_ID.unique()))\n",
    "m = len(list(dataframe1.Marketing_Cloud_Visitor_ID.unique()))\n",
    "print('Usuarios con todos los leads sin provincia')\n",
    "print((n-m)/n*100)"
   ]
  },
  {
   "cell_type": "code",
   "execution_count": 57,
   "metadata": {},
   "outputs": [],
   "source": [
    "df = pd.merge(dataframe, prov, how='left', on='Province')\n",
    "df = df.drop(columns=['peso_pib','Province',])"
   ]
  },
  {
   "cell_type": "code",
   "execution_count": 58,
   "metadata": {},
   "outputs": [],
   "source": [
    "selected_cols = df.columns.str.contains(\"Lead\")\n",
    "selected_cols = list(df.columns[selected_cols])"
   ]
  },
  {
   "cell_type": "code",
   "execution_count": 59,
   "metadata": {},
   "outputs": [],
   "source": [
    "# change datatype to all columns containing Lead\n",
    "for col in selected_cols:\n",
    "    df[col] = df[col].astype('int')\n",
    "# dcast of the dataframe\n",
    "df = df.pivot_table(index=['Marketing_Cloud_Visitor_ID'], columns=['city_size'],\n",
    "                     values=selected_cols).reset_index()"
   ]
  },
  {
   "cell_type": "code",
   "execution_count": 30,
   "metadata": {},
   "outputs": [],
   "source": [
    "cols = pd.Series(df.columns.tolist()).apply(pd.Series).sum(axis=1)\n",
    "df.columns = cols"
   ]
  },
  {
   "cell_type": "code",
   "execution_count": 61,
   "metadata": {},
   "outputs": [
    {
     "name": "stdout",
     "output_type": "stream",
     "text": [
      "Número de usuarios en el perídodo seleccionado: 1019889\n",
      "Check must be True:\n",
      "True\n"
     ]
    }
   ],
   "source": [
    "n = len(list(df.Marketing_Cloud_Visitor_ID.unique()))\n",
    "print('Número de usuarios en el perídodo seleccionado:', n)\n",
    "print('Check must be True:')\n",
    "print(df.shape[0]==len(list(df.Marketing_Cloud_Visitor_ID.unique())))"
   ]
  },
  {
   "cell_type": "code",
   "execution_count": 63,
   "metadata": {},
   "outputs": [],
   "source": [
    "df.to_csv('Data/202001_android_leads_per_province.csv', index=False)"
   ]
  },
  {
   "cell_type": "markdown",
   "metadata": {},
   "source": [
    "1.6 Usuarios Registrados"
   ]
  },
  {
   "cell_type": "code",
   "execution_count": 108,
   "metadata": {},
   "outputs": [
    {
     "name": "stdout",
     "output_type": "stream",
     "text": [
      "total page count: 3\n",
      "page number: 2\n",
      "page number: 3\n",
      "CPU times: user 13.7 s, sys: 771 ms, total: 14.5 s\n",
      "Wall time: 1h 6min 15s\n"
     ]
    }
   ],
   "source": [
    "report_def = ReportDefinition(\n",
    "    dimensions=['marketingcloudvisitorid','evar14'],\n",
    "    metrics=['visits'],\n",
    "    segments=seg_android,\n",
    "    date_from=\"2020-01-01\",\n",
    "    date_to=\"2020-01-31\",\n",
    "    source=\"warehouse\"\n",
    ")\n",
    "# send the request\n",
    "%time dataframe = suite.download(report_def)"
   ]
  },
  {
   "cell_type": "code",
   "execution_count": 111,
   "metadata": {},
   "outputs": [],
   "source": [
    "# remove spaces in columns names\n",
    "dataframe.columns = dataframe.columns.str.replace(' ', '_')\n",
    "dataframe.columns = dataframe.columns.str.replace('(', '_')\n",
    "dataframe.columns = dataframe.columns.str.replace(')', '_')\n",
    "dataframe = dataframe[dataframe.Marketing_Cloud_Visitor_ID!='00000000000000000000000000000000000000']"
   ]
  },
  {
   "cell_type": "code",
   "execution_count": 118,
   "metadata": {},
   "outputs": [],
   "source": [
    "df = dataframe.dropna(subset=['User_ID'])"
   ]
  },
  {
   "cell_type": "code",
   "execution_count": 122,
   "metadata": {
    "scrolled": true
   },
   "outputs": [
    {
     "name": "stdout",
     "output_type": "stream",
     "text": [
      "Número de usuarios en el perídodo seleccionado: 223392\n",
      "Check must be True:\n",
      "False\n"
     ]
    }
   ],
   "source": [
    "n = len(list(df.Marketing_Cloud_Visitor_ID.unique()))\n",
    "print('Número de usuarios en el perídodo seleccionado:', n)\n",
    "print('Check must be True:')\n",
    "print(df.shape[0]==len(list(df.Marketing_Cloud_Visitor_ID.unique())))"
   ]
  },
  {
   "cell_type": "code",
   "execution_count": 134,
   "metadata": {},
   "outputs": [],
   "source": [
    "df_aux = df[['Marketing_Cloud_Visitor_ID','Visits']].groupby('Marketing_Cloud_Visitor_ID').count().sort_values(by='Visits', ascending=False).rename(columns={'Visits':'n_of_user_ids'})\n"
   ]
  },
  {
   "cell_type": "code",
   "execution_count": 136,
   "metadata": {},
   "outputs": [],
   "source": [
    "df = df.set_index('Marketing_Cloud_Visitor_ID')\n",
    "df1 = pd.merge(df, df_aux, on ='Marketing_Cloud_Visitor_ID', how='left')"
   ]
  },
  {
   "cell_type": "code",
   "execution_count": 146,
   "metadata": {},
   "outputs": [],
   "source": [
    "df1 = df1.reset_index(drop=False)"
   ]
  },
  {
   "cell_type": "code",
   "execution_count": 148,
   "metadata": {},
   "outputs": [],
   "source": [
    "df1.to_csv('Data/202001_android_registered_users')"
   ]
  },
  {
   "cell_type": "markdown",
   "metadata": {},
   "source": [
    "1.7 Eventos cross-site"
   ]
  },
  {
   "cell_type": "code",
   "execution_count": 149,
   "metadata": {},
   "outputs": [],
   "source": [
    "def extract_customer_data(choosen_suites, date_from, date_to, choosen_segments=[], choosen_metrics=['visits'], granularity='day'):\n",
    "    df = pd.DataFrame({'Marketing_Cloud_Visitor_ID' : []})\n",
    "    for s in choosen_suites:\n",
    "        # select the report suite\n",
    "        suite = suites[s]\n",
    "        print('Extracting customer data from: ' + str(suite))\n",
    "        # select the segment\n",
    "        df_segments = pd.DataFrame(suite.segments()).T\n",
    "        df_segments = df_segments.reset_index(drop=True)\n",
    "        segment = list(df_segments[df_segments.name==choosen_segments]['id'])\n",
    "        print('Segment: ' + str(choosen_segments))\n",
    "        print('Metric: ' + str(choosen_metrics))\n",
    "        print('Granularity: ' + str(granularity))\n",
    "        # Send Request to AA Warehouse\n",
    "        report_def = ReportDefinition(\n",
    "        dimensions=['marketingcloudvisitorid'],\n",
    "        metrics=choosen_metrics,\n",
    "        segments=segment,\n",
    "        date_from=date_from,\n",
    "        date_to=date_to,\n",
    "        #granularity=granularity,\n",
    "        source=\"warehouse\"\n",
    "        )\n",
    "        # send the request\n",
    "        dataframe = suite.download(report_def)\n",
    "        print('Shape:')\n",
    "        print(dataframe.shape)\n",
    "        dataframe.columns = dataframe.columns.str.replace(' ', '_')\n",
    "        df = pd.merge(df, dataframe, on=['Marketing_Cloud_Visitor_ID'], how='outer')\n",
    "        print('Shape after outer join:')\n",
    "        print(df.shape)\n",
    "    return df"
   ]
  },
  {
   "cell_type": "code",
   "execution_count": 150,
   "metadata": {},
   "outputs": [
    {
     "name": "stdout",
     "output_type": "stream",
     "text": [
      "Extracting customer data from: (RAW) Jobs Infojobs (schibstedspainjobsinfojobsprod)\n",
      "Segment: Platform App Android\n",
      "Metric: ['event31', 'event3', 'event4', 'visits']\n",
      "Granularity: day\n",
      "total page count: 4\n",
      "page number: 2\n",
      "page number: 3\n",
      "page number: 4\n",
      "Shape:\n",
      "(1389855, 5)\n",
      "Shape after outer join:\n",
      "(1389855, 5)\n",
      "Extracting customer data from: (RAW) Motor Cochesnet Prod (schibstedspainmotorcochesnetprod)\n",
      "Segment: Platform App Android\n",
      "Metric: ['event31', 'event3', 'event4', 'visits']\n",
      "Granularity: day\n",
      "total page count: 2\n",
      "page number: 2\n",
      "Shape:\n",
      "(565292, 5)\n",
      "Shape after outer join:\n",
      "(1955146, 9)\n",
      "Extracting customer data from: (RAW) Generalist Milanuncios (schibstedspainmiscmilanunciosprod)\n",
      "Segment: Platform App Android\n",
      "Metric: ['event31', 'event3', 'event4', 'visits']\n",
      "Granularity: day\n"
     ]
    },
    {
     "ename": "KeyboardInterrupt",
     "evalue": "",
     "output_type": "error",
     "traceback": [
      "\u001b[0;31m---------------------------------------------------------------------------\u001b[0m",
      "\u001b[0;31mKeyboardInterrupt\u001b[0m                         Traceback (most recent call last)",
      "\u001b[0;32m<ipython-input-150-eb596a478820>\u001b[0m in \u001b[0;36m<module>\u001b[0;34m\u001b[0m\n\u001b[1;32m      8\u001b[0m                             \u001b[0mdate_to\u001b[0m\u001b[0;34m=\u001b[0m\u001b[0;34m'2020-01-31'\u001b[0m\u001b[0;34m,\u001b[0m\u001b[0;34m\u001b[0m\u001b[0;34m\u001b[0m\u001b[0m\n\u001b[1;32m      9\u001b[0m                             \u001b[0mchoosen_segments\u001b[0m\u001b[0;34m=\u001b[0m\u001b[0mchoosen_segments\u001b[0m\u001b[0;34m,\u001b[0m\u001b[0;34m\u001b[0m\u001b[0;34m\u001b[0m\u001b[0m\n\u001b[0;32m---> 10\u001b[0;31m                             choosen_metrics=choosen_metrics)\n\u001b[0m",
      "\u001b[0;32m<ipython-input-149-4e93a6e56854>\u001b[0m in \u001b[0;36mextract_customer_data\u001b[0;34m(choosen_suites, date_from, date_to, choosen_segments, choosen_metrics, granularity)\u001b[0m\n\u001b[1;32m     23\u001b[0m         )\n\u001b[1;32m     24\u001b[0m         \u001b[0;31m# send the request\u001b[0m\u001b[0;34m\u001b[0m\u001b[0;34m\u001b[0m\u001b[0;34m\u001b[0m\u001b[0m\n\u001b[0;32m---> 25\u001b[0;31m         \u001b[0mdataframe\u001b[0m \u001b[0;34m=\u001b[0m \u001b[0msuite\u001b[0m\u001b[0;34m.\u001b[0m\u001b[0mdownload\u001b[0m\u001b[0;34m(\u001b[0m\u001b[0mreport_def\u001b[0m\u001b[0;34m)\u001b[0m\u001b[0;34m\u001b[0m\u001b[0;34m\u001b[0m\u001b[0m\n\u001b[0m\u001b[1;32m     26\u001b[0m         \u001b[0mprint\u001b[0m\u001b[0;34m(\u001b[0m\u001b[0;34m'Shape:'\u001b[0m\u001b[0;34m)\u001b[0m\u001b[0;34m\u001b[0m\u001b[0;34m\u001b[0m\u001b[0m\n\u001b[1;32m     27\u001b[0m         \u001b[0mprint\u001b[0m\u001b[0;34m(\u001b[0m\u001b[0mdataframe\u001b[0m\u001b[0;34m.\u001b[0m\u001b[0mshape\u001b[0m\u001b[0;34m)\u001b[0m\u001b[0;34m\u001b[0m\u001b[0;34m\u001b[0m\u001b[0m\n",
      "\u001b[0;32m~/opt/anaconda3/envs/fotocasa_env/lib/python3.7/site-packages/adobe_analytics/reports/suite.py\u001b[0m in \u001b[0;36mdownload\u001b[0;34m(self, obj)\u001b[0m\n\u001b[1;32m     16\u001b[0m     \u001b[0;32mdef\u001b[0m \u001b[0mdownload\u001b[0m\u001b[0;34m(\u001b[0m\u001b[0mself\u001b[0m\u001b[0;34m,\u001b[0m \u001b[0mobj\u001b[0m\u001b[0;34m)\u001b[0m\u001b[0;34m:\u001b[0m\u001b[0;34m\u001b[0m\u001b[0;34m\u001b[0m\u001b[0m\n\u001b[1;32m     17\u001b[0m         \u001b[0;34m\"\"\" obj can be ReportDefinition, report_id (int or float) \"\"\"\u001b[0m\u001b[0;34m\u001b[0m\u001b[0;34m\u001b[0m\u001b[0m\n\u001b[0;32m---> 18\u001b[0;31m         \u001b[0;32mreturn\u001b[0m \u001b[0mself\u001b[0m\u001b[0;34m.\u001b[0m\u001b[0m_downloader\u001b[0m\u001b[0;34m.\u001b[0m\u001b[0mdownload\u001b[0m\u001b[0;34m(\u001b[0m\u001b[0mobj\u001b[0m\u001b[0;34m)\u001b[0m\u001b[0;34m\u001b[0m\u001b[0;34m\u001b[0m\u001b[0m\n\u001b[0m\u001b[1;32m     19\u001b[0m \u001b[0;34m\u001b[0m\u001b[0m\n\u001b[1;32m     20\u001b[0m     \u001b[0;32mdef\u001b[0m \u001b[0mqueue\u001b[0m\u001b[0;34m(\u001b[0m\u001b[0mself\u001b[0m\u001b[0;34m,\u001b[0m \u001b[0mdefinition\u001b[0m\u001b[0;34m)\u001b[0m\u001b[0;34m:\u001b[0m\u001b[0;34m\u001b[0m\u001b[0;34m\u001b[0m\u001b[0m\n",
      "\u001b[0;32m~/opt/anaconda3/envs/fotocasa_env/lib/python3.7/site-packages/adobe_analytics/reports/report_downloader.py\u001b[0m in \u001b[0;36mdownload\u001b[0;34m(self, obj)\u001b[0m\n\u001b[1;32m     18\u001b[0m     \u001b[0;32mdef\u001b[0m \u001b[0mdownload\u001b[0m\u001b[0;34m(\u001b[0m\u001b[0mself\u001b[0m\u001b[0;34m,\u001b[0m \u001b[0mobj\u001b[0m\u001b[0;34m)\u001b[0m\u001b[0;34m:\u001b[0m\u001b[0;34m\u001b[0m\u001b[0;34m\u001b[0m\u001b[0m\n\u001b[1;32m     19\u001b[0m         \u001b[0mreport_id\u001b[0m \u001b[0;34m=\u001b[0m \u001b[0mself\u001b[0m\u001b[0;34m.\u001b[0m\u001b[0m_to_report_id\u001b[0m\u001b[0;34m(\u001b[0m\u001b[0mobj\u001b[0m\u001b[0;34m)\u001b[0m\u001b[0;34m\u001b[0m\u001b[0;34m\u001b[0m\u001b[0m\n\u001b[0;32m---> 20\u001b[0;31m         \u001b[0mfirst_response\u001b[0m \u001b[0;34m=\u001b[0m \u001b[0mself\u001b[0m\u001b[0;34m.\u001b[0m\u001b[0mget_report\u001b[0m\u001b[0;34m(\u001b[0m\u001b[0mreport_id\u001b[0m\u001b[0;34m)\u001b[0m\u001b[0;34m\u001b[0m\u001b[0;34m\u001b[0m\u001b[0m\n\u001b[0m\u001b[1;32m     21\u001b[0m         \u001b[0mraw_responses\u001b[0m \u001b[0;34m=\u001b[0m \u001b[0;34m[\u001b[0m\u001b[0mfirst_response\u001b[0m\u001b[0;34m]\u001b[0m\u001b[0;34m\u001b[0m\u001b[0;34m\u001b[0m\u001b[0m\n\u001b[1;32m     22\u001b[0m \u001b[0;34m\u001b[0m\u001b[0m\n",
      "\u001b[0;32m~/opt/anaconda3/envs/fotocasa_env/lib/python3.7/site-packages/retrying.py\u001b[0m in \u001b[0;36mwrapped_f\u001b[0;34m(*args, **kw)\u001b[0m\n\u001b[1;32m     47\u001b[0m             \u001b[0;34m@\u001b[0m\u001b[0msix\u001b[0m\u001b[0;34m.\u001b[0m\u001b[0mwraps\u001b[0m\u001b[0;34m(\u001b[0m\u001b[0mf\u001b[0m\u001b[0;34m)\u001b[0m\u001b[0;34m\u001b[0m\u001b[0;34m\u001b[0m\u001b[0m\n\u001b[1;32m     48\u001b[0m             \u001b[0;32mdef\u001b[0m \u001b[0mwrapped_f\u001b[0m\u001b[0;34m(\u001b[0m\u001b[0;34m*\u001b[0m\u001b[0margs\u001b[0m\u001b[0;34m,\u001b[0m \u001b[0;34m**\u001b[0m\u001b[0mkw\u001b[0m\u001b[0;34m)\u001b[0m\u001b[0;34m:\u001b[0m\u001b[0;34m\u001b[0m\u001b[0;34m\u001b[0m\u001b[0m\n\u001b[0;32m---> 49\u001b[0;31m                 \u001b[0;32mreturn\u001b[0m \u001b[0mRetrying\u001b[0m\u001b[0;34m(\u001b[0m\u001b[0;34m*\u001b[0m\u001b[0mdargs\u001b[0m\u001b[0;34m,\u001b[0m \u001b[0;34m**\u001b[0m\u001b[0mdkw\u001b[0m\u001b[0;34m)\u001b[0m\u001b[0;34m.\u001b[0m\u001b[0mcall\u001b[0m\u001b[0;34m(\u001b[0m\u001b[0mf\u001b[0m\u001b[0;34m,\u001b[0m \u001b[0;34m*\u001b[0m\u001b[0margs\u001b[0m\u001b[0;34m,\u001b[0m \u001b[0;34m**\u001b[0m\u001b[0mkw\u001b[0m\u001b[0;34m)\u001b[0m\u001b[0;34m\u001b[0m\u001b[0;34m\u001b[0m\u001b[0m\n\u001b[0m\u001b[1;32m     50\u001b[0m \u001b[0;34m\u001b[0m\u001b[0m\n\u001b[1;32m     51\u001b[0m             \u001b[0;32mreturn\u001b[0m \u001b[0mwrapped_f\u001b[0m\u001b[0;34m\u001b[0m\u001b[0;34m\u001b[0m\u001b[0m\n",
      "\u001b[0;32m~/opt/anaconda3/envs/fotocasa_env/lib/python3.7/site-packages/retrying.py\u001b[0m in \u001b[0;36mcall\u001b[0;34m(self, fn, *args, **kwargs)\u001b[0m\n\u001b[1;32m    204\u001b[0m \u001b[0;34m\u001b[0m\u001b[0m\n\u001b[1;32m    205\u001b[0m             \u001b[0;32mif\u001b[0m \u001b[0;32mnot\u001b[0m \u001b[0mself\u001b[0m\u001b[0;34m.\u001b[0m\u001b[0mshould_reject\u001b[0m\u001b[0;34m(\u001b[0m\u001b[0mattempt\u001b[0m\u001b[0;34m)\u001b[0m\u001b[0;34m:\u001b[0m\u001b[0;34m\u001b[0m\u001b[0;34m\u001b[0m\u001b[0m\n\u001b[0;32m--> 206\u001b[0;31m                 \u001b[0;32mreturn\u001b[0m \u001b[0mattempt\u001b[0m\u001b[0;34m.\u001b[0m\u001b[0mget\u001b[0m\u001b[0;34m(\u001b[0m\u001b[0mself\u001b[0m\u001b[0;34m.\u001b[0m\u001b[0m_wrap_exception\u001b[0m\u001b[0;34m)\u001b[0m\u001b[0;34m\u001b[0m\u001b[0;34m\u001b[0m\u001b[0m\n\u001b[0m\u001b[1;32m    207\u001b[0m \u001b[0;34m\u001b[0m\u001b[0m\n\u001b[1;32m    208\u001b[0m             \u001b[0mdelay_since_first_attempt_ms\u001b[0m \u001b[0;34m=\u001b[0m \u001b[0mint\u001b[0m\u001b[0;34m(\u001b[0m\u001b[0mround\u001b[0m\u001b[0;34m(\u001b[0m\u001b[0mtime\u001b[0m\u001b[0;34m.\u001b[0m\u001b[0mtime\u001b[0m\u001b[0;34m(\u001b[0m\u001b[0;34m)\u001b[0m \u001b[0;34m*\u001b[0m \u001b[0;36m1000\u001b[0m\u001b[0;34m)\u001b[0m\u001b[0;34m)\u001b[0m \u001b[0;34m-\u001b[0m \u001b[0mstart_time\u001b[0m\u001b[0;34m\u001b[0m\u001b[0;34m\u001b[0m\u001b[0m\n",
      "\u001b[0;32m~/opt/anaconda3/envs/fotocasa_env/lib/python3.7/site-packages/retrying.py\u001b[0m in \u001b[0;36mget\u001b[0;34m(self, wrap_exception)\u001b[0m\n\u001b[1;32m    245\u001b[0m                 \u001b[0;32mraise\u001b[0m \u001b[0mRetryError\u001b[0m\u001b[0;34m(\u001b[0m\u001b[0mself\u001b[0m\u001b[0;34m)\u001b[0m\u001b[0;34m\u001b[0m\u001b[0;34m\u001b[0m\u001b[0m\n\u001b[1;32m    246\u001b[0m             \u001b[0;32melse\u001b[0m\u001b[0;34m:\u001b[0m\u001b[0;34m\u001b[0m\u001b[0;34m\u001b[0m\u001b[0m\n\u001b[0;32m--> 247\u001b[0;31m                 \u001b[0msix\u001b[0m\u001b[0;34m.\u001b[0m\u001b[0mreraise\u001b[0m\u001b[0;34m(\u001b[0m\u001b[0mself\u001b[0m\u001b[0;34m.\u001b[0m\u001b[0mvalue\u001b[0m\u001b[0;34m[\u001b[0m\u001b[0;36m0\u001b[0m\u001b[0;34m]\u001b[0m\u001b[0;34m,\u001b[0m \u001b[0mself\u001b[0m\u001b[0;34m.\u001b[0m\u001b[0mvalue\u001b[0m\u001b[0;34m[\u001b[0m\u001b[0;36m1\u001b[0m\u001b[0;34m]\u001b[0m\u001b[0;34m,\u001b[0m \u001b[0mself\u001b[0m\u001b[0;34m.\u001b[0m\u001b[0mvalue\u001b[0m\u001b[0;34m[\u001b[0m\u001b[0;36m2\u001b[0m\u001b[0;34m]\u001b[0m\u001b[0;34m)\u001b[0m\u001b[0;34m\u001b[0m\u001b[0;34m\u001b[0m\u001b[0m\n\u001b[0m\u001b[1;32m    248\u001b[0m         \u001b[0;32melse\u001b[0m\u001b[0;34m:\u001b[0m\u001b[0;34m\u001b[0m\u001b[0;34m\u001b[0m\u001b[0m\n\u001b[1;32m    249\u001b[0m             \u001b[0;32mreturn\u001b[0m \u001b[0mself\u001b[0m\u001b[0;34m.\u001b[0m\u001b[0mvalue\u001b[0m\u001b[0;34m\u001b[0m\u001b[0;34m\u001b[0m\u001b[0m\n",
      "\u001b[0;32m~/opt/anaconda3/envs/fotocasa_env/lib/python3.7/site-packages/six.py\u001b[0m in \u001b[0;36mreraise\u001b[0;34m(tp, value, tb)\u001b[0m\n\u001b[1;32m    694\u001b[0m             \u001b[0;32mif\u001b[0m \u001b[0mvalue\u001b[0m\u001b[0;34m.\u001b[0m\u001b[0m__traceback__\u001b[0m \u001b[0;32mis\u001b[0m \u001b[0;32mnot\u001b[0m \u001b[0mtb\u001b[0m\u001b[0;34m:\u001b[0m\u001b[0;34m\u001b[0m\u001b[0;34m\u001b[0m\u001b[0m\n\u001b[1;32m    695\u001b[0m                 \u001b[0;32mraise\u001b[0m \u001b[0mvalue\u001b[0m\u001b[0;34m.\u001b[0m\u001b[0mwith_traceback\u001b[0m\u001b[0;34m(\u001b[0m\u001b[0mtb\u001b[0m\u001b[0;34m)\u001b[0m\u001b[0;34m\u001b[0m\u001b[0;34m\u001b[0m\u001b[0m\n\u001b[0;32m--> 696\u001b[0;31m             \u001b[0;32mraise\u001b[0m \u001b[0mvalue\u001b[0m\u001b[0;34m\u001b[0m\u001b[0;34m\u001b[0m\u001b[0m\n\u001b[0m\u001b[1;32m    697\u001b[0m         \u001b[0;32mfinally\u001b[0m\u001b[0;34m:\u001b[0m\u001b[0;34m\u001b[0m\u001b[0;34m\u001b[0m\u001b[0m\n\u001b[1;32m    698\u001b[0m             \u001b[0mvalue\u001b[0m \u001b[0;34m=\u001b[0m \u001b[0;32mNone\u001b[0m\u001b[0;34m\u001b[0m\u001b[0;34m\u001b[0m\u001b[0m\n",
      "\u001b[0;32m~/opt/anaconda3/envs/fotocasa_env/lib/python3.7/site-packages/retrying.py\u001b[0m in \u001b[0;36mcall\u001b[0;34m(self, fn, *args, **kwargs)\u001b[0m\n\u001b[1;32m    198\u001b[0m         \u001b[0;32mwhile\u001b[0m \u001b[0;32mTrue\u001b[0m\u001b[0;34m:\u001b[0m\u001b[0;34m\u001b[0m\u001b[0;34m\u001b[0m\u001b[0m\n\u001b[1;32m    199\u001b[0m             \u001b[0;32mtry\u001b[0m\u001b[0;34m:\u001b[0m\u001b[0;34m\u001b[0m\u001b[0;34m\u001b[0m\u001b[0m\n\u001b[0;32m--> 200\u001b[0;31m                 \u001b[0mattempt\u001b[0m \u001b[0;34m=\u001b[0m \u001b[0mAttempt\u001b[0m\u001b[0;34m(\u001b[0m\u001b[0mfn\u001b[0m\u001b[0;34m(\u001b[0m\u001b[0;34m*\u001b[0m\u001b[0margs\u001b[0m\u001b[0;34m,\u001b[0m \u001b[0;34m**\u001b[0m\u001b[0mkwargs\u001b[0m\u001b[0;34m)\u001b[0m\u001b[0;34m,\u001b[0m \u001b[0mattempt_number\u001b[0m\u001b[0;34m,\u001b[0m \u001b[0;32mFalse\u001b[0m\u001b[0;34m)\u001b[0m\u001b[0;34m\u001b[0m\u001b[0;34m\u001b[0m\u001b[0m\n\u001b[0m\u001b[1;32m    201\u001b[0m             \u001b[0;32mexcept\u001b[0m\u001b[0;34m:\u001b[0m\u001b[0;34m\u001b[0m\u001b[0;34m\u001b[0m\u001b[0m\n\u001b[1;32m    202\u001b[0m                 \u001b[0mtb\u001b[0m \u001b[0;34m=\u001b[0m \u001b[0msys\u001b[0m\u001b[0;34m.\u001b[0m\u001b[0mexc_info\u001b[0m\u001b[0;34m(\u001b[0m\u001b[0;34m)\u001b[0m\u001b[0;34m\u001b[0m\u001b[0;34m\u001b[0m\u001b[0m\n",
      "\u001b[0;32m~/opt/anaconda3/envs/fotocasa_env/lib/python3.7/site-packages/adobe_analytics/reports/report_downloader.py\u001b[0m in \u001b[0;36mget_report\u001b[0;34m(self, report_id, page_number)\u001b[0m\n\u001b[1;32m     62\u001b[0m             data={\n\u001b[1;32m     63\u001b[0m                 \u001b[0;34m\"reportID\"\u001b[0m\u001b[0;34m:\u001b[0m \u001b[0mreport_id\u001b[0m\u001b[0;34m,\u001b[0m\u001b[0;34m\u001b[0m\u001b[0;34m\u001b[0m\u001b[0m\n\u001b[0;32m---> 64\u001b[0;31m                 \u001b[0;34m\"page\"\u001b[0m\u001b[0;34m:\u001b[0m \u001b[0mpage_number\u001b[0m\u001b[0;34m\u001b[0m\u001b[0;34m\u001b[0m\u001b[0m\n\u001b[0m\u001b[1;32m     65\u001b[0m             }\n\u001b[1;32m     66\u001b[0m         )\n",
      "\u001b[0;32m~/opt/anaconda3/envs/fotocasa_env/lib/python3.7/site-packages/retrying.py\u001b[0m in \u001b[0;36mwrapped_f\u001b[0;34m(*args, **kw)\u001b[0m\n\u001b[1;32m     47\u001b[0m             \u001b[0;34m@\u001b[0m\u001b[0msix\u001b[0m\u001b[0;34m.\u001b[0m\u001b[0mwraps\u001b[0m\u001b[0;34m(\u001b[0m\u001b[0mf\u001b[0m\u001b[0;34m)\u001b[0m\u001b[0;34m\u001b[0m\u001b[0;34m\u001b[0m\u001b[0m\n\u001b[1;32m     48\u001b[0m             \u001b[0;32mdef\u001b[0m \u001b[0mwrapped_f\u001b[0m\u001b[0;34m(\u001b[0m\u001b[0;34m*\u001b[0m\u001b[0margs\u001b[0m\u001b[0;34m,\u001b[0m \u001b[0;34m**\u001b[0m\u001b[0mkw\u001b[0m\u001b[0;34m)\u001b[0m\u001b[0;34m:\u001b[0m\u001b[0;34m\u001b[0m\u001b[0;34m\u001b[0m\u001b[0m\n\u001b[0;32m---> 49\u001b[0;31m                 \u001b[0;32mreturn\u001b[0m \u001b[0mRetrying\u001b[0m\u001b[0;34m(\u001b[0m\u001b[0;34m*\u001b[0m\u001b[0mdargs\u001b[0m\u001b[0;34m,\u001b[0m \u001b[0;34m**\u001b[0m\u001b[0mdkw\u001b[0m\u001b[0;34m)\u001b[0m\u001b[0;34m.\u001b[0m\u001b[0mcall\u001b[0m\u001b[0;34m(\u001b[0m\u001b[0mf\u001b[0m\u001b[0;34m,\u001b[0m \u001b[0;34m*\u001b[0m\u001b[0margs\u001b[0m\u001b[0;34m,\u001b[0m \u001b[0;34m**\u001b[0m\u001b[0mkw\u001b[0m\u001b[0;34m)\u001b[0m\u001b[0;34m\u001b[0m\u001b[0;34m\u001b[0m\u001b[0m\n\u001b[0m\u001b[1;32m     50\u001b[0m \u001b[0;34m\u001b[0m\u001b[0m\n\u001b[1;32m     51\u001b[0m             \u001b[0;32mreturn\u001b[0m \u001b[0mwrapped_f\u001b[0m\u001b[0;34m\u001b[0m\u001b[0;34m\u001b[0m\u001b[0m\n",
      "\u001b[0;32m~/opt/anaconda3/envs/fotocasa_env/lib/python3.7/site-packages/retrying.py\u001b[0m in \u001b[0;36mcall\u001b[0;34m(self, fn, *args, **kwargs)\u001b[0m\n\u001b[1;32m    218\u001b[0m                     \u001b[0mjitter\u001b[0m \u001b[0;34m=\u001b[0m \u001b[0mrandom\u001b[0m\u001b[0;34m.\u001b[0m\u001b[0mrandom\u001b[0m\u001b[0;34m(\u001b[0m\u001b[0;34m)\u001b[0m \u001b[0;34m*\u001b[0m \u001b[0mself\u001b[0m\u001b[0;34m.\u001b[0m\u001b[0m_wait_jitter_max\u001b[0m\u001b[0;34m\u001b[0m\u001b[0;34m\u001b[0m\u001b[0m\n\u001b[1;32m    219\u001b[0m                     \u001b[0msleep\u001b[0m \u001b[0;34m=\u001b[0m \u001b[0msleep\u001b[0m \u001b[0;34m+\u001b[0m \u001b[0mmax\u001b[0m\u001b[0;34m(\u001b[0m\u001b[0;36m0\u001b[0m\u001b[0;34m,\u001b[0m \u001b[0mjitter\u001b[0m\u001b[0;34m)\u001b[0m\u001b[0;34m\u001b[0m\u001b[0;34m\u001b[0m\u001b[0m\n\u001b[0;32m--> 220\u001b[0;31m                 \u001b[0mtime\u001b[0m\u001b[0;34m.\u001b[0m\u001b[0msleep\u001b[0m\u001b[0;34m(\u001b[0m\u001b[0msleep\u001b[0m \u001b[0;34m/\u001b[0m \u001b[0;36m1000.0\u001b[0m\u001b[0;34m)\u001b[0m\u001b[0;34m\u001b[0m\u001b[0;34m\u001b[0m\u001b[0m\n\u001b[0m\u001b[1;32m    221\u001b[0m \u001b[0;34m\u001b[0m\u001b[0m\n\u001b[1;32m    222\u001b[0m             \u001b[0mattempt_number\u001b[0m \u001b[0;34m+=\u001b[0m \u001b[0;36m1\u001b[0m\u001b[0;34m\u001b[0m\u001b[0;34m\u001b[0m\u001b[0m\n",
      "\u001b[0;31mKeyboardInterrupt\u001b[0m: "
     ]
    }
   ],
   "source": [
    "choosen_suites = [ 'schibstedspainjobsinfojobsprod', \n",
    "                  'schibstedspainmotorcochesnetprod',\n",
    "                 'schibstedspainmiscmilanunciosprod']\n",
    "choosen_segments = 'Platform App Android'\n",
    "choosen_metrics = ['event31', 'event3', 'event4', 'visits']\n",
    "dataframe = extract_customer_data(choosen_suites=choosen_suites, \n",
    "                            date_from='2020-01-01', \n",
    "                            date_to='2020-01-31', \n",
    "                            choosen_segments=choosen_segments, \n",
    "                            choosen_metrics=choosen_metrics)"
   ]
  },
  {
   "cell_type": "markdown",
   "metadata": {},
   "source": [
    "1.8 Frecuencia de visitas"
   ]
  },
  {
   "cell_type": "code",
   "execution_count": 64,
   "metadata": {
    "collapsed": true
   },
   "outputs": [
    {
     "name": "stdout",
     "output_type": "stream",
     "text": [
      "total page count: 14\n",
      "page number: 2\n",
      "page number: 3\n",
      "page number: 4\n",
      "page number: 5\n",
      "page number: 6\n",
      "page number: 7\n",
      "page number: 8\n",
      "page number: 9\n",
      "page number: 10\n",
      "page number: 11\n",
      "page number: 12\n",
      "page number: 13\n",
      "page number: 14\n",
      "CPU times: user 31.5 s, sys: 3.84 s, total: 35.4 s\n",
      "Wall time: 57min 31s\n"
     ]
    }
   ],
   "source": [
    "report_def = ReportDefinition(\n",
    "    dimensions=['marketingcloudvisitorid'],\n",
    "    metrics=['visits'],\n",
    "    segments=seg_android,\n",
    "    date_from=\"2020-01-01\",\n",
    "    date_to=\"2020-01-31\",\n",
    "    granularity='day',\n",
    "    source=\"warehouse\"\n",
    ")\n",
    "# send the request\n",
    "%time dataframe = suite.download(report_def)"
   ]
  },
  {
   "cell_type": "code",
   "execution_count": 2,
   "metadata": {
    "scrolled": false
   },
   "outputs": [
    {
     "name": "stderr",
     "output_type": "stream",
     "text": [
      "/Users/piermarco.milione/opt/anaconda3/envs/fotocasa_env/lib/python3.7/site-packages/numpy/lib/arraysetops.py:568: FutureWarning: elementwise comparison failed; returning scalar instead, but in the future will perform elementwise comparison\n",
      "  mask |= (ar1 == a)\n"
     ]
    }
   ],
   "source": [
    "#dataframe.to_csv('Data/202001_android_daily_visits_per_user.csv')\n",
    "dataframe  = pd.read_csv('Data/AdobeData/android_daily_visits_per_user_202001.csv', index_col=0)"
   ]
  },
  {
   "cell_type": "code",
   "execution_count": 3,
   "metadata": {},
   "outputs": [
    {
     "data": {
      "text/plain": [
       "(4673337, 3)"
      ]
     },
     "execution_count": 3,
     "metadata": {},
     "output_type": "execute_result"
    }
   ],
   "source": [
    "dataframe.shape"
   ]
  },
  {
   "cell_type": "code",
   "execution_count": 4,
   "metadata": {},
   "outputs": [],
   "source": [
    "# remove spaces in columns names\n",
    "dataframe.columns = dataframe.columns.str.replace(' ', '_')\n",
    "dataframe.columns = dataframe.columns.str.replace('(', '_')\n",
    "dataframe.columns = dataframe.columns.str.replace(')', '_')\n",
    "dataframe = dataframe[dataframe.Marketing_Cloud_Visitor_ID!='00000000000000000000000000000000000000']\n",
    "# remove time from Datetime columns\n",
    "dataframe.loc[:, ('Date')] = pd.DatetimeIndex(dataframe.Datetime).normalize()"
   ]
  },
  {
   "cell_type": "code",
   "execution_count": 5,
   "metadata": {},
   "outputs": [
    {
     "data": {
      "text/html": [
       "<div>\n",
       "<style scoped>\n",
       "    .dataframe tbody tr th:only-of-type {\n",
       "        vertical-align: middle;\n",
       "    }\n",
       "\n",
       "    .dataframe tbody tr th {\n",
       "        vertical-align: top;\n",
       "    }\n",
       "\n",
       "    .dataframe thead th {\n",
       "        text-align: right;\n",
       "    }\n",
       "</style>\n",
       "<table border=\"1\" class=\"dataframe\">\n",
       "  <thead>\n",
       "    <tr style=\"text-align: right;\">\n",
       "      <th></th>\n",
       "      <th>Datetime</th>\n",
       "      <th>Marketing_Cloud_Visitor_ID</th>\n",
       "      <th>Visits</th>\n",
       "      <th>Date</th>\n",
       "    </tr>\n",
       "  </thead>\n",
       "  <tbody>\n",
       "    <tr>\n",
       "      <th>1</th>\n",
       "      <td>2020-01-01 00:00:00</td>\n",
       "      <td>00000407524030170034329152187891187137</td>\n",
       "      <td>2</td>\n",
       "      <td>2020-01-01</td>\n",
       "    </tr>\n",
       "    <tr>\n",
       "      <th>2</th>\n",
       "      <td>2020-01-01 00:00:00</td>\n",
       "      <td>00001225805363556352567682227342836429</td>\n",
       "      <td>2</td>\n",
       "      <td>2020-01-01</td>\n",
       "    </tr>\n",
       "    <tr>\n",
       "      <th>3</th>\n",
       "      <td>2020-01-01 00:00:00</td>\n",
       "      <td>00002575609447976674466927358066308150</td>\n",
       "      <td>2</td>\n",
       "      <td>2020-01-01</td>\n",
       "    </tr>\n",
       "    <tr>\n",
       "      <th>4</th>\n",
       "      <td>2020-01-01 00:00:00</td>\n",
       "      <td>00003359938884015262322109109977356941</td>\n",
       "      <td>1</td>\n",
       "      <td>2020-01-01</td>\n",
       "    </tr>\n",
       "    <tr>\n",
       "      <th>5</th>\n",
       "      <td>2020-01-01 00:00:00</td>\n",
       "      <td>00004133799147884941035372258409605322</td>\n",
       "      <td>1</td>\n",
       "      <td>2020-01-01</td>\n",
       "    </tr>\n",
       "  </tbody>\n",
       "</table>\n",
       "</div>"
      ],
      "text/plain": [
       "              Datetime              Marketing_Cloud_Visitor_ID  Visits  \\\n",
       "1  2020-01-01 00:00:00  00000407524030170034329152187891187137       2   \n",
       "2  2020-01-01 00:00:00  00001225805363556352567682227342836429       2   \n",
       "3  2020-01-01 00:00:00  00002575609447976674466927358066308150       2   \n",
       "4  2020-01-01 00:00:00  00003359938884015262322109109977356941       1   \n",
       "5  2020-01-01 00:00:00  00004133799147884941035372258409605322       1   \n",
       "\n",
       "        Date  \n",
       "1 2020-01-01  \n",
       "2 2020-01-01  \n",
       "3 2020-01-01  \n",
       "4 2020-01-01  \n",
       "5 2020-01-01  "
      ]
     },
     "execution_count": 5,
     "metadata": {},
     "output_type": "execute_result"
    }
   ],
   "source": [
    "dataframe.head()"
   ]
  },
  {
   "cell_type": "code",
   "execution_count": 6,
   "metadata": {},
   "outputs": [
    {
     "name": "stdout",
     "output_type": "stream",
     "text": [
      "MAU:\n"
     ]
    },
    {
     "data": {
      "text/plain": [
       "1092420"
      ]
     },
     "execution_count": 6,
     "metadata": {},
     "output_type": "execute_result"
    }
   ],
   "source": [
    "print('MAU:')\n",
    "len(list(dataframe.Marketing_Cloud_Visitor_ID.unique()))"
   ]
  },
  {
   "cell_type": "code",
   "execution_count": 7,
   "metadata": {},
   "outputs": [],
   "source": [
    "# pivot Datetime column on user_id column\n",
    "dataframe.loc[:, ('Visits')] = dataframe.Visits.astype(int)\n",
    "df = dataframe.pivot_table(index=['Marketing_Cloud_Visitor_ID'], \n",
    "                           columns=['Date'], \n",
    "                           values='Visits').reset_index(drop=False)\n",
    "df = df.fillna(0)"
   ]
  },
  {
   "cell_type": "code",
   "execution_count": 8,
   "metadata": {
    "scrolled": true
   },
   "outputs": [
    {
     "name": "stdout",
     "output_type": "stream",
     "text": [
      "31\n"
     ]
    }
   ],
   "source": [
    "# me aseguro que todos los días estén en la tabla\n",
    "# luego podré contar 0's para contar los días de inactividad\n",
    "print(len(list(df.columns))-1)"
   ]
  },
  {
   "cell_type": "code",
   "execution_count": 9,
   "metadata": {
    "scrolled": false
   },
   "outputs": [],
   "source": [
    "# compute inactivity days per user\n",
    "inactive_days = pd.DataFrame((df == 0).sum(axis=1))"
   ]
  },
  {
   "cell_type": "code",
   "execution_count": 10,
   "metadata": {},
   "outputs": [],
   "source": [
    "# join inactive days to original df\n",
    "inactive_days = inactive_days.rename(columns={0:'total_active_days'})\n",
    "df = pd.merge(df, inactive_days, how='left', left_index=True, right_index=True)"
   ]
  },
  {
   "cell_type": "code",
   "execution_count": 11,
   "metadata": {},
   "outputs": [],
   "source": [
    "# compute total active days\n",
    "df.loc[:, ('total_active_days')] = 31-df.total_active_days"
   ]
  },
  {
   "cell_type": "code",
   "execution_count": 12,
   "metadata": {},
   "outputs": [
    {
     "data": {
      "text/html": [
       "<div>\n",
       "<style scoped>\n",
       "    .dataframe tbody tr th:only-of-type {\n",
       "        vertical-align: middle;\n",
       "    }\n",
       "\n",
       "    .dataframe tbody tr th {\n",
       "        vertical-align: top;\n",
       "    }\n",
       "\n",
       "    .dataframe thead th {\n",
       "        text-align: right;\n",
       "    }\n",
       "</style>\n",
       "<table border=\"1\" class=\"dataframe\">\n",
       "  <thead>\n",
       "    <tr style=\"text-align: right;\">\n",
       "      <th></th>\n",
       "      <th>Marketing_Cloud_Visitor_ID</th>\n",
       "      <th>2020-01-01 00:00:00</th>\n",
       "      <th>2020-01-02 00:00:00</th>\n",
       "      <th>2020-01-03 00:00:00</th>\n",
       "      <th>2020-01-04 00:00:00</th>\n",
       "      <th>2020-01-05 00:00:00</th>\n",
       "      <th>2020-01-06 00:00:00</th>\n",
       "      <th>2020-01-07 00:00:00</th>\n",
       "      <th>2020-01-08 00:00:00</th>\n",
       "      <th>2020-01-09 00:00:00</th>\n",
       "      <th>...</th>\n",
       "      <th>2020-01-23 00:00:00</th>\n",
       "      <th>2020-01-24 00:00:00</th>\n",
       "      <th>2020-01-25 00:00:00</th>\n",
       "      <th>2020-01-26 00:00:00</th>\n",
       "      <th>2020-01-27 00:00:00</th>\n",
       "      <th>2020-01-28 00:00:00</th>\n",
       "      <th>2020-01-29 00:00:00</th>\n",
       "      <th>2020-01-30 00:00:00</th>\n",
       "      <th>2020-01-31 00:00:00</th>\n",
       "      <th>total_active_days</th>\n",
       "    </tr>\n",
       "  </thead>\n",
       "  <tbody>\n",
       "    <tr>\n",
       "      <th>0</th>\n",
       "      <td>00000051745022542041818069014855750667</td>\n",
       "      <td>0.0</td>\n",
       "      <td>0.0</td>\n",
       "      <td>0.0</td>\n",
       "      <td>0.0</td>\n",
       "      <td>0.0</td>\n",
       "      <td>0.0</td>\n",
       "      <td>0.0</td>\n",
       "      <td>0.0</td>\n",
       "      <td>0.0</td>\n",
       "      <td>...</td>\n",
       "      <td>0.0</td>\n",
       "      <td>0.0</td>\n",
       "      <td>0.0</td>\n",
       "      <td>1.0</td>\n",
       "      <td>0.0</td>\n",
       "      <td>0.0</td>\n",
       "      <td>0.0</td>\n",
       "      <td>0.0</td>\n",
       "      <td>0.0</td>\n",
       "      <td>1</td>\n",
       "    </tr>\n",
       "    <tr>\n",
       "      <th>1</th>\n",
       "      <td>00000107708722978450827756473807907358</td>\n",
       "      <td>0.0</td>\n",
       "      <td>0.0</td>\n",
       "      <td>0.0</td>\n",
       "      <td>0.0</td>\n",
       "      <td>0.0</td>\n",
       "      <td>1.0</td>\n",
       "      <td>0.0</td>\n",
       "      <td>0.0</td>\n",
       "      <td>0.0</td>\n",
       "      <td>...</td>\n",
       "      <td>2.0</td>\n",
       "      <td>4.0</td>\n",
       "      <td>1.0</td>\n",
       "      <td>0.0</td>\n",
       "      <td>2.0</td>\n",
       "      <td>2.0</td>\n",
       "      <td>1.0</td>\n",
       "      <td>1.0</td>\n",
       "      <td>1.0</td>\n",
       "      <td>17</td>\n",
       "    </tr>\n",
       "    <tr>\n",
       "      <th>2</th>\n",
       "      <td>00000136845845092372076348413986631894</td>\n",
       "      <td>0.0</td>\n",
       "      <td>0.0</td>\n",
       "      <td>0.0</td>\n",
       "      <td>0.0</td>\n",
       "      <td>0.0</td>\n",
       "      <td>0.0</td>\n",
       "      <td>0.0</td>\n",
       "      <td>0.0</td>\n",
       "      <td>0.0</td>\n",
       "      <td>...</td>\n",
       "      <td>0.0</td>\n",
       "      <td>0.0</td>\n",
       "      <td>0.0</td>\n",
       "      <td>0.0</td>\n",
       "      <td>0.0</td>\n",
       "      <td>0.0</td>\n",
       "      <td>0.0</td>\n",
       "      <td>0.0</td>\n",
       "      <td>0.0</td>\n",
       "      <td>3</td>\n",
       "    </tr>\n",
       "    <tr>\n",
       "      <th>3</th>\n",
       "      <td>00000293011003412524344469397089860697</td>\n",
       "      <td>0.0</td>\n",
       "      <td>0.0</td>\n",
       "      <td>0.0</td>\n",
       "      <td>0.0</td>\n",
       "      <td>0.0</td>\n",
       "      <td>0.0</td>\n",
       "      <td>0.0</td>\n",
       "      <td>0.0</td>\n",
       "      <td>0.0</td>\n",
       "      <td>...</td>\n",
       "      <td>0.0</td>\n",
       "      <td>0.0</td>\n",
       "      <td>0.0</td>\n",
       "      <td>0.0</td>\n",
       "      <td>0.0</td>\n",
       "      <td>0.0</td>\n",
       "      <td>2.0</td>\n",
       "      <td>0.0</td>\n",
       "      <td>0.0</td>\n",
       "      <td>1</td>\n",
       "    </tr>\n",
       "    <tr>\n",
       "      <th>4</th>\n",
       "      <td>00000405678892241762669292114416707989</td>\n",
       "      <td>0.0</td>\n",
       "      <td>0.0</td>\n",
       "      <td>0.0</td>\n",
       "      <td>0.0</td>\n",
       "      <td>0.0</td>\n",
       "      <td>0.0</td>\n",
       "      <td>0.0</td>\n",
       "      <td>0.0</td>\n",
       "      <td>0.0</td>\n",
       "      <td>...</td>\n",
       "      <td>0.0</td>\n",
       "      <td>0.0</td>\n",
       "      <td>0.0</td>\n",
       "      <td>0.0</td>\n",
       "      <td>1.0</td>\n",
       "      <td>0.0</td>\n",
       "      <td>0.0</td>\n",
       "      <td>0.0</td>\n",
       "      <td>0.0</td>\n",
       "      <td>3</td>\n",
       "    </tr>\n",
       "  </tbody>\n",
       "</table>\n",
       "<p>5 rows × 33 columns</p>\n",
       "</div>"
      ],
      "text/plain": [
       "               Marketing_Cloud_Visitor_ID  2020-01-01 00:00:00  \\\n",
       "0  00000051745022542041818069014855750667                  0.0   \n",
       "1  00000107708722978450827756473807907358                  0.0   \n",
       "2  00000136845845092372076348413986631894                  0.0   \n",
       "3  00000293011003412524344469397089860697                  0.0   \n",
       "4  00000405678892241762669292114416707989                  0.0   \n",
       "\n",
       "   2020-01-02 00:00:00  2020-01-03 00:00:00  2020-01-04 00:00:00  \\\n",
       "0                  0.0                  0.0                  0.0   \n",
       "1                  0.0                  0.0                  0.0   \n",
       "2                  0.0                  0.0                  0.0   \n",
       "3                  0.0                  0.0                  0.0   \n",
       "4                  0.0                  0.0                  0.0   \n",
       "\n",
       "   2020-01-05 00:00:00  2020-01-06 00:00:00  2020-01-07 00:00:00  \\\n",
       "0                  0.0                  0.0                  0.0   \n",
       "1                  0.0                  1.0                  0.0   \n",
       "2                  0.0                  0.0                  0.0   \n",
       "3                  0.0                  0.0                  0.0   \n",
       "4                  0.0                  0.0                  0.0   \n",
       "\n",
       "   2020-01-08 00:00:00  2020-01-09 00:00:00  ...  2020-01-23 00:00:00  \\\n",
       "0                  0.0                  0.0  ...                  0.0   \n",
       "1                  0.0                  0.0  ...                  2.0   \n",
       "2                  0.0                  0.0  ...                  0.0   \n",
       "3                  0.0                  0.0  ...                  0.0   \n",
       "4                  0.0                  0.0  ...                  0.0   \n",
       "\n",
       "   2020-01-24 00:00:00  2020-01-25 00:00:00  2020-01-26 00:00:00  \\\n",
       "0                  0.0                  0.0                  1.0   \n",
       "1                  4.0                  1.0                  0.0   \n",
       "2                  0.0                  0.0                  0.0   \n",
       "3                  0.0                  0.0                  0.0   \n",
       "4                  0.0                  0.0                  0.0   \n",
       "\n",
       "   2020-01-27 00:00:00  2020-01-28 00:00:00  2020-01-29 00:00:00  \\\n",
       "0                  0.0                  0.0                  0.0   \n",
       "1                  2.0                  2.0                  1.0   \n",
       "2                  0.0                  0.0                  0.0   \n",
       "3                  0.0                  0.0                  2.0   \n",
       "4                  1.0                  0.0                  0.0   \n",
       "\n",
       "   2020-01-30 00:00:00  2020-01-31 00:00:00  total_active_days  \n",
       "0                  0.0                  0.0                  1  \n",
       "1                  1.0                  1.0                 17  \n",
       "2                  0.0                  0.0                  3  \n",
       "3                  0.0                  0.0                  1  \n",
       "4                  0.0                  0.0                  3  \n",
       "\n",
       "[5 rows x 33 columns]"
      ]
     },
     "execution_count": 12,
     "metadata": {},
     "output_type": "execute_result"
    }
   ],
   "source": [
    "df.head()"
   ]
  },
  {
   "cell_type": "code",
   "execution_count": 13,
   "metadata": {
    "scrolled": false
   },
   "outputs": [
    {
     "data": {
      "image/png": "[encoded data removed]",
      "text/plain": [
       "<Figure size 432x288 with 1 Axes>"
      ]
     },
     "metadata": {
      "needs_background": "light"
     },
     "output_type": "display_data"
    }
   ],
   "source": [
    "#print(Counter(df.inactive_days))\n",
    "df.total_active_days.hist(bins=70)\n",
    "plt.show()"
   ]
  },
  {
   "cell_type": "code",
   "execution_count": 14,
   "metadata": {
    "scrolled": true
   },
   "outputs": [
    {
     "data": {
      "text/plain": [
       "total_active_days\n",
       "1     463961\n",
       "2     167503\n",
       "3      97621\n",
       "4      66017\n",
       "5      48547\n",
       "6      37622\n",
       "7      29765\n",
       "8      24135\n",
       "9      20279\n",
       "10     17024\n",
       "11     14088\n",
       "12     12711\n",
       "13     10947\n",
       "14      9628\n",
       "15      8749\n",
       "16      7545\n",
       "17      6884\n",
       "18      6008\n",
       "19      5387\n",
       "20      4959\n",
       "21      4699\n",
       "22      4096\n",
       "23      3656\n",
       "24      3425\n",
       "25      3011\n",
       "26      2732\n",
       "27      2562\n",
       "28      2358\n",
       "29      2246\n",
       "30      2131\n",
       "31      2124\n",
       "Name: Marketing_Cloud_Visitor_ID, dtype: int64"
      ]
     },
     "execution_count": 14,
     "metadata": {},
     "output_type": "execute_result"
    }
   ],
   "source": [
    "df.groupby('total_active_days').count().Marketing_Cloud_Visitor_ID"
   ]
  },
  {
   "cell_type": "markdown",
   "metadata": {},
   "source": [
    "compute lengths of consecutive zeros"
   ]
  },
  {
   "cell_type": "code",
   "execution_count": 15,
   "metadata": {},
   "outputs": [],
   "source": [
    "from statistics import mean, median \n",
    "\n",
    "# stat can be one of the following 'max', 'min', 'mean', 'median'\n",
    "def stat_len_consec_zeros(a, stat):\n",
    "    a = np.array(list(a))    # convert elements to `str`\n",
    "    rr = np.argwhere(a == '0').ravel()  # find out positions of `0`\n",
    "    if not rr.size:  # if there are no zeros, return 0\n",
    "        return 0\n",
    "\n",
    "    full = np.arange(rr[0], rr[-1]+1)  # get the range of spread of 0s\n",
    "\n",
    "    # get the indices where `0` was flipped to something else\n",
    "    diff = np.setdiff1d(full, rr)\n",
    "    if not diff.size:     # if there are no bit flips, return the \n",
    "        return len(full)  # size of the full range\n",
    "\n",
    "    # break the array into pieces wherever there's a bit flip\n",
    "    # and the result is the size of the largest chunk\n",
    "    pos, difs = full[0], []\n",
    "    for el in diff:\n",
    "        difs.append(el - pos)\n",
    "        pos = el + 1\n",
    "    \n",
    "    # include possible last chunk in the count!!\n",
    "    difs.append(rr[-1] - diff[-1])\n",
    "\n",
    "    difs = list(filter(lambda a: a > 0, difs))\n",
    "\n",
    "    if stat=='max':\n",
    "        # return size of the largest chunk\n",
    "        res = max(difs) if len(difs) != 0 else 0\n",
    "    if stat=='min':\n",
    "        # return size of the smallest chunk\n",
    "        res = min(difs) if len(difs) != 0 else 0\n",
    "    if stat=='mean':\n",
    "        # return mean size of chunks\n",
    "        res = mean(difs) if len(difs) != 0 else 0\n",
    "\n",
    "    return res"
   ]
  },
  {
   "cell_type": "code",
   "execution_count": 16,
   "metadata": {},
   "outputs": [],
   "source": [
    "df = df.set_index('Marketing_Cloud_Visitor_ID')"
   ]
  },
  {
   "cell_type": "markdown",
   "metadata": {},
   "source": [
    "MAX\n",
    "\n",
    "Apply Function to compute max inactivity per user"
   ]
  },
  {
   "cell_type": "code",
   "execution_count": 17,
   "metadata": {},
   "outputs": [],
   "source": [
    "# concatenated and then apply the function\n",
    "df_aux = df.copy() \n",
    "del df_aux['total_active_days']\n",
    "df_aux = df_aux.astype(int)\n",
    "df_aux['concated'] = df_aux.astype(str).apply(lambda x: ''.join(x), axis=1)\n",
    "df_aux['max_inactive_days'] = df_aux.concated.apply(lambda x: stat_len_consec_zeros(x, stat='max'))\n",
    "df_max = df_aux['max_inactive_days'].copy()"
   ]
  },
  {
   "cell_type": "markdown",
   "metadata": {},
   "source": [
    "MIN\n",
    "\n",
    "Apply Function to compute min inactivity per user"
   ]
  },
  {
   "cell_type": "code",
   "execution_count": 18,
   "metadata": {},
   "outputs": [],
   "source": [
    "# concatenated and then apply the function\n",
    "df_aux = df.copy()\n",
    "del df_aux['total_active_days']\n",
    "df_aux = df_aux.astype(int)\n",
    "df_aux['concated'] = df_aux.astype(str).apply(lambda x: ''.join(x), axis=1)\n",
    "df_aux['min_inactive_days'] = df_aux.concated.apply(lambda x: stat_len_consec_zeros(x, stat='min'))\n",
    "df_min = df_aux['min_inactive_days'].copy()"
   ]
  },
  {
   "cell_type": "markdown",
   "metadata": {},
   "source": [
    "MEAN\n",
    "\n",
    "Apply Function to compute mean inactivity per user"
   ]
  },
  {
   "cell_type": "code",
   "execution_count": 19,
   "metadata": {},
   "outputs": [],
   "source": [
    "# concatenated and then apply the function\n",
    "df_aux = df.copy()\n",
    "del df_aux['total_active_days']\n",
    "df_aux = df_aux.astype(int)\n",
    "df_aux['concated'] = df_aux.astype(str).apply(lambda x: ''.join(x), axis=1)\n",
    "df_aux['mean_inactive_days'] = df_aux.concated.apply(lambda x: stat_len_consec_zeros(x, stat='mean'))\n",
    "df_mean = df_aux['mean_inactive_days'].copy()"
   ]
  },
  {
   "cell_type": "markdown",
   "metadata": {},
   "source": [
    "Join Max, Mean, and Mean inactivity days to original dataframe df"
   ]
  },
  {
   "cell_type": "code",
   "execution_count": 20,
   "metadata": {},
   "outputs": [],
   "source": [
    "df = pd.merge(df, df_mean, on='Marketing_Cloud_Visitor_ID', how='left')\n",
    "df = pd.merge(df, df_max, on='Marketing_Cloud_Visitor_ID', how='left')\n",
    "df = pd.merge(df, df_min, on='Marketing_Cloud_Visitor_ID', how='left')"
   ]
  },
  {
   "cell_type": "code",
   "execution_count": 21,
   "metadata": {},
   "outputs": [],
   "source": [
    "frequency_features = ['total_active_days', 'mean_inactive_days', 'max_inactive_days', 'min_inactive_days']\n",
    "df = df[frequency_features]"
   ]
  },
  {
   "cell_type": "code",
   "execution_count": 102,
   "metadata": {},
   "outputs": [],
   "source": [
    "df.to_csv('Data/202001_android_frequency.csv', index=False)"
   ]
  },
  {
   "cell_type": "markdown",
   "metadata": {},
   "source": [
    "Analysis of User Frecueuncy"
   ]
  },
  {
   "cell_type": "code",
   "execution_count": 22,
   "metadata": {
    "scrolled": false
   },
   "outputs": [
    {
     "name": "stderr",
     "output_type": "stream",
     "text": [
      "/Users/piermarco.milione/opt/anaconda3/envs/fotocasa_env/lib/python3.7/site-packages/matplotlib/axes/_axes.py:6521: MatplotlibDeprecationWarning: \n",
      "The 'normed' kwarg was deprecated in Matplotlib 2.1 and will be removed in 3.1. Use 'density' instead.\n",
      "  alternative=\"'density'\", removal=\"3.1\")\n"
     ]
    },
    {
     "data": {
      "image/png": "[encoded data removed]",
      "text/plain": [
       "<Figure size 432x288 with 1 Axes>"
      ]
     },
     "metadata": {
      "needs_background": "light"
     },
     "output_type": "display_data"
    }
   ],
   "source": [
    "plt.hist(df.total_active_days, normed=1, bins=50, color='#0504aa',alpha=0.7, rwidth=0.85)\n",
    "plt.title('Distribution of Users per activity days')\n",
    "plt.show()"
   ]
  },
  {
   "cell_type": "code",
   "execution_count": 24,
   "metadata": {},
   "outputs": [],
   "source": [
    "df_low =df[df.total_active_days==1]"
   ]
  },
  {
   "cell_type": "code",
   "execution_count": 41,
   "metadata": {
    "scrolled": true
   },
   "outputs": [
    {
     "data": {
      "text/plain": [
       "0.07024512836208216"
      ]
     },
     "execution_count": 41,
     "metadata": {},
     "output_type": "execute_result"
    }
   ],
   "source": [
    "df_low[(df_low.max_inactive_days==28)].shape[0]/df_low.shape[0]"
   ]
  },
  {
   "cell_type": "code",
   "execution_count": 38,
   "metadata": {},
   "outputs": [
    {
     "data": {
      "text/plain": [
       "array([3])"
      ]
     },
     "execution_count": 38,
     "metadata": {},
     "output_type": "execute_result"
    }
   ],
   "source": [
    "df_low[(df_low.max_inactive_days==27)].min_inactive_days.unique()"
   ]
  },
  {
   "cell_type": "code",
   "execution_count": 32,
   "metadata": {},
   "outputs": [
    {
     "data": {
      "text/plain": [
       "0.0725858423445074"
      ]
     },
     "execution_count": 32,
     "metadata": {},
     "output_type": "execute_result"
    }
   ],
   "source": [
    "df_low[(df_low.max_inactive_days==29)].shape[0]/df_low.shape[0]"
   ]
  },
  {
   "cell_type": "code",
   "execution_count": 51,
   "metadata": {},
   "outputs": [
    {
     "data": {
      "image/png": "[encoded data removed]",
      "text/plain": [
       "<Figure size 432x288 with 1 Axes>"
      ]
     },
     "metadata": {
      "needs_background": "light"
     },
     "output_type": "display_data"
    }
   ],
   "source": [
    "plt.hist(df_low.max_inactive_days, density=1, bins=20, color='#0504aa',alpha=0.7, rwidth=0.85)\n",
    "plt.title('Distribution of Users active just 1 day, per MAX days of inactivity')\n",
    "plt.show()"
   ]
  },
  {
   "cell_type": "code",
   "execution_count": 26,
   "metadata": {},
   "outputs": [
    {
     "data": {
      "image/png": "[encoded data removed]",
      "text/plain": [
       "<Figure size 432x288 with 1 Axes>"
      ]
     },
     "metadata": {
      "needs_background": "light"
     },
     "output_type": "display_data"
    }
   ],
   "source": [
    "plt.hist(df_low.min_inactive_days, density=1, bins=50, color='#0504aa',alpha=0.7, rwidth=0.85)\n",
    "plt.title('Distribution of Users per MIN inactive days')\n",
    "plt.show()"
   ]
  },
  {
   "cell_type": "code",
   "execution_count": 41,
   "metadata": {
    "scrolled": true
   },
   "outputs": [
    {
     "data": {
      "image/png": "[encoded data removed]",
      "text/plain": [
       "<Figure size 432x288 with 1 Axes>"
      ]
     },
     "metadata": {
      "needs_background": "light"
     },
     "output_type": "display_data"
    }
   ],
   "source": [
    "plt.hist(df.mean_inactive_days, density=1, bins=50, color='#0504aa',alpha=0.7, rwidth=0.85)\n",
    "plt.title('Distribution of Users per MEAN inactive days')\n",
    "plt.show()"
   ]
  },
  {
   "cell_type": "code",
   "execution_count": 43,
   "metadata": {
    "collapsed": true
   },
   "outputs": [
    {
     "data": {
      "image/png": "[encoded data removed]",
      "text/plain": [
       "<Figure size 432x288 with 1 Axes>"
      ]
     },
     "metadata": {
      "needs_background": "light"
     },
     "output_type": "display_data"
    }
   ],
   "source": [
    "inactivity_treshold = 1\n",
    "max_consecutive_treshold = 26"
   ]
  },
  {
   "cell_type": "code",
   "execution_count": null,
   "metadata": {},
   "outputs": [],
   "source": [
    "df_inactive = df_aux[df_aux.total_active_days <= inactivity_treshold]\n",
    "df_inactive.max_consecutive_zeros.hist(bins=50)\n",
    "plt.show()"
   ]
  },
  {
   "cell_type": "code",
   "execution_count": 41,
   "metadata": {
    "collapsed": true
   },
   "outputs": [
    {
     "data": {
      "text/html": [
       "<div>\n",
       "<style scoped>\n",
       "    .dataframe tbody tr th:only-of-type {\n",
       "        vertical-align: middle;\n",
       "    }\n",
       "\n",
       "    .dataframe tbody tr th {\n",
       "        vertical-align: top;\n",
       "    }\n",
       "\n",
       "    .dataframe thead th {\n",
       "        text-align: right;\n",
       "    }\n",
       "</style>\n",
       "<table border=\"1\" class=\"dataframe\">\n",
       "  <thead>\n",
       "    <tr style=\"text-align: right;\">\n",
       "      <th></th>\n",
       "      <th>2020-01-01 00:00:00</th>\n",
       "      <th>2020-01-02 00:00:00</th>\n",
       "      <th>2020-01-03 00:00:00</th>\n",
       "      <th>2020-01-04 00:00:00</th>\n",
       "      <th>2020-01-05 00:00:00</th>\n",
       "      <th>2020-01-06 00:00:00</th>\n",
       "      <th>2020-01-07 00:00:00</th>\n",
       "      <th>2020-01-08 00:00:00</th>\n",
       "      <th>2020-01-09 00:00:00</th>\n",
       "      <th>2020-01-10 00:00:00</th>\n",
       "      <th>...</th>\n",
       "      <th>2020-01-25 00:00:00</th>\n",
       "      <th>2020-01-26 00:00:00</th>\n",
       "      <th>2020-01-27 00:00:00</th>\n",
       "      <th>2020-01-28 00:00:00</th>\n",
       "      <th>2020-01-29 00:00:00</th>\n",
       "      <th>2020-01-30 00:00:00</th>\n",
       "      <th>2020-01-31 00:00:00</th>\n",
       "      <th>total_active_days</th>\n",
       "      <th>concated</th>\n",
       "      <th>max_consecutive_zeros</th>\n",
       "    </tr>\n",
       "    <tr>\n",
       "      <th>Marketing_Cloud_Visitor_ID</th>\n",
       "      <th></th>\n",
       "      <th></th>\n",
       "      <th></th>\n",
       "      <th></th>\n",
       "      <th></th>\n",
       "      <th></th>\n",
       "      <th></th>\n",
       "      <th></th>\n",
       "      <th></th>\n",
       "      <th></th>\n",
       "      <th></th>\n",
       "      <th></th>\n",
       "      <th></th>\n",
       "      <th></th>\n",
       "      <th></th>\n",
       "      <th></th>\n",
       "      <th></th>\n",
       "      <th></th>\n",
       "      <th></th>\n",
       "      <th></th>\n",
       "      <th></th>\n",
       "    </tr>\n",
       "  </thead>\n",
       "  <tbody>\n",
       "    <tr>\n",
       "      <th>00000293011003412524344469397089860697</th>\n",
       "      <td>0</td>\n",
       "      <td>0</td>\n",
       "      <td>0</td>\n",
       "      <td>0</td>\n",
       "      <td>0</td>\n",
       "      <td>0</td>\n",
       "      <td>0</td>\n",
       "      <td>0</td>\n",
       "      <td>0</td>\n",
       "      <td>0</td>\n",
       "      <td>...</td>\n",
       "      <td>0</td>\n",
       "      <td>0</td>\n",
       "      <td>0</td>\n",
       "      <td>0</td>\n",
       "      <td>2</td>\n",
       "      <td>0</td>\n",
       "      <td>0</td>\n",
       "      <td>1</td>\n",
       "      <td>00000000000000000000000000002001</td>\n",
       "      <td>28</td>\n",
       "    </tr>\n",
       "    <tr>\n",
       "      <th>00002201844017007621091194261614700632</th>\n",
       "      <td>0</td>\n",
       "      <td>0</td>\n",
       "      <td>0</td>\n",
       "      <td>0</td>\n",
       "      <td>0</td>\n",
       "      <td>0</td>\n",
       "      <td>0</td>\n",
       "      <td>0</td>\n",
       "      <td>0</td>\n",
       "      <td>0</td>\n",
       "      <td>...</td>\n",
       "      <td>0</td>\n",
       "      <td>0</td>\n",
       "      <td>0</td>\n",
       "      <td>0</td>\n",
       "      <td>1</td>\n",
       "      <td>0</td>\n",
       "      <td>0</td>\n",
       "      <td>1</td>\n",
       "      <td>00000000000000000000000000001001</td>\n",
       "      <td>28</td>\n",
       "    </tr>\n",
       "    <tr>\n",
       "      <th>00002619012576957284147658887455149687</th>\n",
       "      <td>0</td>\n",
       "      <td>0</td>\n",
       "      <td>0</td>\n",
       "      <td>0</td>\n",
       "      <td>0</td>\n",
       "      <td>0</td>\n",
       "      <td>0</td>\n",
       "      <td>0</td>\n",
       "      <td>0</td>\n",
       "      <td>0</td>\n",
       "      <td>...</td>\n",
       "      <td>0</td>\n",
       "      <td>0</td>\n",
       "      <td>0</td>\n",
       "      <td>0</td>\n",
       "      <td>0</td>\n",
       "      <td>1</td>\n",
       "      <td>0</td>\n",
       "      <td>1</td>\n",
       "      <td>00000000000000000000000000000101</td>\n",
       "      <td>29</td>\n",
       "    </tr>\n",
       "    <tr>\n",
       "      <th>00002750202463787182381879625848072279</th>\n",
       "      <td>0</td>\n",
       "      <td>0</td>\n",
       "      <td>0</td>\n",
       "      <td>0</td>\n",
       "      <td>0</td>\n",
       "      <td>0</td>\n",
       "      <td>0</td>\n",
       "      <td>0</td>\n",
       "      <td>0</td>\n",
       "      <td>0</td>\n",
       "      <td>...</td>\n",
       "      <td>0</td>\n",
       "      <td>0</td>\n",
       "      <td>0</td>\n",
       "      <td>0</td>\n",
       "      <td>0</td>\n",
       "      <td>0</td>\n",
       "      <td>1</td>\n",
       "      <td>1</td>\n",
       "      <td>00000000000000000000000000000011</td>\n",
       "      <td>30</td>\n",
       "    </tr>\n",
       "    <tr>\n",
       "      <th>00003276362500282751842587828902065975</th>\n",
       "      <td>0</td>\n",
       "      <td>0</td>\n",
       "      <td>0</td>\n",
       "      <td>0</td>\n",
       "      <td>0</td>\n",
       "      <td>0</td>\n",
       "      <td>0</td>\n",
       "      <td>0</td>\n",
       "      <td>0</td>\n",
       "      <td>0</td>\n",
       "      <td>...</td>\n",
       "      <td>0</td>\n",
       "      <td>0</td>\n",
       "      <td>2</td>\n",
       "      <td>0</td>\n",
       "      <td>0</td>\n",
       "      <td>0</td>\n",
       "      <td>0</td>\n",
       "      <td>1</td>\n",
       "      <td>00000000000000000000000000200001</td>\n",
       "      <td>26</td>\n",
       "    </tr>\n",
       "    <tr>\n",
       "      <th>...</th>\n",
       "      <td>...</td>\n",
       "      <td>...</td>\n",
       "      <td>...</td>\n",
       "      <td>...</td>\n",
       "      <td>...</td>\n",
       "      <td>...</td>\n",
       "      <td>...</td>\n",
       "      <td>...</td>\n",
       "      <td>...</td>\n",
       "      <td>...</td>\n",
       "      <td>...</td>\n",
       "      <td>...</td>\n",
       "      <td>...</td>\n",
       "      <td>...</td>\n",
       "      <td>...</td>\n",
       "      <td>...</td>\n",
       "      <td>...</td>\n",
       "      <td>...</td>\n",
       "      <td>...</td>\n",
       "      <td>...</td>\n",
       "      <td>...</td>\n",
       "    </tr>\n",
       "    <tr>\n",
       "      <th>92228977439761653252000494003987427757</th>\n",
       "      <td>0</td>\n",
       "      <td>0</td>\n",
       "      <td>0</td>\n",
       "      <td>0</td>\n",
       "      <td>0</td>\n",
       "      <td>0</td>\n",
       "      <td>0</td>\n",
       "      <td>0</td>\n",
       "      <td>0</td>\n",
       "      <td>0</td>\n",
       "      <td>...</td>\n",
       "      <td>0</td>\n",
       "      <td>0</td>\n",
       "      <td>1</td>\n",
       "      <td>0</td>\n",
       "      <td>0</td>\n",
       "      <td>0</td>\n",
       "      <td>0</td>\n",
       "      <td>1</td>\n",
       "      <td>00000000000000000000000000100001</td>\n",
       "      <td>26</td>\n",
       "    </tr>\n",
       "    <tr>\n",
       "      <th>92229613224919320063721953572345176047</th>\n",
       "      <td>0</td>\n",
       "      <td>0</td>\n",
       "      <td>0</td>\n",
       "      <td>0</td>\n",
       "      <td>0</td>\n",
       "      <td>0</td>\n",
       "      <td>0</td>\n",
       "      <td>0</td>\n",
       "      <td>0</td>\n",
       "      <td>0</td>\n",
       "      <td>...</td>\n",
       "      <td>0</td>\n",
       "      <td>0</td>\n",
       "      <td>1</td>\n",
       "      <td>0</td>\n",
       "      <td>0</td>\n",
       "      <td>0</td>\n",
       "      <td>0</td>\n",
       "      <td>1</td>\n",
       "      <td>00000000000000000000000000100001</td>\n",
       "      <td>26</td>\n",
       "    </tr>\n",
       "    <tr>\n",
       "      <th>92230114067003726791733697778179621107</th>\n",
       "      <td>0</td>\n",
       "      <td>0</td>\n",
       "      <td>0</td>\n",
       "      <td>0</td>\n",
       "      <td>0</td>\n",
       "      <td>0</td>\n",
       "      <td>0</td>\n",
       "      <td>0</td>\n",
       "      <td>0</td>\n",
       "      <td>0</td>\n",
       "      <td>...</td>\n",
       "      <td>0</td>\n",
       "      <td>0</td>\n",
       "      <td>0</td>\n",
       "      <td>1</td>\n",
       "      <td>0</td>\n",
       "      <td>0</td>\n",
       "      <td>0</td>\n",
       "      <td>1</td>\n",
       "      <td>00000000000000000000000000010001</td>\n",
       "      <td>27</td>\n",
       "    </tr>\n",
       "    <tr>\n",
       "      <th>92231948442256936222621309405328342609</th>\n",
       "      <td>0</td>\n",
       "      <td>0</td>\n",
       "      <td>0</td>\n",
       "      <td>0</td>\n",
       "      <td>0</td>\n",
       "      <td>0</td>\n",
       "      <td>0</td>\n",
       "      <td>0</td>\n",
       "      <td>0</td>\n",
       "      <td>0</td>\n",
       "      <td>...</td>\n",
       "      <td>0</td>\n",
       "      <td>0</td>\n",
       "      <td>0</td>\n",
       "      <td>0</td>\n",
       "      <td>1</td>\n",
       "      <td>0</td>\n",
       "      <td>0</td>\n",
       "      <td>1</td>\n",
       "      <td>00000000000000000000000000001001</td>\n",
       "      <td>28</td>\n",
       "    </tr>\n",
       "    <tr>\n",
       "      <th>92232424568146748752578554428434127328</th>\n",
       "      <td>0</td>\n",
       "      <td>0</td>\n",
       "      <td>0</td>\n",
       "      <td>0</td>\n",
       "      <td>0</td>\n",
       "      <td>0</td>\n",
       "      <td>0</td>\n",
       "      <td>0</td>\n",
       "      <td>0</td>\n",
       "      <td>0</td>\n",
       "      <td>...</td>\n",
       "      <td>0</td>\n",
       "      <td>0</td>\n",
       "      <td>0</td>\n",
       "      <td>1</td>\n",
       "      <td>0</td>\n",
       "      <td>0</td>\n",
       "      <td>0</td>\n",
       "      <td>1</td>\n",
       "      <td>00000000000000000000000000010001</td>\n",
       "      <td>27</td>\n",
       "    </tr>\n",
       "  </tbody>\n",
       "</table>\n",
       "<p>108488 rows × 34 columns</p>\n",
       "</div>"
      ],
      "text/plain": [
       "                                        2020-01-01 00:00:00  \\\n",
       "Marketing_Cloud_Visitor_ID                                    \n",
       "00000293011003412524344469397089860697                    0   \n",
       "00002201844017007621091194261614700632                    0   \n",
       "00002619012576957284147658887455149687                    0   \n",
       "00002750202463787182381879625848072279                    0   \n",
       "00003276362500282751842587828902065975                    0   \n",
       "...                                                     ...   \n",
       "92228977439761653252000494003987427757                    0   \n",
       "92229613224919320063721953572345176047                    0   \n",
       "92230114067003726791733697778179621107                    0   \n",
       "92231948442256936222621309405328342609                    0   \n",
       "92232424568146748752578554428434127328                    0   \n",
       "\n",
       "                                        2020-01-02 00:00:00  \\\n",
       "Marketing_Cloud_Visitor_ID                                    \n",
       "00000293011003412524344469397089860697                    0   \n",
       "00002201844017007621091194261614700632                    0   \n",
       "00002619012576957284147658887455149687                    0   \n",
       "00002750202463787182381879625848072279                    0   \n",
       "00003276362500282751842587828902065975                    0   \n",
       "...                                                     ...   \n",
       "92228977439761653252000494003987427757                    0   \n",
       "92229613224919320063721953572345176047                    0   \n",
       "92230114067003726791733697778179621107                    0   \n",
       "92231948442256936222621309405328342609                    0   \n",
       "92232424568146748752578554428434127328                    0   \n",
       "\n",
       "                                        2020-01-03 00:00:00  \\\n",
       "Marketing_Cloud_Visitor_ID                                    \n",
       "00000293011003412524344469397089860697                    0   \n",
       "00002201844017007621091194261614700632                    0   \n",
       "00002619012576957284147658887455149687                    0   \n",
       "00002750202463787182381879625848072279                    0   \n",
       "00003276362500282751842587828902065975                    0   \n",
       "...                                                     ...   \n",
       "92228977439761653252000494003987427757                    0   \n",
       "92229613224919320063721953572345176047                    0   \n",
       "92230114067003726791733697778179621107                    0   \n",
       "92231948442256936222621309405328342609                    0   \n",
       "92232424568146748752578554428434127328                    0   \n",
       "\n",
       "                                        2020-01-04 00:00:00  \\\n",
       "Marketing_Cloud_Visitor_ID                                    \n",
       "00000293011003412524344469397089860697                    0   \n",
       "00002201844017007621091194261614700632                    0   \n",
       "00002619012576957284147658887455149687                    0   \n",
       "00002750202463787182381879625848072279                    0   \n",
       "00003276362500282751842587828902065975                    0   \n",
       "...                                                     ...   \n",
       "92228977439761653252000494003987427757                    0   \n",
       "92229613224919320063721953572345176047                    0   \n",
       "92230114067003726791733697778179621107                    0   \n",
       "92231948442256936222621309405328342609                    0   \n",
       "92232424568146748752578554428434127328                    0   \n",
       "\n",
       "                                        2020-01-05 00:00:00  \\\n",
       "Marketing_Cloud_Visitor_ID                                    \n",
       "00000293011003412524344469397089860697                    0   \n",
       "00002201844017007621091194261614700632                    0   \n",
       "00002619012576957284147658887455149687                    0   \n",
       "00002750202463787182381879625848072279                    0   \n",
       "00003276362500282751842587828902065975                    0   \n",
       "...                                                     ...   \n",
       "92228977439761653252000494003987427757                    0   \n",
       "92229613224919320063721953572345176047                    0   \n",
       "92230114067003726791733697778179621107                    0   \n",
       "92231948442256936222621309405328342609                    0   \n",
       "92232424568146748752578554428434127328                    0   \n",
       "\n",
       "                                        2020-01-06 00:00:00  \\\n",
       "Marketing_Cloud_Visitor_ID                                    \n",
       "00000293011003412524344469397089860697                    0   \n",
       "00002201844017007621091194261614700632                    0   \n",
       "00002619012576957284147658887455149687                    0   \n",
       "00002750202463787182381879625848072279                    0   \n",
       "00003276362500282751842587828902065975                    0   \n",
       "...                                                     ...   \n",
       "92228977439761653252000494003987427757                    0   \n",
       "92229613224919320063721953572345176047                    0   \n",
       "92230114067003726791733697778179621107                    0   \n",
       "92231948442256936222621309405328342609                    0   \n",
       "92232424568146748752578554428434127328                    0   \n",
       "\n",
       "                                        2020-01-07 00:00:00  \\\n",
       "Marketing_Cloud_Visitor_ID                                    \n",
       "00000293011003412524344469397089860697                    0   \n",
       "00002201844017007621091194261614700632                    0   \n",
       "00002619012576957284147658887455149687                    0   \n",
       "00002750202463787182381879625848072279                    0   \n",
       "00003276362500282751842587828902065975                    0   \n",
       "...                                                     ...   \n",
       "92228977439761653252000494003987427757                    0   \n",
       "92229613224919320063721953572345176047                    0   \n",
       "92230114067003726791733697778179621107                    0   \n",
       "92231948442256936222621309405328342609                    0   \n",
       "92232424568146748752578554428434127328                    0   \n",
       "\n",
       "                                        2020-01-08 00:00:00  \\\n",
       "Marketing_Cloud_Visitor_ID                                    \n",
       "00000293011003412524344469397089860697                    0   \n",
       "00002201844017007621091194261614700632                    0   \n",
       "00002619012576957284147658887455149687                    0   \n",
       "00002750202463787182381879625848072279                    0   \n",
       "00003276362500282751842587828902065975                    0   \n",
       "...                                                     ...   \n",
       "92228977439761653252000494003987427757                    0   \n",
       "92229613224919320063721953572345176047                    0   \n",
       "92230114067003726791733697778179621107                    0   \n",
       "92231948442256936222621309405328342609                    0   \n",
       "92232424568146748752578554428434127328                    0   \n",
       "\n",
       "                                        2020-01-09 00:00:00  \\\n",
       "Marketing_Cloud_Visitor_ID                                    \n",
       "00000293011003412524344469397089860697                    0   \n",
       "00002201844017007621091194261614700632                    0   \n",
       "00002619012576957284147658887455149687                    0   \n",
       "00002750202463787182381879625848072279                    0   \n",
       "00003276362500282751842587828902065975                    0   \n",
       "...                                                     ...   \n",
       "92228977439761653252000494003987427757                    0   \n",
       "92229613224919320063721953572345176047                    0   \n",
       "92230114067003726791733697778179621107                    0   \n",
       "92231948442256936222621309405328342609                    0   \n",
       "92232424568146748752578554428434127328                    0   \n",
       "\n",
       "                                        2020-01-10 00:00:00  ...  \\\n",
       "Marketing_Cloud_Visitor_ID                                   ...   \n",
       "00000293011003412524344469397089860697                    0  ...   \n",
       "00002201844017007621091194261614700632                    0  ...   \n",
       "00002619012576957284147658887455149687                    0  ...   \n",
       "00002750202463787182381879625848072279                    0  ...   \n",
       "00003276362500282751842587828902065975                    0  ...   \n",
       "...                                                     ...  ...   \n",
       "92228977439761653252000494003987427757                    0  ...   \n",
       "92229613224919320063721953572345176047                    0  ...   \n",
       "92230114067003726791733697778179621107                    0  ...   \n",
       "92231948442256936222621309405328342609                    0  ...   \n",
       "92232424568146748752578554428434127328                    0  ...   \n",
       "\n",
       "                                        2020-01-25 00:00:00  \\\n",
       "Marketing_Cloud_Visitor_ID                                    \n",
       "00000293011003412524344469397089860697                    0   \n",
       "00002201844017007621091194261614700632                    0   \n",
       "00002619012576957284147658887455149687                    0   \n",
       "00002750202463787182381879625848072279                    0   \n",
       "00003276362500282751842587828902065975                    0   \n",
       "...                                                     ...   \n",
       "92228977439761653252000494003987427757                    0   \n",
       "92229613224919320063721953572345176047                    0   \n",
       "92230114067003726791733697778179621107                    0   \n",
       "92231948442256936222621309405328342609                    0   \n",
       "92232424568146748752578554428434127328                    0   \n",
       "\n",
       "                                        2020-01-26 00:00:00  \\\n",
       "Marketing_Cloud_Visitor_ID                                    \n",
       "00000293011003412524344469397089860697                    0   \n",
       "00002201844017007621091194261614700632                    0   \n",
       "00002619012576957284147658887455149687                    0   \n",
       "00002750202463787182381879625848072279                    0   \n",
       "00003276362500282751842587828902065975                    0   \n",
       "...                                                     ...   \n",
       "92228977439761653252000494003987427757                    0   \n",
       "92229613224919320063721953572345176047                    0   \n",
       "92230114067003726791733697778179621107                    0   \n",
       "92231948442256936222621309405328342609                    0   \n",
       "92232424568146748752578554428434127328                    0   \n",
       "\n",
       "                                        2020-01-27 00:00:00  \\\n",
       "Marketing_Cloud_Visitor_ID                                    \n",
       "00000293011003412524344469397089860697                    0   \n",
       "00002201844017007621091194261614700632                    0   \n",
       "00002619012576957284147658887455149687                    0   \n",
       "00002750202463787182381879625848072279                    0   \n",
       "00003276362500282751842587828902065975                    2   \n",
       "...                                                     ...   \n",
       "92228977439761653252000494003987427757                    1   \n",
       "92229613224919320063721953572345176047                    1   \n",
       "92230114067003726791733697778179621107                    0   \n",
       "92231948442256936222621309405328342609                    0   \n",
       "92232424568146748752578554428434127328                    0   \n",
       "\n",
       "                                        2020-01-28 00:00:00  \\\n",
       "Marketing_Cloud_Visitor_ID                                    \n",
       "00000293011003412524344469397089860697                    0   \n",
       "00002201844017007621091194261614700632                    0   \n",
       "00002619012576957284147658887455149687                    0   \n",
       "00002750202463787182381879625848072279                    0   \n",
       "00003276362500282751842587828902065975                    0   \n",
       "...                                                     ...   \n",
       "92228977439761653252000494003987427757                    0   \n",
       "92229613224919320063721953572345176047                    0   \n",
       "92230114067003726791733697778179621107                    1   \n",
       "92231948442256936222621309405328342609                    0   \n",
       "92232424568146748752578554428434127328                    1   \n",
       "\n",
       "                                        2020-01-29 00:00:00  \\\n",
       "Marketing_Cloud_Visitor_ID                                    \n",
       "00000293011003412524344469397089860697                    2   \n",
       "00002201844017007621091194261614700632                    1   \n",
       "00002619012576957284147658887455149687                    0   \n",
       "00002750202463787182381879625848072279                    0   \n",
       "00003276362500282751842587828902065975                    0   \n",
       "...                                                     ...   \n",
       "92228977439761653252000494003987427757                    0   \n",
       "92229613224919320063721953572345176047                    0   \n",
       "92230114067003726791733697778179621107                    0   \n",
       "92231948442256936222621309405328342609                    1   \n",
       "92232424568146748752578554428434127328                    0   \n",
       "\n",
       "                                        2020-01-30 00:00:00  \\\n",
       "Marketing_Cloud_Visitor_ID                                    \n",
       "00000293011003412524344469397089860697                    0   \n",
       "00002201844017007621091194261614700632                    0   \n",
       "00002619012576957284147658887455149687                    1   \n",
       "00002750202463787182381879625848072279                    0   \n",
       "00003276362500282751842587828902065975                    0   \n",
       "...                                                     ...   \n",
       "92228977439761653252000494003987427757                    0   \n",
       "92229613224919320063721953572345176047                    0   \n",
       "92230114067003726791733697778179621107                    0   \n",
       "92231948442256936222621309405328342609                    0   \n",
       "92232424568146748752578554428434127328                    0   \n",
       "\n",
       "                                        2020-01-31 00:00:00  \\\n",
       "Marketing_Cloud_Visitor_ID                                    \n",
       "00000293011003412524344469397089860697                    0   \n",
       "00002201844017007621091194261614700632                    0   \n",
       "00002619012576957284147658887455149687                    0   \n",
       "00002750202463787182381879625848072279                    1   \n",
       "00003276362500282751842587828902065975                    0   \n",
       "...                                                     ...   \n",
       "92228977439761653252000494003987427757                    0   \n",
       "92229613224919320063721953572345176047                    0   \n",
       "92230114067003726791733697778179621107                    0   \n",
       "92231948442256936222621309405328342609                    0   \n",
       "92232424568146748752578554428434127328                    0   \n",
       "\n",
       "                                        total_active_days  \\\n",
       "Marketing_Cloud_Visitor_ID                                  \n",
       "00000293011003412524344469397089860697                  1   \n",
       "00002201844017007621091194261614700632                  1   \n",
       "00002619012576957284147658887455149687                  1   \n",
       "00002750202463787182381879625848072279                  1   \n",
       "00003276362500282751842587828902065975                  1   \n",
       "...                                                   ...   \n",
       "92228977439761653252000494003987427757                  1   \n",
       "92229613224919320063721953572345176047                  1   \n",
       "92230114067003726791733697778179621107                  1   \n",
       "92231948442256936222621309405328342609                  1   \n",
       "92232424568146748752578554428434127328                  1   \n",
       "\n",
       "                                                                concated  \\\n",
       "Marketing_Cloud_Visitor_ID                                                 \n",
       "00000293011003412524344469397089860697  00000000000000000000000000002001   \n",
       "00002201844017007621091194261614700632  00000000000000000000000000001001   \n",
       "00002619012576957284147658887455149687  00000000000000000000000000000101   \n",
       "00002750202463787182381879625848072279  00000000000000000000000000000011   \n",
       "00003276362500282751842587828902065975  00000000000000000000000000200001   \n",
       "...                                                                  ...   \n",
       "92228977439761653252000494003987427757  00000000000000000000000000100001   \n",
       "92229613224919320063721953572345176047  00000000000000000000000000100001   \n",
       "92230114067003726791733697778179621107  00000000000000000000000000010001   \n",
       "92231948442256936222621309405328342609  00000000000000000000000000001001   \n",
       "92232424568146748752578554428434127328  00000000000000000000000000010001   \n",
       "\n",
       "                                        max_consecutive_zeros  \n",
       "Marketing_Cloud_Visitor_ID                                     \n",
       "00000293011003412524344469397089860697                     28  \n",
       "00002201844017007621091194261614700632                     28  \n",
       "00002619012576957284147658887455149687                     29  \n",
       "00002750202463787182381879625848072279                     30  \n",
       "00003276362500282751842587828902065975                     26  \n",
       "...                                                       ...  \n",
       "92228977439761653252000494003987427757                     26  \n",
       "92229613224919320063721953572345176047                     26  \n",
       "92230114067003726791733697778179621107                     27  \n",
       "92231948442256936222621309405328342609                     28  \n",
       "92232424568146748752578554428434127328                     27  \n",
       "\n",
       "[108488 rows x 34 columns]"
      ]
     },
     "execution_count": 41,
     "metadata": {},
     "output_type": "execute_result"
    }
   ],
   "source": [
    "df_inactive[df_inactive.max_consecutive_zeros >= max_consecutive_treshold]"
   ]
  },
  {
   "cell_type": "markdown",
   "metadata": {},
   "source": [
    "1.9 Visits per Marketing Channel"
   ]
  },
  {
   "cell_type": "code",
   "execution_count": null,
   "metadata": {},
   "outputs": [],
   "source": [
    "# Request to Adobe Analystics Warehouse\n",
    "report_def = ReportDefinition(\n",
    "    dimensions=['marketingcloudvisitorid', 'lasttouchchannel'],\n",
    "    metrics=['visits'],\n",
    "    segments=seg_android,\n",
    "    date_from=\"2020-01-01\",\n",
    "    date_to=\"2020-01-31\",\n",
    "    #granularity='day',\n",
    "    source=\"warehouse\"\n",
    ")\n",
    "# send the request\n",
    "%time dataframe = suite.download(report_def)"
   ]
  },
  {
   "cell_type": "code",
   "execution_count": null,
   "metadata": {},
   "outputs": [],
   "source": [
    "# remove spaces in columns names\n",
    "dataframe.columns = dataframe.columns.str.replace(' ', '_')\n",
    "dataframe.columns = dataframe.columns.str.replace('(', '_')\n",
    "dataframe.columns = dataframe.columns.str.replace(')', '_')\n",
    "dataframe = dataframe[dataframe.Marketing_Cloud_Visitor_ID!='00000000000000000000000000000000000000']"
   ]
  },
  {
   "cell_type": "code",
   "execution_count": null,
   "metadata": {},
   "outputs": [],
   "source": [
    "dataframe.Visits = dataframe.Visits.astype(int)\n",
    "# dcast of the dataframe\n",
    "df = dataframe.pivot_table(index=['Marketing_Cloud_Visitor_ID'], columns='Last_Touch_Marketing_Channel',\n",
    "                     values='Visits').reset_index()"
   ]
  },
  {
   "cell_type": "code",
   "execution_count": null,
   "metadata": {},
   "outputs": [],
   "source": [
    "cols = pd.Series(df.columns.tolist()).apply(pd.Series).sum(axis=1)\n",
    "df.columns = cols"
   ]
  },
  {
   "cell_type": "code",
   "execution_count": null,
   "metadata": {},
   "outputs": [],
   "source": [
    "df.columns = df.columns.str.replace(' ', '_')"
   ]
  },
  {
   "cell_type": "code",
   "execution_count": null,
   "metadata": {},
   "outputs": [],
   "source": [
    "df.to_csv('Data/Complements/202001_android_visits_source.csv', index=False)"
   ]
  },
  {
   "cell_type": "markdown",
   "metadata": {},
   "source": [
    "TEST\n",
    "\n",
    "Enseñar cómo calculo con la función paso a paso"
   ]
  },
  {
   "cell_type": "code",
   "execution_count": 35,
   "metadata": {},
   "outputs": [],
   "source": [
    "a = '0000000002010200000000000000000'\n",
    "a = np.array(list(a))    # convert elements to `str`\n",
    "rr = np.argwhere(a == '0').ravel()  # find out positions of `0`\n",
    "if not rr.size:  # if there are no zeros, return 0\n",
    "    print('0')"
   ]
  },
  {
   "cell_type": "code",
   "execution_count": 36,
   "metadata": {},
   "outputs": [
    {
     "data": {
      "text/plain": [
       "array([ 0,  1,  2,  3,  4,  5,  6,  7,  8, 10, 12, 14, 15, 16, 17, 18, 19,\n",
       "       20, 21, 22, 23, 24, 25, 26, 27, 28, 29, 30])"
      ]
     },
     "execution_count": 36,
     "metadata": {},
     "output_type": "execute_result"
    }
   ],
   "source": [
    "# indeces of zero position (firstindex is 0)\n",
    "rr"
   ]
  },
  {
   "cell_type": "code",
   "execution_count": null,
   "metadata": {},
   "outputs": [],
   "source": [
    "full = np.arange(rr[0], rr[-1]+1)  # get the range of spread of 0's "
   ]
  },
  {
   "cell_type": "code",
   "execution_count": 39,
   "metadata": {},
   "outputs": [],
   "source": [
    "# get the indices where `0` was flipped to something else\n",
    "diff = np.setdiff1d(full, rr)\n",
    "if not diff.size:     # if there are no bit flips, return the \n",
    "    print( len(full) )"
   ]
  },
  {
   "cell_type": "code",
   "execution_count": 45,
   "metadata": {},
   "outputs": [],
   "source": [
    "# break the array into pieces wherever there's a bit flip\n",
    "# and the result is the size of the largest chunk\n",
    "pos, difs = full[0], []\n",
    "for el in diff:\n",
    "    difs.append(el - pos)\n",
    "    pos = el + 1\n",
    "# include possible last chunk in the count!!\n",
    "difs.append(rr[-1] - diff[-1])"
   ]
  },
  {
   "cell_type": "code",
   "execution_count": 46,
   "metadata": {},
   "outputs": [
    {
     "data": {
      "text/plain": [
       "[9, 1, 1, 17]"
      ]
     },
     "execution_count": 46,
     "metadata": {},
     "output_type": "execute_result"
    }
   ],
   "source": [
    "difs\n"
   ]
  },
  {
   "cell_type": "code",
   "execution_count": 47,
   "metadata": {},
   "outputs": [],
   "source": [
    "difs = list(filter(lambda a: a > 0, difs))"
   ]
  },
  {
   "cell_type": "code",
   "execution_count": 48,
   "metadata": {},
   "outputs": [
    {
     "data": {
      "text/plain": [
       "[9, 1, 1, 17]"
      ]
     },
     "execution_count": 48,
     "metadata": {},
     "output_type": "execute_result"
    }
   ],
   "source": [
    "difs\n"
   ]
  },
  {
   "cell_type": "code",
   "execution_count": 50,
   "metadata": {},
   "outputs": [
    {
     "data": {
      "text/plain": [
       "17"
      ]
     },
     "execution_count": 50,
     "metadata": {},
     "output_type": "execute_result"
    }
   ],
   "source": [
    "max(difs)"
   ]
  },
  {
   "cell_type": "code",
   "execution_count": null,
   "metadata": {},
   "outputs": [],
   "source": []
  }
 ],
 "metadata": {
  "kernelspec": {
   "display_name": "Python 3",
   "language": "python",
   "name": "python3"
  },
  "language_info": {
   "codemirror_mode": {
    "name": "ipython",
    "version": 3
   },
   "file_extension": ".py",
   "mimetype": "text/x-python",
   "name": "python",
   "nbconvert_exporter": "python",
   "pygments_lexer": "ipython3",
   "version": "3.7.5"
  }
 },
 "nbformat": 4,
 "nbformat_minor": 2
}
