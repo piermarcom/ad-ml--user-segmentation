{
 "cells": [
  {
   "cell_type": "code",
   "execution_count": null,
   "metadata": {},
   "outputs": [],
   "source": [
    "import pandas as pd\n",
    "import sys\n",
    "import numpy as np\n",
    "from glob import glob\n",
    "import seaborn as sns\n",
    "import matplotlib.pyplot as plt\n",
    "import umap\n",
    "import warnings\n",
    "from numba.errors import NumbaPerformanceWarning\n",
    "from mpl_toolkits import mplot3d"
   ]
  },
  {
   "cell_type": "markdown",
   "metadata": {},
   "source": [
    "# 0. Load Data"
   ]
  },
  {
   "cell_type": "code",
   "execution_count": null,
   "metadata": {},
   "outputs": [],
   "source": [
    "df = pd.read_csv('Data/202001_android_data_cleansed.csv', index_col='Marketing_Cloud_Visitor_ID')\n",
    "print('Dataset shape')\n",
    "print(df.shape)\n",
    "df = df.fillna(0)\n",
    "df.head(2)"
   ]
  },
  {
   "cell_type": "code",
   "execution_count": null,
   "metadata": {},
   "outputs": [],
   "source": [
    "# distribution of users per number of non-zero actions\n",
    "df['non_zero'] = df.ne(0).sum(axis=1)\n",
    "plt.figure(figsize=(5, 5))\n",
    "plt.title('Distribution of users per Engagement with respect to the selected actions \\n (after removing users with no action)')\n",
    "hist = df['non_zero'].hist(bins=120)\n",
    "plt.show()"
   ]
  },
  {
   "cell_type": "markdown",
   "metadata": {},
   "source": [
    "# 1. UMAP"
   ]
  },
  {
   "cell_type": "code",
   "execution_count": null,
   "metadata": {},
   "outputs": [],
   "source": [
    "n_neighbors = 600 #the smaller, the finer grain clusters (subject to noise)\n",
    "n_epochs = 5000\n",
    "min_dist = 0.0 #the smaller, the cleaner separation between clusters\n",
    "n_components = 3 #dimension of the reduced space\n",
    "metric = 'euclidean'\n",
    "seed = 42\n",
    "reducer = umap.UMAP(transform_seed=seed, n_components=n_components, n_epochs=n_epochs, n_neighbors=n_neighbors)"
   ]
  },
  {
   "cell_type": "code",
   "execution_count": null,
   "metadata": {},
   "outputs": [],
   "source": [
    "# silence NumbaPerformanceWarning\n",
    "#warnings.filterwarnings(\"ignore\", category=NumbaPerformanceWarning)\n",
    "%time embedding = reducer.fit_transform(df_aux)"
   ]
  },
  {
   "cell_type": "code",
   "execution_count": null,
   "metadata": {},
   "outputs": [],
   "source": [
    "# final dataset\n",
    "compressed_data = pd.DataFrame(data=embedding, index=list(df_aux.index), \n",
    "                               columns=['umap_dim_1', 'umap_dim_2', 'umap_dim_3'])"
   ]
  },
  {
   "cell_type": "markdown",
   "metadata": {},
   "source": [
    "# 2. Visualization"
   ]
  },
  {
   "cell_type": "code",
   "execution_count": null,
   "metadata": {},
   "outputs": [],
   "source": [
    "compressed_data = pd.read_csv('Data/202001_data_compressed1.csv')\n",
    "compressed_data = compressed_data.rename(columns={'Unnamed: 0' : 'ID'})"
   ]
  },
  {
   "cell_type": "code",
   "execution_count": null,
   "metadata": {},
   "outputs": [],
   "source": [
    "n_bins=10\n",
    "x = compressed_data.drop(columns={'ID'}).transpose()\n",
    "colors = ['red', 'blue', 'lime']\n",
    "plt.figure(figsize=(5, 5))\n",
    "plt.hist(x, n_bins, histtype='step', stacked=True, fill=False, color=colors, label=x.index)\n",
    "plt.title('Distribution of 3 dimensions')\n",
    "plt.legend()\n",
    "fig.tight_layout()\n",
    "plt.show()"
   ]
  },
  {
   "cell_type": "code",
   "execution_count": null,
   "metadata": {},
   "outputs": [],
   "source": [
    "plt.figure(figsize=(12, 12))\n",
    "ax = plt.axes(projection='3d')\n",
    "ax.scatter3D(compressed_data['umap_dim_3'], \n",
    "             compressed_data['umap_dim_2'], \n",
    "             compressed_data['umap_dim_1'], \n",
    "             c='lime', s=15, alpha=0.002)\n",
    "plt.title('Users compressed on a 3D space')\n",
    "plt.show()"
   ]
  },
  {
   "cell_type": "code",
   "execution_count": null,
   "metadata": {},
   "outputs": [],
   "source": [
    "plt.figure(figsize=(12, 12))\n",
    "ax = plt.axes(projection='3d')\n",
    "ax.scatter3D(compressed_data['umap_dim_2'], \n",
    "             compressed_data['umap_dim_1'], \n",
    "             compressed_data['umap_dim_3'], \n",
    "             c='blue', s=20, alpha=0.002)\n",
    "plt.show()"
   ]
  }
 ],
 "metadata": {
  "kernelspec": {
   "display_name": "Python 3",
   "language": "python",
   "name": "python3"
  },
  "language_info": {
   "codemirror_mode": {
    "name": "ipython",
    "version": 3
   },
   "file_extension": ".py",
   "mimetype": "text/x-python",
   "name": "python",
   "nbconvert_exporter": "python",
   "pygments_lexer": "ipython3",
   "version": "3.7.5"
  }
 },
 "nbformat": 4,
 "nbformat_minor": 2
}
