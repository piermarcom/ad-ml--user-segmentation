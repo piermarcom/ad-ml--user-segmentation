{
 "cells": [
  {
   "cell_type": "markdown",
   "metadata": {},
   "source": [
    "# Connection to Adobe API"
   ]
  },
  {
   "cell_type": "markdown",
   "metadata": {},
   "source": [
    "### Libraries"
   ]
  },
  {
   "cell_type": "code",
   "execution_count": 1,
   "metadata": {},
   "outputs": [],
   "source": [
    "import aanalytics2 as api2\n",
    "import pandas as pd"
   ]
  },
  {
   "cell_type": "markdown",
   "metadata": {},
   "source": [
    "### Import Config File (API Connection)\n",
    "\n",
    "  -  \"org_id\": \"05FF6243578784B37F000101@AdobeOrg\",\n",
    "  -  \"api_key\": --> You need to open JIRA to Digital team\n",
    "  -  \"tech_id\": --> You need to open JIRA to Digital team\n",
    "  -  \"secret\": --> You need to open JIRA to Digital team\n",
    "  -  \"pathToKey\": --> You need to open JIRA to Digital team"
   ]
  },
  {
   "cell_type": "code",
   "execution_count": 6,
   "metadata": {
    "scrolled": true
   },
   "outputs": [],
   "source": [
    "api2.importConfigFile(\"AA_connection/config_analytics_api-template.json\")"
   ]
  },
  {
   "cell_type": "markdown",
   "metadata": {},
   "source": [
    "### Loaders Config"
   ]
  },
  {
   "cell_type": "code",
   "execution_count": 29,
   "metadata": {
    "scrolled": true
   },
   "outputs": [
    {
     "name": "stdout",
     "output_type": "stream",
     "text": [
      "Selected ID: schibs1\n"
     ]
    }
   ],
   "source": [
    "cids = api2.getCompanyId()\n",
    "# select id\n",
    "select_id = cids[0]['globalCompanyId']\n",
    "print('Selected ID: '+ select_id)\n",
    "# connect\n",
    "api2.updateHeader(select_id)\n",
    "cid = api2.getCompanyId(infos='0')"
   ]
  },
  {
   "cell_type": "markdown",
   "metadata": {},
   "source": [
    "### Get Report Suite, dimensions, metrics, and segments"
   ]
  },
  {
   "cell_type": "code",
   "execution_count": 34,
   "metadata": {
    "scrolled": true
   },
   "outputs": [
    {
     "data": {
      "text/html": [
       "<div>\n",
       "<style scoped>\n",
       "    .dataframe tbody tr th:only-of-type {\n",
       "        vertical-align: middle;\n",
       "    }\n",
       "\n",
       "    .dataframe tbody tr th {\n",
       "        vertical-align: top;\n",
       "    }\n",
       "\n",
       "    .dataframe thead th {\n",
       "        text-align: right;\n",
       "    }\n",
       "</style>\n",
       "<table border=\"1\" class=\"dataframe\">\n",
       "  <thead>\n",
       "    <tr style=\"text-align: right;\">\n",
       "      <th></th>\n",
       "      <th>name</th>\n",
       "      <th>rsid</th>\n",
       "    </tr>\n",
       "  </thead>\n",
       "  <tbody>\n",
       "    <tr>\n",
       "      <th>0</th>\n",
       "      <td>RealEstate Inmofactory Prod</td>\n",
       "      <td>schibstedspainreinmofactoryprod</td>\n",
       "    </tr>\n",
       "    <tr>\n",
       "      <th>1</th>\n",
       "      <td>RealEstate Fotocasa</td>\n",
       "      <td>vrs_schibs1_fcall</td>\n",
       "    </tr>\n",
       "    <tr>\n",
       "      <th>2</th>\n",
       "      <td>RealEstate Habitaclia</td>\n",
       "      <td>vrs_schibs1_hball</td>\n",
       "    </tr>\n",
       "    <tr>\n",
       "      <th>3</th>\n",
       "      <td>RealEstate Habitaclia Android</td>\n",
       "      <td>vrs_schibs1_hbandroid</td>\n",
       "    </tr>\n",
       "    <tr>\n",
       "      <th>4</th>\n",
       "      <td>RealEstate Habitaclia IOS</td>\n",
       "      <td>vrs_schibs1_hbios</td>\n",
       "    </tr>\n",
       "    <tr>\n",
       "      <th>5</th>\n",
       "      <td>RealEstate Habitaclia Web</td>\n",
       "      <td>vrs_schibs1_hbweb</td>\n",
       "    </tr>\n",
       "    <tr>\n",
       "      <th>6</th>\n",
       "      <td>(OLD) RealEstate Fotocasa Android</td>\n",
       "      <td>vrs_schibs1_realestatefotocasaan_0</td>\n",
       "    </tr>\n",
       "    <tr>\n",
       "      <th>7</th>\n",
       "      <td>(OLD) RealEstate Fotocasa IOS</td>\n",
       "      <td>vrs_schibs1_realestatefotocasaio</td>\n",
       "    </tr>\n",
       "    <tr>\n",
       "      <th>8</th>\n",
       "      <td>RealEstate Fotocasa Web Prod (Virtual)</td>\n",
       "      <td>vrs_schibs1_realestatefotocasawe_0</td>\n",
       "    </tr>\n",
       "  </tbody>\n",
       "</table>\n",
       "</div>"
      ],
      "text/plain": [
       "                                     name                                rsid\n",
       "0             RealEstate Inmofactory Prod     schibstedspainreinmofactoryprod\n",
       "1                     RealEstate Fotocasa                   vrs_schibs1_fcall\n",
       "2                   RealEstate Habitaclia                   vrs_schibs1_hball\n",
       "3           RealEstate Habitaclia Android               vrs_schibs1_hbandroid\n",
       "4               RealEstate Habitaclia IOS                   vrs_schibs1_hbios\n",
       "5               RealEstate Habitaclia Web                   vrs_schibs1_hbweb\n",
       "6       (OLD) RealEstate Fotocasa Android  vrs_schibs1_realestatefotocasaan_0\n",
       "7           (OLD) RealEstate Fotocasa IOS    vrs_schibs1_realestatefotocasaio\n",
       "8  RealEstate Fotocasa Web Prod (Virtual)  vrs_schibs1_realestatefotocasawe_0"
      ]
     },
     "execution_count": 34,
     "metadata": {},
     "output_type": "execute_result"
    }
   ],
   "source": [
    "rsids = api2.getReportSuites()\n",
    "rsids"
   ]
  },
  {
   "cell_type": "code",
   "execution_count": 59,
   "metadata": {},
   "outputs": [
    {
     "data": {
      "text/html": [
       "<div>\n",
       "<style scoped>\n",
       "    .dataframe tbody tr th:only-of-type {\n",
       "        vertical-align: middle;\n",
       "    }\n",
       "\n",
       "    .dataframe tbody tr th {\n",
       "        vertical-align: top;\n",
       "    }\n",
       "\n",
       "    .dataframe thead th {\n",
       "        text-align: right;\n",
       "    }\n",
       "</style>\n",
       "<table border=\"1\" class=\"dataframe\">\n",
       "  <thead>\n",
       "    <tr style=\"text-align: right;\">\n",
       "      <th></th>\n",
       "      <th>id</th>\n",
       "      <th>name</th>\n",
       "      <th>category</th>\n",
       "      <th>type</th>\n",
       "      <th>parent</th>\n",
       "      <th>pathable</th>\n",
       "      <th>description</th>\n",
       "    </tr>\n",
       "  </thead>\n",
       "  <tbody>\n",
       "    <tr>\n",
       "      <th>0</th>\n",
       "      <td>variables/averagepagetime</td>\n",
       "      <td>Time Spent on Page - Bucketed</td>\n",
       "      <td>Metrics</td>\n",
       "      <td>ordered-enum</td>\n",
       "      <td>NaN</td>\n",
       "      <td>False</td>\n",
       "      <td>NaN</td>\n",
       "    </tr>\n",
       "    <tr>\n",
       "      <th>1</th>\n",
       "      <td>variables/browser</td>\n",
       "      <td>Browser</td>\n",
       "      <td>Audience</td>\n",
       "      <td>string</td>\n",
       "      <td>NaN</td>\n",
       "      <td>False</td>\n",
       "      <td>NaN</td>\n",
       "    </tr>\n",
       "    <tr>\n",
       "      <th>2</th>\n",
       "      <td>variables/browserheight</td>\n",
       "      <td>Browser Height - Granular</td>\n",
       "      <td>Audience</td>\n",
       "      <td>int</td>\n",
       "      <td>NaN</td>\n",
       "      <td>False</td>\n",
       "      <td>NaN</td>\n",
       "    </tr>\n",
       "    <tr>\n",
       "      <th>3</th>\n",
       "      <td>variables/browserheightbucketed</td>\n",
       "      <td>Browser Height - Bucketed</td>\n",
       "      <td>Audience</td>\n",
       "      <td>ordered-enum</td>\n",
       "      <td>NaN</td>\n",
       "      <td>False</td>\n",
       "      <td>NaN</td>\n",
       "    </tr>\n",
       "    <tr>\n",
       "      <th>4</th>\n",
       "      <td>variables/browsertype</td>\n",
       "      <td>Browser Type</td>\n",
       "      <td>Audience</td>\n",
       "      <td>enum</td>\n",
       "      <td>NaN</td>\n",
       "      <td>False</td>\n",
       "      <td>NaN</td>\n",
       "    </tr>\n",
       "  </tbody>\n",
       "</table>\n",
       "</div>"
      ],
      "text/plain": [
       "                                id                           name  category  \\\n",
       "0        variables/averagepagetime  Time Spent on Page - Bucketed   Metrics   \n",
       "1                variables/browser                        Browser  Audience   \n",
       "2          variables/browserheight      Browser Height - Granular  Audience   \n",
       "3  variables/browserheightbucketed      Browser Height - Bucketed  Audience   \n",
       "4            variables/browsertype                   Browser Type  Audience   \n",
       "\n",
       "           type parent  pathable description  \n",
       "0  ordered-enum    NaN     False         NaN  \n",
       "1        string    NaN     False         NaN  \n",
       "2           int    NaN     False         NaN  \n",
       "3  ordered-enum    NaN     False         NaN  \n",
       "4          enum    NaN     False         NaN  "
      ]
     },
     "execution_count": 59,
     "metadata": {},
     "output_type": "execute_result"
    }
   ],
   "source": [
    "dimensions = api2.getDimensions('vrs_schibs1_fcall')\n",
    "dimensions.head()"
   ]
  },
  {
   "cell_type": "code",
   "execution_count": 60,
   "metadata": {},
   "outputs": [
    {
     "data": {
      "text/html": [
       "<div>\n",
       "<style scoped>\n",
       "    .dataframe tbody tr th:only-of-type {\n",
       "        vertical-align: middle;\n",
       "    }\n",
       "\n",
       "    .dataframe tbody tr th {\n",
       "        vertical-align: top;\n",
       "    }\n",
       "\n",
       "    .dataframe thead th {\n",
       "        text-align: right;\n",
       "    }\n",
       "</style>\n",
       "<table border=\"1\" class=\"dataframe\">\n",
       "  <thead>\n",
       "    <tr style=\"text-align: right;\">\n",
       "      <th></th>\n",
       "      <th>id</th>\n",
       "      <th>name</th>\n",
       "      <th>category</th>\n",
       "      <th>type</th>\n",
       "      <th>dataGroup</th>\n",
       "      <th>precision</th>\n",
       "      <th>segmentable</th>\n",
       "    </tr>\n",
       "  </thead>\n",
       "  <tbody>\n",
       "    <tr>\n",
       "      <th>0</th>\n",
       "      <td>metrics/averagepagedepth</td>\n",
       "      <td>Average Page Depth</td>\n",
       "      <td>Traffic</td>\n",
       "      <td>int</td>\n",
       "      <td>NaN</td>\n",
       "      <td>0.0</td>\n",
       "      <td>False</td>\n",
       "    </tr>\n",
       "    <tr>\n",
       "      <th>1</th>\n",
       "      <td>metrics/averagetimespentonpage</td>\n",
       "      <td>Average Time Spent on Page (seconds)</td>\n",
       "      <td>Traffic</td>\n",
       "      <td>int</td>\n",
       "      <td>NaN</td>\n",
       "      <td>0.0</td>\n",
       "      <td>False</td>\n",
       "    </tr>\n",
       "    <tr>\n",
       "      <th>2</th>\n",
       "      <td>metrics/averagetimespentonsite</td>\n",
       "      <td>Average Time Spent on Site (seconds)</td>\n",
       "      <td>Traffic</td>\n",
       "      <td>int</td>\n",
       "      <td>NaN</td>\n",
       "      <td>0.0</td>\n",
       "      <td>False</td>\n",
       "    </tr>\n",
       "    <tr>\n",
       "      <th>3</th>\n",
       "      <td>metrics/averagevisitdepth</td>\n",
       "      <td>Average Visit Depth</td>\n",
       "      <td>Traffic</td>\n",
       "      <td>int</td>\n",
       "      <td>NaN</td>\n",
       "      <td>0.0</td>\n",
       "      <td>False</td>\n",
       "    </tr>\n",
       "    <tr>\n",
       "      <th>4</th>\n",
       "      <td>metrics/bouncerate</td>\n",
       "      <td>Bounce Rate</td>\n",
       "      <td>Traffic</td>\n",
       "      <td>percent</td>\n",
       "      <td>NaN</td>\n",
       "      <td>2.0</td>\n",
       "      <td>False</td>\n",
       "    </tr>\n",
       "  </tbody>\n",
       "</table>\n",
       "</div>"
      ],
      "text/plain": [
       "                               id                                  name  \\\n",
       "0        metrics/averagepagedepth                    Average Page Depth   \n",
       "1  metrics/averagetimespentonpage  Average Time Spent on Page (seconds)   \n",
       "2  metrics/averagetimespentonsite  Average Time Spent on Site (seconds)   \n",
       "3       metrics/averagevisitdepth                   Average Visit Depth   \n",
       "4              metrics/bouncerate                           Bounce Rate   \n",
       "\n",
       "  category     type dataGroup  precision  segmentable  \n",
       "0  Traffic      int       NaN        0.0        False  \n",
       "1  Traffic      int       NaN        0.0        False  \n",
       "2  Traffic      int       NaN        0.0        False  \n",
       "3  Traffic      int       NaN        0.0        False  \n",
       "4  Traffic  percent       NaN        2.0        False  "
      ]
     },
     "execution_count": 60,
     "metadata": {},
     "output_type": "execute_result"
    }
   ],
   "source": [
    "metrics = api2.getMetrics('vrs_schibs1_fcall')\n",
    "metrics.head()"
   ]
  },
  {
   "cell_type": "code",
   "execution_count": 61,
   "metadata": {},
   "outputs": [
    {
     "data": {
      "text/plain": [
       "[]"
      ]
     },
     "execution_count": 61,
     "metadata": {},
     "output_type": "execute_result"
    }
   ],
   "source": [
    "segs = api2.getSegments('vrs_schibs1_fcall')\n",
    "segs"
   ]
  },
  {
   "cell_type": "code",
   "execution_count": 62,
   "metadata": {},
   "outputs": [
    {
     "data": {
      "text/html": [
       "<div>\n",
       "<style scoped>\n",
       "    .dataframe tbody tr th:only-of-type {\n",
       "        vertical-align: middle;\n",
       "    }\n",
       "\n",
       "    .dataframe tbody tr th {\n",
       "        vertical-align: top;\n",
       "    }\n",
       "\n",
       "    .dataframe thead th {\n",
       "        text-align: right;\n",
       "    }\n",
       "</style>\n",
       "<table border=\"1\" class=\"dataframe\">\n",
       "  <thead>\n",
       "    <tr style=\"text-align: right;\">\n",
       "      <th></th>\n",
       "    </tr>\n",
       "  </thead>\n",
       "  <tbody>\n",
       "  </tbody>\n",
       "</table>\n",
       "</div>"
      ],
      "text/plain": [
       "Empty DataFrame\n",
       "Columns: []\n",
       "Index: []"
      ]
     },
     "execution_count": 62,
     "metadata": {},
     "output_type": "execute_result"
    }
   ],
   "source": [
    "cm = api2.getCalculatedMetrics('vrs_schibs1_fcall')\n",
    "cm.head()"
   ]
  },
  {
   "cell_type": "markdown",
   "metadata": {},
   "source": [
    "# Test 3: Get report by JSON"
   ]
  },
  {
   "cell_type": "code",
   "execution_count": 66,
   "metadata": {},
   "outputs": [],
   "source": [
    "report = api2.getReport('requests/request_prueba.json')"
   ]
  },
  {
   "cell_type": "code",
   "execution_count": 67,
   "metadata": {
    "scrolled": true
   },
   "outputs": [
    {
     "data": {
      "text/plain": [
       "{'dimension': 'variables/daterangeday',\n",
       " 'filters': {'globalFilters': ['2020-06-24T00:00:00.000/2020-06-25T00:00:00.000'],\n",
       "  'metricsFilters': {}},\n",
       " 'rsid': 'vrs_schibs1_fcall',\n",
       " 'metrics': ['metrics/visits'],\n",
       " 'data':   variables/daterangeday  metrics/visits\n",
       " 0           Jun 24, 2020       1101379.0}"
      ]
     },
     "execution_count": 67,
     "metadata": {},
     "output_type": "execute_result"
    }
   ],
   "source": [
    "report"
   ]
  },
  {
   "cell_type": "code",
   "execution_count": 68,
   "metadata": {
    "scrolled": true
   },
   "outputs": [
    {
     "data": {
      "text/html": [
       "<div>\n",
       "<style scoped>\n",
       "    .dataframe tbody tr th:only-of-type {\n",
       "        vertical-align: middle;\n",
       "    }\n",
       "\n",
       "    .dataframe tbody tr th {\n",
       "        vertical-align: top;\n",
       "    }\n",
       "\n",
       "    .dataframe thead th {\n",
       "        text-align: right;\n",
       "    }\n",
       "</style>\n",
       "<table border=\"1\" class=\"dataframe\">\n",
       "  <thead>\n",
       "    <tr style=\"text-align: right;\">\n",
       "      <th></th>\n",
       "      <th>variables/daterangeday</th>\n",
       "      <th>metrics/visits</th>\n",
       "    </tr>\n",
       "  </thead>\n",
       "  <tbody>\n",
       "    <tr>\n",
       "      <th>0</th>\n",
       "      <td>Jun 24, 2020</td>\n",
       "      <td>1101379.0</td>\n",
       "    </tr>\n",
       "  </tbody>\n",
       "</table>\n",
       "</div>"
      ],
      "text/plain": [
       "  variables/daterangeday  metrics/visits\n",
       "0           Jun 24, 2020       1101379.0"
      ]
     },
     "execution_count": 68,
     "metadata": {},
     "output_type": "execute_result"
    }
   ],
   "source": [
    "report['data']"
   ]
  },
  {
   "cell_type": "code",
   "execution_count": null,
   "metadata": {},
   "outputs": [],
   "source": []
  }
 ],
 "metadata": {
  "kernelspec": {
   "display_name": "Python 3",
   "language": "python",
   "name": "python3"
  },
  "language_info": {
   "codemirror_mode": {
    "name": "ipython",
    "version": 3
   },
   "file_extension": ".py",
   "mimetype": "text/x-python",
   "name": "python",
   "nbconvert_exporter": "python",
   "pygments_lexer": "ipython3",
   "version": "3.7.5"
  },
  "toc": {
   "base_numbering": 1,
   "nav_menu": {},
   "number_sections": true,
   "sideBar": true,
   "skip_h1_title": false,
   "title_cell": "Table of Contents",
   "title_sidebar": "Contents",
   "toc_cell": false,
   "toc_position": {},
   "toc_section_display": true,
   "toc_window_display": true
  }
 },
 "nbformat": 4,
 "nbformat_minor": 4
}
