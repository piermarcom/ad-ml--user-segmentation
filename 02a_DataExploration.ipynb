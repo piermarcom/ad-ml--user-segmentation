{
 "cells": [
  {
   "cell_type": "code",
   "execution_count": 1,
   "metadata": {},
   "outputs": [],
   "source": [
    "import pandas as pd\n",
    "import sys\n",
    "import numpy as np\n",
    "from glob import glob\n",
    "import seaborn as sns\n",
    "import matplotlib.pyplot as plt\n",
    "%matplotlib inline"
   ]
  },
  {
   "cell_type": "markdown",
   "metadata": {},
   "source": [
    "# 0. Merge partial datasets"
   ]
  },
  {
   "cell_type": "code",
   "execution_count": 464,
   "metadata": {},
   "outputs": [],
   "source": [
    "f1 = 'Data/202001_android_page_views.csv'"
   ]
  },
  {
   "cell_type": "code",
   "execution_count": 465,
   "metadata": {},
   "outputs": [],
   "source": [
    "filenames = glob('Data/202001_android_*.csv')\n",
    "filenames.remove(f1)"
   ]
  },
  {
   "cell_type": "code",
   "execution_count": 466,
   "metadata": {
    "scrolled": true
   },
   "outputs": [
    {
     "name": "stdout",
     "output_type": "stream",
     "text": [
      "Data/202001_android_events.csv\n",
      "Data/202001_android_page_views_per_transaction.csv\n",
      "Data/202001_android_list_views_per_transaction.csv\n",
      "Data/202001_android_list_views.csv\n",
      "Data/202001_android_events_per_transaction.csv\n",
      "Data/202001_android_leads_per_province.csv\n",
      "Data/202001_android_frequency.csv\n",
      "Data/202001_android_registered_users.csv\n",
      "Data/202001_android_data_raw.csv\n",
      "Data/202001_android_data_cleansed.csv\n"
     ]
    }
   ],
   "source": [
    "for f in filenames:\n",
    "    print(f)"
   ]
  },
  {
   "cell_type": "code",
   "execution_count": 247,
   "metadata": {
    "scrolled": false
   },
   "outputs": [
    {
     "name": "stdout",
     "output_type": "stream",
     "text": [
      "Data/202001_android_page_views.csv\n",
      "(1064495, 22)\n",
      "Data/202001_android_events.csv\n",
      "(1091816, 41)\n",
      "Data/202001_android_page_views_per_transaction.csv\n",
      "(920905, 9)\n",
      "Data/202001_android_list_views_per_transaction.csv\n",
      "(679057, 15)\n",
      "Data/202001_android_list_views.csv\n",
      "(683262, 8)\n",
      "Data/202001_android_events_per_transaction.csv\n",
      "(1022253, 13)\n",
      "Data/202001_android_leads_per_province.csv\n",
      "(1019889, 17)\n",
      "Data/202001_android_frequency.csv\n",
      "(1092420, 5)\n",
      "Data/202001_android_registered_users.csv\n",
      "(223392, 2)\n",
      "Final Dataser shape:\n",
      "(1092677, 124)\n"
     ]
    }
   ],
   "source": [
    "print(f1)\n",
    "df = pd.read_csv(f1)\n",
    "print(df.shape)\n",
    "for f in filenames:\n",
    "    print(f)\n",
    "    df_aux = pd.read_csv(f)\n",
    "    print(df_aux.shape)\n",
    "    df = pd.merge(df, df_aux, on='Marketing_Cloud_Visitor_ID', how='outer')\n",
    "print('Final Dataser shape:')\n",
    "print(df.shape)"
   ]
  },
  {
   "cell_type": "code",
   "execution_count": 249,
   "metadata": {
    "collapsed": true
   },
   "outputs": [
    {
     "data": {
      "text/plain": [
       "['Marketing_Cloud_Visitor_ID',\n",
       " 'ad_pay_to_publish',\n",
       " 'ad_published',\n",
       " 'blog-detail',\n",
       " 'confirm_delete_ad',\n",
       " 'detail',\n",
       " 'detail_map',\n",
       " 'forgot_password',\n",
       " 'general',\n",
       " 'homepage',\n",
       " 'login',\n",
       " 'my_ads',\n",
       " 'my_alerts_list',\n",
       " 'my_showcase',\n",
       " 'privacy_policy',\n",
       " 'radar',\n",
       " 'search_filter',\n",
       " 'search_filter_location',\n",
       " 'search_filter_suggest',\n",
       " 'signup',\n",
       " 'terms_and_conditions',\n",
       " 'validate_phone',\n",
       " 'Lead_Confirmation_eMail',\n",
       " 'Confirmation_Payment',\n",
       " 'Ad_Filter_Used',\n",
       " 'Home_Viewed',\n",
       " 'Lead_Counteroffer_eMail',\n",
       " 'Ad_Discarded',\n",
       " 'Ad_Recovered',\n",
       " 'Mortgage_Button_Clicked',\n",
       " 'Last_Photo_Viewed',\n",
       " 'Signed_Out',\n",
       " 'Lead_Callphone',\n",
       " 'Social_Auth_Clicked',\n",
       " 'Rec_Place_Viewed',\n",
       " 'Rec_Impression',\n",
       " 'Signed_In',\n",
       " 'Alert_Added',\n",
       " 'Ad_Contact_Button',\n",
       " 'Form_Success',\n",
       " 'Form_Error',\n",
       " 'Create_Alert_Button',\n",
       " 'Profile_Updated',\n",
       " 'Signed_Up',\n",
       " 'Ad_Favourited',\n",
       " 'Ad_Unfavourited',\n",
       " 'Ad_View',\n",
       " 'Ad_Impression',\n",
       " 'Ad_Insertion_Confirmation',\n",
       " 'Ad_Modification_Confirmation',\n",
       " 'POI_Clicked',\n",
       " 'Label_Clicked',\n",
       " 'Lead_View_Phone',\n",
       " 'Add_Note_Button_Clicked',\n",
       " 'Alert_Guest_Accepted',\n",
       " 'Alert_Guest_Declined',\n",
       " 'Alert_Guest_Automatically',\n",
       " 'Alert_Saved',\n",
       " 'Alert_Zone_Saved',\n",
       " 'Favourite_Clicked',\n",
       " 'Unfavourite_Clicked',\n",
       " 'Help_Button_Clicked',\n",
       " 'detailRENT',\n",
       " 'detailSALE',\n",
       " 'detail_mapRENT',\n",
       " 'detail_mapSALE',\n",
       " 'homepageRENT',\n",
       " 'homepageSALE',\n",
       " 'my_alerts_listRENT',\n",
       " 'my_alerts_listSALE',\n",
       " 'favouritesRENT',\n",
       " 'favouritesSALE',\n",
       " 'matchesRENT',\n",
       " 'matchesSALE',\n",
       " 'micrositeRENT',\n",
       " 'micrositeSALE',\n",
       " 'recommendedRENT',\n",
       " 'recommendedSALE',\n",
       " 'suggestedRENT',\n",
       " 'suggestedSALE',\n",
       " 'listRENT',\n",
       " 'listSALE',\n",
       " 'mapRENT',\n",
       " 'mapSALE',\n",
       " 'favourites',\n",
       " 'matches',\n",
       " 'microsite',\n",
       " 'recommended',\n",
       " 'suggested',\n",
       " 'list',\n",
       " 'map',\n",
       " 'Ad_FavouritedRENT',\n",
       " 'Ad_FavouritedSALE',\n",
       " 'Alert_AddedRENT',\n",
       " 'Alert_AddedSALE',\n",
       " 'Lead_CallphoneRENT',\n",
       " 'Lead_CallphoneSALE',\n",
       " 'Lead_Confirmation_eMailRENT',\n",
       " 'Lead_Confirmation_eMailSALE',\n",
       " 'Lead_Counteroffer_eMailRENT',\n",
       " 'Lead_Counteroffer_eMailSALE',\n",
       " 'Lead_View_PhoneRENT',\n",
       " 'Lead_View_PhoneSALE',\n",
       " 'Lead_Callphone_barcelona',\n",
       " 'Lead_Callphone_big',\n",
       " 'Lead_Callphone_little',\n",
       " 'Lead_Callphone_madrid',\n",
       " 'Lead_Confirmation_eMail_barcelona',\n",
       " 'Lead_Confirmation_eMail_big',\n",
       " 'Lead_Confirmation_eMail_little',\n",
       " 'Lead_Confirmation_eMail_madrid',\n",
       " 'Lead_Counteroffer_eMail_barcelona',\n",
       " 'Lead_Counteroffer_eMail_big',\n",
       " 'Lead_Counteroffer_eMail_little',\n",
       " 'Lead_Counteroffer_eMail_madrid',\n",
       " 'Lead_View_Phone_barcelona',\n",
       " 'Lead_View_Phone_big',\n",
       " 'Lead_View_Phone_little',\n",
       " 'Lead_View_Phone_madrid',\n",
       " 'total_active_days',\n",
       " 'mean_inactive_days',\n",
       " 'max_inactive_days',\n",
       " 'min_inactive_days',\n",
       " 'n_of_user_ids']"
      ]
     },
     "execution_count": 249,
     "metadata": {},
     "output_type": "execute_result"
    }
   ],
   "source": [
    "list(df.columns)"
   ]
  },
  {
   "cell_type": "code",
   "execution_count": 251,
   "metadata": {},
   "outputs": [],
   "source": [
    "df.to_csv('Data/202001_android_data_raw.csv', index=False)"
   ]
  },
  {
   "cell_type": "markdown",
   "metadata": {},
   "source": [
    "# 1. First cleansing"
   ]
  },
  {
   "cell_type": "code",
   "execution_count": 2,
   "metadata": {
    "scrolled": true
   },
   "outputs": [
    {
     "name": "stdout",
     "output_type": "stream",
     "text": [
      "Dataset Initial shape\n",
      "(1092677, 123)\n"
     ]
    }
   ],
   "source": [
    "# read data and fill with 0s\n",
    "df = pd.read_csv('Data/202001_android_data_raw.csv', index_col='Marketing_Cloud_Visitor_ID')\n",
    "print('Dataset Initial shape')\n",
    "print(df.shape)\n",
    "df = df.fillna(0)"
   ]
  },
  {
   "cell_type": "code",
   "execution_count": 3,
   "metadata": {
    "scrolled": false
   },
   "outputs": [
    {
     "data": {
      "text/html": [
       "<div>\n",
       "<style scoped>\n",
       "    .dataframe tbody tr th:only-of-type {\n",
       "        vertical-align: middle;\n",
       "    }\n",
       "\n",
       "    .dataframe tbody tr th {\n",
       "        vertical-align: top;\n",
       "    }\n",
       "\n",
       "    .dataframe thead th {\n",
       "        text-align: right;\n",
       "    }\n",
       "</style>\n",
       "<table border=\"1\" class=\"dataframe\">\n",
       "  <thead>\n",
       "    <tr style=\"text-align: right;\">\n",
       "      <th></th>\n",
       "      <th>ad_pay_to_publish</th>\n",
       "      <th>ad_published</th>\n",
       "      <th>blog-detail</th>\n",
       "      <th>confirm_delete_ad</th>\n",
       "      <th>detail</th>\n",
       "      <th>detail_map</th>\n",
       "      <th>forgot_password</th>\n",
       "      <th>general</th>\n",
       "      <th>homepage</th>\n",
       "      <th>login</th>\n",
       "      <th>...</th>\n",
       "      <th>Lead_Counteroffer_eMail_madrid</th>\n",
       "      <th>Lead_View_Phone_barcelona</th>\n",
       "      <th>Lead_View_Phone_big</th>\n",
       "      <th>Lead_View_Phone_little</th>\n",
       "      <th>Lead_View_Phone_madrid</th>\n",
       "      <th>total_active_days</th>\n",
       "      <th>mean_inactive_days</th>\n",
       "      <th>max_inactive_days</th>\n",
       "      <th>min_inactive_days</th>\n",
       "      <th>n_of_user_ids</th>\n",
       "    </tr>\n",
       "    <tr>\n",
       "      <th>Marketing_Cloud_Visitor_ID</th>\n",
       "      <th></th>\n",
       "      <th></th>\n",
       "      <th></th>\n",
       "      <th></th>\n",
       "      <th></th>\n",
       "      <th></th>\n",
       "      <th></th>\n",
       "      <th></th>\n",
       "      <th></th>\n",
       "      <th></th>\n",
       "      <th></th>\n",
       "      <th></th>\n",
       "      <th></th>\n",
       "      <th></th>\n",
       "      <th></th>\n",
       "      <th></th>\n",
       "      <th></th>\n",
       "      <th></th>\n",
       "      <th></th>\n",
       "      <th></th>\n",
       "      <th></th>\n",
       "    </tr>\n",
       "  </thead>\n",
       "  <tbody>\n",
       "    <tr>\n",
       "      <th>00000107708722978450827756473807907358</th>\n",
       "      <td>0.0</td>\n",
       "      <td>0.0</td>\n",
       "      <td>0.0</td>\n",
       "      <td>0.0</td>\n",
       "      <td>57.0</td>\n",
       "      <td>5.0</td>\n",
       "      <td>0.0</td>\n",
       "      <td>0.0</td>\n",
       "      <td>3.0</td>\n",
       "      <td>0.0</td>\n",
       "      <td>...</td>\n",
       "      <td>0.0</td>\n",
       "      <td>0.0</td>\n",
       "      <td>0.0</td>\n",
       "      <td>0.0</td>\n",
       "      <td>0.0</td>\n",
       "      <td>17.0</td>\n",
       "      <td>2.0</td>\n",
       "      <td>6.0</td>\n",
       "      <td>1.0</td>\n",
       "      <td>1.0</td>\n",
       "    </tr>\n",
       "    <tr>\n",
       "      <th>00000136845845092372076348413986631894</th>\n",
       "      <td>0.0</td>\n",
       "      <td>0.0</td>\n",
       "      <td>0.0</td>\n",
       "      <td>0.0</td>\n",
       "      <td>1.0</td>\n",
       "      <td>0.0</td>\n",
       "      <td>0.0</td>\n",
       "      <td>1.0</td>\n",
       "      <td>16.0</td>\n",
       "      <td>0.0</td>\n",
       "      <td>...</td>\n",
       "      <td>0.0</td>\n",
       "      <td>0.0</td>\n",
       "      <td>0.0</td>\n",
       "      <td>0.0</td>\n",
       "      <td>0.0</td>\n",
       "      <td>3.0</td>\n",
       "      <td>7.0</td>\n",
       "      <td>17.0</td>\n",
       "      <td>1.0</td>\n",
       "      <td>0.0</td>\n",
       "    </tr>\n",
       "  </tbody>\n",
       "</table>\n",
       "<p>2 rows × 123 columns</p>\n",
       "</div>"
      ],
      "text/plain": [
       "                                        ad_pay_to_publish  ad_published  \\\n",
       "Marketing_Cloud_Visitor_ID                                                \n",
       "00000107708722978450827756473807907358                0.0           0.0   \n",
       "00000136845845092372076348413986631894                0.0           0.0   \n",
       "\n",
       "                                        blog-detail  confirm_delete_ad  \\\n",
       "Marketing_Cloud_Visitor_ID                                               \n",
       "00000107708722978450827756473807907358          0.0                0.0   \n",
       "00000136845845092372076348413986631894          0.0                0.0   \n",
       "\n",
       "                                        detail  detail_map  forgot_password  \\\n",
       "Marketing_Cloud_Visitor_ID                                                    \n",
       "00000107708722978450827756473807907358    57.0         5.0              0.0   \n",
       "00000136845845092372076348413986631894     1.0         0.0              0.0   \n",
       "\n",
       "                                        general  homepage  login  ...  \\\n",
       "Marketing_Cloud_Visitor_ID                                        ...   \n",
       "00000107708722978450827756473807907358      0.0       3.0    0.0  ...   \n",
       "00000136845845092372076348413986631894      1.0      16.0    0.0  ...   \n",
       "\n",
       "                                        Lead_Counteroffer_eMail_madrid  \\\n",
       "Marketing_Cloud_Visitor_ID                                               \n",
       "00000107708722978450827756473807907358                             0.0   \n",
       "00000136845845092372076348413986631894                             0.0   \n",
       "\n",
       "                                        Lead_View_Phone_barcelona  \\\n",
       "Marketing_Cloud_Visitor_ID                                          \n",
       "00000107708722978450827756473807907358                        0.0   \n",
       "00000136845845092372076348413986631894                        0.0   \n",
       "\n",
       "                                        Lead_View_Phone_big  \\\n",
       "Marketing_Cloud_Visitor_ID                                    \n",
       "00000107708722978450827756473807907358                  0.0   \n",
       "00000136845845092372076348413986631894                  0.0   \n",
       "\n",
       "                                        Lead_View_Phone_little  \\\n",
       "Marketing_Cloud_Visitor_ID                                       \n",
       "00000107708722978450827756473807907358                     0.0   \n",
       "00000136845845092372076348413986631894                     0.0   \n",
       "\n",
       "                                        Lead_View_Phone_madrid  \\\n",
       "Marketing_Cloud_Visitor_ID                                       \n",
       "00000107708722978450827756473807907358                     0.0   \n",
       "00000136845845092372076348413986631894                     0.0   \n",
       "\n",
       "                                        total_active_days  mean_inactive_days  \\\n",
       "Marketing_Cloud_Visitor_ID                                                      \n",
       "00000107708722978450827756473807907358               17.0                 2.0   \n",
       "00000136845845092372076348413986631894                3.0                 7.0   \n",
       "\n",
       "                                        max_inactive_days  min_inactive_days  \\\n",
       "Marketing_Cloud_Visitor_ID                                                     \n",
       "00000107708722978450827756473807907358                6.0                1.0   \n",
       "00000136845845092372076348413986631894               17.0                1.0   \n",
       "\n",
       "                                        n_of_user_ids  \n",
       "Marketing_Cloud_Visitor_ID                             \n",
       "00000107708722978450827756473807907358            1.0  \n",
       "00000136845845092372076348413986631894            0.0  \n",
       "\n",
       "[2 rows x 123 columns]"
      ]
     },
     "execution_count": 3,
     "metadata": {},
     "output_type": "execute_result"
    }
   ],
   "source": [
    "df.head(2)"
   ]
  },
  {
   "cell_type": "markdown",
   "metadata": {},
   "source": [
    "1.1 REMOVE ALL 0'S COLUMNS"
   ]
  },
  {
   "cell_type": "code",
   "execution_count": 4,
   "metadata": {
    "scrolled": true
   },
   "outputs": [
    {
     "name": "stdout",
     "output_type": "stream",
     "text": [
      "Data set shape will be:\n",
      "(1092677, 100)\n",
      "after removing zeroes columns\n"
     ]
    }
   ],
   "source": [
    "# remove zero columns\n",
    "features = (df != 0).any(axis=0)\n",
    "print('Data set shape will be:')\n",
    "print(df.loc[:, features].shape)\n",
    "print('after removing zeroes columns')"
   ]
  },
  {
   "cell_type": "code",
   "execution_count": 5,
   "metadata": {},
   "outputs": [],
   "source": [
    "# save excel file with list of features that have no data\n",
    "df = df.loc[:, features]\n",
    "features = features.to_frame(name='In')"
   ]
  },
  {
   "cell_type": "code",
   "execution_count": 97,
   "metadata": {},
   "outputs": [],
   "source": [
    "features.to_excel('Data/Complements/202020_android_features_status.xlsx')"
   ]
  },
  {
   "cell_type": "code",
   "execution_count": 6,
   "metadata": {},
   "outputs": [
    {
     "name": "stdout",
     "output_type": "stream",
     "text": [
      "List of features that have no data\n"
     ]
    },
    {
     "data": {
      "text/html": [
       "<div>\n",
       "<style scoped>\n",
       "    .dataframe tbody tr th:only-of-type {\n",
       "        vertical-align: middle;\n",
       "    }\n",
       "\n",
       "    .dataframe tbody tr th {\n",
       "        vertical-align: top;\n",
       "    }\n",
       "\n",
       "    .dataframe thead th {\n",
       "        text-align: right;\n",
       "    }\n",
       "</style>\n",
       "<table border=\"1\" class=\"dataframe\">\n",
       "  <thead>\n",
       "    <tr style=\"text-align: right;\">\n",
       "      <th></th>\n",
       "      <th>In</th>\n",
       "    </tr>\n",
       "  </thead>\n",
       "  <tbody>\n",
       "    <tr>\n",
       "      <th>Confirmation_Payment</th>\n",
       "      <td>False</td>\n",
       "    </tr>\n",
       "    <tr>\n",
       "      <th>Mortgage_Button_Clicked</th>\n",
       "      <td>False</td>\n",
       "    </tr>\n",
       "    <tr>\n",
       "      <th>Last_Photo_Viewed</th>\n",
       "      <td>False</td>\n",
       "    </tr>\n",
       "    <tr>\n",
       "      <th>Social_Auth_Clicked</th>\n",
       "      <td>False</td>\n",
       "    </tr>\n",
       "    <tr>\n",
       "      <th>Rec_Place_Viewed</th>\n",
       "      <td>False</td>\n",
       "    </tr>\n",
       "    <tr>\n",
       "      <th>Rec_Impression</th>\n",
       "      <td>False</td>\n",
       "    </tr>\n",
       "    <tr>\n",
       "      <th>Create_Alert_Button</th>\n",
       "      <td>False</td>\n",
       "    </tr>\n",
       "    <tr>\n",
       "      <th>Profile_Updated</th>\n",
       "      <td>False</td>\n",
       "    </tr>\n",
       "    <tr>\n",
       "      <th>Ad_View</th>\n",
       "      <td>False</td>\n",
       "    </tr>\n",
       "    <tr>\n",
       "      <th>Ad_Impression</th>\n",
       "      <td>False</td>\n",
       "    </tr>\n",
       "    <tr>\n",
       "      <th>Ad_Insertion_Confirmation</th>\n",
       "      <td>False</td>\n",
       "    </tr>\n",
       "    <tr>\n",
       "      <th>Ad_Modification_Confirmation</th>\n",
       "      <td>False</td>\n",
       "    </tr>\n",
       "    <tr>\n",
       "      <th>Lead_View_Phone</th>\n",
       "      <td>False</td>\n",
       "    </tr>\n",
       "    <tr>\n",
       "      <th>Add_Note_Button_Clicked</th>\n",
       "      <td>False</td>\n",
       "    </tr>\n",
       "    <tr>\n",
       "      <th>Alert_Saved</th>\n",
       "      <td>False</td>\n",
       "    </tr>\n",
       "    <tr>\n",
       "      <th>Alert_Zone_Saved</th>\n",
       "      <td>False</td>\n",
       "    </tr>\n",
       "    <tr>\n",
       "      <th>Help_Button_Clicked</th>\n",
       "      <td>False</td>\n",
       "    </tr>\n",
       "    <tr>\n",
       "      <th>Lead_View_PhoneRENT</th>\n",
       "      <td>False</td>\n",
       "    </tr>\n",
       "    <tr>\n",
       "      <th>Lead_View_PhoneSALE</th>\n",
       "      <td>False</td>\n",
       "    </tr>\n",
       "    <tr>\n",
       "      <th>Lead_View_Phone_barcelona</th>\n",
       "      <td>False</td>\n",
       "    </tr>\n",
       "    <tr>\n",
       "      <th>Lead_View_Phone_big</th>\n",
       "      <td>False</td>\n",
       "    </tr>\n",
       "    <tr>\n",
       "      <th>Lead_View_Phone_little</th>\n",
       "      <td>False</td>\n",
       "    </tr>\n",
       "    <tr>\n",
       "      <th>Lead_View_Phone_madrid</th>\n",
       "      <td>False</td>\n",
       "    </tr>\n",
       "  </tbody>\n",
       "</table>\n",
       "</div>"
      ],
      "text/plain": [
       "                                 In\n",
       "Confirmation_Payment          False\n",
       "Mortgage_Button_Clicked       False\n",
       "Last_Photo_Viewed             False\n",
       "Social_Auth_Clicked           False\n",
       "Rec_Place_Viewed              False\n",
       "Rec_Impression                False\n",
       "Create_Alert_Button           False\n",
       "Profile_Updated               False\n",
       "Ad_View                       False\n",
       "Ad_Impression                 False\n",
       "Ad_Insertion_Confirmation     False\n",
       "Ad_Modification_Confirmation  False\n",
       "Lead_View_Phone               False\n",
       "Add_Note_Button_Clicked       False\n",
       "Alert_Saved                   False\n",
       "Alert_Zone_Saved              False\n",
       "Help_Button_Clicked           False\n",
       "Lead_View_PhoneRENT           False\n",
       "Lead_View_PhoneSALE           False\n",
       "Lead_View_Phone_barcelona     False\n",
       "Lead_View_Phone_big           False\n",
       "Lead_View_Phone_little        False\n",
       "Lead_View_Phone_madrid        False"
      ]
     },
     "execution_count": 6,
     "metadata": {},
     "output_type": "execute_result"
    }
   ],
   "source": [
    "#print('List of features that stay')\n",
    "#list(features[features.In==True]['index'])\n",
    "print('List of features that have no data')\n",
    "features[features.In==False]"
   ]
  },
  {
   "cell_type": "markdown",
   "metadata": {},
   "source": [
    "1.2 REMOVE ALL 0'S ROWS"
   ]
  },
  {
   "cell_type": "code",
   "execution_count": 7,
   "metadata": {},
   "outputs": [],
   "source": [
    "# remove columns that are not actions\n",
    "df_aux = df.copy()\n",
    "to_remove = ['total_active_days',\n",
    " 'mean_inactive_days',\n",
    " 'max_inactive_days',\n",
    " 'min_inactive_days',\n",
    " 'n_of_user_ids']\n",
    "df_aux = df_aux.drop(columns=to_remove)"
   ]
  },
  {
   "cell_type": "code",
   "execution_count": 8,
   "metadata": {},
   "outputs": [
    {
     "name": "stdout",
     "output_type": "stream",
     "text": [
      "Dataset shape will be:\n",
      "(1059036, 96)\n",
      "after removing rows with all 0 features\n"
     ]
    }
   ],
   "source": [
    "# remove 0 users\n",
    "n = len(list(df_aux.columns))\n",
    "non_bounces = (df_aux == 0).sum(axis=1).to_frame(name='perc_of_zeroes')\n",
    "df_aux = pd.merge(df_aux, non_bounces, how='inner', on='Marketing_Cloud_Visitor_ID')\n",
    "df_aux['perc_of_zeroes'] = round ( (df_aux['perc_of_zeroes']/n)*100, 2 )\n",
    "print('Dataset shape will be:')\n",
    "print(df_aux[df_aux.perc_of_zeroes!=100].shape)\n",
    "print('after removing rows with all 0 features')"
   ]
  },
  {
   "cell_type": "markdown",
   "metadata": {},
   "source": [
    "Analize frequency features for those users with no action (among selected ones)"
   ]
  },
  {
   "cell_type": "code",
   "execution_count": 9,
   "metadata": {
    "scrolled": true
   },
   "outputs": [
    {
     "data": {
      "text/plain": [
       "(33641, 96)"
      ]
     },
     "execution_count": 9,
     "metadata": {},
     "output_type": "execute_result"
    }
   ],
   "source": [
    "# check what we are dropping\n",
    "df_aux[df_aux.perc_of_zeroes==100].shape"
   ]
  },
  {
   "cell_type": "code",
   "execution_count": 10,
   "metadata": {},
   "outputs": [],
   "source": [
    "to_analyze = list(df_aux[df_aux.perc_of_zeroes==100].index)"
   ]
  },
  {
   "cell_type": "code",
   "execution_count": 11,
   "metadata": {},
   "outputs": [
    {
     "data": {
      "image/png": "[encoded data removed]",
      "text/plain": [
       "<Figure size 432x288 with 1 Axes>"
      ]
     },
     "metadata": {
      "needs_background": "light"
     },
     "output_type": "display_data"
    }
   ],
   "source": [
    "# CHECK\n",
    "# most ot these users should have low active days\n",
    "df[df.index.isin(to_analyze)].total_active_days.hist(bins=50)\n",
    "plt.show()"
   ]
  },
  {
   "cell_type": "code",
   "execution_count": 12,
   "metadata": {},
   "outputs": [],
   "source": [
    "# include perc of zero into the original dataframe\n",
    "df = pd.merge(df, df_aux['perc_of_zeroes'], on='Marketing_Cloud_Visitor_ID', how='left')"
   ]
  },
  {
   "cell_type": "code",
   "execution_count": 13,
   "metadata": {
    "scrolled": true
   },
   "outputs": [],
   "source": [
    "# drop users with no action\n",
    "df = df[df.perc_of_zeroes!=100]"
   ]
  },
  {
   "cell_type": "markdown",
   "metadata": {},
   "source": [
    "1.3 Distribution of Users w.r.t % of 0 features"
   ]
  },
  {
   "cell_type": "code",
   "execution_count": 23,
   "metadata": {},
   "outputs": [
    {
     "data": {
      "image/png": "[encoded data removed]",
      "text/plain": [
       "<Figure size 432x360 with 1 Axes>"
      ]
     },
     "metadata": {
      "needs_background": "light"
     },
     "output_type": "display_data"
    }
   ],
   "source": [
    "plt.figure(figsize=(6, 5))\n",
    "plt.hist(df['perc_of_zeroes'], density=1, bins=70, color='#0504aa', alpha=0.7, rwidth=0.70)\n",
    "plt.title('Distribution of users per Engagement \\n with respect to selected actions')\n",
    "plt.show()"
   ]
  },
  {
   "cell_type": "code",
   "execution_count": 36,
   "metadata": {},
   "outputs": [
    {
     "data": {
      "text/html": [
       "<div>\n",
       "<style scoped>\n",
       "    .dataframe tbody tr th:only-of-type {\n",
       "        vertical-align: middle;\n",
       "    }\n",
       "\n",
       "    .dataframe tbody tr th {\n",
       "        vertical-align: top;\n",
       "    }\n",
       "\n",
       "    .dataframe thead th {\n",
       "        text-align: right;\n",
       "    }\n",
       "</style>\n",
       "<table border=\"1\" class=\"dataframe\">\n",
       "  <thead>\n",
       "    <tr style=\"text-align: right;\">\n",
       "      <th></th>\n",
       "      <th>ad_pay_to_publish</th>\n",
       "      <th>ad_published</th>\n",
       "      <th>blog-detail</th>\n",
       "      <th>confirm_delete_ad</th>\n",
       "      <th>detail</th>\n",
       "      <th>detail_map</th>\n",
       "      <th>forgot_password</th>\n",
       "      <th>general</th>\n",
       "      <th>homepage</th>\n",
       "      <th>login</th>\n",
       "      <th>...</th>\n",
       "      <th>Lead_Counteroffer_eMail_barcelona</th>\n",
       "      <th>Lead_Counteroffer_eMail_big</th>\n",
       "      <th>Lead_Counteroffer_eMail_little</th>\n",
       "      <th>Lead_Counteroffer_eMail_madrid</th>\n",
       "      <th>total_active_days</th>\n",
       "      <th>mean_inactive_days</th>\n",
       "      <th>max_inactive_days</th>\n",
       "      <th>min_inactive_days</th>\n",
       "      <th>n_of_user_ids</th>\n",
       "      <th>perc_of_zeroes</th>\n",
       "    </tr>\n",
       "    <tr>\n",
       "      <th>Marketing_Cloud_Visitor_ID</th>\n",
       "      <th></th>\n",
       "      <th></th>\n",
       "      <th></th>\n",
       "      <th></th>\n",
       "      <th></th>\n",
       "      <th></th>\n",
       "      <th></th>\n",
       "      <th></th>\n",
       "      <th></th>\n",
       "      <th></th>\n",
       "      <th></th>\n",
       "      <th></th>\n",
       "      <th></th>\n",
       "      <th></th>\n",
       "      <th></th>\n",
       "      <th></th>\n",
       "      <th></th>\n",
       "      <th></th>\n",
       "      <th></th>\n",
       "      <th></th>\n",
       "      <th></th>\n",
       "    </tr>\n",
       "  </thead>\n",
       "  <tbody>\n",
       "    <tr>\n",
       "      <th>00001458797383785303218207232545704864</th>\n",
       "      <td>0.0</td>\n",
       "      <td>0.0</td>\n",
       "      <td>0.0</td>\n",
       "      <td>0.0</td>\n",
       "      <td>1.0</td>\n",
       "      <td>0.0</td>\n",
       "      <td>0.0</td>\n",
       "      <td>0.0</td>\n",
       "      <td>0.0</td>\n",
       "      <td>0.0</td>\n",
       "      <td>...</td>\n",
       "      <td>0.0</td>\n",
       "      <td>0.0</td>\n",
       "      <td>0.0</td>\n",
       "      <td>0.0</td>\n",
       "      <td>1.0</td>\n",
       "      <td>15.0</td>\n",
       "      <td>19.0</td>\n",
       "      <td>11.0</td>\n",
       "      <td>0.0</td>\n",
       "      <td>98.95</td>\n",
       "    </tr>\n",
       "    <tr>\n",
       "      <th>00005473722777211484152819525820790043</th>\n",
       "      <td>0.0</td>\n",
       "      <td>0.0</td>\n",
       "      <td>0.0</td>\n",
       "      <td>0.0</td>\n",
       "      <td>2.0</td>\n",
       "      <td>0.0</td>\n",
       "      <td>0.0</td>\n",
       "      <td>0.0</td>\n",
       "      <td>0.0</td>\n",
       "      <td>0.0</td>\n",
       "      <td>...</td>\n",
       "      <td>0.0</td>\n",
       "      <td>0.0</td>\n",
       "      <td>0.0</td>\n",
       "      <td>0.0</td>\n",
       "      <td>1.0</td>\n",
       "      <td>15.0</td>\n",
       "      <td>20.0</td>\n",
       "      <td>10.0</td>\n",
       "      <td>0.0</td>\n",
       "      <td>98.95</td>\n",
       "    </tr>\n",
       "    <tr>\n",
       "      <th>00008211108539528841335279168247692768</th>\n",
       "      <td>0.0</td>\n",
       "      <td>0.0</td>\n",
       "      <td>0.0</td>\n",
       "      <td>0.0</td>\n",
       "      <td>1.0</td>\n",
       "      <td>0.0</td>\n",
       "      <td>0.0</td>\n",
       "      <td>0.0</td>\n",
       "      <td>0.0</td>\n",
       "      <td>0.0</td>\n",
       "      <td>...</td>\n",
       "      <td>0.0</td>\n",
       "      <td>0.0</td>\n",
       "      <td>0.0</td>\n",
       "      <td>0.0</td>\n",
       "      <td>1.0</td>\n",
       "      <td>15.0</td>\n",
       "      <td>23.0</td>\n",
       "      <td>7.0</td>\n",
       "      <td>0.0</td>\n",
       "      <td>98.95</td>\n",
       "    </tr>\n",
       "    <tr>\n",
       "      <th>00009117132059695493344907543478877534</th>\n",
       "      <td>0.0</td>\n",
       "      <td>0.0</td>\n",
       "      <td>0.0</td>\n",
       "      <td>0.0</td>\n",
       "      <td>1.0</td>\n",
       "      <td>0.0</td>\n",
       "      <td>0.0</td>\n",
       "      <td>0.0</td>\n",
       "      <td>0.0</td>\n",
       "      <td>0.0</td>\n",
       "      <td>...</td>\n",
       "      <td>0.0</td>\n",
       "      <td>0.0</td>\n",
       "      <td>0.0</td>\n",
       "      <td>0.0</td>\n",
       "      <td>1.0</td>\n",
       "      <td>15.0</td>\n",
       "      <td>17.0</td>\n",
       "      <td>13.0</td>\n",
       "      <td>0.0</td>\n",
       "      <td>98.95</td>\n",
       "    </tr>\n",
       "    <tr>\n",
       "      <th>00009820910567669792002455740156226664</th>\n",
       "      <td>0.0</td>\n",
       "      <td>0.0</td>\n",
       "      <td>0.0</td>\n",
       "      <td>0.0</td>\n",
       "      <td>1.0</td>\n",
       "      <td>0.0</td>\n",
       "      <td>0.0</td>\n",
       "      <td>0.0</td>\n",
       "      <td>0.0</td>\n",
       "      <td>0.0</td>\n",
       "      <td>...</td>\n",
       "      <td>0.0</td>\n",
       "      <td>0.0</td>\n",
       "      <td>0.0</td>\n",
       "      <td>0.0</td>\n",
       "      <td>1.0</td>\n",
       "      <td>15.0</td>\n",
       "      <td>22.0</td>\n",
       "      <td>8.0</td>\n",
       "      <td>0.0</td>\n",
       "      <td>98.95</td>\n",
       "    </tr>\n",
       "    <tr>\n",
       "      <th>...</th>\n",
       "      <td>...</td>\n",
       "      <td>...</td>\n",
       "      <td>...</td>\n",
       "      <td>...</td>\n",
       "      <td>...</td>\n",
       "      <td>...</td>\n",
       "      <td>...</td>\n",
       "      <td>...</td>\n",
       "      <td>...</td>\n",
       "      <td>...</td>\n",
       "      <td>...</td>\n",
       "      <td>...</td>\n",
       "      <td>...</td>\n",
       "      <td>...</td>\n",
       "      <td>...</td>\n",
       "      <td>...</td>\n",
       "      <td>...</td>\n",
       "      <td>...</td>\n",
       "      <td>...</td>\n",
       "      <td>...</td>\n",
       "      <td>...</td>\n",
       "    </tr>\n",
       "    <tr>\n",
       "      <th>71927577036882175671740672027265553045</th>\n",
       "      <td>0.0</td>\n",
       "      <td>0.0</td>\n",
       "      <td>0.0</td>\n",
       "      <td>0.0</td>\n",
       "      <td>0.0</td>\n",
       "      <td>0.0</td>\n",
       "      <td>0.0</td>\n",
       "      <td>0.0</td>\n",
       "      <td>0.0</td>\n",
       "      <td>0.0</td>\n",
       "      <td>...</td>\n",
       "      <td>0.0</td>\n",
       "      <td>0.0</td>\n",
       "      <td>0.0</td>\n",
       "      <td>0.0</td>\n",
       "      <td>1.0</td>\n",
       "      <td>15.0</td>\n",
       "      <td>25.0</td>\n",
       "      <td>5.0</td>\n",
       "      <td>0.0</td>\n",
       "      <td>98.95</td>\n",
       "    </tr>\n",
       "    <tr>\n",
       "      <th>72920149864478415421647112593588564352</th>\n",
       "      <td>0.0</td>\n",
       "      <td>0.0</td>\n",
       "      <td>0.0</td>\n",
       "      <td>0.0</td>\n",
       "      <td>0.0</td>\n",
       "      <td>0.0</td>\n",
       "      <td>0.0</td>\n",
       "      <td>0.0</td>\n",
       "      <td>0.0</td>\n",
       "      <td>0.0</td>\n",
       "      <td>...</td>\n",
       "      <td>0.0</td>\n",
       "      <td>0.0</td>\n",
       "      <td>0.0</td>\n",
       "      <td>0.0</td>\n",
       "      <td>3.0</td>\n",
       "      <td>7.0</td>\n",
       "      <td>12.0</td>\n",
       "      <td>5.0</td>\n",
       "      <td>1.0</td>\n",
       "      <td>98.95</td>\n",
       "    </tr>\n",
       "    <tr>\n",
       "      <th>73858263165713391763977706099985757565</th>\n",
       "      <td>0.0</td>\n",
       "      <td>0.0</td>\n",
       "      <td>0.0</td>\n",
       "      <td>0.0</td>\n",
       "      <td>0.0</td>\n",
       "      <td>0.0</td>\n",
       "      <td>0.0</td>\n",
       "      <td>0.0</td>\n",
       "      <td>0.0</td>\n",
       "      <td>0.0</td>\n",
       "      <td>...</td>\n",
       "      <td>0.0</td>\n",
       "      <td>0.0</td>\n",
       "      <td>0.0</td>\n",
       "      <td>0.0</td>\n",
       "      <td>1.0</td>\n",
       "      <td>15.0</td>\n",
       "      <td>16.0</td>\n",
       "      <td>14.0</td>\n",
       "      <td>0.0</td>\n",
       "      <td>98.95</td>\n",
       "    </tr>\n",
       "    <tr>\n",
       "      <th>74298134952086357220585918971512257920</th>\n",
       "      <td>0.0</td>\n",
       "      <td>0.0</td>\n",
       "      <td>0.0</td>\n",
       "      <td>0.0</td>\n",
       "      <td>0.0</td>\n",
       "      <td>0.0</td>\n",
       "      <td>0.0</td>\n",
       "      <td>0.0</td>\n",
       "      <td>0.0</td>\n",
       "      <td>0.0</td>\n",
       "      <td>...</td>\n",
       "      <td>0.0</td>\n",
       "      <td>0.0</td>\n",
       "      <td>0.0</td>\n",
       "      <td>0.0</td>\n",
       "      <td>1.0</td>\n",
       "      <td>15.0</td>\n",
       "      <td>25.0</td>\n",
       "      <td>5.0</td>\n",
       "      <td>0.0</td>\n",
       "      <td>98.95</td>\n",
       "    </tr>\n",
       "    <tr>\n",
       "      <th>30243493821738120740105815696140674820</th>\n",
       "      <td>0.0</td>\n",
       "      <td>0.0</td>\n",
       "      <td>0.0</td>\n",
       "      <td>0.0</td>\n",
       "      <td>0.0</td>\n",
       "      <td>0.0</td>\n",
       "      <td>0.0</td>\n",
       "      <td>0.0</td>\n",
       "      <td>0.0</td>\n",
       "      <td>0.0</td>\n",
       "      <td>...</td>\n",
       "      <td>0.0</td>\n",
       "      <td>0.0</td>\n",
       "      <td>0.0</td>\n",
       "      <td>0.0</td>\n",
       "      <td>0.0</td>\n",
       "      <td>0.0</td>\n",
       "      <td>0.0</td>\n",
       "      <td>0.0</td>\n",
       "      <td>0.0</td>\n",
       "      <td>98.95</td>\n",
       "    </tr>\n",
       "  </tbody>\n",
       "</table>\n",
       "<p>57734 rows × 101 columns</p>\n",
       "</div>"
      ],
      "text/plain": [
       "                                        ad_pay_to_publish  ad_published  \\\n",
       "Marketing_Cloud_Visitor_ID                                                \n",
       "00001458797383785303218207232545704864                0.0           0.0   \n",
       "00005473722777211484152819525820790043                0.0           0.0   \n",
       "00008211108539528841335279168247692768                0.0           0.0   \n",
       "00009117132059695493344907543478877534                0.0           0.0   \n",
       "00009820910567669792002455740156226664                0.0           0.0   \n",
       "...                                                   ...           ...   \n",
       "71927577036882175671740672027265553045                0.0           0.0   \n",
       "72920149864478415421647112593588564352                0.0           0.0   \n",
       "73858263165713391763977706099985757565                0.0           0.0   \n",
       "74298134952086357220585918971512257920                0.0           0.0   \n",
       "30243493821738120740105815696140674820                0.0           0.0   \n",
       "\n",
       "                                        blog-detail  confirm_delete_ad  \\\n",
       "Marketing_Cloud_Visitor_ID                                               \n",
       "00001458797383785303218207232545704864          0.0                0.0   \n",
       "00005473722777211484152819525820790043          0.0                0.0   \n",
       "00008211108539528841335279168247692768          0.0                0.0   \n",
       "00009117132059695493344907543478877534          0.0                0.0   \n",
       "00009820910567669792002455740156226664          0.0                0.0   \n",
       "...                                             ...                ...   \n",
       "71927577036882175671740672027265553045          0.0                0.0   \n",
       "72920149864478415421647112593588564352          0.0                0.0   \n",
       "73858263165713391763977706099985757565          0.0                0.0   \n",
       "74298134952086357220585918971512257920          0.0                0.0   \n",
       "30243493821738120740105815696140674820          0.0                0.0   \n",
       "\n",
       "                                        detail  detail_map  forgot_password  \\\n",
       "Marketing_Cloud_Visitor_ID                                                    \n",
       "00001458797383785303218207232545704864     1.0         0.0              0.0   \n",
       "00005473722777211484152819525820790043     2.0         0.0              0.0   \n",
       "00008211108539528841335279168247692768     1.0         0.0              0.0   \n",
       "00009117132059695493344907543478877534     1.0         0.0              0.0   \n",
       "00009820910567669792002455740156226664     1.0         0.0              0.0   \n",
       "...                                        ...         ...              ...   \n",
       "71927577036882175671740672027265553045     0.0         0.0              0.0   \n",
       "72920149864478415421647112593588564352     0.0         0.0              0.0   \n",
       "73858263165713391763977706099985757565     0.0         0.0              0.0   \n",
       "74298134952086357220585918971512257920     0.0         0.0              0.0   \n",
       "30243493821738120740105815696140674820     0.0         0.0              0.0   \n",
       "\n",
       "                                        general  homepage  login  ...  \\\n",
       "Marketing_Cloud_Visitor_ID                                        ...   \n",
       "00001458797383785303218207232545704864      0.0       0.0    0.0  ...   \n",
       "00005473722777211484152819525820790043      0.0       0.0    0.0  ...   \n",
       "00008211108539528841335279168247692768      0.0       0.0    0.0  ...   \n",
       "00009117132059695493344907543478877534      0.0       0.0    0.0  ...   \n",
       "00009820910567669792002455740156226664      0.0       0.0    0.0  ...   \n",
       "...                                         ...       ...    ...  ...   \n",
       "71927577036882175671740672027265553045      0.0       0.0    0.0  ...   \n",
       "72920149864478415421647112593588564352      0.0       0.0    0.0  ...   \n",
       "73858263165713391763977706099985757565      0.0       0.0    0.0  ...   \n",
       "74298134952086357220585918971512257920      0.0       0.0    0.0  ...   \n",
       "30243493821738120740105815696140674820      0.0       0.0    0.0  ...   \n",
       "\n",
       "                                        Lead_Counteroffer_eMail_barcelona  \\\n",
       "Marketing_Cloud_Visitor_ID                                                  \n",
       "00001458797383785303218207232545704864                                0.0   \n",
       "00005473722777211484152819525820790043                                0.0   \n",
       "00008211108539528841335279168247692768                                0.0   \n",
       "00009117132059695493344907543478877534                                0.0   \n",
       "00009820910567669792002455740156226664                                0.0   \n",
       "...                                                                   ...   \n",
       "71927577036882175671740672027265553045                                0.0   \n",
       "72920149864478415421647112593588564352                                0.0   \n",
       "73858263165713391763977706099985757565                                0.0   \n",
       "74298134952086357220585918971512257920                                0.0   \n",
       "30243493821738120740105815696140674820                                0.0   \n",
       "\n",
       "                                        Lead_Counteroffer_eMail_big  \\\n",
       "Marketing_Cloud_Visitor_ID                                            \n",
       "00001458797383785303218207232545704864                          0.0   \n",
       "00005473722777211484152819525820790043                          0.0   \n",
       "00008211108539528841335279168247692768                          0.0   \n",
       "00009117132059695493344907543478877534                          0.0   \n",
       "00009820910567669792002455740156226664                          0.0   \n",
       "...                                                             ...   \n",
       "71927577036882175671740672027265553045                          0.0   \n",
       "72920149864478415421647112593588564352                          0.0   \n",
       "73858263165713391763977706099985757565                          0.0   \n",
       "74298134952086357220585918971512257920                          0.0   \n",
       "30243493821738120740105815696140674820                          0.0   \n",
       "\n",
       "                                        Lead_Counteroffer_eMail_little  \\\n",
       "Marketing_Cloud_Visitor_ID                                               \n",
       "00001458797383785303218207232545704864                             0.0   \n",
       "00005473722777211484152819525820790043                             0.0   \n",
       "00008211108539528841335279168247692768                             0.0   \n",
       "00009117132059695493344907543478877534                             0.0   \n",
       "00009820910567669792002455740156226664                             0.0   \n",
       "...                                                                ...   \n",
       "71927577036882175671740672027265553045                             0.0   \n",
       "72920149864478415421647112593588564352                             0.0   \n",
       "73858263165713391763977706099985757565                             0.0   \n",
       "74298134952086357220585918971512257920                             0.0   \n",
       "30243493821738120740105815696140674820                             0.0   \n",
       "\n",
       "                                        Lead_Counteroffer_eMail_madrid  \\\n",
       "Marketing_Cloud_Visitor_ID                                               \n",
       "00001458797383785303218207232545704864                             0.0   \n",
       "00005473722777211484152819525820790043                             0.0   \n",
       "00008211108539528841335279168247692768                             0.0   \n",
       "00009117132059695493344907543478877534                             0.0   \n",
       "00009820910567669792002455740156226664                             0.0   \n",
       "...                                                                ...   \n",
       "71927577036882175671740672027265553045                             0.0   \n",
       "72920149864478415421647112593588564352                             0.0   \n",
       "73858263165713391763977706099985757565                             0.0   \n",
       "74298134952086357220585918971512257920                             0.0   \n",
       "30243493821738120740105815696140674820                             0.0   \n",
       "\n",
       "                                        total_active_days  mean_inactive_days  \\\n",
       "Marketing_Cloud_Visitor_ID                                                      \n",
       "00001458797383785303218207232545704864                1.0                15.0   \n",
       "00005473722777211484152819525820790043                1.0                15.0   \n",
       "00008211108539528841335279168247692768                1.0                15.0   \n",
       "00009117132059695493344907543478877534                1.0                15.0   \n",
       "00009820910567669792002455740156226664                1.0                15.0   \n",
       "...                                                   ...                 ...   \n",
       "71927577036882175671740672027265553045                1.0                15.0   \n",
       "72920149864478415421647112593588564352                3.0                 7.0   \n",
       "73858263165713391763977706099985757565                1.0                15.0   \n",
       "74298134952086357220585918971512257920                1.0                15.0   \n",
       "30243493821738120740105815696140674820                0.0                 0.0   \n",
       "\n",
       "                                        max_inactive_days  min_inactive_days  \\\n",
       "Marketing_Cloud_Visitor_ID                                                     \n",
       "00001458797383785303218207232545704864               19.0               11.0   \n",
       "00005473722777211484152819525820790043               20.0               10.0   \n",
       "00008211108539528841335279168247692768               23.0                7.0   \n",
       "00009117132059695493344907543478877534               17.0               13.0   \n",
       "00009820910567669792002455740156226664               22.0                8.0   \n",
       "...                                                   ...                ...   \n",
       "71927577036882175671740672027265553045               25.0                5.0   \n",
       "72920149864478415421647112593588564352               12.0                5.0   \n",
       "73858263165713391763977706099985757565               16.0               14.0   \n",
       "74298134952086357220585918971512257920               25.0                5.0   \n",
       "30243493821738120740105815696140674820                0.0                0.0   \n",
       "\n",
       "                                        n_of_user_ids  perc_of_zeroes  \n",
       "Marketing_Cloud_Visitor_ID                                             \n",
       "00001458797383785303218207232545704864            0.0           98.95  \n",
       "00005473722777211484152819525820790043            0.0           98.95  \n",
       "00008211108539528841335279168247692768            0.0           98.95  \n",
       "00009117132059695493344907543478877534            0.0           98.95  \n",
       "00009820910567669792002455740156226664            0.0           98.95  \n",
       "...                                               ...             ...  \n",
       "71927577036882175671740672027265553045            0.0           98.95  \n",
       "72920149864478415421647112593588564352            1.0           98.95  \n",
       "73858263165713391763977706099985757565            0.0           98.95  \n",
       "74298134952086357220585918971512257920            0.0           98.95  \n",
       "30243493821738120740105815696140674820            0.0           98.95  \n",
       "\n",
       "[57734 rows x 101 columns]"
      ]
     },
     "execution_count": 36,
     "metadata": {},
     "output_type": "execute_result"
    }
   ],
   "source": [
    "df[(df.perc_of_zeroes<100) & (df.perc_of_zeroes>=98)]"
   ]
  },
  {
   "cell_type": "markdown",
   "metadata": {},
   "source": [
    "Based on the above histogram, select the treshold to isolate where most of outliers users are concentrated"
   ]
  },
  {
   "cell_type": "code",
   "execution_count": 26,
   "metadata": {
    "scrolled": true
   },
   "outputs": [
    {
     "data": {
      "image/png": "[encoded data removed]",
      "text/plain": [
       "<Figure size 432x288 with 1 Axes>"
      ]
     },
     "metadata": {
      "needs_background": "light"
     },
     "output_type": "display_data"
    },
    {
     "name": "stdout",
     "output_type": "stream",
     "text": [
      "% on the line are:\n",
      "[97.89, 98.95]\n"
     ]
    }
   ],
   "source": [
    "treshold = 97\n",
    "most = df[df.perc_of_zeroes>=treshold]\n",
    "plt.title('Distribution of users with low engagement \\n (with %0\\'s greater than ' \n",
    "          + str(treshold) + ')')\n",
    "hist = most['perc_of_zeroes'].hist(bins=50)\n",
    "plt.show()\n",
    "print('% on the line are:')\n",
    "print(list(most.perc_of_zeroes.unique()))"
   ]
  },
  {
   "cell_type": "markdown",
   "metadata": {},
   "source": [
    "Delete outliers that have no important action (like leads and favorite) TO BE DONE"
   ]
  },
  {
   "cell_type": "code",
   "execution_count": 27,
   "metadata": {},
   "outputs": [],
   "source": [
    "df = df[df.perc_of_zeroes<=treshold]"
   ]
  },
  {
   "cell_type": "code",
   "execution_count": 28,
   "metadata": {},
   "outputs": [
    {
     "data": {
      "image/png": "[encoded data removed]",
      "text/plain": [
       "<Figure size 360x360 with 1 Axes>"
      ]
     },
     "metadata": {
      "needs_background": "light"
     },
     "output_type": "display_data"
    }
   ],
   "source": [
    "plt.figure(figsize=(5, 5))\n",
    "plt.title('Distribution of users per Engagement with respect to the selected actions \\n (after removing users with very low engmt)')\n",
    "hist = df['perc_of_zeroes'].hist(bins=100)\n",
    "plt.show()"
   ]
  },
  {
   "cell_type": "code",
   "execution_count": 29,
   "metadata": {},
   "outputs": [
    {
     "data": {
      "text/plain": [
       "(745330, 101)"
      ]
     },
     "execution_count": 29,
     "metadata": {},
     "output_type": "execute_result"
    }
   ],
   "source": [
    "df.shape"
   ]
  },
  {
   "cell_type": "code",
   "execution_count": 114,
   "metadata": {},
   "outputs": [],
   "source": [
    "del df['perc_of_zeroes']"
   ]
  },
  {
   "cell_type": "markdown",
   "metadata": {},
   "source": [
    "## 1.1 Correlation Analysis"
   ]
  },
  {
   "cell_type": "code",
   "execution_count": 116,
   "metadata": {},
   "outputs": [],
   "source": [
    "# correlation matrix\n",
    "corr = df.corr()"
   ]
  },
  {
   "cell_type": "code",
   "execution_count": 490,
   "metadata": {
    "scrolled": true
   },
   "outputs": [
    {
     "data": {
      "image/png": "[encoded data removed]",
      "text/plain": [
       "<Figure size 2880x2880 with 2 Axes>"
      ]
     },
     "metadata": {
      "needs_background": "light"
     },
     "output_type": "display_data"
    }
   ],
   "source": [
    "# correlation heatmap\n",
    "#cmap = sns.palplot(sns.diverging_palette(240, 10, n=9))\n",
    "fig = plt.figure(figsize=(40, 40))\n",
    "sns.heatmap(corr,xticklabels=corr.columns, yticklabels=corr.columns, cmap=plt.cm.Reds)\n",
    "plt.show()"
   ]
  },
  {
   "cell_type": "code",
   "execution_count": 117,
   "metadata": {},
   "outputs": [],
   "source": [
    "# print correlation couples\n",
    "s = corr.abs().unstack()\n",
    "so = s.sort_values(kind=\"quicksort\", ascending=False)\n",
    "so1 = so.to_frame(name='correlation')\n",
    "so1.index = so1.index.set_names(['column1','column2'])\n",
    "so1 = so1[so1.correlation!=1]"
   ]
  },
  {
   "cell_type": "code",
   "execution_count": 118,
   "metadata": {
    "scrolled": true
   },
   "outputs": [
    {
     "name": "stdout",
     "output_type": "stream",
     "text": [
      "Pair of columns with high correlation:\n",
      "9.0\n"
     ]
    }
   ],
   "source": [
    "print('Pair of columns with high correlation:')\n",
    "print(so1[so1.correlation>=0.85].shape[0]/2)"
   ]
  },
  {
   "cell_type": "code",
   "execution_count": 120,
   "metadata": {},
   "outputs": [],
   "source": [
    "so1.to_csv('Data/Complements/202001_android_correlation.csv')"
   ]
  },
  {
   "cell_type": "code",
   "execution_count": 493,
   "metadata": {
    "scrolled": true
   },
   "outputs": [
    {
     "data": {
      "text/html": [
       "<div>\n",
       "<style scoped>\n",
       "    .dataframe tbody tr th:only-of-type {\n",
       "        vertical-align: middle;\n",
       "    }\n",
       "\n",
       "    .dataframe tbody tr th {\n",
       "        vertical-align: top;\n",
       "    }\n",
       "\n",
       "    .dataframe thead th {\n",
       "        text-align: right;\n",
       "    }\n",
       "</style>\n",
       "<table border=\"1\" class=\"dataframe\">\n",
       "  <thead>\n",
       "    <tr style=\"text-align: right;\">\n",
       "      <th></th>\n",
       "      <th></th>\n",
       "      <th>correlation</th>\n",
       "    </tr>\n",
       "    <tr>\n",
       "      <th>column1</th>\n",
       "      <th>column2</th>\n",
       "      <th></th>\n",
       "    </tr>\n",
       "  </thead>\n",
       "  <tbody>\n",
       "    <tr>\n",
       "      <th>Home_Viewed</th>\n",
       "      <th>homepage</th>\n",
       "      <td>0.999996</td>\n",
       "    </tr>\n",
       "    <tr>\n",
       "      <th>homepage</th>\n",
       "      <th>Home_Viewed</th>\n",
       "      <td>0.999996</td>\n",
       "    </tr>\n",
       "    <tr>\n",
       "      <th>Form_Success</th>\n",
       "      <th>Lead_Confirmation_eMail</th>\n",
       "      <td>0.993520</td>\n",
       "    </tr>\n",
       "    <tr>\n",
       "      <th>Lead_Confirmation_eMail</th>\n",
       "      <th>Form_Success</th>\n",
       "      <td>0.993520</td>\n",
       "    </tr>\n",
       "    <tr>\n",
       "      <th>Lead_CallphoneRENT</th>\n",
       "      <th>Lead_Callphone</th>\n",
       "      <td>0.933048</td>\n",
       "    </tr>\n",
       "    <tr>\n",
       "      <th>Lead_Callphone</th>\n",
       "      <th>Lead_CallphoneRENT</th>\n",
       "      <td>0.933048</td>\n",
       "    </tr>\n",
       "    <tr>\n",
       "      <th>micrositeSALE</th>\n",
       "      <th>microsite</th>\n",
       "      <td>0.912377</td>\n",
       "    </tr>\n",
       "    <tr>\n",
       "      <th>microsite</th>\n",
       "      <th>micrositeSALE</th>\n",
       "      <td>0.912377</td>\n",
       "    </tr>\n",
       "    <tr>\n",
       "      <th>Lead_Confirmation_eMail</th>\n",
       "      <th>Lead_Confirmation_eMailRENT</th>\n",
       "      <td>0.899131</td>\n",
       "    </tr>\n",
       "    <tr>\n",
       "      <th>Lead_Confirmation_eMailRENT</th>\n",
       "      <th>Lead_Confirmation_eMail</th>\n",
       "      <td>0.899131</td>\n",
       "    </tr>\n",
       "    <tr>\n",
       "      <th>Form_Success</th>\n",
       "      <th>Lead_Confirmation_eMailRENT</th>\n",
       "      <td>0.892937</td>\n",
       "    </tr>\n",
       "    <tr>\n",
       "      <th>Lead_Confirmation_eMailRENT</th>\n",
       "      <th>Form_Success</th>\n",
       "      <td>0.892937</td>\n",
       "    </tr>\n",
       "    <tr>\n",
       "      <th>matches</th>\n",
       "      <th>my_alerts_list</th>\n",
       "      <td>0.877509</td>\n",
       "    </tr>\n",
       "    <tr>\n",
       "      <th>my_alerts_list</th>\n",
       "      <th>matches</th>\n",
       "      <td>0.877509</td>\n",
       "    </tr>\n",
       "    <tr>\n",
       "      <th>my_alerts_listSALE</th>\n",
       "      <th>matchesSALE</th>\n",
       "      <td>0.856729</td>\n",
       "    </tr>\n",
       "    <tr>\n",
       "      <th>matchesSALE</th>\n",
       "      <th>my_alerts_listSALE</th>\n",
       "      <td>0.856729</td>\n",
       "    </tr>\n",
       "    <tr>\n",
       "      <th>matchesRENT</th>\n",
       "      <th>my_alerts_listRENT</th>\n",
       "      <td>0.850280</td>\n",
       "    </tr>\n",
       "    <tr>\n",
       "      <th>my_alerts_listRENT</th>\n",
       "      <th>matchesRENT</th>\n",
       "      <td>0.850280</td>\n",
       "    </tr>\n",
       "  </tbody>\n",
       "</table>\n",
       "</div>"
      ],
      "text/plain": [
       "                                                         correlation\n",
       "column1                     column2                                 \n",
       "Home_Viewed                 homepage                        0.999996\n",
       "homepage                    Home_Viewed                     0.999996\n",
       "Form_Success                Lead_Confirmation_eMail         0.993520\n",
       "Lead_Confirmation_eMail     Form_Success                    0.993520\n",
       "Lead_CallphoneRENT          Lead_Callphone                  0.933048\n",
       "Lead_Callphone              Lead_CallphoneRENT              0.933048\n",
       "micrositeSALE               microsite                       0.912377\n",
       "microsite                   micrositeSALE                   0.912377\n",
       "Lead_Confirmation_eMail     Lead_Confirmation_eMailRENT     0.899131\n",
       "Lead_Confirmation_eMailRENT Lead_Confirmation_eMail         0.899131\n",
       "Form_Success                Lead_Confirmation_eMailRENT     0.892937\n",
       "Lead_Confirmation_eMailRENT Form_Success                    0.892937\n",
       "matches                     my_alerts_list                  0.877509\n",
       "my_alerts_list              matches                         0.877509\n",
       "my_alerts_listSALE          matchesSALE                     0.856729\n",
       "matchesSALE                 my_alerts_listSALE              0.856729\n",
       "matchesRENT                 my_alerts_listRENT              0.850280\n",
       "my_alerts_listRENT          matchesRENT                     0.850280"
      ]
     },
     "metadata": {},
     "output_type": "display_data"
    }
   ],
   "source": [
    "with pd.option_context('display.max_rows', None, 'display.max_columns', None):  # more options can be specified also\n",
    "    display(so1[so1.correlation>=0.85]) "
   ]
  },
  {
   "cell_type": "code",
   "execution_count": 121,
   "metadata": {},
   "outputs": [],
   "source": [
    "# We remove ad-hoc columns with high correlation\n",
    "df = df.drop(columns=['Home_Viewed', 'Form_Success', 'microsite'])"
   ]
  },
  {
   "cell_type": "code",
   "execution_count": 35,
   "metadata": {},
   "outputs": [
    {
     "data": {
      "image/png": "[encoded data removed]",
      "text/plain": [
       "<Figure size 432x288 with 1 Axes>"
      ]
     },
     "metadata": {
      "needs_background": "light"
     },
     "output_type": "display_data"
    }
   ],
   "source": [
    "plt.scatter(df['Lead_CallphoneRENT'], df['Lead_Callphone'], s=5, color='#0504aa', alpha=0.7)\n",
    "plt.title('Almost all CallPhone Leads are from RENT')\n",
    "plt.show()"
   ]
  },
  {
   "cell_type": "code",
   "execution_count": 136,
   "metadata": {},
   "outputs": [
    {
     "data": {
      "image/png": "[encoded data removed]",
      "text/plain": [
       "<Figure size 432x288 with 1 Axes>"
      ]
     },
     "metadata": {
      "needs_background": "light"
     },
     "output_type": "display_data"
    }
   ],
   "source": [
    "plt.scatter(df['Ad_FavouritedSALE'], df['Ad_FavouritedRENT'], s=30)\n",
    "plt.show()"
   ]
  },
  {
   "cell_type": "code",
   "execution_count": 130,
   "metadata": {},
   "outputs": [
    {
     "data": {
      "image/png": "[encoded data removed]",
      "text/plain": [
       "<Figure size 432x288 with 1 Axes>"
      ]
     },
     "metadata": {
      "needs_background": "light"
     },
     "output_type": "display_data"
    }
   ],
   "source": [
    "plt.scatter(df['Lead_Confirmation_eMail'], df['Lead_Confirmation_eMailRENT'], s=5)\n",
    "plt.show()"
   ]
  },
  {
   "cell_type": "code",
   "execution_count": 123,
   "metadata": {},
   "outputs": [
    {
     "name": "stdout",
     "output_type": "stream",
     "text": [
      "Following columns will be removed:\n",
      "['matchesRENT', 'matchesSALE', 'matches']\n"
     ]
    }
   ],
   "source": [
    "to_remove = [col for col in df.columns if ('matches' in col)]\n",
    "print('Following columns will be removed:')\n",
    "print(to_remove)\n",
    "df = df.drop(columns=to_remove)"
   ]
  },
  {
   "cell_type": "code",
   "execution_count": 124,
   "metadata": {},
   "outputs": [
    {
     "data": {
      "text/plain": [
       "(745330, 94)"
      ]
     },
     "execution_count": 124,
     "metadata": {},
     "output_type": "execute_result"
    }
   ],
   "source": [
    "df.shape"
   ]
  },
  {
   "cell_type": "code",
   "execution_count": 126,
   "metadata": {
    "scrolled": true
   },
   "outputs": [
    {
     "data": {
      "text/html": [
       "<div>\n",
       "<style scoped>\n",
       "    .dataframe tbody tr th:only-of-type {\n",
       "        vertical-align: middle;\n",
       "    }\n",
       "\n",
       "    .dataframe tbody tr th {\n",
       "        vertical-align: top;\n",
       "    }\n",
       "\n",
       "    .dataframe thead th {\n",
       "        text-align: right;\n",
       "    }\n",
       "</style>\n",
       "<table border=\"1\" class=\"dataframe\">\n",
       "  <thead>\n",
       "    <tr style=\"text-align: right;\">\n",
       "      <th></th>\n",
       "      <th>ad_pay_to_publish</th>\n",
       "      <th>ad_published</th>\n",
       "      <th>blog-detail</th>\n",
       "      <th>confirm_delete_ad</th>\n",
       "      <th>detail</th>\n",
       "      <th>detail_map</th>\n",
       "      <th>forgot_password</th>\n",
       "      <th>general</th>\n",
       "      <th>homepage</th>\n",
       "      <th>login</th>\n",
       "      <th>...</th>\n",
       "      <th>Lead_Confirmation_eMail_madrid</th>\n",
       "      <th>Lead_Counteroffer_eMail_barcelona</th>\n",
       "      <th>Lead_Counteroffer_eMail_big</th>\n",
       "      <th>Lead_Counteroffer_eMail_little</th>\n",
       "      <th>Lead_Counteroffer_eMail_madrid</th>\n",
       "      <th>total_active_days</th>\n",
       "      <th>mean_inactive_days</th>\n",
       "      <th>max_inactive_days</th>\n",
       "      <th>min_inactive_days</th>\n",
       "      <th>n_of_user_ids</th>\n",
       "    </tr>\n",
       "    <tr>\n",
       "      <th>Marketing_Cloud_Visitor_ID</th>\n",
       "      <th></th>\n",
       "      <th></th>\n",
       "      <th></th>\n",
       "      <th></th>\n",
       "      <th></th>\n",
       "      <th></th>\n",
       "      <th></th>\n",
       "      <th></th>\n",
       "      <th></th>\n",
       "      <th></th>\n",
       "      <th></th>\n",
       "      <th></th>\n",
       "      <th></th>\n",
       "      <th></th>\n",
       "      <th></th>\n",
       "      <th></th>\n",
       "      <th></th>\n",
       "      <th></th>\n",
       "      <th></th>\n",
       "      <th></th>\n",
       "      <th></th>\n",
       "    </tr>\n",
       "  </thead>\n",
       "  <tbody>\n",
       "    <tr>\n",
       "      <th>00000107708722978450827756473807907358</th>\n",
       "      <td>0.0</td>\n",
       "      <td>0.0</td>\n",
       "      <td>0.0</td>\n",
       "      <td>0.0</td>\n",
       "      <td>57.0</td>\n",
       "      <td>5.0</td>\n",
       "      <td>0.0</td>\n",
       "      <td>0.0</td>\n",
       "      <td>3.0</td>\n",
       "      <td>0.0</td>\n",
       "      <td>...</td>\n",
       "      <td>0.0</td>\n",
       "      <td>0.0</td>\n",
       "      <td>0.0</td>\n",
       "      <td>0.0</td>\n",
       "      <td>0.0</td>\n",
       "      <td>17.0</td>\n",
       "      <td>2.0</td>\n",
       "      <td>6.0</td>\n",
       "      <td>1.0</td>\n",
       "      <td>1.0</td>\n",
       "    </tr>\n",
       "    <tr>\n",
       "      <th>00000136845845092372076348413986631894</th>\n",
       "      <td>0.0</td>\n",
       "      <td>0.0</td>\n",
       "      <td>0.0</td>\n",
       "      <td>0.0</td>\n",
       "      <td>1.0</td>\n",
       "      <td>0.0</td>\n",
       "      <td>0.0</td>\n",
       "      <td>1.0</td>\n",
       "      <td>16.0</td>\n",
       "      <td>0.0</td>\n",
       "      <td>...</td>\n",
       "      <td>0.0</td>\n",
       "      <td>0.0</td>\n",
       "      <td>0.0</td>\n",
       "      <td>0.0</td>\n",
       "      <td>0.0</td>\n",
       "      <td>3.0</td>\n",
       "      <td>7.0</td>\n",
       "      <td>17.0</td>\n",
       "      <td>1.0</td>\n",
       "      <td>0.0</td>\n",
       "    </tr>\n",
       "  </tbody>\n",
       "</table>\n",
       "<p>2 rows × 94 columns</p>\n",
       "</div>"
      ],
      "text/plain": [
       "                                        ad_pay_to_publish  ad_published  \\\n",
       "Marketing_Cloud_Visitor_ID                                                \n",
       "00000107708722978450827756473807907358                0.0           0.0   \n",
       "00000136845845092372076348413986631894                0.0           0.0   \n",
       "\n",
       "                                        blog-detail  confirm_delete_ad  \\\n",
       "Marketing_Cloud_Visitor_ID                                               \n",
       "00000107708722978450827756473807907358          0.0                0.0   \n",
       "00000136845845092372076348413986631894          0.0                0.0   \n",
       "\n",
       "                                        detail  detail_map  forgot_password  \\\n",
       "Marketing_Cloud_Visitor_ID                                                    \n",
       "00000107708722978450827756473807907358    57.0         5.0              0.0   \n",
       "00000136845845092372076348413986631894     1.0         0.0              0.0   \n",
       "\n",
       "                                        general  homepage  login  ...  \\\n",
       "Marketing_Cloud_Visitor_ID                                        ...   \n",
       "00000107708722978450827756473807907358      0.0       3.0    0.0  ...   \n",
       "00000136845845092372076348413986631894      1.0      16.0    0.0  ...   \n",
       "\n",
       "                                        Lead_Confirmation_eMail_madrid  \\\n",
       "Marketing_Cloud_Visitor_ID                                               \n",
       "00000107708722978450827756473807907358                             0.0   \n",
       "00000136845845092372076348413986631894                             0.0   \n",
       "\n",
       "                                        Lead_Counteroffer_eMail_barcelona  \\\n",
       "Marketing_Cloud_Visitor_ID                                                  \n",
       "00000107708722978450827756473807907358                                0.0   \n",
       "00000136845845092372076348413986631894                                0.0   \n",
       "\n",
       "                                        Lead_Counteroffer_eMail_big  \\\n",
       "Marketing_Cloud_Visitor_ID                                            \n",
       "00000107708722978450827756473807907358                          0.0   \n",
       "00000136845845092372076348413986631894                          0.0   \n",
       "\n",
       "                                        Lead_Counteroffer_eMail_little  \\\n",
       "Marketing_Cloud_Visitor_ID                                               \n",
       "00000107708722978450827756473807907358                             0.0   \n",
       "00000136845845092372076348413986631894                             0.0   \n",
       "\n",
       "                                        Lead_Counteroffer_eMail_madrid  \\\n",
       "Marketing_Cloud_Visitor_ID                                               \n",
       "00000107708722978450827756473807907358                             0.0   \n",
       "00000136845845092372076348413986631894                             0.0   \n",
       "\n",
       "                                        total_active_days  mean_inactive_days  \\\n",
       "Marketing_Cloud_Visitor_ID                                                      \n",
       "00000107708722978450827756473807907358               17.0                 2.0   \n",
       "00000136845845092372076348413986631894                3.0                 7.0   \n",
       "\n",
       "                                        max_inactive_days  min_inactive_days  \\\n",
       "Marketing_Cloud_Visitor_ID                                                     \n",
       "00000107708722978450827756473807907358                6.0                1.0   \n",
       "00000136845845092372076348413986631894               17.0                1.0   \n",
       "\n",
       "                                        n_of_user_ids  \n",
       "Marketing_Cloud_Visitor_ID                             \n",
       "00000107708722978450827756473807907358            1.0  \n",
       "00000136845845092372076348413986631894            0.0  \n",
       "\n",
       "[2 rows x 94 columns]"
      ]
     },
     "execution_count": 126,
     "metadata": {},
     "output_type": "execute_result"
    }
   ],
   "source": [
    "df.head(2)"
   ]
  },
  {
   "cell_type": "code",
   "execution_count": 127,
   "metadata": {},
   "outputs": [],
   "source": [
    "df.to_csv('Data/202001_android_data_cleansed.csv', index=True)"
   ]
  },
  {
   "cell_type": "markdown",
   "metadata": {},
   "source": [
    "## 1.2 Colinearity"
   ]
  },
  {
   "cell_type": "code",
   "execution_count": null,
   "metadata": {},
   "outputs": [],
   "source": []
  },
  {
   "cell_type": "markdown",
   "metadata": {},
   "source": [
    "# 2 RENT / SALE Classification"
   ]
  },
  {
   "cell_type": "markdown",
   "metadata": {},
   "source": [
    "Starting with cleansed data (correlation, co-linearity, % of engagement) we propose a transaction classification method"
   ]
  },
  {
   "cell_type": "code",
   "execution_count": 37,
   "metadata": {
    "scrolled": true
   },
   "outputs": [
    {
     "data": {
      "text/html": [
       "<div>\n",
       "<style scoped>\n",
       "    .dataframe tbody tr th:only-of-type {\n",
       "        vertical-align: middle;\n",
       "    }\n",
       "\n",
       "    .dataframe tbody tr th {\n",
       "        vertical-align: top;\n",
       "    }\n",
       "\n",
       "    .dataframe thead th {\n",
       "        text-align: right;\n",
       "    }\n",
       "</style>\n",
       "<table border=\"1\" class=\"dataframe\">\n",
       "  <thead>\n",
       "    <tr style=\"text-align: right;\">\n",
       "      <th></th>\n",
       "      <th>ad_pay_to_publish</th>\n",
       "      <th>ad_published</th>\n",
       "      <th>blog-detail</th>\n",
       "      <th>confirm_delete_ad</th>\n",
       "      <th>detail</th>\n",
       "      <th>detail_map</th>\n",
       "      <th>forgot_password</th>\n",
       "      <th>general</th>\n",
       "      <th>homepage</th>\n",
       "      <th>login</th>\n",
       "      <th>...</th>\n",
       "      <th>Lead_Confirmation_eMail_madrid</th>\n",
       "      <th>Lead_Counteroffer_eMail_barcelona</th>\n",
       "      <th>Lead_Counteroffer_eMail_big</th>\n",
       "      <th>Lead_Counteroffer_eMail_little</th>\n",
       "      <th>Lead_Counteroffer_eMail_madrid</th>\n",
       "      <th>total_active_days</th>\n",
       "      <th>mean_inactive_days</th>\n",
       "      <th>max_inactive_days</th>\n",
       "      <th>min_inactive_days</th>\n",
       "      <th>n_of_user_ids</th>\n",
       "    </tr>\n",
       "    <tr>\n",
       "      <th>Marketing_Cloud_Visitor_ID</th>\n",
       "      <th></th>\n",
       "      <th></th>\n",
       "      <th></th>\n",
       "      <th></th>\n",
       "      <th></th>\n",
       "      <th></th>\n",
       "      <th></th>\n",
       "      <th></th>\n",
       "      <th></th>\n",
       "      <th></th>\n",
       "      <th></th>\n",
       "      <th></th>\n",
       "      <th></th>\n",
       "      <th></th>\n",
       "      <th></th>\n",
       "      <th></th>\n",
       "      <th></th>\n",
       "      <th></th>\n",
       "      <th></th>\n",
       "      <th></th>\n",
       "      <th></th>\n",
       "    </tr>\n",
       "  </thead>\n",
       "  <tbody>\n",
       "    <tr>\n",
       "      <th>00000107708722978450827756473807907358</th>\n",
       "      <td>0.0</td>\n",
       "      <td>0.0</td>\n",
       "      <td>0.0</td>\n",
       "      <td>0.0</td>\n",
       "      <td>57.0</td>\n",
       "      <td>5.0</td>\n",
       "      <td>0.0</td>\n",
       "      <td>0.0</td>\n",
       "      <td>3.0</td>\n",
       "      <td>0.0</td>\n",
       "      <td>...</td>\n",
       "      <td>0.0</td>\n",
       "      <td>0.0</td>\n",
       "      <td>0.0</td>\n",
       "      <td>0.0</td>\n",
       "      <td>0.0</td>\n",
       "      <td>17.0</td>\n",
       "      <td>2.0</td>\n",
       "      <td>6.0</td>\n",
       "      <td>1.0</td>\n",
       "      <td>1.0</td>\n",
       "    </tr>\n",
       "    <tr>\n",
       "      <th>00000136845845092372076348413986631894</th>\n",
       "      <td>0.0</td>\n",
       "      <td>0.0</td>\n",
       "      <td>0.0</td>\n",
       "      <td>0.0</td>\n",
       "      <td>1.0</td>\n",
       "      <td>0.0</td>\n",
       "      <td>0.0</td>\n",
       "      <td>1.0</td>\n",
       "      <td>16.0</td>\n",
       "      <td>0.0</td>\n",
       "      <td>...</td>\n",
       "      <td>0.0</td>\n",
       "      <td>0.0</td>\n",
       "      <td>0.0</td>\n",
       "      <td>0.0</td>\n",
       "      <td>0.0</td>\n",
       "      <td>3.0</td>\n",
       "      <td>7.0</td>\n",
       "      <td>17.0</td>\n",
       "      <td>1.0</td>\n",
       "      <td>0.0</td>\n",
       "    </tr>\n",
       "  </tbody>\n",
       "</table>\n",
       "<p>2 rows × 96 columns</p>\n",
       "</div>"
      ],
      "text/plain": [
       "                                        ad_pay_to_publish  ad_published  \\\n",
       "Marketing_Cloud_Visitor_ID                                                \n",
       "00000107708722978450827756473807907358                0.0           0.0   \n",
       "00000136845845092372076348413986631894                0.0           0.0   \n",
       "\n",
       "                                        blog-detail  confirm_delete_ad  \\\n",
       "Marketing_Cloud_Visitor_ID                                               \n",
       "00000107708722978450827756473807907358          0.0                0.0   \n",
       "00000136845845092372076348413986631894          0.0                0.0   \n",
       "\n",
       "                                        detail  detail_map  forgot_password  \\\n",
       "Marketing_Cloud_Visitor_ID                                                    \n",
       "00000107708722978450827756473807907358    57.0         5.0              0.0   \n",
       "00000136845845092372076348413986631894     1.0         0.0              0.0   \n",
       "\n",
       "                                        general  homepage  login  ...  \\\n",
       "Marketing_Cloud_Visitor_ID                                        ...   \n",
       "00000107708722978450827756473807907358      0.0       3.0    0.0  ...   \n",
       "00000136845845092372076348413986631894      1.0      16.0    0.0  ...   \n",
       "\n",
       "                                        Lead_Confirmation_eMail_madrid  \\\n",
       "Marketing_Cloud_Visitor_ID                                               \n",
       "00000107708722978450827756473807907358                             0.0   \n",
       "00000136845845092372076348413986631894                             0.0   \n",
       "\n",
       "                                        Lead_Counteroffer_eMail_barcelona  \\\n",
       "Marketing_Cloud_Visitor_ID                                                  \n",
       "00000107708722978450827756473807907358                                0.0   \n",
       "00000136845845092372076348413986631894                                0.0   \n",
       "\n",
       "                                        Lead_Counteroffer_eMail_big  \\\n",
       "Marketing_Cloud_Visitor_ID                                            \n",
       "00000107708722978450827756473807907358                          0.0   \n",
       "00000136845845092372076348413986631894                          0.0   \n",
       "\n",
       "                                        Lead_Counteroffer_eMail_little  \\\n",
       "Marketing_Cloud_Visitor_ID                                               \n",
       "00000107708722978450827756473807907358                             0.0   \n",
       "00000136845845092372076348413986631894                             0.0   \n",
       "\n",
       "                                        Lead_Counteroffer_eMail_madrid  \\\n",
       "Marketing_Cloud_Visitor_ID                                               \n",
       "00000107708722978450827756473807907358                             0.0   \n",
       "00000136845845092372076348413986631894                             0.0   \n",
       "\n",
       "                                        total_active_days  mean_inactive_days  \\\n",
       "Marketing_Cloud_Visitor_ID                                                      \n",
       "00000107708722978450827756473807907358               17.0                 2.0   \n",
       "00000136845845092372076348413986631894                3.0                 7.0   \n",
       "\n",
       "                                        max_inactive_days  min_inactive_days  \\\n",
       "Marketing_Cloud_Visitor_ID                                                     \n",
       "00000107708722978450827756473807907358                6.0                1.0   \n",
       "00000136845845092372076348413986631894               17.0                1.0   \n",
       "\n",
       "                                        n_of_user_ids  \n",
       "Marketing_Cloud_Visitor_ID                             \n",
       "00000107708722978450827756473807907358            1.0  \n",
       "00000136845845092372076348413986631894            0.0  \n",
       "\n",
       "[2 rows x 96 columns]"
      ]
     },
     "execution_count": 37,
     "metadata": {},
     "output_type": "execute_result"
    }
   ],
   "source": [
    "df = pd.read_csv('Data/202001_android_data_cleansed.csv', index_col='Marketing_Cloud_Visitor_ID')\n",
    "df.head(2)"
   ]
  },
  {
   "cell_type": "markdown",
   "metadata": {},
   "source": [
    "## 2.1 Separate Rent and Sale users with Leads"
   ]
  },
  {
   "cell_type": "code",
   "execution_count": 38,
   "metadata": {},
   "outputs": [],
   "source": [
    "# define total leads column and remove users with no lead\n",
    "df_aux = df.copy()\n",
    "df_aux['actual_leads'] = df_aux['Lead_Confirmation_eMail'] + df_aux['Lead_Callphone'] + df_aux['Lead_Counteroffer_eMail']\n",
    "df_aux['actual_leadsRENT'] = df_aux['Lead_Confirmation_eMailRENT'] + df_aux['Lead_CallphoneRENT'] + df_aux['Lead_Counteroffer_eMailRENT']\n",
    "df_aux['actual_leadsSALE'] = df_aux['Lead_Confirmation_eMailSALE'] + df_aux['Lead_CallphoneSALE'] + df_aux['Lead_Counteroffer_eMailSALE']\n",
    "df_leads = df_aux[['actual_leads','actual_leadsRENT','actual_leadsSALE']]\n",
    "df_leads = df_leads[df_leads.actual_leads!=0]\n",
    "df_leads = df_leads[df_leads.notnull()]"
   ]
  },
  {
   "cell_type": "code",
   "execution_count": 39,
   "metadata": {
    "scrolled": true
   },
   "outputs": [
    {
     "data": {
      "text/html": [
       "<div>\n",
       "<style scoped>\n",
       "    .dataframe tbody tr th:only-of-type {\n",
       "        vertical-align: middle;\n",
       "    }\n",
       "\n",
       "    .dataframe tbody tr th {\n",
       "        vertical-align: top;\n",
       "    }\n",
       "\n",
       "    .dataframe thead th {\n",
       "        text-align: right;\n",
       "    }\n",
       "</style>\n",
       "<table border=\"1\" class=\"dataframe\">\n",
       "  <thead>\n",
       "    <tr style=\"text-align: right;\">\n",
       "      <th></th>\n",
       "      <th>actual_leads</th>\n",
       "      <th>actual_leadsRENT</th>\n",
       "      <th>actual_leadsSALE</th>\n",
       "    </tr>\n",
       "    <tr>\n",
       "      <th>Marketing_Cloud_Visitor_ID</th>\n",
       "      <th></th>\n",
       "      <th></th>\n",
       "      <th></th>\n",
       "    </tr>\n",
       "  </thead>\n",
       "  <tbody>\n",
       "    <tr>\n",
       "      <th>00000107708722978450827756473807907358</th>\n",
       "      <td>1.0</td>\n",
       "      <td>1.0</td>\n",
       "      <td>0.0</td>\n",
       "    </tr>\n",
       "    <tr>\n",
       "      <th>00000407524030170034329152187891187137</th>\n",
       "      <td>19.0</td>\n",
       "      <td>19.0</td>\n",
       "      <td>0.0</td>\n",
       "    </tr>\n",
       "  </tbody>\n",
       "</table>\n",
       "</div>"
      ],
      "text/plain": [
       "                                        actual_leads  actual_leadsRENT  \\\n",
       "Marketing_Cloud_Visitor_ID                                               \n",
       "00000107708722978450827756473807907358           1.0               1.0   \n",
       "00000407524030170034329152187891187137          19.0              19.0   \n",
       "\n",
       "                                        actual_leadsSALE  \n",
       "Marketing_Cloud_Visitor_ID                                \n",
       "00000107708722978450827756473807907358               0.0  \n",
       "00000407524030170034329152187891187137               0.0  "
      ]
     },
     "execution_count": 39,
     "metadata": {},
     "output_type": "execute_result"
    }
   ],
   "source": [
    "df_leads.head(2)"
   ]
  },
  {
   "cell_type": "code",
   "execution_count": 59,
   "metadata": {
    "scrolled": false
   },
   "outputs": [
    {
     "name": "stdout",
     "output_type": "stream",
     "text": [
      "Total of 192645 users did lead\n",
      "which is 25.9% of our user sample.\n",
      "With the choosen treshold of maximum 20 leads per user,\n",
      "which select 24.7 % of our users sample\n",
      "we have the following distribution:\n"
     ]
    },
    {
     "data": {
      "image/png": "[encoded data removed]",
      "text/plain": [
       "<Figure size 504x360 with 1 Axes>"
      ]
     },
     "metadata": {
      "needs_background": "light"
     },
     "output_type": "display_data"
    }
   ],
   "source": [
    "# choose the treshold for number of leads per user to analyze\n",
    "treshold = 20\n",
    "df_plot = df_leads[df_leads.actual_leads<=treshold]\n",
    "\n",
    "print('Total of ' + str(df_leads.shape[0]) + ' users did lead')\n",
    "perc_leads = df_leads.shape[0]/df.shape[0]*100\n",
    "print('which is ' + str(round(perc_leads, 1)) + '% of our user sample.' )\n",
    "print('With the choosen treshold of maximum ' + str(treshold) + ' leads per user,')\n",
    "perc_leads = df_plot.shape[0]/df.shape[0]*100\n",
    "print('which select ' + str(round(perc_leads, 1)) + ' % of our users sample')\n",
    "print('we have the following distribution:')\n",
    "\n",
    "# plot distributiion\n",
    "plt.figure(figsize=(7, 5))\n",
    "plt.title('Distribution of users per number of leads')\n",
    "plt.hist(df_plot['actual_leads'], density=1, bins=20, color='#0504aa', alpha=0.7, rwidth=0.85)\n",
    "plt.show()"
   ]
  },
  {
   "cell_type": "code",
   "execution_count": 40,
   "metadata": {},
   "outputs": [],
   "source": [
    "# Classify RENT and SALE, other_type, and both_types\n",
    "df_leads.loc[((df_leads['actual_leadsRENT']==0) & (df_leads['actual_leadsSALE']!=0)), \n",
    "             'transaction_type'] = 'SALE'\n",
    "df_leads.loc[((df_leads['actual_leadsSALE']==0) & (df_leads['actual_leadsRENT']!=0)), \n",
    "             'transaction_type'] = 'RENT'\n",
    "df_leads.loc[((df_leads['actual_leadsSALE']==0) & (df_leads['actual_leadsRENT']==0) & \n",
    "              (df_leads.actual_leads!=0)), 'transaction_type'] = 'other_type'\n",
    "df_leads.loc[df_leads['transaction_type'].isnull(), 'transaction_type'] = 'both_types'"
   ]
  },
  {
   "cell_type": "code",
   "execution_count": 50,
   "metadata": {},
   "outputs": [
    {
     "data": {
      "text/plain": [
       "RENT          117115\n",
       "SALE           64527\n",
       "both_types      7300\n",
       "other_type      3703\n",
       "Name: transaction_type, dtype: int64"
      ]
     },
     "execution_count": 50,
     "metadata": {},
     "output_type": "execute_result"
    }
   ],
   "source": [
    "df_leads['transaction_type'].value_counts()"
   ]
  },
  {
   "cell_type": "code",
   "execution_count": 70,
   "metadata": {
    "scrolled": true
   },
   "outputs": [
    {
     "ename": "TypeError",
     "evalue": "hist() got multiple values for argument 'bins'",
     "output_type": "error",
     "traceback": [
      "\u001b[0;31m---------------------------------------------------------------------------\u001b[0m",
      "\u001b[0;31mTypeError\u001b[0m                                 Traceback (most recent call last)",
      "\u001b[0;32m<ipython-input-70-74188c5190fa>\u001b[0m in \u001b[0;36m<module>\u001b[0;34m\u001b[0m\n\u001b[1;32m      7\u001b[0m          \u001b[0mbins\u001b[0m\u001b[0;34m=\u001b[0m\u001b[0;36m5\u001b[0m\u001b[0;34m,\u001b[0m\u001b[0;34m\u001b[0m\u001b[0;34m\u001b[0m\u001b[0m\n\u001b[1;32m      8\u001b[0m          \u001b[0malpha\u001b[0m\u001b[0;34m=\u001b[0m\u001b[0;36m0.7\u001b[0m\u001b[0;34m,\u001b[0m\u001b[0;34m\u001b[0m\u001b[0;34m\u001b[0m\u001b[0m\n\u001b[0;32m----> 9\u001b[0;31m          rwidth=0.70)\n\u001b[0m\u001b[1;32m     10\u001b[0m \u001b[0;31m#pd.value_counts(df_leads['transaction_type'], normalize=True).plot.bar()\u001b[0m\u001b[0;34m\u001b[0m\u001b[0;34m\u001b[0m\u001b[0;34m\u001b[0m\u001b[0m\n\u001b[1;32m     11\u001b[0m \u001b[0mplt\u001b[0m\u001b[0;34m.\u001b[0m\u001b[0mshow\u001b[0m\u001b[0;34m(\u001b[0m\u001b[0;34m)\u001b[0m\u001b[0;34m\u001b[0m\u001b[0;34m\u001b[0m\u001b[0m\n",
      "\u001b[0;31mTypeError\u001b[0m: hist() got multiple values for argument 'bins'"
     ]
    },
    {
     "data": {
      "image/png": "[encoded data removed]",
      "text/plain": [
       "<Figure size 360x288 with 1 Axes>"
      ]
     },
     "metadata": {
      "needs_background": "light"
     },
     "output_type": "display_data"
    }
   ],
   "source": [
    "plt.figure(figsize=(5, 4))\n",
    "plt.title('How users are distributed per transaction type \\n relying  on their leads over the month:')\n",
    "plt.hist((df_leads['transaction_type'].unique(), \n",
    "          df_leads['transaction_type'].value_counts()), 2,\n",
    "         color=('#0504aa','#0504aa'), \n",
    "         density=1,\n",
    "         bins=5,\n",
    "         alpha=0.7, \n",
    "         rwidth=0.70)\n",
    "#pd.value_counts(df_leads['transaction_type'], normalize=True).plot.bar()\n",
    "plt.show()\n",
    "print('Other types are users that have no leads in rent nor sell \\n but on other transaction types')"
   ]
  },
  {
   "cell_type": "code",
   "execution_count": 76,
   "metadata": {},
   "outputs": [],
   "source": [
    "df_rent = df_leads[df_leads.transaction_type=='RENT']\n",
    "df_sale = df_leads[df_leads.transaction_type=='SALE']"
   ]
  },
  {
   "cell_type": "code",
   "execution_count": 77,
   "metadata": {},
   "outputs": [
    {
     "data": {
      "image/png": "[encoded data removed]",
      "text/plain": [
       "<Figure size 360x144 with 1 Axes>"
      ]
     },
     "metadata": {
      "needs_background": "light"
     },
     "output_type": "display_data"
    }
   ],
   "source": [
    "plt.figure(figsize=(5, 2))\n",
    "# choose the treshold for leads to analyze\n",
    "treshold = 10\n",
    "# RENT\n",
    "df_plot = df_rent[df_rent.actual_leads<=treshold]\n",
    "plt.title('Distribution of users per number of RENT leads')\n",
    "pd.value_counts(df_plot['actual_leadsRENT'], normalize=True).plot.bar()\n",
    "\n",
    "plt.show()"
   ]
  },
  {
   "cell_type": "code",
   "execution_count": 78,
   "metadata": {
    "scrolled": true
   },
   "outputs": [
    {
     "data": {
      "image/png": "[encoded data removed]",
      "text/plain": [
       "<Figure size 360x144 with 1 Axes>"
      ]
     },
     "metadata": {
      "needs_background": "light"
     },
     "output_type": "display_data"
    }
   ],
   "source": [
    "plt.figure(figsize=(5, 2))\n",
    "# choose the treshold for leads to analyze\n",
    "treshold = 10\n",
    "# SALE\n",
    "df_plot = df_sale[df_sale.actual_leads<=treshold]\n",
    "plt.title('Distribution of users per number of SALE leads')\n",
    "pd.value_counts(df_plot['actual_leadsSALE'], normalize=True).plot.bar()\n",
    "plt.show()"
   ]
  },
  {
   "cell_type": "code",
   "execution_count": 79,
   "metadata": {},
   "outputs": [],
   "source": [
    "df_leads.to_csv('Data/Complements/202001_Leads_IDs_Rent_Sale.csv', index=True)"
   ]
  },
  {
   "cell_type": "code",
   "execution_count": 80,
   "metadata": {},
   "outputs": [
    {
     "data": {
      "text/plain": [
       "(744829, 96)"
      ]
     },
     "execution_count": 80,
     "metadata": {},
     "output_type": "execute_result"
    }
   ],
   "source": [
    "df.shape"
   ]
  },
  {
   "cell_type": "code",
   "execution_count": 81,
   "metadata": {},
   "outputs": [
    {
     "data": {
      "text/plain": [
       "(192645, 4)"
      ]
     },
     "execution_count": 81,
     "metadata": {},
     "output_type": "execute_result"
    }
   ],
   "source": [
    "df_leads.shape"
   ]
  },
  {
   "cell_type": "code",
   "execution_count": 82,
   "metadata": {
    "scrolled": true
   },
   "outputs": [
    {
     "name": "stdout",
     "output_type": "stream",
     "text": [
      "Quedan por clasificar el 74.1% de los usuarios: los que no hacen leads.\n"
     ]
    }
   ],
   "source": [
    "n = round(1-(df_leads.shape[0]/df.shape[0]), 3)*100\n",
    "print('Quedan por clasificar el ' + str(n) + '% de los usuarios: los que no hacen leads.')"
   ]
  },
  {
   "cell_type": "markdown",
   "metadata": {},
   "source": [
    "## 2.2 Separate RENT and SALE by other actions"
   ]
  },
  {
   "cell_type": "code",
   "execution_count": 200,
   "metadata": {},
   "outputs": [
    {
     "name": "stdout",
     "output_type": "stream",
     "text": [
      "Quedaban para clasificar 74.1% de los usuarios\n"
     ]
    }
   ],
   "source": [
    "df1 = pd.merge(df_aux, df_leads[['transaction_type']], \n",
    "               how='left', on='Marketing_Cloud_Visitor_ID')\n",
    "aux = round((df1[df1.transaction_type.isnull()].shape[0]/df.shape[0])*100,1)\n",
    "print('Quedaban para clasificar ' + str(aux) + '% de los usuarios')"
   ]
  },
  {
   "cell_type": "code",
   "execution_count": 201,
   "metadata": {},
   "outputs": [
    {
     "name": "stdout",
     "output_type": "stream",
     "text": [
      "Lists of features splitted by Rent and Sale, excluding leads \n",
      "\n",
      "['detailSALE', 'detail_mapSALE', 'homepageSALE', 'my_alerts_listSALE', 'favouritesSALE', 'matchesSALE', 'micrositeSALE', 'recommendedSALE', 'suggestedSALE', 'listSALE', 'mapSALE', 'Ad_FavouritedSALE', 'Alert_AddedSALE']\n",
      "['detailRENT', 'detail_mapRENT', 'homepageRENT', 'my_alerts_listRENT', 'favouritesRENT', 'matchesRENT', 'micrositeRENT', 'recommendedRENT', 'suggestedRENT', 'listRENT', 'mapRENT', 'Ad_FavouritedRENT', 'Alert_AddedRENT']\n"
     ]
    }
   ],
   "source": [
    "SALE_cols = [col for col in df.columns if ('SALE' in col) & ('Lead' not in col) & ('leads' not in col)]\n",
    "RENT_cols = [col for col in df.columns if ('RENT' in col) & ('Lead' not in col) & ('leads' not in col)]\n",
    "print('Lists of features splitted by Rent and Sale, excluding leads \\n')\n",
    "print(list(SALE_cols))\n",
    "print(list(RENT_cols))"
   ]
  },
  {
   "cell_type": "markdown",
   "metadata": {},
   "source": [
    "Considerando sólo usuarios RENT, vamos a ver qué features de tipo SALE son más atendibles para clasificar por tipo de transacción "
   ]
  },
  {
   "cell_type": "code",
   "execution_count": 168,
   "metadata": {},
   "outputs": [
    {
     "ename": "KeyboardInterrupt",
     "evalue": "",
     "output_type": "error",
     "traceback": [
      "\u001b[0;31m---------------------------------------------------------------------------\u001b[0m",
      "\u001b[0;31mKeyboardInterrupt\u001b[0m                         Traceback (most recent call last)",
      "\u001b[0;32m<ipython-input-168-4a1766704246>\u001b[0m in \u001b[0;36m<module>\u001b[0;34m\u001b[0m\n\u001b[1;32m      5\u001b[0m     \u001b[0mplt\u001b[0m\u001b[0;34m.\u001b[0m\u001b[0mfigure\u001b[0m\u001b[0;34m(\u001b[0m\u001b[0;34m)\u001b[0m\u001b[0;34m\u001b[0m\u001b[0;34m\u001b[0m\u001b[0m\n\u001b[1;32m      6\u001b[0m     \u001b[0mplt\u001b[0m\u001b[0;34m.\u001b[0m\u001b[0mtitle\u001b[0m\u001b[0;34m(\u001b[0m\u001b[0;34m'Plot of users by '\u001b[0m \u001b[0;34m+\u001b[0m \u001b[0mSALE_cols\u001b[0m\u001b[0;34m[\u001b[0m\u001b[0mi\u001b[0m\u001b[0;34m]\u001b[0m\u001b[0;34m.\u001b[0m\u001b[0mreplace\u001b[0m\u001b[0;34m(\u001b[0m\u001b[0;34m'SALE'\u001b[0m\u001b[0;34m,\u001b[0m\u001b[0;34m''\u001b[0m\u001b[0;34m)\u001b[0m\u001b[0;34m)\u001b[0m\u001b[0;34m\u001b[0m\u001b[0;34m\u001b[0m\u001b[0m\n\u001b[0;32m----> 7\u001b[0;31m     \u001b[0mplt\u001b[0m\u001b[0;34m.\u001b[0m\u001b[0mscatter\u001b[0m\u001b[0;34m(\u001b[0m\u001b[0mdf1\u001b[0m\u001b[0;34m[\u001b[0m\u001b[0mSALE_cols\u001b[0m\u001b[0;34m[\u001b[0m\u001b[0mi\u001b[0m\u001b[0;34m]\u001b[0m\u001b[0;34m]\u001b[0m\u001b[0;34m,\u001b[0m \u001b[0mdf1\u001b[0m\u001b[0;34m[\u001b[0m\u001b[0mRENT_cols\u001b[0m\u001b[0;34m[\u001b[0m\u001b[0mi\u001b[0m\u001b[0;34m]\u001b[0m\u001b[0;34m]\u001b[0m\u001b[0;34m,\u001b[0m \u001b[0ms\u001b[0m\u001b[0;34m=\u001b[0m\u001b[0;36m20\u001b[0m\u001b[0;34m,\u001b[0m \u001b[0mc\u001b[0m\u001b[0;34m=\u001b[0m\u001b[0;34m'red'\u001b[0m\u001b[0;34m)\u001b[0m\u001b[0;34m\u001b[0m\u001b[0;34m\u001b[0m\u001b[0m\n\u001b[0m\u001b[1;32m      8\u001b[0m \u001b[0mplt\u001b[0m\u001b[0;34m.\u001b[0m\u001b[0mshow\u001b[0m\u001b[0;34m(\u001b[0m\u001b[0;34m)\u001b[0m\u001b[0;34m\u001b[0m\u001b[0;34m\u001b[0m\u001b[0m\n",
      "\u001b[0;32m~/opt/anaconda3/envs/fotocasa_env/lib/python3.7/site-packages/matplotlib/pyplot.py\u001b[0m in \u001b[0;36mscatter\u001b[0;34m(x, y, s, c, marker, cmap, norm, vmin, vmax, alpha, linewidths, verts, edgecolors, data, **kwargs)\u001b[0m\n\u001b[1;32m   2860\u001b[0m         \u001b[0mvmin\u001b[0m\u001b[0;34m=\u001b[0m\u001b[0mvmin\u001b[0m\u001b[0;34m,\u001b[0m \u001b[0mvmax\u001b[0m\u001b[0;34m=\u001b[0m\u001b[0mvmax\u001b[0m\u001b[0;34m,\u001b[0m \u001b[0malpha\u001b[0m\u001b[0;34m=\u001b[0m\u001b[0malpha\u001b[0m\u001b[0;34m,\u001b[0m \u001b[0mlinewidths\u001b[0m\u001b[0;34m=\u001b[0m\u001b[0mlinewidths\u001b[0m\u001b[0;34m,\u001b[0m\u001b[0;34m\u001b[0m\u001b[0;34m\u001b[0m\u001b[0m\n\u001b[1;32m   2861\u001b[0m         verts=verts, edgecolors=edgecolors, **({\"data\": data} if data\n\u001b[0;32m-> 2862\u001b[0;31m         is not None else {}), **kwargs)\n\u001b[0m\u001b[1;32m   2863\u001b[0m     \u001b[0msci\u001b[0m\u001b[0;34m(\u001b[0m\u001b[0m__ret\u001b[0m\u001b[0;34m)\u001b[0m\u001b[0;34m\u001b[0m\u001b[0;34m\u001b[0m\u001b[0m\n\u001b[1;32m   2864\u001b[0m     \u001b[0;32mreturn\u001b[0m \u001b[0m__ret\u001b[0m\u001b[0;34m\u001b[0m\u001b[0;34m\u001b[0m\u001b[0m\n",
      "\u001b[0;32m~/opt/anaconda3/envs/fotocasa_env/lib/python3.7/site-packages/matplotlib/__init__.py\u001b[0m in \u001b[0;36minner\u001b[0;34m(ax, data, *args, **kwargs)\u001b[0m\n\u001b[1;32m   1808\u001b[0m                         \u001b[0;34m\"the Matplotlib list!)\"\u001b[0m \u001b[0;34m%\u001b[0m \u001b[0;34m(\u001b[0m\u001b[0mlabel_namer\u001b[0m\u001b[0;34m,\u001b[0m \u001b[0mfunc\u001b[0m\u001b[0;34m.\u001b[0m\u001b[0m__name__\u001b[0m\u001b[0;34m)\u001b[0m\u001b[0;34m,\u001b[0m\u001b[0;34m\u001b[0m\u001b[0;34m\u001b[0m\u001b[0m\n\u001b[1;32m   1809\u001b[0m                         RuntimeWarning, stacklevel=2)\n\u001b[0;32m-> 1810\u001b[0;31m             \u001b[0;32mreturn\u001b[0m \u001b[0mfunc\u001b[0m\u001b[0;34m(\u001b[0m\u001b[0max\u001b[0m\u001b[0;34m,\u001b[0m \u001b[0;34m*\u001b[0m\u001b[0margs\u001b[0m\u001b[0;34m,\u001b[0m \u001b[0;34m**\u001b[0m\u001b[0mkwargs\u001b[0m\u001b[0;34m)\u001b[0m\u001b[0;34m\u001b[0m\u001b[0;34m\u001b[0m\u001b[0m\n\u001b[0m\u001b[1;32m   1811\u001b[0m \u001b[0;34m\u001b[0m\u001b[0m\n\u001b[1;32m   1812\u001b[0m         inner.__doc__ = _add_data_doc(inner.__doc__,\n",
      "\u001b[0;32m~/opt/anaconda3/envs/fotocasa_env/lib/python3.7/site-packages/matplotlib/axes/_axes.py\u001b[0m in \u001b[0;36mscatter\u001b[0;34m(self, x, y, s, c, marker, cmap, norm, vmin, vmax, alpha, linewidths, verts, edgecolors, **kwargs)\u001b[0m\n\u001b[1;32m   4324\u001b[0m                 \u001b[0mself\u001b[0m\u001b[0;34m.\u001b[0m\u001b[0mset_ymargin\u001b[0m\u001b[0;34m(\u001b[0m\u001b[0;36m0.05\u001b[0m\u001b[0;34m)\u001b[0m\u001b[0;34m\u001b[0m\u001b[0;34m\u001b[0m\u001b[0m\n\u001b[1;32m   4325\u001b[0m \u001b[0;34m\u001b[0m\u001b[0m\n\u001b[0;32m-> 4326\u001b[0;31m         \u001b[0mself\u001b[0m\u001b[0;34m.\u001b[0m\u001b[0madd_collection\u001b[0m\u001b[0;34m(\u001b[0m\u001b[0mcollection\u001b[0m\u001b[0;34m)\u001b[0m\u001b[0;34m\u001b[0m\u001b[0;34m\u001b[0m\u001b[0m\n\u001b[0m\u001b[1;32m   4327\u001b[0m         \u001b[0mself\u001b[0m\u001b[0;34m.\u001b[0m\u001b[0mautoscale_view\u001b[0m\u001b[0;34m(\u001b[0m\u001b[0;34m)\u001b[0m\u001b[0;34m\u001b[0m\u001b[0;34m\u001b[0m\u001b[0m\n\u001b[1;32m   4328\u001b[0m \u001b[0;34m\u001b[0m\u001b[0m\n",
      "\u001b[0;32m~/opt/anaconda3/envs/fotocasa_env/lib/python3.7/site-packages/matplotlib/axes/_base.py\u001b[0m in \u001b[0;36madd_collection\u001b[0;34m(self, collection, autolim)\u001b[0m\n\u001b[1;32m   1859\u001b[0m \u001b[0;34m\u001b[0m\u001b[0m\n\u001b[1;32m   1860\u001b[0m         \u001b[0;32mif\u001b[0m \u001b[0mautolim\u001b[0m\u001b[0;34m:\u001b[0m\u001b[0;34m\u001b[0m\u001b[0;34m\u001b[0m\u001b[0m\n\u001b[0;32m-> 1861\u001b[0;31m             \u001b[0mself\u001b[0m\u001b[0;34m.\u001b[0m\u001b[0mupdate_datalim\u001b[0m\u001b[0;34m(\u001b[0m\u001b[0mcollection\u001b[0m\u001b[0;34m.\u001b[0m\u001b[0mget_datalim\u001b[0m\u001b[0;34m(\u001b[0m\u001b[0mself\u001b[0m\u001b[0;34m.\u001b[0m\u001b[0mtransData\u001b[0m\u001b[0;34m)\u001b[0m\u001b[0;34m)\u001b[0m\u001b[0;34m\u001b[0m\u001b[0;34m\u001b[0m\u001b[0m\n\u001b[0m\u001b[1;32m   1862\u001b[0m \u001b[0;34m\u001b[0m\u001b[0m\n\u001b[1;32m   1863\u001b[0m         \u001b[0mself\u001b[0m\u001b[0;34m.\u001b[0m\u001b[0mstale\u001b[0m \u001b[0;34m=\u001b[0m \u001b[0;32mTrue\u001b[0m\u001b[0;34m\u001b[0m\u001b[0;34m\u001b[0m\u001b[0m\n",
      "\u001b[0;32m~/opt/anaconda3/envs/fotocasa_env/lib/python3.7/site-packages/matplotlib/collections.py\u001b[0m in \u001b[0;36mget_datalim\u001b[0;34m(self, transData)\u001b[0m\n\u001b[1;32m    203\u001b[0m             result = mpath.get_path_collection_extents(\n\u001b[1;32m    204\u001b[0m                 \u001b[0mtransform\u001b[0m\u001b[0;34m.\u001b[0m\u001b[0mfrozen\u001b[0m\u001b[0;34m(\u001b[0m\u001b[0;34m)\u001b[0m\u001b[0;34m,\u001b[0m \u001b[0mpaths\u001b[0m\u001b[0;34m,\u001b[0m \u001b[0mself\u001b[0m\u001b[0;34m.\u001b[0m\u001b[0mget_transforms\u001b[0m\u001b[0;34m(\u001b[0m\u001b[0;34m)\u001b[0m\u001b[0;34m,\u001b[0m\u001b[0;34m\u001b[0m\u001b[0;34m\u001b[0m\u001b[0m\n\u001b[0;32m--> 205\u001b[0;31m                 offsets, transOffset.frozen())\n\u001b[0m\u001b[1;32m    206\u001b[0m             \u001b[0mresult\u001b[0m \u001b[0;34m=\u001b[0m \u001b[0mresult\u001b[0m\u001b[0;34m.\u001b[0m\u001b[0minverse_transformed\u001b[0m\u001b[0;34m(\u001b[0m\u001b[0mtransData\u001b[0m\u001b[0;34m)\u001b[0m\u001b[0;34m\u001b[0m\u001b[0;34m\u001b[0m\u001b[0m\n\u001b[1;32m    207\u001b[0m         \u001b[0;32melse\u001b[0m\u001b[0;34m:\u001b[0m\u001b[0;34m\u001b[0m\u001b[0;34m\u001b[0m\u001b[0m\n",
      "\u001b[0;32m~/opt/anaconda3/envs/fotocasa_env/lib/python3.7/site-packages/matplotlib/path.py\u001b[0m in \u001b[0;36mget_path_collection_extents\u001b[0;34m(master_transform, paths, transforms, offsets, offset_transform)\u001b[0m\n\u001b[1;32m    988\u001b[0m     return Bbox.from_extents(*_path.get_path_collection_extents(\n\u001b[1;32m    989\u001b[0m         \u001b[0mmaster_transform\u001b[0m\u001b[0;34m,\u001b[0m \u001b[0mpaths\u001b[0m\u001b[0;34m,\u001b[0m \u001b[0mnp\u001b[0m\u001b[0;34m.\u001b[0m\u001b[0matleast_3d\u001b[0m\u001b[0;34m(\u001b[0m\u001b[0mtransforms\u001b[0m\u001b[0;34m)\u001b[0m\u001b[0;34m,\u001b[0m\u001b[0;34m\u001b[0m\u001b[0;34m\u001b[0m\u001b[0m\n\u001b[0;32m--> 990\u001b[0;31m         offsets, offset_transform))\n\u001b[0m\u001b[1;32m    991\u001b[0m \u001b[0;34m\u001b[0m\u001b[0m\n\u001b[1;32m    992\u001b[0m \u001b[0;34m\u001b[0m\u001b[0m\n",
      "\u001b[0;32m~/opt/anaconda3/envs/fotocasa_env/lib/python3.7/site-packages/matplotlib/path.py\u001b[0m in \u001b[0;36mvertices\u001b[0;34m(self)\u001b[0m\n\u001b[1;32m    201\u001b[0m         \u001b[0mself\u001b[0m\u001b[0;34m.\u001b[0m\u001b[0m_has_nonfinite\u001b[0m \u001b[0;34m=\u001b[0m \u001b[0;32mnot\u001b[0m \u001b[0mnp\u001b[0m\u001b[0;34m.\u001b[0m\u001b[0misfinite\u001b[0m\u001b[0;34m(\u001b[0m\u001b[0mself\u001b[0m\u001b[0;34m.\u001b[0m\u001b[0m_vertices\u001b[0m\u001b[0;34m)\u001b[0m\u001b[0;34m.\u001b[0m\u001b[0mall\u001b[0m\u001b[0;34m(\u001b[0m\u001b[0;34m)\u001b[0m\u001b[0;34m\u001b[0m\u001b[0;34m\u001b[0m\u001b[0m\n\u001b[1;32m    202\u001b[0m \u001b[0;34m\u001b[0m\u001b[0m\n\u001b[0;32m--> 203\u001b[0;31m     \u001b[0;34m@\u001b[0m\u001b[0mproperty\u001b[0m\u001b[0;34m\u001b[0m\u001b[0;34m\u001b[0m\u001b[0m\n\u001b[0m\u001b[1;32m    204\u001b[0m     \u001b[0;32mdef\u001b[0m \u001b[0mvertices\u001b[0m\u001b[0;34m(\u001b[0m\u001b[0mself\u001b[0m\u001b[0;34m)\u001b[0m\u001b[0;34m:\u001b[0m\u001b[0;34m\u001b[0m\u001b[0;34m\u001b[0m\u001b[0m\n\u001b[1;32m    205\u001b[0m         \"\"\"\n",
      "\u001b[0;31mKeyboardInterrupt\u001b[0m: "
     ]
    },
    {
     "data": {
      "image/png": "[encoded data removed]",
      "text/plain": [
       "<Figure size 432x288 with 1 Axes>"
      ]
     },
     "metadata": {
      "needs_background": "light"
     },
     "output_type": "display_data"
    },
    {
     "data": {
      "image/png": "[encoded data removed]",
      "text/plain": [
       "<Figure size 432x288 with 1 Axes>"
      ]
     },
     "metadata": {
      "needs_background": "light"
     },
     "output_type": "display_data"
    },
    {
     "data": {
      "image/png": "[encoded data removed]",
      "text/plain": [
       "<Figure size 432x288 with 1 Axes>"
      ]
     },
     "metadata": {
      "needs_background": "light"
     },
     "output_type": "display_data"
    },
    {
     "data": {
      "image/png": "[encoded data removed]",
      "text/plain": [
       "<Figure size 432x288 with 1 Axes>"
      ]
     },
     "metadata": {
      "needs_background": "light"
     },
     "output_type": "display_data"
    },
    {
     "data": {
      "image/png": "[encoded data removed]",
      "text/plain": [
       "<Figure size 432x288 with 1 Axes>"
      ]
     },
     "metadata": {
      "needs_background": "light"
     },
     "output_type": "display_data"
    },
    {
     "data": {
      "image/png": "[encoded data removed]",
      "text/plain": [
       "<Figure size 432x288 with 1 Axes>"
      ]
     },
     "metadata": {
      "needs_background": "light"
     },
     "output_type": "display_data"
    }
   ],
   "source": [
    "# cuando hay poca dispersión fuera de los 2 ejes, \n",
    "# significa que respecto de esa features hay pocos usuarios con doble transacción\n",
    "# the more users alligned on x-axis, meaning y is 0, more the action is only RENT. And viceversa\n",
    "for i in range(len(SALE_cols)):\n",
    "    plt.figure()\n",
    "    plt.title('Plot of users by ' + SALE_cols[i].replace('SALE',''))\n",
    "    plt.scatter(df1[SALE_cols[i]], df1[RENT_cols[i]], s=20, c='red')\n",
    "plt.show()"
   ]
  },
  {
   "cell_type": "code",
   "execution_count": null,
   "metadata": {},
   "outputs": [],
   "source": [
    "for col_SALE in SALE_cols:\n",
    "    plt.figure()\n",
    "    plt.title(col_SALE)\n",
    "    df_plot = df1[(df1.transaction_type=='RENT') & (df1[col_SALE]<=10)]\n",
    "    pd.value_counts(df_plot[col_SALE], normalize=True).plot.bar()\n",
    "plt.show()"
   ]
  },
  {
   "cell_type": "code",
   "execution_count": 169,
   "metadata": {
    "scrolled": true
   },
   "outputs": [
    {
     "name": "stdout",
     "output_type": "stream",
     "text": [
      "55.8 % of non-classifiable users  detail\n",
      "52.9 % of non-classifiable users  detail_map\n",
      "40.9 % of non-classifiable users  homepage\n",
      "42.6 % of non-classifiable users  my_alerts_list\n",
      "52.7 % of non-classifiable users  favourites\n",
      "36.1 % of non-classifiable users  recommended\n",
      "45.8 % of non-classifiable users  suggested\n",
      "53.9 % of non-classifiable users  list\n",
      "51.1 % of non-classifiable users  map\n",
      "54.3 % of non-classifiable users  Ad_Favourited\n",
      "39.7 % of non-classifiable users  Alert_Added\n"
     ]
    }
   ],
   "source": [
    "for i in range(len(SALE_cols)):\n",
    "    # original column\n",
    "    col = SALE_cols[i].replace('SALE','')\n",
    "    if col in df1.columns:\n",
    "        # select non-zero users w.r.t to the column/action\n",
    "        aux = df1[df1[col]!=0]\n",
    "        perc = round(aux[(aux[SALE_cols[i]]!=0) & (aux[SALE_cols[i]]!=0)].shape[0]/aux.shape[0],3)\n",
    "        perc = round(perc*100, 1)\n",
    "        print(str(perc) + ' % of non-classifiable users  ' + col)"
   ]
  },
  {
   "cell_type": "markdown",
   "metadata": {},
   "source": [
    "Muy interesante: Para cada página, cuántos usuarios hay que se pueden dividir en Rent y Sale que ya no lo están por lead"
   ]
  },
  {
   "cell_type": "markdown",
   "metadata": {},
   "source": [
    "seleccionamos el orden del funnel empezando de lo más cercano a lead, para poder clasificar entre tipo de transacción"
   ]
  },
  {
   "cell_type": "code",
   "execution_count": 202,
   "metadata": {},
   "outputs": [],
   "source": [
    "selected_order = ['Ad_FavouritedSALE','recommendedSALE', 'my_alerts_listSALE',\n",
    "                  'Alert_AddedSALE', \n",
    "                  'homepageSALE', \n",
    "                 'suggestedSALE',\n",
    "                  'mapSALE', \n",
    "                  'detail_map',\n",
    "                  'favouritesSALE',\n",
    "                  'listSALE',\n",
    "                 'detailSALE']"
   ]
  },
  {
   "cell_type": "code",
   "execution_count": 184,
   "metadata": {},
   "outputs": [],
   "source": [
    "col = 'detailSALE'\n",
    "colSALE = col\n",
    "colRENT = col.replace('SALE','RENT')\n",
    "col = colSALE.replace('SALE','')"
   ]
  },
  {
   "cell_type": "code",
   "execution_count": 191,
   "metadata": {},
   "outputs": [
    {
     "data": {
      "text/plain": [
       "'detailSALE'"
      ]
     },
     "execution_count": 191,
     "metadata": {},
     "output_type": "execute_result"
    }
   ],
   "source": [
    "colSALE"
   ]
  },
  {
   "cell_type": "code",
   "execution_count": 186,
   "metadata": {},
   "outputs": [],
   "source": [
    "aux = df1[df1['transaction_type'].isnull()]\n",
    "aux = aux[(aux[col]!=0)]"
   ]
  },
  {
   "cell_type": "code",
   "execution_count": 189,
   "metadata": {},
   "outputs": [
    {
     "data": {
      "text/html": [
       "<div>\n",
       "<style scoped>\n",
       "    .dataframe tbody tr th:only-of-type {\n",
       "        vertical-align: middle;\n",
       "    }\n",
       "\n",
       "    .dataframe tbody tr th {\n",
       "        vertical-align: top;\n",
       "    }\n",
       "\n",
       "    .dataframe thead th {\n",
       "        text-align: right;\n",
       "    }\n",
       "</style>\n",
       "<table border=\"1\" class=\"dataframe\">\n",
       "  <thead>\n",
       "    <tr style=\"text-align: right;\">\n",
       "      <th></th>\n",
       "      <th>ad_pay_to_publish</th>\n",
       "      <th>ad_published</th>\n",
       "      <th>blog-detail</th>\n",
       "      <th>confirm_delete_ad</th>\n",
       "      <th>detail</th>\n",
       "      <th>detail_map</th>\n",
       "      <th>forgot_password</th>\n",
       "      <th>general</th>\n",
       "      <th>homepage</th>\n",
       "      <th>login</th>\n",
       "      <th>...</th>\n",
       "      <th>Lead_Counteroffer_eMail_madrid</th>\n",
       "      <th>total_active_days</th>\n",
       "      <th>mean_inactive_days</th>\n",
       "      <th>max_inactive_days</th>\n",
       "      <th>min_inactive_days</th>\n",
       "      <th>n_of_user_ids</th>\n",
       "      <th>actual_leads</th>\n",
       "      <th>actual_leadsRENT</th>\n",
       "      <th>actual_leadsSALE</th>\n",
       "      <th>transaction_type</th>\n",
       "    </tr>\n",
       "    <tr>\n",
       "      <th>Marketing_Cloud_Visitor_ID</th>\n",
       "      <th></th>\n",
       "      <th></th>\n",
       "      <th></th>\n",
       "      <th></th>\n",
       "      <th></th>\n",
       "      <th></th>\n",
       "      <th></th>\n",
       "      <th></th>\n",
       "      <th></th>\n",
       "      <th></th>\n",
       "      <th></th>\n",
       "      <th></th>\n",
       "      <th></th>\n",
       "      <th></th>\n",
       "      <th></th>\n",
       "      <th></th>\n",
       "      <th></th>\n",
       "      <th></th>\n",
       "      <th></th>\n",
       "      <th></th>\n",
       "      <th></th>\n",
       "    </tr>\n",
       "  </thead>\n",
       "  <tbody>\n",
       "  </tbody>\n",
       "</table>\n",
       "<p>0 rows × 100 columns</p>\n",
       "</div>"
      ],
      "text/plain": [
       "Empty DataFrame\n",
       "Columns: [ad_pay_to_publish, ad_published, blog-detail, confirm_delete_ad, detail, detail_map, forgot_password, general, homepage, login, my_ads, my_alerts_list, my_showcase, privacy_policy, radar, search_filter, search_filter_location, search_filter_suggest, signup, terms_and_conditions, validate_phone, Lead_Confirmation_eMail, Ad_Filter_Used, Lead_Counteroffer_eMail, Ad_Discarded, Ad_Recovered, Signed_Out, Lead_Callphone, Signed_In, Alert_Added, Ad_Contact_Button, Form_Error, Signed_Up, Ad_Favourited, Ad_Unfavourited, POI_Clicked, Label_Clicked, Alert_Guest_Accepted, Alert_Guest_Declined, Alert_Guest_Automatically, Favourite_Clicked, Unfavourite_Clicked, detailRENT, detailSALE, detail_mapRENT, detail_mapSALE, homepageRENT, homepageSALE, my_alerts_listRENT, my_alerts_listSALE, favouritesRENT, favouritesSALE, matchesRENT, matchesSALE, micrositeRENT, micrositeSALE, recommendedRENT, recommendedSALE, suggestedRENT, suggestedSALE, listRENT, listSALE, mapRENT, mapSALE, favourites, recommended, suggested, list, map, Ad_FavouritedRENT, Ad_FavouritedSALE, Alert_AddedRENT, Alert_AddedSALE, Lead_CallphoneRENT, Lead_CallphoneSALE, Lead_Confirmation_eMailRENT, Lead_Confirmation_eMailSALE, Lead_Counteroffer_eMailRENT, Lead_Counteroffer_eMailSALE, Lead_Callphone_barcelona, Lead_Callphone_big, Lead_Callphone_little, Lead_Callphone_madrid, Lead_Confirmation_eMail_barcelona, Lead_Confirmation_eMail_big, Lead_Confirmation_eMail_little, Lead_Confirmation_eMail_madrid, Lead_Counteroffer_eMail_barcelona, Lead_Counteroffer_eMail_big, Lead_Counteroffer_eMail_little, Lead_Counteroffer_eMail_madrid, total_active_days, mean_inactive_days, max_inactive_days, min_inactive_days, n_of_user_ids, actual_leads, actual_leadsRENT, actual_leadsSALE, transaction_type]\n",
       "Index: []\n",
       "\n",
       "[0 rows x 100 columns]"
      ]
     },
     "execution_count": 189,
     "metadata": {},
     "output_type": "execute_result"
    }
   ],
   "source": [
    "aux[aux.detail==0]"
   ]
  },
  {
   "cell_type": "code",
   "execution_count": 192,
   "metadata": {},
   "outputs": [],
   "source": [
    "aux = aux[aux[colRENT]+aux[colSALE]==aux[col]]"
   ]
  },
  {
   "cell_type": "code",
   "execution_count": 193,
   "metadata": {},
   "outputs": [
    {
     "data": {
      "text/html": [
       "<div>\n",
       "<style scoped>\n",
       "    .dataframe tbody tr th:only-of-type {\n",
       "        vertical-align: middle;\n",
       "    }\n",
       "\n",
       "    .dataframe tbody tr th {\n",
       "        vertical-align: top;\n",
       "    }\n",
       "\n",
       "    .dataframe thead th {\n",
       "        text-align: right;\n",
       "    }\n",
       "</style>\n",
       "<table border=\"1\" class=\"dataframe\">\n",
       "  <thead>\n",
       "    <tr style=\"text-align: right;\">\n",
       "      <th></th>\n",
       "      <th>detailRENT</th>\n",
       "      <th>detailSALE</th>\n",
       "      <th>detail</th>\n",
       "    </tr>\n",
       "    <tr>\n",
       "      <th>Marketing_Cloud_Visitor_ID</th>\n",
       "      <th></th>\n",
       "      <th></th>\n",
       "      <th></th>\n",
       "    </tr>\n",
       "  </thead>\n",
       "  <tbody>\n",
       "    <tr>\n",
       "      <th>00000136845845092372076348413986631894</th>\n",
       "      <td>1.0</td>\n",
       "      <td>0.0</td>\n",
       "      <td>1.0</td>\n",
       "    </tr>\n",
       "    <tr>\n",
       "      <th>00000444340315997753518969286832417916</th>\n",
       "      <td>0.0</td>\n",
       "      <td>34.0</td>\n",
       "      <td>34.0</td>\n",
       "    </tr>\n",
       "    <tr>\n",
       "      <th>00000630229631893432133166794739701486</th>\n",
       "      <td>2.0</td>\n",
       "      <td>0.0</td>\n",
       "      <td>2.0</td>\n",
       "    </tr>\n",
       "    <tr>\n",
       "      <th>00000885255278034574416827464210608008</th>\n",
       "      <td>13.0</td>\n",
       "      <td>0.0</td>\n",
       "      <td>13.0</td>\n",
       "    </tr>\n",
       "    <tr>\n",
       "      <th>00000936443832161521065925466527510504</th>\n",
       "      <td>6.0</td>\n",
       "      <td>13.0</td>\n",
       "      <td>19.0</td>\n",
       "    </tr>\n",
       "    <tr>\n",
       "      <th>...</th>\n",
       "      <td>...</td>\n",
       "      <td>...</td>\n",
       "      <td>...</td>\n",
       "    </tr>\n",
       "    <tr>\n",
       "      <th>92233151965890087714062667257538062971</th>\n",
       "      <td>5.0</td>\n",
       "      <td>0.0</td>\n",
       "      <td>5.0</td>\n",
       "    </tr>\n",
       "    <tr>\n",
       "      <th>92233171396717710691014732193589690835</th>\n",
       "      <td>0.0</td>\n",
       "      <td>2.0</td>\n",
       "      <td>2.0</td>\n",
       "    </tr>\n",
       "    <tr>\n",
       "      <th>92233369132305222200586532242468455900</th>\n",
       "      <td>8.0</td>\n",
       "      <td>0.0</td>\n",
       "      <td>8.0</td>\n",
       "    </tr>\n",
       "    <tr>\n",
       "      <th>92233557159123625282757583635333875003</th>\n",
       "      <td>49.0</td>\n",
       "      <td>0.0</td>\n",
       "      <td>49.0</td>\n",
       "    </tr>\n",
       "    <tr>\n",
       "      <th>92233672362351904343844102338837402707</th>\n",
       "      <td>2.0</td>\n",
       "      <td>0.0</td>\n",
       "      <td>2.0</td>\n",
       "    </tr>\n",
       "  </tbody>\n",
       "</table>\n",
       "<p>305153 rows × 3 columns</p>\n",
       "</div>"
      ],
      "text/plain": [
       "                                        detailRENT  detailSALE  detail\n",
       "Marketing_Cloud_Visitor_ID                                            \n",
       "00000136845845092372076348413986631894         1.0         0.0     1.0\n",
       "00000444340315997753518969286832417916         0.0        34.0    34.0\n",
       "00000630229631893432133166794739701486         2.0         0.0     2.0\n",
       "00000885255278034574416827464210608008        13.0         0.0    13.0\n",
       "00000936443832161521065925466527510504         6.0        13.0    19.0\n",
       "...                                            ...         ...     ...\n",
       "92233151965890087714062667257538062971         5.0         0.0     5.0\n",
       "92233171396717710691014732193589690835         0.0         2.0     2.0\n",
       "92233369132305222200586532242468455900         8.0         0.0     8.0\n",
       "92233557159123625282757583635333875003        49.0         0.0    49.0\n",
       "92233672362351904343844102338837402707         2.0         0.0     2.0\n",
       "\n",
       "[305153 rows x 3 columns]"
      ]
     },
     "execution_count": 193,
     "metadata": {},
     "output_type": "execute_result"
    }
   ],
   "source": [
    "aux[[colRENT, colSALE, col]]"
   ]
  },
  {
   "cell_type": "code",
   "execution_count": 203,
   "metadata": {},
   "outputs": [
    {
     "name": "stdout",
     "output_type": "stream",
     "text": [
      "Ad_FavouritedSALE\n",
      "17802\n",
      "Ad_FavouritedRENT\n",
      "11896\n",
      "recommendedSALE\n",
      "1123\n",
      "recommendedRENT\n",
      "1463\n",
      "my_alerts_listSALE\n",
      "19973\n",
      "my_alerts_listRENT\n",
      "25607\n",
      "Alert_AddedSALE\n",
      "10778\n",
      "Alert_AddedRENT\n",
      "14696\n",
      "homepageSALE\n",
      "47288\n",
      "homepageRENT\n",
      "48779\n",
      "suggestedSALE\n",
      "76\n",
      "suggestedRENT\n",
      "123\n",
      "mapSALE\n",
      "17789\n",
      "mapRENT\n",
      "19135\n",
      "detail_map\n",
      "0\n",
      "detail_map\n",
      "0\n",
      "favouritesSALE\n",
      "2438\n",
      "favouritesRENT\n",
      "1939\n",
      "listSALE\n",
      "65633\n",
      "listRENT\n",
      "117611\n",
      "detailSALE\n",
      "21857\n",
      "detailRENT\n",
      "8177\n"
     ]
    }
   ],
   "source": [
    "for col in selected_order:\n",
    "    colSALE = col\n",
    "    colRENT = col.replace('SALE','RENT')\n",
    "    col = colSALE.replace('SALE','')\n",
    "    aux = df1[df1['transaction_type'].isnull()]\n",
    "    aux = aux[(aux[col]!=0)]\n",
    "    aux = aux[aux[colRENT]+aux[colSALE]==aux[col]]\n",
    "    aux.loc[(aux[colRENT]==0) & (aux[colSALE]!=0), \n",
    "             ('transaction_type')] = 'SALE'\n",
    "    aux.loc[(aux[colSALE]==0) & (aux[colRENT]!=0), \n",
    "             ('transaction_type')] = 'RENT'\n",
    "    print(colSALE)\n",
    "    print(aux.loc[(aux[colRENT]==0) & (aux[colSALE]!=0)].shape[0])\n",
    "    print(colRENT)\n",
    "    print(aux.loc[(aux[colRENT]!=0) & (aux[colSALE]==0)].shape[0])\n",
    "    aux = pd.DataFrame(aux['transaction_type'])\n",
    "    aux = aux.rename(columns={'transaction_type':'transaction_aux'})\n",
    "    df1 = pd.merge(df1, aux, on='Marketing_Cloud_Visitor_ID', how='left')\n",
    "    df1.transaction_type.fillna(df1.transaction_aux, inplace=True) \n",
    "    del df1['transaction_aux']"
   ]
  },
  {
   "cell_type": "code",
   "execution_count": 204,
   "metadata": {
    "scrolled": false
   },
   "outputs": [
    {
     "data": {
      "image/png": "[encoded data removed]",
      "text/plain": [
       "<Figure size 360x288 with 1 Axes>"
      ]
     },
     "metadata": {
      "needs_background": "light"
     },
     "output_type": "display_data"
    },
    {
     "name": "stdout",
     "output_type": "stream",
     "text": [
      "Other types are users that have no leads in rent nor sell \n",
      " but on other transaction types\n"
     ]
    }
   ],
   "source": [
    "plt.figure(figsize=(5, 4))\n",
    "plt.title('How users are distributed per transaction type \\n relying  on their behaviour over the month:')\n",
    "pd.value_counts(df1['transaction_type'], normalize=True).plot.bar()\n",
    "plt.show()\n",
    "print('Other types are users that have no leads in rent nor sell \\n but on other transaction types')"
   ]
  },
  {
   "cell_type": "code",
   "execution_count": 205,
   "metadata": {
    "scrolled": false
   },
   "outputs": [
    {
     "name": "stdout",
     "output_type": "stream",
     "text": [
      "Quedan sin clasificar 13.2% de los usuarios\n"
     ]
    }
   ],
   "source": [
    "aux = round(df1[df1.transaction_type.isnull()].shape[0]/df1.shape[0]*100,1)\n",
    "print('Quedan sin clasificar ' + str(aux) + '% de los usuarios')"
   ]
  },
  {
   "cell_type": "code",
   "execution_count": 206,
   "metadata": {},
   "outputs": [
    {
     "data": {
      "text/html": [
       "<div>\n",
       "<style scoped>\n",
       "    .dataframe tbody tr th:only-of-type {\n",
       "        vertical-align: middle;\n",
       "    }\n",
       "\n",
       "    .dataframe tbody tr th {\n",
       "        vertical-align: top;\n",
       "    }\n",
       "\n",
       "    .dataframe thead th {\n",
       "        text-align: right;\n",
       "    }\n",
       "</style>\n",
       "<table border=\"1\" class=\"dataframe\">\n",
       "  <thead>\n",
       "    <tr style=\"text-align: right;\">\n",
       "      <th></th>\n",
       "      <th>transaction_type</th>\n",
       "    </tr>\n",
       "    <tr>\n",
       "      <th>Marketing_Cloud_Visitor_ID</th>\n",
       "      <th></th>\n",
       "    </tr>\n",
       "  </thead>\n",
       "  <tbody>\n",
       "    <tr>\n",
       "      <th>00000107708722978450827756473807907358</th>\n",
       "      <td>RENT</td>\n",
       "    </tr>\n",
       "    <tr>\n",
       "      <th>00000136845845092372076348413986631894</th>\n",
       "      <td>RENT</td>\n",
       "    </tr>\n",
       "  </tbody>\n",
       "</table>\n",
       "</div>"
      ],
      "text/plain": [
       "                                       transaction_type\n",
       "Marketing_Cloud_Visitor_ID                             \n",
       "00000107708722978450827756473807907358             RENT\n",
       "00000136845845092372076348413986631894             RENT"
      ]
     },
     "execution_count": 206,
     "metadata": {},
     "output_type": "execute_result"
    }
   ],
   "source": [
    "# check the format before saving to csv\n",
    "pd.DataFrame(df1['transaction_type']).head(2)"
   ]
  },
  {
   "cell_type": "code",
   "execution_count": 207,
   "metadata": {},
   "outputs": [
    {
     "data": {
      "text/plain": [
       "(744829, 100)"
      ]
     },
     "execution_count": 207,
     "metadata": {},
     "output_type": "execute_result"
    }
   ],
   "source": [
    "df1.shape"
   ]
  },
  {
   "cell_type": "code",
   "execution_count": 208,
   "metadata": {},
   "outputs": [],
   "source": [
    "pd.DataFrame(df1['transaction_type']).to_csv(\"Data/Complements/202001_IDs_per_transactions.csv\", index=True)"
   ]
  },
  {
   "cell_type": "code",
   "execution_count": 193,
   "metadata": {},
   "outputs": [
    {
     "data": {
      "text/html": [
       "<div>\n",
       "<style scoped>\n",
       "    .dataframe tbody tr th:only-of-type {\n",
       "        vertical-align: middle;\n",
       "    }\n",
       "\n",
       "    .dataframe tbody tr th {\n",
       "        vertical-align: top;\n",
       "    }\n",
       "\n",
       "    .dataframe thead th {\n",
       "        text-align: right;\n",
       "    }\n",
       "</style>\n",
       "<table border=\"1\" class=\"dataframe\">\n",
       "  <thead>\n",
       "    <tr style=\"text-align: right;\">\n",
       "      <th></th>\n",
       "      <th>transaction_type</th>\n",
       "    </tr>\n",
       "    <tr>\n",
       "      <th>Marketing_Cloud_Visitor_ID</th>\n",
       "      <th></th>\n",
       "    </tr>\n",
       "  </thead>\n",
       "  <tbody>\n",
       "    <tr>\n",
       "      <th>00000107708722978450827756473807907358</th>\n",
       "      <td>RENT</td>\n",
       "    </tr>\n",
       "    <tr>\n",
       "      <th>00000136845845092372076348413986631894</th>\n",
       "      <td>RENT</td>\n",
       "    </tr>\n",
       "  </tbody>\n",
       "</table>\n",
       "</div>"
      ],
      "text/plain": [
       "                                       transaction_type\n",
       "Marketing_Cloud_Visitor_ID                             \n",
       "00000107708722978450827756473807907358             RENT\n",
       "00000136845845092372076348413986631894             RENT"
      ]
     },
     "execution_count": 193,
     "metadata": {},
     "output_type": "execute_result"
    }
   ],
   "source": [
    "# check you save in the correct format\n",
    "#pd.read_csv(\"Data/Complements/202001_IDs_per_transactions.csv\", index_col='Marketing_Cloud_Visitor_ID').head(2)"
   ]
  },
  {
   "cell_type": "markdown",
   "metadata": {},
   "source": [
    "# 1.3 Geography Analysis"
   ]
  },
  {
   "cell_type": "code",
   "execution_count": null,
   "metadata": {},
   "outputs": [],
   "source": []
  },
  {
   "cell_type": "code",
   "execution_count": null,
   "metadata": {},
   "outputs": [],
   "source": []
  },
  {
   "cell_type": "code",
   "execution_count": 516,
   "metadata": {},
   "outputs": [],
   "source": []
  },
  {
   "cell_type": "code",
   "execution_count": null,
   "metadata": {},
   "outputs": [],
   "source": []
  }
 ],
 "metadata": {
  "kernelspec": {
   "display_name": "Python 3",
   "language": "python",
   "name": "python3"
  },
  "language_info": {
   "codemirror_mode": {
    "name": "ipython",
    "version": 3
   },
   "file_extension": ".py",
   "mimetype": "text/x-python",
   "name": "python",
   "nbconvert_exporter": "python",
   "pygments_lexer": "ipython3",
   "version": "3.7.5"
  }
 },
 "nbformat": 4,
 "nbformat_minor": 2
}
